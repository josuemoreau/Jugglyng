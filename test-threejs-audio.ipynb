{
 "cells": [
  {
   "cell_type": "code",
   "execution_count": 1,
   "id": "concrete-entry",
   "metadata": {},
   "outputs": [],
   "source": [
    "from IPython.display import display, HTML, Javascript"
   ]
  },
  {
   "cell_type": "code",
   "execution_count": 2,
   "id": "compact-beaver",
   "metadata": {},
   "outputs": [],
   "source": [
    "class Audio():\n",
    "    js_script_begin = \"\"\"<script type=\"module\">\n",
    "\t\timport * as THREE from 'https://unpkg.com/three@0.127.0/build/three.module.js';\n",
    "\t\t\n",
    "\t\tconst camera = new THREE.Camera();\n",
    "\n",
    "\t\tconst scene = new THREE.Scene();\n",
    "\n",
    "\t\t// create an AudioListener and add it to the camera \n",
    "\t\tconst listener = new THREE.AudioListener();\n",
    "\t\tcamera.add(listener); // create a global audio source\n",
    "\n",
    "\t\tconst sound = new THREE.Audio(listener); // load a sound and set it as the Audio object's buffer \n",
    "\n",
    "\t\tconst audioLoader = new THREE.AudioLoader();\n",
    "\t\taudioLoader.load('\"\"\"\n",
    "    \n",
    "    js_script_end = \"\"\"', function(buffer) {\n",
    "\t\t\tsound.setBuffer(buffer);\n",
    "\t\t\tsound.setLoop(false);\n",
    "\t\t\tsound.setVolume(0.5);\n",
    "\t\t\tsound.play();\n",
    "\t\t});\n",
    "    </script>\"\"\"\n",
    "    \n",
    "    def __init__(self, file):\n",
    "        self.file = file\n",
    "        self.js_script = self.js_script_begin + file + self.js_script_end\n",
    "        self.html = HTML(self.js_script)\n",
    "        self.disp = display(\"\", display_id = True)\n",
    "        \n",
    "    def play(self):\n",
    "        self.disp.update(self.html)"
   ]
  },
  {
   "cell_type": "code",
   "execution_count": 3,
   "id": "constitutional-planning",
   "metadata": {},
   "outputs": [
    {
     "data": {
      "text/html": [
       "<script type=\"module\">\n",
       "\t\timport * as THREE from 'https://unpkg.com/three@0.127.0/build/three.module.js';\n",
       "\t\t\n",
       "\t\tconst camera = new THREE.Camera();\n",
       "\n",
       "\t\tconst scene = new THREE.Scene();\n",
       "\n",
       "\t\t// create an AudioListener and add it to the camera \n",
       "\t\tconst listener = new THREE.AudioListener();\n",
       "\t\tcamera.add(listener); // create a global audio source\n",
       "\n",
       "\t\tconst sound = new THREE.Audio(listener); // load a sound and set it as the Audio object's buffer \n",
       "\n",
       "\t\tconst audioLoader = new THREE.AudioLoader();\n",
       "\t\taudioLoader.load('do.wav', function(buffer) {\n",
       "\t\t\tsound.setBuffer(buffer);\n",
       "\t\t\tsound.setLoop(false);\n",
       "\t\t\tsound.setVolume(0.5);\n",
       "\t\t\tsound.play();\n",
       "\t\t});\n",
       "    </script>"
      ],
      "text/plain": [
       "<IPython.core.display.HTML object>"
      ]
     },
     "metadata": {},
     "output_type": "display_data"
    }
   ],
   "source": [
    "audio = Audio(\"do.wav\")"
   ]
  },
  {
   "cell_type": "code",
   "execution_count": 4,
   "id": "personalized-dakota",
   "metadata": {},
   "outputs": [
    {
     "data": {
      "text/plain": [
       "'<script type=\"module\">\\n\\t\\timport * as THREE from \\'https://unpkg.com/three@0.127.0/build/three.module.js\\';\\n\\t\\t\\n\\t\\tconst camera = new THREE.Camera();\\n\\n\\t\\tconst scene = new THREE.Scene();\\n\\n\\t\\t// create an AudioListener and add it to the camera \\n\\t\\tconst listener = new THREE.AudioListener();\\n\\t\\tcamera.add(listener); // create a global audio source\\n\\n\\t\\tconst sound = new THREE.Audio(listener); // load a sound and set it as the Audio object\\'s buffer \\n\\n\\t\\tconst audioLoader = new THREE.AudioLoader();\\n\\t\\taudioLoader.load(\\'do.wav\\', function(buffer) {\\n\\t\\t\\tsound.setBuffer(buffer);\\n\\t\\t\\tsound.setLoop(false);\\n\\t\\t\\tsound.setVolume(0.5);\\n\\t\\t\\tsound.play();\\n\\t\\t});\\n    </script>'"
      ]
     },
     "execution_count": 4,
     "metadata": {},
     "output_type": "execute_result"
    }
   ],
   "source": [
    "audio.js_script"
   ]
  },
  {
   "cell_type": "code",
   "execution_count": 5,
   "id": "technical-kernel",
   "metadata": {},
   "outputs": [],
   "source": [
    "audio.play()\n",
    "audio.play()\n",
    "audio.play()\n",
    "audio.play()\n",
    "audio.play()"
   ]
  }
 ],
 "metadata": {
  "kernelspec": {
   "display_name": "Python 3",
   "language": "python",
   "name": "python3"
  },
  "language_info": {
   "codemirror_mode": {
    "name": "ipython",
    "version": 3
   },
   "file_extension": ".py",
   "mimetype": "text/x-python",
   "name": "python",
   "nbconvert_exporter": "python",
   "pygments_lexer": "ipython3",
   "version": "3.9.2"
  }
 },
 "nbformat": 4,
 "nbformat_minor": 5
}
