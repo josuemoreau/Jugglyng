{
 "cells": [
  {
   "cell_type": "code",
   "execution_count": 2,
   "metadata": {},
   "outputs": [],
   "source": [
    "import numpy\n",
    "import xmltodict\n",
    "from pythreejs import *\n",
    "import pythreejs.enums"
   ]
  },
  {
   "cell_type": "code",
   "execution_count": 3,
   "metadata": {},
   "outputs": [],
   "source": [
    "with open(\"Opalaye.jml\") as fd:\n",
    "    paths = xmltodict.parse(fd.read())\n",
    "\n",
    "events = sorted(paths['jml']['pattern']['event'], key=lambda event: event['@t'])\n",
    "\n",
    "trajectories = {'1':[], '2':[], '3':[]}\n",
    "\n",
    "for event in events:\n",
    "    position = numpy.array([event['@t'], event['@x'], event['@z'], event['@y']])\n",
    "    for action_name in ['throw', 'holding','catch']:\n",
    "        if action_name in event:\n",
    "            action = event[action_name]\n",
    "            if isinstance(action, list):\n",
    "                paths = [a['@path'] for a in action]\n",
    "            else:\n",
    "                paths = action['@path']\n",
    "            for path in paths:\n",
    "                if action=='catch' and trajectories[path]:\n",
    "                    previous_position = trajectories[path][-1]\n",
    "                    mid_position = (previous_position + position) / 2\n",
    "                    mid_position[2] += 50\n",
    "                    trajectories[path].append(mid_position)\n",
    "                trajectories[path].append(position)\n",
    "\n",
    "trajectories = {\n",
    "    key: numpy.array(value, dtype=numpy.float32).transpose()\n",
    "    for key,value in trajectories.items()\n",
    "}\n",
    "trajectories;"
   ]
  },
  {
   "cell_type": "code",
   "execution_count": 4,
   "metadata": {},
   "outputs": [],
   "source": [
    "balls = {\n",
    "    i: Mesh(\n",
    "            SphereBufferGeometry(5, 32, 16),\n",
    "            MeshStandardMaterial(color=color)\n",
    "        )\n",
    "    for i, color in [ ['1', 'red'], ['2', 'blue'], ['3', 'green'] ]\n",
    "}"
   ]
  },
  {
   "cell_type": "code",
   "execution_count": 5,
   "metadata": {},
   "outputs": [],
   "source": [
    "ballGroup = Group(children=tuple(balls.values()))\n",
    "\n",
    "view_width=200\n",
    "view_height=200\n",
    "camera = PerspectiveCamera( position=[0, 0, -200], aspect=1)\n",
    "scene = Scene(children=[ballGroup, camera, AmbientLight()])\n",
    "controller = OrbitControls(controlling=camera)\n",
    "renderer = Renderer(camera=camera, scene=scene, controls=[controller],\n",
    "                    width=view_width, height=view_height)"
   ]
  },
  {
   "cell_type": "code",
   "execution_count": 6,
   "metadata": {},
   "outputs": [],
   "source": [
    "#group = AnimationObjectGroup([balls['1'], balls['2'], balls['3']]) # fails\n",
    "#group.add(balls['1']) # fails"
   ]
  },
  {
   "cell_type": "code",
   "execution_count": 7,
   "metadata": {},
   "outputs": [],
   "source": [
    "def ball_track(i, trajectory):\n",
    "    times = trajectory[0,:]\n",
    "    positions = trajectory[1:,:]\n",
    "\n",
    "    return VectorKeyframeTrack(name=\".children[{}].position\".format(i),\n",
    "        times=times,\n",
    "        values=positions,\n",
    "        interpolation=pythreejs.enums.InterpolationModes.InterpolateSmooth                             \n",
    "        )\n",
    "\n",
    "clip = AnimationClip(tracks=[ball_track(j, trajectories[i]) for j,i in enumerate(balls)])\n",
    "\n",
    "mixer = AnimationMixer(scene)\n",
    "action = AnimationAction(mixer, clip, ballGroup)"
   ]
  },
  {
   "cell_type": "code",
   "execution_count": 8,
   "metadata": {},
   "outputs": [
    {
     "data": {
      "application/vnd.jupyter.widget-view+json": {
       "model_id": "b19e34382d72478096339782ef598547",
       "version_major": 2,
       "version_minor": 0
      },
      "text/plain": [
       "Renderer(camera=PerspectiveCamera(position=(0.0, 0.0, -200.0), projectionMatrix=(2.1445069205095586, 0.0, 0.0,…"
      ]
     },
     "metadata": {},
     "output_type": "display_data"
    }
   ],
   "source": [
    "renderer"
   ]
  },
  {
   "cell_type": "code",
   "execution_count": 9,
   "metadata": {},
   "outputs": [],
   "source": [
    "action.timeScale = 1"
   ]
  },
  {
   "cell_type": "code",
   "execution_count": 10,
   "metadata": {},
   "outputs": [
    {
     "data": {
      "application/vnd.jupyter.widget-view+json": {
       "model_id": "aa7e289ddf2141cb8218170476f285f9",
       "version_major": 2,
       "version_minor": 0
      },
      "text/plain": [
       "AnimationAction(clip=AnimationClip(duration=5.4116997718811035, tracks=(VectorKeyframeTrack(interpolation='Int…"
      ]
     },
     "metadata": {},
     "output_type": "display_data"
    }
   ],
   "source": [
    "action"
   ]
  },
  {
   "cell_type": "code",
   "execution_count": null,
   "metadata": {},
   "outputs": [],
   "source": []
  }
 ],
 "metadata": {
  "kernelspec": {
   "display_name": "Python 3",
   "language": "python",
   "name": "python3"
  },
  "language_info": {
   "codemirror_mode": {
    "name": "ipython",
    "version": 3
   },
   "file_extension": ".py",
   "mimetype": "text/x-python",
   "name": "python",
   "nbconvert_exporter": "python",
   "pygments_lexer": "ipython3",
   "version": "3.8.6"
  }
 },
 "nbformat": 4,
 "nbformat_minor": 4
}
