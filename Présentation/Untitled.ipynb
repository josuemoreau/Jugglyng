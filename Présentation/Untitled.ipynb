{
 "cells": [
  {
   "cell_type": "code",
   "execution_count": 1,
   "id": "ruled-proxy",
   "metadata": {
    "slideshow": {
     "slide_type": "skip"
    }
   },
   "outputs": [],
   "source": [
    "#Penser à régler taille chrome pour en un bouton afficher la vidéo à côté\n",
    "import sys\n",
    "import os\n",
    "sys.path.insert(1, \"Expérimentations/Juggling DLX\")\n",
    "sys.path.append('Expérimentations/test_leo')\n",
    "os.chdir(\"../\")\n",
    "%config Completer.use_jedi = False\n",
    "%load_ext autoreload\n",
    "%autoreload 2"
   ]
  },
  {
   "cell_type": "code",
   "execution_count": 4,
   "id": "dangerous-easter",
   "metadata": {},
   "outputs": [],
   "source": [
    "from balltracker_app import *\n",
    "from post_detection import *\n",
    "import modele\n",
    "import ipywidgets as widgets\n",
    "%matplotlib inline\n",
    "tracker = BallTracker(source=1)"
   ]
  },
  {
   "cell_type": "code",
   "execution_count": 5,
   "id": "desperate-multimedia",
   "metadata": {
    "scrolled": true,
    "slideshow": {
     "slide_type": "fragment"
    }
   },
   "outputs": [
    {
     "data": {
      "application/vnd.jupyter.widget-view+json": {
       "model_id": "fbc713222c694216865e495522eb4fa7",
       "version_major": 2,
       "version_minor": 0
      },
      "text/plain": [
       "VBox(children=(HBox(children=(ToggleButtons(button_style='info', icons=('play', 'pause', 'stop'), options=((''…"
      ]
     },
     "metadata": {},
     "output_type": "display_data"
    },
    {
     "name": "stdout",
     "output_type": "stream",
     "text": [
      "started\n",
      "{'Vert': Ball(name = 'Vert', lower_hsv = (63, 188, 47), higher_hsv = (84, 255, 152), count = 1), 'Bleu': Ball(name = 'Bleu', lower_hsv = (107, 163, 128), higher_hsv = (115, 255, 255), count = 1)}\n"
     ]
    }
   ],
   "source": [
    "tracker.start()"
   ]
  },
  {
   "cell_type": "code",
   "execution_count": 6,
   "id": "guided-summit",
   "metadata": {},
   "outputs": [],
   "source": [
    "tracker.load_config(\"test.json\")"
   ]
  },
  {
   "cell_type": "code",
   "execution_count": null,
   "id": "complex-croatia",
   "metadata": {},
   "outputs": [],
   "source": []
  }
 ],
 "metadata": {
  "celltoolbar": "Diaporama",
  "kernelspec": {
   "display_name": "Python 3",
   "language": "python",
   "name": "python3"
  },
  "language_info": {
   "codemirror_mode": {
    "name": "ipython",
    "version": 3
   },
   "file_extension": ".py",
   "mimetype": "text/x-python",
   "name": "python",
   "nbconvert_exporter": "python",
   "pygments_lexer": "ipython3",
   "version": "3.9.1"
  }
 },
 "nbformat": 4,
 "nbformat_minor": 5
}
