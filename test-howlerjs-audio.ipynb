{
 "cells": [
  {
   "cell_type": "code",
   "execution_count": 1,
   "id": "baking-preparation",
   "metadata": {},
   "outputs": [],
   "source": [
    "from IPython.display import display, HTML, Javascript"
   ]
  },
  {
   "cell_type": "code",
   "execution_count": 18,
   "id": "critical-orange",
   "metadata": {},
   "outputs": [],
   "source": [
    "js_script = \"\"\"<script src=\"howler.js\"></script>\n",
    "<script>\n",
    "    var sound = new Howl({\n",
    "      src: ['do.wav']\n",
    "    });\n",
    "    \n",
    "    sound.play()\n",
    "</script>\"\"\""
   ]
  },
  {
   "cell_type": "code",
   "execution_count": 19,
   "id": "recorded-louis",
   "metadata": {},
   "outputs": [],
   "source": [
    "html = HTML(js_script)"
   ]
  },
  {
   "cell_type": "code",
   "execution_count": 20,
   "id": "fallen-talent",
   "metadata": {},
   "outputs": [
    {
     "data": {
      "text/html": [
       "<script src=\"howler.js\"></script>\n",
       "<script>\n",
       "    var sound = new Howl({\n",
       "      src: ['do.wav']\n",
       "    });\n",
       "    \n",
       "    sound.play()\n",
       "</script>"
      ],
      "text/plain": [
       "<IPython.core.display.HTML object>"
      ]
     },
     "metadata": {},
     "output_type": "display_data"
    }
   ],
   "source": [
    "disp = display(html, display_id = True)"
   ]
  },
  {
   "cell_type": "code",
   "execution_count": 23,
   "id": "sustained-attachment",
   "metadata": {},
   "outputs": [],
   "source": [
    "disp.update(html)"
   ]
  },
  {
   "cell_type": "code",
   "execution_count": null,
   "id": "informational-inspector",
   "metadata": {},
   "outputs": [],
   "source": []
  }
 ],
 "metadata": {
  "kernelspec": {
   "display_name": "Python 3",
   "language": "python",
   "name": "python3"
  },
  "language_info": {
   "codemirror_mode": {
    "name": "ipython",
    "version": 3
   },
   "file_extension": ".py",
   "mimetype": "text/x-python",
   "name": "python",
   "nbconvert_exporter": "python",
   "pygments_lexer": "ipython3",
   "version": "3.9.2"
  }
 },
 "nbformat": 4,
 "nbformat_minor": 5
}
