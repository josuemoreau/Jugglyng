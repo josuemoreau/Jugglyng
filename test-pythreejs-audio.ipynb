{
 "cells": [
  {
   "cell_type": "code",
   "execution_count": 13,
   "metadata": {},
   "outputs": [
    {
     "ename": "AttributeError",
     "evalue": "'AudioLoader' object has no attribute 'load'",
     "output_type": "error",
     "traceback": [
      "\u001b[0;31m---------------------------------------------------------------------------\u001b[0m",
      "\u001b[0;31mAttributeError\u001b[0m                            Traceback (most recent call last)",
      "\u001b[0;32m<ipython-input-13-d0cf7714dcae>\u001b[0m in \u001b[0;36m<module>\u001b[0;34m\u001b[0m\n\u001b[1;32m      1\u001b[0m \u001b[0;32mimport\u001b[0m \u001b[0mpythreejs\u001b[0m\u001b[0;34m\u001b[0m\u001b[0;34m\u001b[0m\u001b[0m\n\u001b[1;32m      2\u001b[0m \u001b[0maudioLoader\u001b[0m \u001b[0;34m=\u001b[0m \u001b[0mpythreejs\u001b[0m\u001b[0;34m.\u001b[0m\u001b[0mAudioLoader\u001b[0m\u001b[0;34m(\u001b[0m\u001b[0;34m)\u001b[0m\u001b[0;34m\u001b[0m\u001b[0;34m\u001b[0m\u001b[0m\n\u001b[0;32m----> 3\u001b[0;31m \u001b[0maudioLoader\u001b[0m\u001b[0;34m.\u001b[0m\u001b[0mload\u001b[0m\u001b[0;34m(\u001b[0m\u001b[0;34m\"http://nicolas.thiery.name/sol.ogg\"\u001b[0m\u001b[0;34m)\u001b[0m\u001b[0;34m\u001b[0m\u001b[0;34m\u001b[0m\u001b[0m\n\u001b[0m",
      "\u001b[0;31mAttributeError\u001b[0m: 'AudioLoader' object has no attribute 'load'"
     ]
    }
   ],
   "source": [
    "import pythreejs\n",
    "audioLoader = pythreejs.AudioLoader()\n",
    "audioLoader.load(\"http://nicolas.thiery.name/sol.ogg\")"
   ]
  },
  {
   "cell_type": "code",
   "execution_count": null,
   "metadata": {},
   "outputs": [],
   "source": [
    "loader.open"
   ]
  },
  {
   "cell_type": "code",
   "execution_count": 8,
   "metadata": {},
   "outputs": [],
   "source": [
    "listener = pythreejs.AudioListener()"
   ]
  },
  {
   "cell_type": "code",
   "execution_count": 11,
   "metadata": {},
   "outputs": [],
   "source": [
    "sound = pythreejs.Audio()"
   ]
  },
  {
   "cell_type": "code",
   "execution_count": 12,
   "metadata": {},
   "outputs": [
    {
     "data": {
      "text/plain": [
       "{'_display_callbacks': <traitlets.traitlets.Instance at 0x7f83d4c08730>,\n",
       " '_model_module': <traitlets.traitlets.Unicode at 0x7f83d410aee0>,\n",
       " '_model_module_version': <traitlets.traitlets.Unicode at 0x7f83d410af10>,\n",
       " '_model_name': <traitlets.traitlets.Unicode at 0x7f83d4028dc0>,\n",
       " '_msg_callbacks': <traitlets.traitlets.Instance at 0x7f83d4c08760>,\n",
       " '_property_lock': <traitlets.traitlets.Dict at 0x7f83d4c086d0>,\n",
       " '_states_to_send': <traitlets.traitlets.Set at 0x7f83d4c08700>,\n",
       " '_view_count': <traitlets.traitlets.Int at 0x7f83d4c085e0>,\n",
       " '_view_module': <traitlets.traitlets.Unicode at 0x7f83d4c08580>,\n",
       " '_view_module_version': <traitlets.traitlets.Unicode at 0x7f83d4c085b0>,\n",
       " '_view_name': <traitlets.traitlets.Unicode at 0x7f83d4c08550>,\n",
       " 'comm': <traitlets.traitlets.Instance at 0x7f83d4c08610>,\n",
       " 'keys': <traitlets.traitlets.List at 0x7f83d4c08640>,\n",
       " 'log': <traitlets.traitlets.Instance at 0x7f83d4c08280>}"
      ]
     },
     "execution_count": 12,
     "metadata": {},
     "output_type": "execute_result"
    }
   ],
   "source": [
    "sound.traits()"
   ]
  },
  {
   "cell_type": "code",
   "execution_count": null,
   "metadata": {},
   "outputs": [],
   "source": []
  }
 ],
 "metadata": {
  "kernelspec": {
   "display_name": "Python 3",
   "language": "python",
   "name": "python3"
  },
  "language_info": {
   "codemirror_mode": {
    "name": "ipython",
    "version": 3
   },
   "file_extension": ".py",
   "mimetype": "text/x-python",
   "name": "python",
   "nbconvert_exporter": "python",
   "pygments_lexer": "ipython3",
   "version": "3.8.6"
  },
  "toc": {
   "base_numbering": 1,
   "nav_menu": {},
   "number_sections": true,
   "sideBar": true,
   "skip_h1_title": false,
   "title_cell": "Table of Contents",
   "title_sidebar": "Contents",
   "toc_cell": false,
   "toc_position": {},
   "toc_section_display": true,
   "toc_window_display": false
  },
  "varInspector": {
   "cols": {
    "lenName": 16,
    "lenType": 16,
    "lenVar": 40
   },
   "kernels_config": {
    "python": {
     "delete_cmd_postfix": "",
     "delete_cmd_prefix": "del ",
     "library": "var_list.py",
     "varRefreshCmd": "print(var_dic_list())"
    },
    "r": {
     "delete_cmd_postfix": ") ",
     "delete_cmd_prefix": "rm(",
     "library": "var_list.r",
     "varRefreshCmd": "cat(var_dic_list()) "
    }
   },
   "types_to_exclude": [
    "module",
    "function",
    "builtin_function_or_method",
    "instance",
    "_Feature"
   ],
   "window_display": false
  }
 },
 "nbformat": 4,
 "nbformat_minor": 4
}
