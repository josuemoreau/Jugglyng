{
 "cells": [
  {
   "cell_type": "code",
   "execution_count": 1,
   "metadata": {},
   "outputs": [],
   "source": [
    "import sys\n",
    "import os\n",
    "\n",
    "sys.path.insert(1, \"../\")\n",
    "os.chdir(\"../\")"
   ]
  },
  {
   "cell_type": "code",
   "execution_count": 2,
   "metadata": {
    "scrolled": false
   },
   "outputs": [
    {
     "data": {
      "text/plain": [
       "''"
      ]
     },
     "metadata": {},
     "output_type": "display_data"
    },
    {
     "data": {
      "text/plain": [
       "''"
      ]
     },
     "metadata": {},
     "output_type": "display_data"
    },
    {
     "data": {
      "text/plain": [
       "''"
      ]
     },
     "metadata": {},
     "output_type": "display_data"
    },
    {
     "data": {
      "application/vnd.jupyter.widget-view+json": {
       "model_id": "b18773f6b657440ab3f86829d5212671",
       "version_major": 2,
       "version_minor": 0
      },
      "text/plain": [
       "VBox(children=(Renderer(camera=PerspectiveCamera(position=(0.0, 0.0, -100.0), projectionMatrix=(1.0, 0.0, 0.0,…"
      ]
     },
     "metadata": {},
     "output_type": "display_data"
    }
   ],
   "source": [
    "import modele\n",
    "import ipywidgets\n",
    "import pythreejs\n",
    "\n",
    "model = modele.Model([{\"color\":\"red\",\"tone\":\"mi\"}, {\"color\":\"green\", \"tone\":\"ré\"}], [{\"color\":\"blue\", \"tone\":\"do\"}],\n",
    "                    pattern=[(14, 0), (4, 1), (15, 1), None, None, \n",
    "                             (3, 0), None, None, \n",
    "                             (3, 1), None, None,\n",
    "                             (18, 1), None, None,\n",
    "                             (9, 1), None, None,\n",
    "                             (15, 0), None, None,\n",
    "                             None, None, None,\n",
    "                             (12, 1), None, None,\n",
    "                             None, None, None,\n",
    "                             (12, 1), None, None,\n",
    "                             None, None, None,\n",
    "                             (3, 0)] + [None] * 30)\n",
    "view = modele.View(model)\n",
    "\n",
    "slider = ipywidgets.FloatSlider(min=0, max=50, step=0.02)\n",
    "slider.observe(lambda change: view.update(slider.value))\n",
    "ipywidgets.VBox([view.widget,slider])"
   ]
  },
  {
   "cell_type": "code",
   "execution_count": 5,
   "metadata": {
    "scrolled": false
   },
   "outputs": [
    {
     "data": {
      "text/html": [
       "<script type=\"module\">\n",
       "\t\timport * as THREE from 'https://unpkg.com/three@0.127.0/build/three.module.js';\n",
       "\t\t\n",
       "\t\tconst camera = new THREE.Camera();\n",
       "\n",
       "\t\tconst scene = new THREE.Scene();\n",
       "\n",
       "\t\t// create an AudioListener and add it to the camera \n",
       "\t\tconst listener = new THREE.AudioListener();\n",
       "\t\tcamera.add(listener); // create a global audio source\n",
       "\n",
       "\t\tconst sound = new THREE.Audio(listener); // load a sound and set it as the Audio object's buffer \n",
       "\n",
       "\t\tconst audioLoader = new THREE.AudioLoader();\n",
       "\t\taudioLoader.load('mi.wav', function(buffer) {\n",
       "\t\t\tsound.setBuffer(buffer);\n",
       "\t\t\tsound.setLoop(false);\n",
       "\t\t\tsound.setVolume(0.5);\n",
       "\t\t\tsound.play();\n",
       "\t\t});\n",
       "    </script>"
      ],
      "text/plain": [
       "<IPython.core.display.HTML object>"
      ]
     },
     "metadata": {},
     "output_type": "display_data"
    },
    {
     "data": {
      "text/html": [
       "<script type=\"module\">\n",
       "\t\timport * as THREE from 'https://unpkg.com/three@0.127.0/build/three.module.js';\n",
       "\t\t\n",
       "\t\tconst camera = new THREE.Camera();\n",
       "\n",
       "\t\tconst scene = new THREE.Scene();\n",
       "\n",
       "\t\t// create an AudioListener and add it to the camera \n",
       "\t\tconst listener = new THREE.AudioListener();\n",
       "\t\tcamera.add(listener); // create a global audio source\n",
       "\n",
       "\t\tconst sound = new THREE.Audio(listener); // load a sound and set it as the Audio object's buffer \n",
       "\n",
       "\t\tconst audioLoader = new THREE.AudioLoader();\n",
       "\t\taudioLoader.load('ré.wav', function(buffer) {\n",
       "\t\t\tsound.setBuffer(buffer);\n",
       "\t\t\tsound.setLoop(false);\n",
       "\t\t\tsound.setVolume(0.5);\n",
       "\t\t\tsound.play();\n",
       "\t\t});\n",
       "    </script>"
      ],
      "text/plain": [
       "<IPython.core.display.HTML object>"
      ]
     },
     "metadata": {},
     "output_type": "display_data"
    },
    {
     "data": {
      "text/html": [
       "<script type=\"module\">\n",
       "\t\timport * as THREE from 'https://unpkg.com/three@0.127.0/build/three.module.js';\n",
       "\t\t\n",
       "\t\tconst camera = new THREE.Camera();\n",
       "\n",
       "\t\tconst scene = new THREE.Scene();\n",
       "\n",
       "\t\t// create an AudioListener and add it to the camera \n",
       "\t\tconst listener = new THREE.AudioListener();\n",
       "\t\tcamera.add(listener); // create a global audio source\n",
       "\n",
       "\t\tconst sound = new THREE.Audio(listener); // load a sound and set it as the Audio object's buffer \n",
       "\n",
       "\t\tconst audioLoader = new THREE.AudioLoader();\n",
       "\t\taudioLoader.load('do.wav', function(buffer) {\n",
       "\t\t\tsound.setBuffer(buffer);\n",
       "\t\t\tsound.setLoop(false);\n",
       "\t\t\tsound.setVolume(0.5);\n",
       "\t\t\tsound.play();\n",
       "\t\t});\n",
       "    </script>"
      ],
      "text/plain": [
       "<IPython.core.display.HTML object>"
      ]
     },
     "metadata": {},
     "output_type": "display_data"
    },
    {
     "data": {
      "application/vnd.jupyter.widget-view+json": {
       "model_id": "e10326d0a41b4434a8cbf4e96b36caa1",
       "version_major": 2,
       "version_minor": 0
      },
      "text/plain": [
       "VBox(children=(Renderer(camera=PerspectiveCamera(position=(0.0, 0.0, -100.0), projectionMatrix=(1.0, 0.0, 0.0,…"
      ]
     },
     "metadata": {},
     "output_type": "display_data"
    }
   ],
   "source": [
    "model = modele.Model([{\"color\":\"red\",\"tone\":\"mi\"}, {\"color\":\"green\", \"tone\":\"ré\"}], [{\"color\":\"blue\", \"tone\":\"do\"}],\n",
    "                    pattern=[(6, 0), (2, 1), (5, 1), \n",
    "                             (1, 0), (1, 1), (6, 1),\n",
    "                             (3, 1), (5, 0), None,\n",
    "                             (4, 1), None,\n",
    "                             (4, 1), None,\n",
    "                             (1, 0)] + [None] * 30)\n",
    "model.time_in_hand = 0.6\n",
    "view = modele.View(model)\n",
    "\n",
    "slider = ipywidgets.FloatSlider(min=0, max=50, step=0.04)\n",
    "slider.observe(lambda change: view.update(slider.value))\n",
    "ipywidgets.VBox([view.widget,slider])"
   ]
  },
  {
   "cell_type": "code",
   "execution_count": 4,
   "metadata": {
    "scrolled": false
   },
   "outputs": [
    {
     "name": "stdout",
     "output_type": "stream",
     "text": [
      "blue:\t 0\n",
      "red:\t 0\n",
      "green:\t 1\n",
      "purple:\t 1\n",
      "\n",
      "blue:\t 0\n",
      "red:\t 0-0-4.1->1\n",
      "green:\t 1\n",
      "purple:\t 1\n",
      "\n",
      "blue:\t 0\n",
      "red:\t 0-1-3.0999999999999996->1\n",
      "green:\t 1\n",
      "purple:\t 1-0-2.1->0\n",
      "\n",
      "blue:\t 0-0-3.1->0\n",
      "red:\t 0-2-2.0999999999999996->1\n",
      "green:\t 1\n",
      "purple:\t 1-1-1.1->0\n",
      "\n",
      "blue:\t 0-1-2.1->0\n",
      "red:\t 0-3-1.0999999999999996->1\n",
      "green:\t 1-0-4.1->0\n",
      "purple:\t 1-2-0.10000000000000009->0\n",
      "\n",
      "blue:\t 0-2-1.1->0\n",
      "red:\t 0-4-0.09999999999999964->1\n",
      "green:\t 1-1-3.0999999999999996->0\n",
      "purple:\t 0-0-2.1->1\n",
      "\n",
      "blue:\t 0-3-0.10000000000000009->0\n",
      "red:\t 1-0-3.1->1\n",
      "green:\t 1-2-2.0999999999999996->0\n",
      "purple:\t 0-1-1.1->1\n",
      "\n",
      "blue:\t 0-0-4.1->1\n",
      "red:\t 1-1-2.1->1\n",
      "green:\t 1-3-1.0999999999999996->0\n",
      "purple:\t 0-2-0.10000000000000009->1\n",
      "\n",
      "blue:\t 0-1-3.0999999999999996->1\n",
      "red:\t 1-2-1.1->1\n",
      "green:\t 1-4-0.09999999999999964->0\n",
      "purple:\t 1-0-2.1->0\n",
      "\n",
      "blue:\t 0-2-2.0999999999999996->1\n",
      "red:\t 1-3-0.10000000000000009->1\n",
      "green:\t 0-0-3.1->0\n",
      "purple:\t 1-1-1.1->0\n",
      "\n",
      "blue:\t 0-3-1.0999999999999996->1\n",
      "red:\t 1-0-4.1->0\n",
      "green:\t 0-1-2.1->0\n",
      "purple:\t 1-2-0.10000000000000009->0\n",
      "\n",
      "blue:\t 0-4-0.09999999999999964->1\n",
      "red:\t 1-1-3.0999999999999996->0\n",
      "green:\t 0-2-1.1->0\n",
      "purple:\t 0-0-2.1->1\n",
      "\n",
      "blue:\t 1-0-3.1->1\n",
      "red:\t 1-2-2.0999999999999996->0\n",
      "green:\t 0-3-0.10000000000000009->0\n",
      "purple:\t 0-1-1.1->1\n",
      "\n",
      "blue:\t 1-1-2.1->1\n",
      "red:\t 1-3-1.0999999999999996->0\n",
      "green:\t 0-0-4.1->1\n",
      "purple:\t 0-2-0.10000000000000009->1\n",
      "\n",
      "blue:\t 1-2-1.1->1\n",
      "red:\t 1-4-0.09999999999999964->0\n",
      "green:\t 0-1-3.0999999999999996->1\n",
      "purple:\t 1-0-2.1->0\n",
      "\n",
      "blue:\t 1-3-0.10000000000000009->1\n",
      "red:\t 0-0-3.1->0\n",
      "green:\t 0-2-2.0999999999999996->1\n",
      "purple:\t 1-1-1.1->0\n",
      "\n",
      "blue:\t 1-0-4.1->0\n",
      "red:\t 0-1-2.1->0\n",
      "green:\t 0-3-1.0999999999999996->1\n",
      "purple:\t 1-2-0.10000000000000009->0\n",
      "\n",
      "blue:\t 1-1-3.0999999999999996->0\n",
      "red:\t 0-2-1.1->0\n",
      "green:\t 0-4-0.09999999999999964->1\n",
      "purple:\t 0-0-2.1->1\n",
      "\n",
      "blue:\t 1-2-2.0999999999999996->0\n",
      "red:\t 0-3-0.10000000000000009->0\n",
      "green:\t 1-0-3.1->1\n",
      "purple:\t 0-1-1.1->1\n",
      "\n",
      "blue:\t 1-3-1.0999999999999996->0\n",
      "red:\t 0-0-4.1->1\n",
      "green:\t 1-1-2.1->1\n",
      "purple:\t 0-2-0.10000000000000009->1\n",
      "\n",
      "blue:\t 1-4-0.09999999999999964->0\n",
      "red:\t 0-1-3.0999999999999996->1\n",
      "green:\t 1-2-1.1->1\n",
      "purple:\t 1-0-2.1->0\n",
      "\n",
      "blue:\t 0-0-3.1->0\n",
      "red:\t 0-2-2.0999999999999996->1\n",
      "green:\t 1-3-0.10000000000000009->1\n",
      "purple:\t 1-1-1.1->0\n",
      "\n",
      "blue:\t 0-1-2.1->0\n",
      "red:\t 0-3-1.0999999999999996->1\n",
      "green:\t 1-0-4.1->0\n",
      "purple:\t 1-2-0.10000000000000009->0\n",
      "\n",
      "blue:\t 0-2-1.1->0\n",
      "red:\t 0-4-0.09999999999999964->1\n",
      "green:\t 1-1-3.0999999999999996->0\n",
      "purple:\t 0-0-2.1->1\n",
      "\n",
      "blue:\t 0-3-0.10000000000000009->0\n",
      "red:\t 1-0-3.1->1\n",
      "green:\t 1-2-2.0999999999999996->0\n",
      "purple:\t 0-1-1.1->1\n",
      "\n",
      "blue:\t 0-0-4.1->1\n",
      "red:\t 1-1-2.1->1\n",
      "green:\t 1-3-1.0999999999999996->0\n",
      "purple:\t 0-2-0.10000000000000009->1\n",
      "\n",
      "blue:\t 0-1-3.0999999999999996->1\n",
      "red:\t 1-2-1.1->1\n",
      "green:\t 1-4-0.09999999999999964->0\n",
      "purple:\t 1-0-2.1->0\n",
      "\n",
      "blue:\t 0-2-2.0999999999999996->1\n",
      "red:\t 1-3-0.10000000000000009->1\n",
      "green:\t 0-0-3.1->0\n",
      "purple:\t 1-1-1.1->0\n",
      "\n",
      "blue:\t 0-3-1.0999999999999996->1\n",
      "red:\t 1-0-4.1->0\n",
      "green:\t 0-1-2.1->0\n",
      "purple:\t 1-2-0.10000000000000009->0\n",
      "\n",
      "blue:\t 0-4-0.09999999999999964->1\n",
      "red:\t 1-1-3.0999999999999996->0\n",
      "green:\t 0-2-1.1->0\n",
      "purple:\t 0-0-2.1->1\n",
      "\n",
      "blue:\t 1-0-3.1->1\n",
      "red:\t 1-2-2.0999999999999996->0\n",
      "green:\t 0-3-0.10000000000000009->0\n",
      "purple:\t 0-1-1.1->1\n",
      "\n",
      "blue:\t 1-1-2.1->1\n",
      "red:\t 1-3-1.0999999999999996->0\n",
      "green:\t 0-0-4.1->1\n",
      "purple:\t 0-2-0.10000000000000009->1\n",
      "\n",
      "blue:\t 1-2-1.1->1\n",
      "red:\t 1-4-0.09999999999999964->0\n",
      "green:\t 0-1-3.0999999999999996->1\n",
      "purple:\t 1-0-2.1->0\n",
      "\n",
      "blue:\t 1-3-0.10000000000000009->1\n",
      "red:\t 0-0-3.1->0\n",
      "green:\t 0-2-2.0999999999999996->1\n",
      "purple:\t 1-1-1.1->0\n",
      "\n"
     ]
    }
   ],
   "source": [
    "def summary(state):\n",
    "    for b in state.balls:\n",
    "        if b.time_to_land:\n",
    "            print(\"{}:\\t {}-{}-{}->{}\".format(b.color, b.source_hand, b.time_flying, b.time_to_land, b.target_hand))\n",
    "        else:\n",
    "            print(\"{}:\\t {}\".format(b.color, b.target_hand))\n",
    "\n",
    "import pprint\n",
    "for state in model.states: \n",
    "    summary(state)\n",
    "    print()"
   ]
  },
  {
   "cell_type": "code",
   "execution_count": 4,
   "metadata": {
    "scrolled": false
   },
   "outputs": [
    {
     "name": "stdout",
     "output_type": "stream",
     "text": [
      "> \u001b[0;32m/opt/miniconda3/envs/jugglyng/lib/python3.8/site-packages/traitlets/traitlets.py\u001b[0m(690)\u001b[0;36merror\u001b[0;34m()\u001b[0m\n",
      "\u001b[0;32m    688 \u001b[0;31m                    e = \"The '%s' trait expected %s, not %s.\" % (\n",
      "\u001b[0m\u001b[0;32m    689 \u001b[0;31m                        self.name, self.info(), describe(\"the\", value))\n",
      "\u001b[0m\u001b[0;32m--> 690 \u001b[0;31m                \u001b[0;32mraise\u001b[0m \u001b[0mTraitError\u001b[0m\u001b[0;34m(\u001b[0m\u001b[0me\u001b[0m\u001b[0;34m)\u001b[0m\u001b[0;34m\u001b[0m\u001b[0;34m\u001b[0m\u001b[0m\n",
      "\u001b[0m\u001b[0;32m    691 \u001b[0;31m\u001b[0;34m\u001b[0m\u001b[0m\n",
      "\u001b[0m\u001b[0;32m    692 \u001b[0;31m    \u001b[0;32mdef\u001b[0m \u001b[0mget_metadata\u001b[0m\u001b[0;34m(\u001b[0m\u001b[0mself\u001b[0m\u001b[0;34m,\u001b[0m \u001b[0mkey\u001b[0m\u001b[0;34m,\u001b[0m \u001b[0mdefault\u001b[0m\u001b[0;34m=\u001b[0m\u001b[0;32mNone\u001b[0m\u001b[0;34m)\u001b[0m\u001b[0;34m:\u001b[0m\u001b[0;34m\u001b[0m\u001b[0;34m\u001b[0m\u001b[0m\n",
      "\u001b[0m\n",
      "ipdb> i\n",
      "*** NameError: name 'i' is not defined\n",
      "ipdb> u\n",
      "> \u001b[0;32m/opt/miniconda3/envs/jugglyng/lib/python3.8/site-packages/pythreejs/traits.py\u001b[0m(262)\u001b[0;36mvalidate\u001b[0;34m()\u001b[0m\n",
      "\u001b[0;32m    260 \u001b[0;31m            \u001b[0;32melif\u001b[0m \u001b[0m_color_hexa_re\u001b[0m\u001b[0;34m.\u001b[0m\u001b[0mmatch\u001b[0m\u001b[0;34m(\u001b[0m\u001b[0mvalue\u001b[0m\u001b[0;34m)\u001b[0m \u001b[0;32mor\u001b[0m \u001b[0m_color_rgbhsl_re\u001b[0m\u001b[0;34m.\u001b[0m\u001b[0mmatch\u001b[0m\u001b[0;34m(\u001b[0m\u001b[0mvalue\u001b[0m\u001b[0;34m)\u001b[0m\u001b[0;34m:\u001b[0m\u001b[0;34m\u001b[0m\u001b[0;34m\u001b[0m\u001b[0m\n",
      "\u001b[0m\u001b[0;32m    261 \u001b[0;31m                \u001b[0;32mreturn\u001b[0m \u001b[0mvalue\u001b[0m\u001b[0;34m\u001b[0m\u001b[0;34m\u001b[0m\u001b[0m\n",
      "\u001b[0m\u001b[0;32m--> 262 \u001b[0;31m        \u001b[0mself\u001b[0m\u001b[0;34m.\u001b[0m\u001b[0merror\u001b[0m\u001b[0;34m(\u001b[0m\u001b[0mobj\u001b[0m\u001b[0;34m,\u001b[0m \u001b[0mvalue\u001b[0m\u001b[0;34m)\u001b[0m\u001b[0;34m\u001b[0m\u001b[0;34m\u001b[0m\u001b[0m\n",
      "\u001b[0m\u001b[0;32m    263 \u001b[0;31m\u001b[0;34m\u001b[0m\u001b[0m\n",
      "\u001b[0m\u001b[0;32m    264 \u001b[0;31m\u001b[0;34m\u001b[0m\u001b[0m\n",
      "\u001b[0m\n",
      "ipdb> u\n",
      "> \u001b[0;32m/opt/miniconda3/envs/jugglyng/lib/python3.8/site-packages/traitlets/traitlets.py\u001b[0m(610)\u001b[0;36m_validate\u001b[0;34m()\u001b[0m\n",
      "\u001b[0;32m    608 \u001b[0;31m            \u001b[0;32mreturn\u001b[0m \u001b[0mvalue\u001b[0m\u001b[0;34m\u001b[0m\u001b[0;34m\u001b[0m\u001b[0m\n",
      "\u001b[0m\u001b[0;32m    609 \u001b[0;31m        \u001b[0;32mif\u001b[0m \u001b[0mhasattr\u001b[0m\u001b[0;34m(\u001b[0m\u001b[0mself\u001b[0m\u001b[0;34m,\u001b[0m \u001b[0;34m'validate'\u001b[0m\u001b[0;34m)\u001b[0m\u001b[0;34m:\u001b[0m\u001b[0;34m\u001b[0m\u001b[0;34m\u001b[0m\u001b[0m\n",
      "\u001b[0m\u001b[0;32m--> 610 \u001b[0;31m            \u001b[0mvalue\u001b[0m \u001b[0;34m=\u001b[0m \u001b[0mself\u001b[0m\u001b[0;34m.\u001b[0m\u001b[0mvalidate\u001b[0m\u001b[0;34m(\u001b[0m\u001b[0mobj\u001b[0m\u001b[0;34m,\u001b[0m \u001b[0mvalue\u001b[0m\u001b[0;34m)\u001b[0m\u001b[0;34m\u001b[0m\u001b[0;34m\u001b[0m\u001b[0m\n",
      "\u001b[0m\u001b[0;32m    611 \u001b[0;31m        \u001b[0;32mif\u001b[0m \u001b[0mobj\u001b[0m\u001b[0;34m.\u001b[0m\u001b[0m_cross_validation_lock\u001b[0m \u001b[0;32mis\u001b[0m \u001b[0;32mFalse\u001b[0m\u001b[0;34m:\u001b[0m\u001b[0;34m\u001b[0m\u001b[0;34m\u001b[0m\u001b[0m\n",
      "\u001b[0m\u001b[0;32m    612 \u001b[0;31m            \u001b[0mvalue\u001b[0m \u001b[0;34m=\u001b[0m \u001b[0mself\u001b[0m\u001b[0;34m.\u001b[0m\u001b[0m_cross_validate\u001b[0m\u001b[0;34m(\u001b[0m\u001b[0mobj\u001b[0m\u001b[0;34m,\u001b[0m \u001b[0mvalue\u001b[0m\u001b[0;34m)\u001b[0m\u001b[0;34m\u001b[0m\u001b[0;34m\u001b[0m\u001b[0m\n",
      "\u001b[0m\n",
      "ipdb> u\n",
      "> \u001b[0;32m/opt/miniconda3/envs/jugglyng/lib/python3.8/site-packages/traitlets/traitlets.py\u001b[0m(578)\u001b[0;36mset\u001b[0;34m()\u001b[0m\n",
      "\u001b[0;32m    576 \u001b[0;31m\u001b[0;34m\u001b[0m\u001b[0m\n",
      "\u001b[0m\u001b[0;32m    577 \u001b[0;31m    \u001b[0;32mdef\u001b[0m \u001b[0mset\u001b[0m\u001b[0;34m(\u001b[0m\u001b[0mself\u001b[0m\u001b[0;34m,\u001b[0m \u001b[0mobj\u001b[0m\u001b[0;34m,\u001b[0m \u001b[0mvalue\u001b[0m\u001b[0;34m)\u001b[0m\u001b[0;34m:\u001b[0m\u001b[0;34m\u001b[0m\u001b[0;34m\u001b[0m\u001b[0m\n",
      "\u001b[0m\u001b[0;32m--> 578 \u001b[0;31m        \u001b[0mnew_value\u001b[0m \u001b[0;34m=\u001b[0m \u001b[0mself\u001b[0m\u001b[0;34m.\u001b[0m\u001b[0m_validate\u001b[0m\u001b[0;34m(\u001b[0m\u001b[0mobj\u001b[0m\u001b[0;34m,\u001b[0m \u001b[0mvalue\u001b[0m\u001b[0;34m)\u001b[0m\u001b[0;34m\u001b[0m\u001b[0;34m\u001b[0m\u001b[0m\n",
      "\u001b[0m\u001b[0;32m    579 \u001b[0;31m        \u001b[0;32mtry\u001b[0m\u001b[0;34m:\u001b[0m\u001b[0;34m\u001b[0m\u001b[0;34m\u001b[0m\u001b[0m\n",
      "\u001b[0m\u001b[0;32m    580 \u001b[0;31m            \u001b[0mold_value\u001b[0m \u001b[0;34m=\u001b[0m \u001b[0mobj\u001b[0m\u001b[0;34m.\u001b[0m\u001b[0m_trait_values\u001b[0m\u001b[0;34m[\u001b[0m\u001b[0mself\u001b[0m\u001b[0;34m.\u001b[0m\u001b[0mname\u001b[0m\u001b[0;34m]\u001b[0m\u001b[0;34m\u001b[0m\u001b[0;34m\u001b[0m\u001b[0m\n",
      "\u001b[0m\n",
      "ipdb> u\n",
      "> \u001b[0;32m/opt/miniconda3/envs/jugglyng/lib/python3.8/site-packages/traitlets/traitlets.py\u001b[0m(604)\u001b[0;36m__set__\u001b[0;34m()\u001b[0m\n",
      "\u001b[0;32m    602 \u001b[0;31m            \u001b[0;32mraise\u001b[0m \u001b[0mTraitError\u001b[0m\u001b[0;34m(\u001b[0m\u001b[0;34m'The \"%s\" trait is read-only.'\u001b[0m \u001b[0;34m%\u001b[0m \u001b[0mself\u001b[0m\u001b[0;34m.\u001b[0m\u001b[0mname\u001b[0m\u001b[0;34m)\u001b[0m\u001b[0;34m\u001b[0m\u001b[0;34m\u001b[0m\u001b[0m\n",
      "\u001b[0m\u001b[0;32m    603 \u001b[0;31m        \u001b[0;32melse\u001b[0m\u001b[0;34m:\u001b[0m\u001b[0;34m\u001b[0m\u001b[0;34m\u001b[0m\u001b[0m\n",
      "\u001b[0m\u001b[0;32m--> 604 \u001b[0;31m            \u001b[0mself\u001b[0m\u001b[0;34m.\u001b[0m\u001b[0mset\u001b[0m\u001b[0;34m(\u001b[0m\u001b[0mobj\u001b[0m\u001b[0;34m,\u001b[0m \u001b[0mvalue\u001b[0m\u001b[0;34m)\u001b[0m\u001b[0;34m\u001b[0m\u001b[0;34m\u001b[0m\u001b[0m\n",
      "\u001b[0m\u001b[0;32m    605 \u001b[0;31m\u001b[0;34m\u001b[0m\u001b[0m\n",
      "\u001b[0m\u001b[0;32m    606 \u001b[0;31m    \u001b[0;32mdef\u001b[0m \u001b[0m_validate\u001b[0m\u001b[0;34m(\u001b[0m\u001b[0mself\u001b[0m\u001b[0;34m,\u001b[0m \u001b[0mobj\u001b[0m\u001b[0;34m,\u001b[0m \u001b[0mvalue\u001b[0m\u001b[0;34m)\u001b[0m\u001b[0;34m:\u001b[0m\u001b[0;34m\u001b[0m\u001b[0;34m\u001b[0m\u001b[0m\n",
      "\u001b[0m\n",
      "ipdb> u\n",
      "> \u001b[0;32m/opt/miniconda3/envs/jugglyng/lib/python3.8/site-packages/traitlets/traitlets.py\u001b[0m(1077)\u001b[0;36m__init__\u001b[0;34m()\u001b[0m\n",
      "\u001b[0;32m   1075 \u001b[0;31m            \u001b[0;32mfor\u001b[0m \u001b[0mkey\u001b[0m\u001b[0;34m,\u001b[0m \u001b[0mvalue\u001b[0m \u001b[0;32min\u001b[0m \u001b[0mkwargs\u001b[0m\u001b[0;34m.\u001b[0m\u001b[0mitems\u001b[0m\u001b[0;34m(\u001b[0m\u001b[0;34m)\u001b[0m\u001b[0;34m:\u001b[0m\u001b[0;34m\u001b[0m\u001b[0;34m\u001b[0m\u001b[0m\n",
      "\u001b[0m\u001b[0;32m   1076 \u001b[0;31m                \u001b[0;32mif\u001b[0m \u001b[0mself\u001b[0m\u001b[0;34m.\u001b[0m\u001b[0mhas_trait\u001b[0m\u001b[0;34m(\u001b[0m\u001b[0mkey\u001b[0m\u001b[0;34m)\u001b[0m\u001b[0;34m:\u001b[0m\u001b[0;34m\u001b[0m\u001b[0;34m\u001b[0m\u001b[0m\n",
      "\u001b[0m\u001b[0;32m-> 1077 \u001b[0;31m                    \u001b[0msetattr\u001b[0m\u001b[0;34m(\u001b[0m\u001b[0mself\u001b[0m\u001b[0;34m,\u001b[0m \u001b[0mkey\u001b[0m\u001b[0;34m,\u001b[0m \u001b[0mvalue\u001b[0m\u001b[0;34m)\u001b[0m\u001b[0;34m\u001b[0m\u001b[0;34m\u001b[0m\u001b[0m\n",
      "\u001b[0m\u001b[0;32m   1078 \u001b[0;31m                \u001b[0;32melse\u001b[0m\u001b[0;34m:\u001b[0m\u001b[0;34m\u001b[0m\u001b[0;34m\u001b[0m\u001b[0m\n",
      "\u001b[0m\u001b[0;32m   1079 \u001b[0;31m                    \u001b[0;31m# passthrough args that don't set traits to super\u001b[0m\u001b[0;34m\u001b[0m\u001b[0;34m\u001b[0m\u001b[0;34m\u001b[0m\u001b[0m\n",
      "\u001b[0m\n",
      "ipdb> u\n",
      "> \u001b[0;32m/opt/miniconda3/envs/jugglyng/lib/python3.8/site-packages/ipywidgets/widgets/widget.py\u001b[0m(412)\u001b[0;36m__init__\u001b[0;34m()\u001b[0m\n",
      "\u001b[0;32m    410 \u001b[0;31m        \u001b[0;34m\"\"\"Public constructor\"\"\"\u001b[0m\u001b[0;34m\u001b[0m\u001b[0;34m\u001b[0m\u001b[0m\n",
      "\u001b[0m\u001b[0;32m    411 \u001b[0;31m        \u001b[0mself\u001b[0m\u001b[0;34m.\u001b[0m\u001b[0m_model_id\u001b[0m \u001b[0;34m=\u001b[0m \u001b[0mkwargs\u001b[0m\u001b[0;34m.\u001b[0m\u001b[0mpop\u001b[0m\u001b[0;34m(\u001b[0m\u001b[0;34m'model_id'\u001b[0m\u001b[0;34m,\u001b[0m \u001b[0;32mNone\u001b[0m\u001b[0;34m)\u001b[0m\u001b[0;34m\u001b[0m\u001b[0;34m\u001b[0m\u001b[0m\n",
      "\u001b[0m\u001b[0;32m--> 412 \u001b[0;31m        \u001b[0msuper\u001b[0m\u001b[0;34m(\u001b[0m\u001b[0mWidget\u001b[0m\u001b[0;34m,\u001b[0m \u001b[0mself\u001b[0m\u001b[0;34m)\u001b[0m\u001b[0;34m.\u001b[0m\u001b[0m__init__\u001b[0m\u001b[0;34m(\u001b[0m\u001b[0;34m**\u001b[0m\u001b[0mkwargs\u001b[0m\u001b[0;34m)\u001b[0m\u001b[0;34m\u001b[0m\u001b[0;34m\u001b[0m\u001b[0m\n",
      "\u001b[0m\u001b[0;32m    413 \u001b[0;31m\u001b[0;34m\u001b[0m\u001b[0m\n",
      "\u001b[0m\u001b[0;32m    414 \u001b[0;31m        \u001b[0mWidget\u001b[0m\u001b[0;34m.\u001b[0m\u001b[0m_call_widget_constructed\u001b[0m\u001b[0;34m(\u001b[0m\u001b[0mself\u001b[0m\u001b[0;34m)\u001b[0m\u001b[0;34m\u001b[0m\u001b[0;34m\u001b[0m\u001b[0m\n",
      "\u001b[0m\n",
      "ipdb> u\n",
      "> \u001b[0;32m/opt/miniconda3/envs/jugglyng/lib/python3.8/site-packages/pythreejs/_base/Three.py\u001b[0m(17)\u001b[0;36m__init__\u001b[0;34m()\u001b[0m\n",
      "\u001b[0;32m     15 \u001b[0;31m\u001b[0;34m\u001b[0m\u001b[0m\n",
      "\u001b[0m\u001b[0;32m     16 \u001b[0;31m    \u001b[0;32mdef\u001b[0m \u001b[0m__init__\u001b[0m\u001b[0;34m(\u001b[0m\u001b[0mself\u001b[0m\u001b[0;34m,\u001b[0m \u001b[0;34m**\u001b[0m\u001b[0mkwargs\u001b[0m\u001b[0;34m)\u001b[0m\u001b[0;34m:\u001b[0m\u001b[0;34m\u001b[0m\u001b[0;34m\u001b[0m\u001b[0m\n",
      "\u001b[0m\u001b[0;32m---> 17 \u001b[0;31m        \u001b[0msuper\u001b[0m\u001b[0;34m(\u001b[0m\u001b[0mThreeWidget\u001b[0m\u001b[0;34m,\u001b[0m \u001b[0mself\u001b[0m\u001b[0;34m)\u001b[0m\u001b[0;34m.\u001b[0m\u001b[0m__init__\u001b[0m\u001b[0;34m(\u001b[0m\u001b[0;34m**\u001b[0m\u001b[0mkwargs\u001b[0m\u001b[0;34m)\u001b[0m\u001b[0;34m\u001b[0m\u001b[0;34m\u001b[0m\u001b[0m\n",
      "\u001b[0m\u001b[0;32m     18 \u001b[0;31m        \u001b[0mself\u001b[0m\u001b[0;34m.\u001b[0m\u001b[0mon_msg\u001b[0m\u001b[0;34m(\u001b[0m\u001b[0mself\u001b[0m\u001b[0;34m.\u001b[0m\u001b[0m_on_potential_ret_val\u001b[0m\u001b[0;34m)\u001b[0m\u001b[0;34m\u001b[0m\u001b[0;34m\u001b[0m\u001b[0m\n",
      "\u001b[0m\u001b[0;32m     19 \u001b[0;31m\u001b[0;34m\u001b[0m\u001b[0m\n",
      "\u001b[0m\n",
      "ipdb> u\n",
      "> \u001b[0;32m/opt/miniconda3/envs/jugglyng/lib/python3.8/site-packages/pythreejs/materials/Material_autogen.py\u001b[0m(28)\u001b[0;36m__init__\u001b[0;34m()\u001b[0m\n",
      "\u001b[0;32m     26 \u001b[0;31m\u001b[0;34m\u001b[0m\u001b[0m\n",
      "\u001b[0m\u001b[0;32m     27 \u001b[0;31m    \u001b[0;32mdef\u001b[0m \u001b[0m__init__\u001b[0m\u001b[0;34m(\u001b[0m\u001b[0mself\u001b[0m\u001b[0;34m,\u001b[0m \u001b[0;34m**\u001b[0m\u001b[0mkwargs\u001b[0m\u001b[0;34m)\u001b[0m\u001b[0;34m:\u001b[0m\u001b[0;34m\u001b[0m\u001b[0;34m\u001b[0m\u001b[0m\n",
      "\u001b[0m\u001b[0;32m---> 28 \u001b[0;31m        \u001b[0msuper\u001b[0m\u001b[0;34m(\u001b[0m\u001b[0mMaterial\u001b[0m\u001b[0;34m,\u001b[0m \u001b[0mself\u001b[0m\u001b[0;34m)\u001b[0m\u001b[0;34m.\u001b[0m\u001b[0m__init__\u001b[0m\u001b[0;34m(\u001b[0m\u001b[0;34m**\u001b[0m\u001b[0mkwargs\u001b[0m\u001b[0;34m)\u001b[0m\u001b[0;34m\u001b[0m\u001b[0;34m\u001b[0m\u001b[0m\n",
      "\u001b[0m\u001b[0;32m     29 \u001b[0;31m\u001b[0;34m\u001b[0m\u001b[0m\n",
      "\u001b[0m\u001b[0;32m     30 \u001b[0;31m    \u001b[0m_model_name\u001b[0m \u001b[0;34m=\u001b[0m \u001b[0mUnicode\u001b[0m\u001b[0;34m(\u001b[0m\u001b[0;34m'MaterialModel'\u001b[0m\u001b[0;34m)\u001b[0m\u001b[0;34m.\u001b[0m\u001b[0mtag\u001b[0m\u001b[0;34m(\u001b[0m\u001b[0msync\u001b[0m\u001b[0;34m=\u001b[0m\u001b[0;32mTrue\u001b[0m\u001b[0;34m)\u001b[0m\u001b[0;34m\u001b[0m\u001b[0;34m\u001b[0m\u001b[0m\n",
      "\u001b[0m\n",
      "ipdb> u\n",
      "> \u001b[0;32m/home/nthiery/Nextcloud/JonglerieMusicale/Jugglyng/modele.py\u001b[0m(95)\u001b[0;36m__init__\u001b[0;34m()\u001b[0m\n",
      "\u001b[0;32m     93 \u001b[0;31m        self.mesh = Mesh(\n",
      "\u001b[0m\u001b[0;32m     94 \u001b[0;31m            \u001b[0mSphereBufferGeometry\u001b[0m\u001b[0;34m(\u001b[0m\u001b[0;36m5\u001b[0m\u001b[0;34m,\u001b[0m \u001b[0;36m32\u001b[0m\u001b[0;34m,\u001b[0m \u001b[0;36m16\u001b[0m\u001b[0;34m)\u001b[0m\u001b[0;34m,\u001b[0m\u001b[0;34m\u001b[0m\u001b[0;34m\u001b[0m\u001b[0m\n",
      "\u001b[0m\u001b[0;32m---> 95 \u001b[0;31m            \u001b[0mMeshStandardMaterial\u001b[0m\u001b[0;34m(\u001b[0m\u001b[0mcolor\u001b[0m\u001b[0;34m=\u001b[0m\u001b[0mcolor\u001b[0m\u001b[0;34m)\u001b[0m\u001b[0;34m\u001b[0m\u001b[0;34m\u001b[0m\u001b[0m\n",
      "\u001b[0m\u001b[0;32m     96 \u001b[0;31m        )\n",
      "\u001b[0m\u001b[0;32m     97 \u001b[0;31m\u001b[0;34m\u001b[0m\u001b[0m\n",
      "\u001b[0m\n"
     ]
    },
    {
     "name": "stdout",
     "output_type": "stream",
     "text": [
      "ipdb> p color\n",
      "{'color': 'blue', 'tone': 'do'}\n",
      "ipdb> u\n",
      "> \u001b[0;32m/home/nthiery/Nextcloud/JonglerieMusicale/Jugglyng/modele.py\u001b[0m(116)\u001b[0;36m<listcomp>\u001b[0;34m()\u001b[0m\n",
      "\u001b[0;32m    114 \u001b[0;31m        \u001b[0mself\u001b[0m\u001b[0;34m.\u001b[0m\u001b[0mmodel\u001b[0m \u001b[0;34m=\u001b[0m \u001b[0mmodel\u001b[0m\u001b[0;34m\u001b[0m\u001b[0;34m\u001b[0m\u001b[0m\n",
      "\u001b[0m\u001b[0;32m    115 \u001b[0;31m        \u001b[0minitial_state\u001b[0m \u001b[0;34m=\u001b[0m \u001b[0mself\u001b[0m\u001b[0;34m.\u001b[0m\u001b[0mmodel\u001b[0m\u001b[0;34m.\u001b[0m\u001b[0mstate\u001b[0m\u001b[0;34m(\u001b[0m\u001b[0;36m0\u001b[0m\u001b[0;34m)\u001b[0m\u001b[0;34m\u001b[0m\u001b[0;34m\u001b[0m\u001b[0m\n",
      "\u001b[0m\u001b[0;32m--> 116 \u001b[0;31m        self.balls = [BallView(ball.color)\n",
      "\u001b[0m\u001b[0;32m    117 \u001b[0;31m                      for ball in initial_state.balls]\n",
      "\u001b[0m\u001b[0;32m    118 \u001b[0;31m        \u001b[0;31m# TODO: currently hardcoded for two hands\u001b[0m\u001b[0;34m\u001b[0m\u001b[0;34m\u001b[0m\u001b[0;34m\u001b[0m\u001b[0m\n",
      "\u001b[0m\n",
      "ipdb> p ball\n",
      "Ball(color={'color': 'blue', 'tone': 'do'}, source_hand=None, target_hand=0, time_flying=0, time_to_land=0, number=0)\n",
      "ipdb> p ball.color\n",
      "{'color': 'blue', 'tone': 'do'}\n",
      "ipdb> q\n",
      "> \u001b[0;32m<string>\u001b[0m(1)\u001b[0;36m<module>\u001b[0;34m()\u001b[0m\n",
      "\n",
      "ipdb> q\n"
     ]
    }
   ],
   "source": [
    "import pdb\n",
    "pdb.pm()\n",
    "state = model.state(0)\n",
    "throw = modele.Throw(0,1,3)\n",
    "pdb.run(\"model.transition(state, throw)\")"
   ]
  },
  {
   "cell_type": "code",
   "execution_count": null,
   "metadata": {},
   "outputs": [],
   "source": []
  }
 ],
 "metadata": {
  "kernelspec": {
   "display_name": "Python 3",
   "language": "python",
   "name": "python3"
  },
  "language_info": {
   "codemirror_mode": {
    "name": "ipython",
    "version": 3
   },
   "file_extension": ".py",
   "mimetype": "text/x-python",
   "name": "python",
   "nbconvert_exporter": "python",
   "pygments_lexer": "ipython3",
   "version": "3.9.2"
  }
 },
 "nbformat": 4,
 "nbformat_minor": 4
}
