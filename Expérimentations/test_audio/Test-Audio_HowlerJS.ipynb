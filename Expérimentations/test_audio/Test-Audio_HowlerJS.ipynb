{
 "cells": [
  {
   "cell_type": "code",
   "execution_count": 1,
   "id": "impressive-elevation",
   "metadata": {},
   "outputs": [
    {
     "data": {
      "text/html": [
       "<script src=\"../howler.js\"></script>"
      ],
      "text/plain": [
       "<IPython.core.display.HTML object>"
      ]
     },
     "metadata": {},
     "output_type": "display_data"
    }
   ],
   "source": [
    "from audio_exp import Audio"
   ]
  },
  {
   "cell_type": "code",
   "execution_count": 2,
   "id": "complete-shoulder",
   "metadata": {},
   "outputs": [
    {
     "data": {
      "text/html": [
       "<script>\n",
       "    var sound1 = new Howl({\n",
       "        src: ['../do.wav']\n",
       "    });\n",
       "</script>"
      ],
      "text/plain": [
       "<IPython.core.display.HTML object>"
      ]
     },
     "metadata": {},
     "output_type": "display_data"
    },
    {
     "data": {
      "application/javascript": [
       "sound1.play();"
      ],
      "text/plain": [
       "<IPython.core.display.Javascript object>"
      ]
     },
     "metadata": {},
     "output_type": "display_data"
    }
   ],
   "source": [
    "do = Audio('../../do.wav')"
   ]
  },
  {
   "cell_type": "code",
   "execution_count": 3,
   "id": "tender-attachment",
   "metadata": {},
   "outputs": [],
   "source": [
    "do.play()"
   ]
  },
  {
   "cell_type": "code",
   "execution_count": 4,
   "id": "happy-median",
   "metadata": {},
   "outputs": [],
   "source": [
    "for i in range(10):\n",
    "    do.play()"
   ]
  },
  {
   "cell_type": "code",
   "execution_count": 5,
   "id": "arabic-style",
   "metadata": {},
   "outputs": [
    {
     "data": {
      "text/html": [
       "<script>\n",
       "    var sound2 = new Howl({\n",
       "        src: ['../mi.wav']\n",
       "    });\n",
       "</script>"
      ],
      "text/plain": [
       "<IPython.core.display.HTML object>"
      ]
     },
     "metadata": {},
     "output_type": "display_data"
    },
    {
     "data": {
      "application/javascript": [
       "sound2.play();"
      ],
      "text/plain": [
       "<IPython.core.display.Javascript object>"
      ]
     },
     "metadata": {},
     "output_type": "display_data"
    }
   ],
   "source": [
    "mi = Audio('../../mi.wav')"
   ]
  },
  {
   "cell_type": "code",
   "execution_count": 6,
   "id": "humanitarian-communications",
   "metadata": {},
   "outputs": [],
   "source": [
    "mi.play()"
   ]
  },
  {
   "cell_type": "code",
   "execution_count": 7,
   "id": "governmental-characterization",
   "metadata": {},
   "outputs": [],
   "source": [
    "do.play()"
   ]
  },
  {
   "cell_type": "code",
   "execution_count": 1,
   "id": "cooperative-lecture",
   "metadata": {},
   "outputs": [
    {
     "name": "stdout",
     "output_type": "stream",
     "text": [
      "3.9.4 (default, Apr 20 2021, 15:51:38) \n",
      "[GCC 10.2.0]\n"
     ]
    }
   ],
   "source": [
    "import sys\n",
    "print(sys.version)"
   ]
  },
  {
   "cell_type": "code",
   "execution_count": 42,
   "id": "e8497250-8430-43cd-96c5-b0a7ee3d9cd5",
   "metadata": {},
   "outputs": [],
   "source": [
    "from IPython.display import display, Javascript, HTML"
   ]
  },
  {
   "cell_type": "code",
   "execution_count": 43,
   "id": "81f681f7-5df6-47de-ab4a-6c1e34e4c416",
   "metadata": {},
   "outputs": [
    {
     "data": {
      "application/javascript": [
       "alert(\"hello !\");"
      ],
      "text/plain": [
       "<IPython.core.display.Javascript object>"
      ]
     },
     "metadata": {},
     "output_type": "display_data"
    }
   ],
   "source": [
    "display(Javascript('alert(\"hello !\");'))"
   ]
  },
  {
   "cell_type": "code",
   "execution_count": 44,
   "id": "a6cd852b-a677-44c0-9661-3070b331fb8a",
   "metadata": {},
   "outputs": [],
   "source": [
    "model = \"\"\"var sound{id} = new Howl({{\n",
    "    src: ['{file}']\n",
    "}});\n",
    "\n",
    "alert(\"hello\");\n",
    "\n",
    "sound{id}.play();\"\"\""
   ]
  },
  {
   "cell_type": "code",
   "execution_count": 45,
   "id": "7c1c0c69-3209-4cbf-855b-2760a5d7c5c9",
   "metadata": {},
   "outputs": [
    {
     "data": {
      "application/javascript": [
       "function test() {\n",
       "    alert('hello');\n",
       "}\n",
       "\n",
       "window.test = test\n"
      ],
      "text/plain": [
       "<IPython.core.display.Javascript object>"
      ]
     },
     "metadata": {},
     "output_type": "display_data"
    }
   ],
   "source": [
    "%%javascript\n",
    "function test() {\n",
    "    alert('hello');\n",
    "}\n",
    "\n",
    "window.test = test"
   ]
  },
  {
   "cell_type": "code",
   "execution_count": 46,
   "id": "cf911c8b-2658-4df7-9191-33ef14c7e8b6",
   "metadata": {},
   "outputs": [
    {
     "data": {
      "application/javascript": [
       "var sound42 = new Howl({\n",
       "    src: ['../do.wav']\n",
       "});\n",
       "\n",
       "window.sound42 = sound42\n"
      ],
      "text/plain": [
       "<IPython.core.display.Javascript object>"
      ]
     },
     "metadata": {},
     "output_type": "display_data"
    }
   ],
   "source": [
    "%%javascript\n",
    "var sound42 = new Howl({\n",
    "    src: ['../../do.wav']\n",
    "});\n",
    "\n",
    "window.sound42 = sound42"
   ]
  },
  {
   "cell_type": "code",
   "execution_count": 47,
   "id": "57a12974-7de8-4ab5-9249-c125f77a8db7",
   "metadata": {},
   "outputs": [
    {
     "data": {
      "text/plain": [
       "'var sound42 = new Howl({\\n    src: [\\'../do.wav\\']\\n});\\n\\nalert(\"hello\");\\n\\nsound42.play();'"
      ]
     },
     "execution_count": 47,
     "metadata": {},
     "output_type": "execute_result"
    }
   ],
   "source": [
    "load = model.format(id=42, file='../../do.wav')\n",
    "load"
   ]
  },
  {
   "cell_type": "code",
   "execution_count": 48,
   "id": "18ad7f84-5796-4600-ba99-fc93d4b66292",
   "metadata": {},
   "outputs": [
    {
     "data": {
      "application/javascript": [
       "/*! howler.js v2.2.1 | (c) 2013-2020, James Simpson of GoldFire Studios | MIT License | howlerjs.com */\n",
       "!function(){\"use strict\";var e=function(){this.init()};e.prototype={init:function(){var e=this||n;return e._counter=1e3,e._html5AudioPool=[],e.html5PoolSize=10,e._codecs={},e._howls=[],e._muted=!1,e._volume=1,e._canPlayEvent=\"canplaythrough\",e._navigator=\"undefined\"!=typeof window&&window.navigator?window.navigator:null,e.masterGain=null,e.noAudio=!1,e.usingWebAudio=!0,e.autoSuspend=!0,e.ctx=null,e.autoUnlock=!0,e._setup(),e},volume:function(e){var o=this||n;if(e=parseFloat(e),o.ctx||_(),void 0!==e&&e>=0&&e<=1){if(o._volume=e,o._muted)return o;o.usingWebAudio&&o.masterGain.gain.setValueAtTime(e,n.ctx.currentTime);for(var t=0;t<o._howls.length;t++)if(!o._howls[t]._webAudio)for(var r=o._howls[t]._getSoundIds(),a=0;a<r.length;a++){var u=o._howls[t]._soundById(r[a]);u&&u._node&&(u._node.volume=u._volume*e)}return o}return o._volume},mute:function(e){var o=this||n;o.ctx||_(),o._muted=e,o.usingWebAudio&&o.masterGain.gain.setValueAtTime(e?0:o._volume,n.ctx.currentTime);for(var t=0;t<o._howls.length;t++)if(!o._howls[t]._webAudio)for(var r=o._howls[t]._getSoundIds(),a=0;a<r.length;a++){var u=o._howls[t]._soundById(r[a]);u&&u._node&&(u._node.muted=!!e||u._muted)}return o},stop:function(){for(var e=this||n,o=0;o<e._howls.length;o++)e._howls[o].stop();return e},unload:function(){for(var e=this||n,o=e._howls.length-1;o>=0;o--)e._howls[o].unload();return e.usingWebAudio&&e.ctx&&void 0!==e.ctx.close&&(e.ctx.close(),e.ctx=null,_()),e},codecs:function(e){return(this||n)._codecs[e.replace(/^x-/,\"\")]},_setup:function(){var e=this||n;if(e.state=e.ctx?e.ctx.state||\"suspended\":\"suspended\",e._autoSuspend(),!e.usingWebAudio)if(\"undefined\"!=typeof Audio)try{var o=new Audio;void 0===o.oncanplaythrough&&(e._canPlayEvent=\"canplay\")}catch(n){e.noAudio=!0}else e.noAudio=!0;try{var o=new Audio;o.muted&&(e.noAudio=!0)}catch(e){}return e.noAudio||e._setupCodecs(),e},_setupCodecs:function(){var e=this||n,o=null;try{o=\"undefined\"!=typeof Audio?new Audio:null}catch(n){return e}if(!o||\"function\"!=typeof o.canPlayType)return e;var t=o.canPlayType(\"audio/mpeg;\").replace(/^no$/,\"\"),r=e._navigator&&e._navigator.userAgent.match(/OPR\\/([0-6].)/g),a=r&&parseInt(r[0].split(\"/\")[1],10)<33;return e._codecs={mp3:!(a||!t&&!o.canPlayType(\"audio/mp3;\").replace(/^no$/,\"\")),mpeg:!!t,opus:!!o.canPlayType('audio/ogg; codecs=\"opus\"').replace(/^no$/,\"\"),ogg:!!o.canPlayType('audio/ogg; codecs=\"vorbis\"').replace(/^no$/,\"\"),oga:!!o.canPlayType('audio/ogg; codecs=\"vorbis\"').replace(/^no$/,\"\"),wav:!!(o.canPlayType('audio/wav; codecs=\"1\"')||o.canPlayType(\"audio/wav\")).replace(/^no$/,\"\"),aac:!!o.canPlayType(\"audio/aac;\").replace(/^no$/,\"\"),caf:!!o.canPlayType(\"audio/x-caf;\").replace(/^no$/,\"\"),m4a:!!(o.canPlayType(\"audio/x-m4a;\")||o.canPlayType(\"audio/m4a;\")||o.canPlayType(\"audio/aac;\")).replace(/^no$/,\"\"),m4b:!!(o.canPlayType(\"audio/x-m4b;\")||o.canPlayType(\"audio/m4b;\")||o.canPlayType(\"audio/aac;\")).replace(/^no$/,\"\"),mp4:!!(o.canPlayType(\"audio/x-mp4;\")||o.canPlayType(\"audio/mp4;\")||o.canPlayType(\"audio/aac;\")).replace(/^no$/,\"\"),weba:!!o.canPlayType('audio/webm; codecs=\"vorbis\"').replace(/^no$/,\"\"),webm:!!o.canPlayType('audio/webm; codecs=\"vorbis\"').replace(/^no$/,\"\"),dolby:!!o.canPlayType('audio/mp4; codecs=\"ec-3\"').replace(/^no$/,\"\"),flac:!!(o.canPlayType(\"audio/x-flac;\")||o.canPlayType(\"audio/flac;\")).replace(/^no$/,\"\")},e},_unlockAudio:function(){var e=this||n;if(!e._audioUnlocked&&e.ctx){e._audioUnlocked=!1,e.autoUnlock=!1,e._mobileUnloaded||44100===e.ctx.sampleRate||(e._mobileUnloaded=!0,e.unload()),e._scratchBuffer=e.ctx.createBuffer(1,1,22050);var o=function(n){for(;e._html5AudioPool.length<e.html5PoolSize;)try{var t=new Audio;t._unlocked=!0,e._releaseHtml5Audio(t)}catch(n){e.noAudio=!0;break}for(var r=0;r<e._howls.length;r++)if(!e._howls[r]._webAudio)for(var a=e._howls[r]._getSoundIds(),u=0;u<a.length;u++){var d=e._howls[r]._soundById(a[u]);d&&d._node&&!d._node._unlocked&&(d._node._unlocked=!0,d._node.load())}e._autoResume();var i=e.ctx.createBufferSource();i.buffer=e._scratchBuffer,i.connect(e.ctx.destination),void 0===i.start?i.noteOn(0):i.start(0),\"function\"==typeof e.ctx.resume&&e.ctx.resume(),i.onended=function(){i.disconnect(0),e._audioUnlocked=!0,document.removeEventListener(\"touchstart\",o,!0),document.removeEventListener(\"touchend\",o,!0),document.removeEventListener(\"click\",o,!0);for(var n=0;n<e._howls.length;n++)e._howls[n]._emit(\"unlock\")}};return document.addEventListener(\"touchstart\",o,!0),document.addEventListener(\"touchend\",o,!0),document.addEventListener(\"click\",o,!0),e}},_obtainHtml5Audio:function(){var e=this||n;if(e._html5AudioPool.length)return e._html5AudioPool.pop();var o=(new Audio).play();return o&&\"undefined\"!=typeof Promise&&(o instanceof Promise||\"function\"==typeof o.then)&&o.catch(function(){console.warn(\"HTML5 Audio pool exhausted, returning potentially locked audio object.\")}),new Audio},_releaseHtml5Audio:function(e){var o=this||n;return e._unlocked&&o._html5AudioPool.push(e),o},_autoSuspend:function(){var e=this;if(e.autoSuspend&&e.ctx&&void 0!==e.ctx.suspend&&n.usingWebAudio){for(var o=0;o<e._howls.length;o++)if(e._howls[o]._webAudio)for(var t=0;t<e._howls[o]._sounds.length;t++)if(!e._howls[o]._sounds[t]._paused)return e;return e._suspendTimer&&clearTimeout(e._suspendTimer),e._suspendTimer=setTimeout(function(){if(e.autoSuspend){e._suspendTimer=null,e.state=\"suspending\";var n=function(){e.state=\"suspended\",e._resumeAfterSuspend&&(delete e._resumeAfterSuspend,e._autoResume())};e.ctx.suspend().then(n,n)}},3e4),e}},_autoResume:function(){var e=this;if(e.ctx&&void 0!==e.ctx.resume&&n.usingWebAudio)return\"running\"===e.state&&\"interrupted\"!==e.ctx.state&&e._suspendTimer?(clearTimeout(e._suspendTimer),e._suspendTimer=null):\"suspended\"===e.state||\"running\"===e.state&&\"interrupted\"===e.ctx.state?(e.ctx.resume().then(function(){e.state=\"running\";for(var n=0;n<e._howls.length;n++)e._howls[n]._emit(\"resume\")}),e._suspendTimer&&(clearTimeout(e._suspendTimer),e._suspendTimer=null)):\"suspending\"===e.state&&(e._resumeAfterSuspend=!0),e}};var n=new e,o=function(e){var n=this;if(!e.src||0===e.src.length)return void console.error(\"An array of source files must be passed with any new Howl.\");n.init(e)};o.prototype={init:function(e){var o=this;return n.ctx||_(),o._autoplay=e.autoplay||!1,o._format=\"string\"!=typeof e.format?e.format:[e.format],o._html5=e.html5||!1,o._muted=e.mute||!1,o._loop=e.loop||!1,o._pool=e.pool||5,o._preload=\"boolean\"!=typeof e.preload&&\"metadata\"!==e.preload||e.preload,o._rate=e.rate||1,o._sprite=e.sprite||{},o._src=\"string\"!=typeof e.src?e.src:[e.src],o._volume=void 0!==e.volume?e.volume:1,o._xhr={method:e.xhr&&e.xhr.method?e.xhr.method:\"GET\",headers:e.xhr&&e.xhr.headers?e.xhr.headers:null,withCredentials:!(!e.xhr||!e.xhr.withCredentials)&&e.xhr.withCredentials},o._duration=0,o._state=\"unloaded\",o._sounds=[],o._endTimers={},o._queue=[],o._playLock=!1,o._onend=e.onend?[{fn:e.onend}]:[],o._onfade=e.onfade?[{fn:e.onfade}]:[],o._onload=e.onload?[{fn:e.onload}]:[],o._onloaderror=e.onloaderror?[{fn:e.onloaderror}]:[],o._onplayerror=e.onplayerror?[{fn:e.onplayerror}]:[],o._onpause=e.onpause?[{fn:e.onpause}]:[],o._onplay=e.onplay?[{fn:e.onplay}]:[],o._onstop=e.onstop?[{fn:e.onstop}]:[],o._onmute=e.onmute?[{fn:e.onmute}]:[],o._onvolume=e.onvolume?[{fn:e.onvolume}]:[],o._onrate=e.onrate?[{fn:e.onrate}]:[],o._onseek=e.onseek?[{fn:e.onseek}]:[],o._onunlock=e.onunlock?[{fn:e.onunlock}]:[],o._onresume=[],o._webAudio=n.usingWebAudio&&!o._html5,void 0!==n.ctx&&n.ctx&&n.autoUnlock&&n._unlockAudio(),n._howls.push(o),o._autoplay&&o._queue.push({event:\"play\",action:function(){o.play()}}),o._preload&&\"none\"!==o._preload&&o.load(),o},load:function(){var e=this,o=null;if(n.noAudio)return void e._emit(\"loaderror\",null,\"No audio support.\");\"string\"==typeof e._src&&(e._src=[e._src]);for(var r=0;r<e._src.length;r++){var u,d;if(e._format&&e._format[r])u=e._format[r];else{if(\"string\"!=typeof(d=e._src[r])){e._emit(\"loaderror\",null,\"Non-string found in selected audio sources - ignoring.\");continue}u=/^data:audio\\/([^;,]+);/i.exec(d),u||(u=/\\.([^.]+)$/.exec(d.split(\"?\",1)[0])),u&&(u=u[1].toLowerCase())}if(u||console.warn('No file extension was found. Consider using the \"format\" property or specify an extension.'),u&&n.codecs(u)){o=e._src[r];break}}return o?(e._src=o,e._state=\"loading\",\"https:\"===window.location.protocol&&\"http:\"===o.slice(0,5)&&(e._html5=!0,e._webAudio=!1),new t(e),e._webAudio&&a(e),e):void e._emit(\"loaderror\",null,\"No codec support for selected audio sources.\")},play:function(e,o){var t=this,r=null;if(\"number\"==typeof e)r=e,e=null;else{if(\"string\"==typeof e&&\"loaded\"===t._state&&!t._sprite[e])return null;if(void 0===e&&(e=\"__default\",!t._playLock)){for(var a=0,u=0;u<t._sounds.length;u++)t._sounds[u]._paused&&!t._sounds[u]._ended&&(a++,r=t._sounds[u]._id);1===a?e=null:r=null}}var d=r?t._soundById(r):t._inactiveSound();if(!d)return null;if(r&&!e&&(e=d._sprite||\"__default\"),\"loaded\"!==t._state){d._sprite=e,d._ended=!1;var i=d._id;return t._queue.push({event:\"play\",action:function(){t.play(i)}}),i}if(r&&!d._paused)return o||t._loadQueue(\"play\"),d._id;t._webAudio&&n._autoResume();var _=Math.max(0,d._seek>0?d._seek:t._sprite[e][0]/1e3),s=Math.max(0,(t._sprite[e][0]+t._sprite[e][1])/1e3-_),l=1e3*s/Math.abs(d._rate),c=t._sprite[e][0]/1e3,f=(t._sprite[e][0]+t._sprite[e][1])/1e3;d._sprite=e,d._ended=!1;var p=function(){d._paused=!1,d._seek=_,d._start=c,d._stop=f,d._loop=!(!d._loop&&!t._sprite[e][2])};if(_>=f)return void t._ended(d);var m=d._node;if(t._webAudio){var v=function(){t._playLock=!1,p(),t._refreshBuffer(d);var e=d._muted||t._muted?0:d._volume;m.gain.setValueAtTime(e,n.ctx.currentTime),d._playStart=n.ctx.currentTime,void 0===m.bufferSource.start?d._loop?m.bufferSource.noteGrainOn(0,_,86400):m.bufferSource.noteGrainOn(0,_,s):d._loop?m.bufferSource.start(0,_,86400):m.bufferSource.start(0,_,s),l!==1/0&&(t._endTimers[d._id]=setTimeout(t._ended.bind(t,d),l)),o||setTimeout(function(){t._emit(\"play\",d._id),t._loadQueue()},0)};\"running\"===n.state&&\"interrupted\"!==n.ctx.state?v():(t._playLock=!0,t.once(\"resume\",v),t._clearTimer(d._id))}else{var h=function(){m.currentTime=_,m.muted=d._muted||t._muted||n._muted||m.muted,m.volume=d._volume*n.volume(),m.playbackRate=d._rate;try{var r=m.play();if(r&&\"undefined\"!=typeof Promise&&(r instanceof Promise||\"function\"==typeof r.then)?(t._playLock=!0,p(),r.then(function(){t._playLock=!1,m._unlocked=!0,o||(t._emit(\"play\",d._id),t._loadQueue())}).catch(function(){t._playLock=!1,t._emit(\"playerror\",d._id,\"Playback was unable to start. This is most commonly an issue on mobile devices and Chrome where playback was not within a user interaction.\"),d._ended=!0,d._paused=!0})):o||(t._playLock=!1,p(),t._emit(\"play\",d._id),t._loadQueue()),m.playbackRate=d._rate,m.paused)return void t._emit(\"playerror\",d._id,\"Playback was unable to start. This is most commonly an issue on mobile devices and Chrome where playback was not within a user interaction.\");\"__default\"!==e||d._loop?t._endTimers[d._id]=setTimeout(t._ended.bind(t,d),l):(t._endTimers[d._id]=function(){t._ended(d),m.removeEventListener(\"ended\",t._endTimers[d._id],!1)},m.addEventListener(\"ended\",t._endTimers[d._id],!1))}catch(e){t._emit(\"playerror\",d._id,e)}};\"data:audio/wav;base64,UklGRigAAABXQVZFZm10IBIAAAABAAEARKwAAIhYAQACABAAAABkYXRhAgAAAAEA\"===m.src&&(m.src=t._src,m.load());var y=window&&window.ejecta||!m.readyState&&n._navigator.isCocoonJS;if(m.readyState>=3||y)h();else{t._playLock=!0;var g=function(){h(),m.removeEventListener(n._canPlayEvent,g,!1)};m.addEventListener(n._canPlayEvent,g,!1),t._clearTimer(d._id)}}return d._id},pause:function(e){var n=this;if(\"loaded\"!==n._state||n._playLock)return n._queue.push({event:\"pause\",action:function(){n.pause(e)}}),n;for(var o=n._getSoundIds(e),t=0;t<o.length;t++){n._clearTimer(o[t]);var r=n._soundById(o[t]);if(r&&!r._paused&&(r._seek=n.seek(o[t]),r._rateSeek=0,r._paused=!0,n._stopFade(o[t]),r._node))if(n._webAudio){if(!r._node.bufferSource)continue;void 0===r._node.bufferSource.stop?r._node.bufferSource.noteOff(0):r._node.bufferSource.stop(0),n._cleanBuffer(r._node)}else isNaN(r._node.duration)&&r._node.duration!==1/0||r._node.pause();arguments[1]||n._emit(\"pause\",r?r._id:null)}return n},stop:function(e,n){var o=this;if(\"loaded\"!==o._state||o._playLock)return o._queue.push({event:\"stop\",action:function(){o.stop(e)}}),o;for(var t=o._getSoundIds(e),r=0;r<t.length;r++){o._clearTimer(t[r]);var a=o._soundById(t[r]);a&&(a._seek=a._start||0,a._rateSeek=0,a._paused=!0,a._ended=!0,o._stopFade(t[r]),a._node&&(o._webAudio?a._node.bufferSource&&(void 0===a._node.bufferSource.stop?a._node.bufferSource.noteOff(0):a._node.bufferSource.stop(0),o._cleanBuffer(a._node)):isNaN(a._node.duration)&&a._node.duration!==1/0||(a._node.currentTime=a._start||0,a._node.pause(),a._node.duration===1/0&&o._clearSound(a._node))),n||o._emit(\"stop\",a._id))}return o},mute:function(e,o){var t=this;if(\"loaded\"!==t._state||t._playLock)return t._queue.push({event:\"mute\",action:function(){t.mute(e,o)}}),t;if(void 0===o){if(\"boolean\"!=typeof e)return t._muted;t._muted=e}for(var r=t._getSoundIds(o),a=0;a<r.length;a++){var u=t._soundById(r[a]);u&&(u._muted=e,u._interval&&t._stopFade(u._id),t._webAudio&&u._node?u._node.gain.setValueAtTime(e?0:u._volume,n.ctx.currentTime):u._node&&(u._node.muted=!!n._muted||e),t._emit(\"mute\",u._id))}return t},volume:function(){var e,o,t=this,r=arguments;if(0===r.length)return t._volume;if(1===r.length||2===r.length&&void 0===r[1]){t._getSoundIds().indexOf(r[0])>=0?o=parseInt(r[0],10):e=parseFloat(r[0])}else r.length>=2&&(e=parseFloat(r[0]),o=parseInt(r[1],10));var a;if(!(void 0!==e&&e>=0&&e<=1))return a=o?t._soundById(o):t._sounds[0],a?a._volume:0;if(\"loaded\"!==t._state||t._playLock)return t._queue.push({event:\"volume\",action:function(){t.volume.apply(t,r)}}),t;void 0===o&&(t._volume=e),o=t._getSoundIds(o);for(var u=0;u<o.length;u++)(a=t._soundById(o[u]))&&(a._volume=e,r[2]||t._stopFade(o[u]),t._webAudio&&a._node&&!a._muted?a._node.gain.setValueAtTime(e,n.ctx.currentTime):a._node&&!a._muted&&(a._node.volume=e*n.volume()),t._emit(\"volume\",a._id));return t},fade:function(e,o,t,r){var a=this;if(\"loaded\"!==a._state||a._playLock)return a._queue.push({event:\"fade\",action:function(){a.fade(e,o,t,r)}}),a;e=Math.min(Math.max(0,parseFloat(e)),1),o=Math.min(Math.max(0,parseFloat(o)),1),t=parseFloat(t),a.volume(e,r);for(var u=a._getSoundIds(r),d=0;d<u.length;d++){var i=a._soundById(u[d]);if(i){if(r||a._stopFade(u[d]),a._webAudio&&!i._muted){var _=n.ctx.currentTime,s=_+t/1e3;i._volume=e,i._node.gain.setValueAtTime(e,_),i._node.gain.linearRampToValueAtTime(o,s)}a._startFadeInterval(i,e,o,t,u[d],void 0===r)}}return a},_startFadeInterval:function(e,n,o,t,r,a){var u=this,d=n,i=o-n,_=Math.abs(i/.01),s=Math.max(4,_>0?t/_:t),l=Date.now();e._fadeTo=o,e._interval=setInterval(function(){var r=(Date.now()-l)/t;l=Date.now(),d+=i*r,d=Math.round(100*d)/100,d=i<0?Math.max(o,d):Math.min(o,d),u._webAudio?e._volume=d:u.volume(d,e._id,!0),a&&(u._volume=d),(o<n&&d<=o||o>n&&d>=o)&&(clearInterval(e._interval),e._interval=null,e._fadeTo=null,u.volume(o,e._id),u._emit(\"fade\",e._id))},s)},_stopFade:function(e){var o=this,t=o._soundById(e);return t&&t._interval&&(o._webAudio&&t._node.gain.cancelScheduledValues(n.ctx.currentTime),clearInterval(t._interval),t._interval=null,o.volume(t._fadeTo,e),t._fadeTo=null,o._emit(\"fade\",e)),o},loop:function(){var e,n,o,t=this,r=arguments;if(0===r.length)return t._loop;if(1===r.length){if(\"boolean\"!=typeof r[0])return!!(o=t._soundById(parseInt(r[0],10)))&&o._loop;e=r[0],t._loop=e}else 2===r.length&&(e=r[0],n=parseInt(r[1],10));for(var a=t._getSoundIds(n),u=0;u<a.length;u++)(o=t._soundById(a[u]))&&(o._loop=e,t._webAudio&&o._node&&o._node.bufferSource&&(o._node.bufferSource.loop=e,e&&(o._node.bufferSource.loopStart=o._start||0,o._node.bufferSource.loopEnd=o._stop)));return t},rate:function(){var e,o,t=this,r=arguments;if(0===r.length)o=t._sounds[0]._id;else if(1===r.length){var a=t._getSoundIds(),u=a.indexOf(r[0]);u>=0?o=parseInt(r[0],10):e=parseFloat(r[0])}else 2===r.length&&(e=parseFloat(r[0]),o=parseInt(r[1],10));var d;if(\"number\"!=typeof e)return d=t._soundById(o),d?d._rate:t._rate;if(\"loaded\"!==t._state||t._playLock)return t._queue.push({event:\"rate\",action:function(){t.rate.apply(t,r)}}),t;void 0===o&&(t._rate=e),o=t._getSoundIds(o);for(var i=0;i<o.length;i++)if(d=t._soundById(o[i])){t.playing(o[i])&&(d._rateSeek=t.seek(o[i]),d._playStart=t._webAudio?n.ctx.currentTime:d._playStart),d._rate=e,t._webAudio&&d._node&&d._node.bufferSource?d._node.bufferSource.playbackRate.setValueAtTime(e,n.ctx.currentTime):d._node&&(d._node.playbackRate=e);var _=t.seek(o[i]),s=(t._sprite[d._sprite][0]+t._sprite[d._sprite][1])/1e3-_,l=1e3*s/Math.abs(d._rate);!t._endTimers[o[i]]&&d._paused||(t._clearTimer(o[i]),t._endTimers[o[i]]=setTimeout(t._ended.bind(t,d),l)),t._emit(\"rate\",d._id)}return t},seek:function(){var e,o,t=this,r=arguments;if(0===r.length)o=t._sounds[0]._id;else if(1===r.length){var a=t._getSoundIds(),u=a.indexOf(r[0]);u>=0?o=parseInt(r[0],10):t._sounds.length&&(o=t._sounds[0]._id,e=parseFloat(r[0]))}else 2===r.length&&(e=parseFloat(r[0]),o=parseInt(r[1],10));if(void 0===o)return t;if(\"number\"==typeof e&&(\"loaded\"!==t._state||t._playLock))return t._queue.push({event:\"seek\",action:function(){t.seek.apply(t,r)}}),t;var d=t._soundById(o);if(d){if(!(\"number\"==typeof e&&e>=0)){if(t._webAudio){var i=t.playing(o)?n.ctx.currentTime-d._playStart:0,_=d._rateSeek?d._rateSeek-d._seek:0;return d._seek+(_+i*Math.abs(d._rate))}return d._node.currentTime}var s=t.playing(o);s&&t.pause(o,!0),d._seek=e,d._ended=!1,t._clearTimer(o),t._webAudio||!d._node||isNaN(d._node.duration)||(d._node.currentTime=e);var l=function(){t._emit(\"seek\",o),s&&t.play(o,!0)};if(s&&!t._webAudio){var c=function(){t._playLock?setTimeout(c,0):l()};setTimeout(c,0)}else l()}return t},playing:function(e){var n=this;if(\"number\"==typeof e){var o=n._soundById(e);return!!o&&!o._paused}for(var t=0;t<n._sounds.length;t++)if(!n._sounds[t]._paused)return!0;return!1},duration:function(e){var n=this,o=n._duration,t=n._soundById(e);return t&&(o=n._sprite[t._sprite][1]/1e3),o},state:function(){return this._state},unload:function(){for(var e=this,o=e._sounds,t=0;t<o.length;t++)o[t]._paused||e.stop(o[t]._id),e._webAudio||(e._clearSound(o[t]._node),o[t]._node.removeEventListener(\"error\",o[t]._errorFn,!1),o[t]._node.removeEventListener(n._canPlayEvent,o[t]._loadFn,!1),o[t]._node.removeEventListener(\"ended\",o[t]._endFn,!1),n._releaseHtml5Audio(o[t]._node)),delete o[t]._node,e._clearTimer(o[t]._id);var a=n._howls.indexOf(e);a>=0&&n._howls.splice(a,1);var u=!0;for(t=0;t<n._howls.length;t++)if(n._howls[t]._src===e._src||e._src.indexOf(n._howls[t]._src)>=0){u=!1;break}return r&&u&&delete r[e._src],n.noAudio=!1,e._state=\"unloaded\",e._sounds=[],e=null,null},on:function(e,n,o,t){var r=this,a=r[\"_on\"+e];return\"function\"==typeof n&&a.push(t?{id:o,fn:n,once:t}:{id:o,fn:n}),r},off:function(e,n,o){var t=this,r=t[\"_on\"+e],a=0;if(\"number\"==typeof n&&(o=n,n=null),n||o)for(a=0;a<r.length;a++){var u=o===r[a].id;if(n===r[a].fn&&u||!n&&u){r.splice(a,1);break}}else if(e)t[\"_on\"+e]=[];else{var d=Object.keys(t);for(a=0;a<d.length;a++)0===d[a].indexOf(\"_on\")&&Array.isArray(t[d[a]])&&(t[d[a]]=[])}return t},once:function(e,n,o){var t=this;return t.on(e,n,o,1),t},_emit:function(e,n,o){for(var t=this,r=t[\"_on\"+e],a=r.length-1;a>=0;a--)r[a].id&&r[a].id!==n&&\"load\"!==e||(setTimeout(function(e){e.call(this,n,o)}.bind(t,r[a].fn),0),r[a].once&&t.off(e,r[a].fn,r[a].id));return t._loadQueue(e),t},_loadQueue:function(e){var n=this;if(n._queue.length>0){var o=n._queue[0];o.event===e&&(n._queue.shift(),n._loadQueue()),e||o.action()}return n},_ended:function(e){var o=this,t=e._sprite;if(!o._webAudio&&e._node&&!e._node.paused&&!e._node.ended&&e._node.currentTime<e._stop)return setTimeout(o._ended.bind(o,e),100),o;var r=!(!e._loop&&!o._sprite[t][2]);if(o._emit(\"end\",e._id),!o._webAudio&&r&&o.stop(e._id,!0).play(e._id),o._webAudio&&r){o._emit(\"play\",e._id),e._seek=e._start||0,e._rateSeek=0,e._playStart=n.ctx.currentTime;var a=1e3*(e._stop-e._start)/Math.abs(e._rate);o._endTimers[e._id]=setTimeout(o._ended.bind(o,e),a)}return o._webAudio&&!r&&(e._paused=!0,e._ended=!0,e._seek=e._start||0,e._rateSeek=0,o._clearTimer(e._id),o._cleanBuffer(e._node),n._autoSuspend()),o._webAudio||r||o.stop(e._id,!0),o},_clearTimer:function(e){var n=this;if(n._endTimers[e]){if(\"function\"!=typeof n._endTimers[e])clearTimeout(n._endTimers[e]);else{var o=n._soundById(e);o&&o._node&&o._node.removeEventListener(\"ended\",n._endTimers[e],!1)}delete n._endTimers[e]}return n},_soundById:function(e){for(var n=this,o=0;o<n._sounds.length;o++)if(e===n._sounds[o]._id)return n._sounds[o];return null},_inactiveSound:function(){var e=this;e._drain();for(var n=0;n<e._sounds.length;n++)if(e._sounds[n]._ended)return e._sounds[n].reset();return new t(e)},_drain:function(){var e=this,n=e._pool,o=0,t=0;if(!(e._sounds.length<n)){for(t=0;t<e._sounds.length;t++)e._sounds[t]._ended&&o++;for(t=e._sounds.length-1;t>=0;t--){if(o<=n)return;e._sounds[t]._ended&&(e._webAudio&&e._sounds[t]._node&&e._sounds[t]._node.disconnect(0),e._sounds.splice(t,1),o--)}}},_getSoundIds:function(e){var n=this;if(void 0===e){for(var o=[],t=0;t<n._sounds.length;t++)o.push(n._sounds[t]._id);return o}return[e]},_refreshBuffer:function(e){var o=this;return e._node.bufferSource=n.ctx.createBufferSource(),e._node.bufferSource.buffer=r[o._src],e._panner?e._node.bufferSource.connect(e._panner):e._node.bufferSource.connect(e._node),e._node.bufferSource.loop=e._loop,e._loop&&(e._node.bufferSource.loopStart=e._start||0,e._node.bufferSource.loopEnd=e._stop||0),e._node.bufferSource.playbackRate.setValueAtTime(e._rate,n.ctx.currentTime),o},_cleanBuffer:function(e){var o=this,t=n._navigator&&n._navigator.vendor.indexOf(\"Apple\")>=0;if(n._scratchBuffer&&e.bufferSource&&(e.bufferSource.onended=null,e.bufferSource.disconnect(0),t))try{e.bufferSource.buffer=n._scratchBuffer}catch(e){}return e.bufferSource=null,o},_clearSound:function(e){/MSIE |Trident\\//.test(n._navigator&&n._navigator.userAgent)||(e.src=\"data:audio/wav;base64,UklGRigAAABXQVZFZm10IBIAAAABAAEARKwAAIhYAQACABAAAABkYXRhAgAAAAEA\")}};var t=function(e){this._parent=e,this.init()};t.prototype={init:function(){var e=this,o=e._parent;return e._muted=o._muted,e._loop=o._loop,e._volume=o._volume,e._rate=o._rate,e._seek=0,e._paused=!0,e._ended=!0,e._sprite=\"__default\",e._id=++n._counter,o._sounds.push(e),e.create(),e},create:function(){var e=this,o=e._parent,t=n._muted||e._muted||e._parent._muted?0:e._volume;return o._webAudio?(e._node=void 0===n.ctx.createGain?n.ctx.createGainNode():n.ctx.createGain(),e._node.gain.setValueAtTime(t,n.ctx.currentTime),e._node.paused=!0,e._node.connect(n.masterGain)):n.noAudio||(e._node=n._obtainHtml5Audio(),e._errorFn=e._errorListener.bind(e),e._node.addEventListener(\"error\",e._errorFn,!1),e._loadFn=e._loadListener.bind(e),e._node.addEventListener(n._canPlayEvent,e._loadFn,!1),e._endFn=e._endListener.bind(e),e._node.addEventListener(\"ended\",e._endFn,!1),e._node.src=o._src,e._node.preload=!0===o._preload?\"auto\":o._preload,e._node.volume=t*n.volume(),e._node.load()),e},reset:function(){var e=this,o=e._parent;return e._muted=o._muted,e._loop=o._loop,e._volume=o._volume,e._rate=o._rate,e._seek=0,e._rateSeek=0,e._paused=!0,e._ended=!0,e._sprite=\"__default\",e._id=++n._counter,e},_errorListener:function(){var e=this;e._parent._emit(\"loaderror\",e._id,e._node.error?e._node.error.code:0),e._node.removeEventListener(\"error\",e._errorFn,!1)},_loadListener:function(){var e=this,o=e._parent;o._duration=Math.ceil(10*e._node.duration)/10,0===Object.keys(o._sprite).length&&(o._sprite={__default:[0,1e3*o._duration]}),\"loaded\"!==o._state&&(o._state=\"loaded\",o._emit(\"load\"),o._loadQueue()),e._node.removeEventListener(n._canPlayEvent,e._loadFn,!1)},_endListener:function(){var e=this,n=e._parent;n._duration===1/0&&(n._duration=Math.ceil(10*e._node.duration)/10,n._sprite.__default[1]===1/0&&(n._sprite.__default[1]=1e3*n._duration),n._ended(e)),e._node.removeEventListener(\"ended\",e._endFn,!1)}};var r={},a=function(e){var n=e._src;if(r[n])return e._duration=r[n].duration,void i(e);if(/^data:[^;]+;base64,/.test(n)){for(var o=atob(n.split(\",\")[1]),t=new Uint8Array(o.length),a=0;a<o.length;++a)t[a]=o.charCodeAt(a);d(t.buffer,e)}else{var _=new XMLHttpRequest;_.open(e._xhr.method,n,!0),_.withCredentials=e._xhr.withCredentials,_.responseType=\"arraybuffer\",e._xhr.headers&&Object.keys(e._xhr.headers).forEach(function(n){_.setRequestHeader(n,e._xhr.headers[n])}),_.onload=function(){var n=(_.status+\"\")[0];if(\"0\"!==n&&\"2\"!==n&&\"3\"!==n)return void e._emit(\"loaderror\",null,\"Failed loading audio file with status: \"+_.status+\".\");d(_.response,e)},_.onerror=function(){e._webAudio&&(e._html5=!0,e._webAudio=!1,e._sounds=[],delete r[n],e.load())},u(_)}},u=function(e){try{e.send()}catch(n){e.onerror()}},d=function(e,o){var t=function(){o._emit(\"loaderror\",null,\"Decoding audio data failed.\")},a=function(e){e&&o._sounds.length>0?(r[o._src]=e,i(o,e)):t()};\"undefined\"!=typeof Promise&&1===n.ctx.decodeAudioData.length?n.ctx.decodeAudioData(e).then(a).catch(t):n.ctx.decodeAudioData(e,a,t)},i=function(e,n){n&&!e._duration&&(e._duration=n.duration),0===Object.keys(e._sprite).length&&(e._sprite={__default:[0,1e3*e._duration]}),\"loaded\"!==e._state&&(e._state=\"loaded\",e._emit(\"load\"),e._loadQueue())},_=function(){if(n.usingWebAudio){try{\"undefined\"!=typeof AudioContext?n.ctx=new AudioContext:\"undefined\"!=typeof webkitAudioContext?n.ctx=new webkitAudioContext:n.usingWebAudio=!1}catch(e){n.usingWebAudio=!1}n.ctx||(n.usingWebAudio=!1);var e=/iP(hone|od|ad)/.test(n._navigator&&n._navigator.platform),o=n._navigator&&n._navigator.appVersion.match(/OS (\\d+)_(\\d+)_?(\\d+)?/),t=o?parseInt(o[1],10):null;if(e&&t&&t<9){var r=/safari/.test(n._navigator&&n._navigator.userAgent.toLowerCase());n._navigator&&!r&&(n.usingWebAudio=!1)}n.usingWebAudio&&(n.masterGain=void 0===n.ctx.createGain?n.ctx.createGainNode():n.ctx.createGain(),n.masterGain.gain.setValueAtTime(n._muted?0:n._volume,n.ctx.currentTime),n.masterGain.connect(n.ctx.destination)),n._setup()}};\"function\"==typeof define&&define.amd&&define([],function(){return{Howler:n,Howl:o}}),\"undefined\"!=typeof exports&&(exports.Howler=n,exports.Howl=o),\"undefined\"!=typeof global?(global.HowlerGlobal=e,global.Howler=n,global.Howl=o,global.Sound=t):\"undefined\"!=typeof window&&(window.HowlerGlobal=e,window.Howler=n,window.Howl=o,window.Sound=t)}();\n",
       "/*! Spatial Plugin */\n",
       "!function(){\"use strict\";HowlerGlobal.prototype._pos=[0,0,0],HowlerGlobal.prototype._orientation=[0,0,-1,0,1,0],HowlerGlobal.prototype.stereo=function(e){var n=this;if(!n.ctx||!n.ctx.listener)return n;for(var t=n._howls.length-1;t>=0;t--)n._howls[t].stereo(e);return n},HowlerGlobal.prototype.pos=function(e,n,t){var r=this;return r.ctx&&r.ctx.listener?(n=\"number\"!=typeof n?r._pos[1]:n,t=\"number\"!=typeof t?r._pos[2]:t,\"number\"!=typeof e?r._pos:(r._pos=[e,n,t],void 0!==r.ctx.listener.positionX?(r.ctx.listener.positionX.setTargetAtTime(r._pos[0],Howler.ctx.currentTime,.1),r.ctx.listener.positionY.setTargetAtTime(r._pos[1],Howler.ctx.currentTime,.1),r.ctx.listener.positionZ.setTargetAtTime(r._pos[2],Howler.ctx.currentTime,.1)):r.ctx.listener.setPosition(r._pos[0],r._pos[1],r._pos[2]),r)):r},HowlerGlobal.prototype.orientation=function(e,n,t,r,o,i){var a=this;if(!a.ctx||!a.ctx.listener)return a;var s=a._orientation;return n=\"number\"!=typeof n?s[1]:n,t=\"number\"!=typeof t?s[2]:t,r=\"number\"!=typeof r?s[3]:r,o=\"number\"!=typeof o?s[4]:o,i=\"number\"!=typeof i?s[5]:i,\"number\"!=typeof e?s:(a._orientation=[e,n,t,r,o,i],void 0!==a.ctx.listener.forwardX?(a.ctx.listener.forwardX.setTargetAtTime(e,Howler.ctx.currentTime,.1),a.ctx.listener.forwardY.setTargetAtTime(n,Howler.ctx.currentTime,.1),a.ctx.listener.forwardZ.setTargetAtTime(t,Howler.ctx.currentTime,.1),a.ctx.listener.upX.setTargetAtTime(r,Howler.ctx.currentTime,.1),a.ctx.listener.upY.setTargetAtTime(o,Howler.ctx.currentTime,.1),a.ctx.listener.upZ.setTargetAtTime(i,Howler.ctx.currentTime,.1)):a.ctx.listener.setOrientation(e,n,t,r,o,i),a)},Howl.prototype.init=function(e){return function(n){var t=this;return t._orientation=n.orientation||[1,0,0],t._stereo=n.stereo||null,t._pos=n.pos||null,t._pannerAttr={coneInnerAngle:void 0!==n.coneInnerAngle?n.coneInnerAngle:360,coneOuterAngle:void 0!==n.coneOuterAngle?n.coneOuterAngle:360,coneOuterGain:void 0!==n.coneOuterGain?n.coneOuterGain:0,distanceModel:void 0!==n.distanceModel?n.distanceModel:\"inverse\",maxDistance:void 0!==n.maxDistance?n.maxDistance:1e4,panningModel:void 0!==n.panningModel?n.panningModel:\"HRTF\",refDistance:void 0!==n.refDistance?n.refDistance:1,rolloffFactor:void 0!==n.rolloffFactor?n.rolloffFactor:1},t._onstereo=n.onstereo?[{fn:n.onstereo}]:[],t._onpos=n.onpos?[{fn:n.onpos}]:[],t._onorientation=n.onorientation?[{fn:n.onorientation}]:[],e.call(this,n)}}(Howl.prototype.init),Howl.prototype.stereo=function(n,t){var r=this;if(!r._webAudio)return r;if(\"loaded\"!==r._state)return r._queue.push({event:\"stereo\",action:function(){r.stereo(n,t)}}),r;var o=void 0===Howler.ctx.createStereoPanner?\"spatial\":\"stereo\";if(void 0===t){if(\"number\"!=typeof n)return r._stereo;r._stereo=n,r._pos=[n,0,0]}for(var i=r._getSoundIds(t),a=0;a<i.length;a++){var s=r._soundById(i[a]);if(s){if(\"number\"!=typeof n)return s._stereo;s._stereo=n,s._pos=[n,0,0],s._node&&(s._pannerAttr.panningModel=\"equalpower\",s._panner&&s._panner.pan||e(s,o),\"spatial\"===o?void 0!==s._panner.positionX?(s._panner.positionX.setValueAtTime(n,Howler.ctx.currentTime),s._panner.positionY.setValueAtTime(0,Howler.ctx.currentTime),s._panner.positionZ.setValueAtTime(0,Howler.ctx.currentTime)):s._panner.setPosition(n,0,0):s._panner.pan.setValueAtTime(n,Howler.ctx.currentTime)),r._emit(\"stereo\",s._id)}}return r},Howl.prototype.pos=function(n,t,r,o){var i=this;if(!i._webAudio)return i;if(\"loaded\"!==i._state)return i._queue.push({event:\"pos\",action:function(){i.pos(n,t,r,o)}}),i;if(t=\"number\"!=typeof t?0:t,r=\"number\"!=typeof r?-.5:r,void 0===o){if(\"number\"!=typeof n)return i._pos;i._pos=[n,t,r]}for(var a=i._getSoundIds(o),s=0;s<a.length;s++){var p=i._soundById(a[s]);if(p){if(\"number\"!=typeof n)return p._pos;p._pos=[n,t,r],p._node&&(p._panner&&!p._panner.pan||e(p,\"spatial\"),void 0!==p._panner.positionX?(p._panner.positionX.setValueAtTime(n,Howler.ctx.currentTime),p._panner.positionY.setValueAtTime(t,Howler.ctx.currentTime),p._panner.positionZ.setValueAtTime(r,Howler.ctx.currentTime)):p._panner.setPosition(n,t,r)),i._emit(\"pos\",p._id)}}return i},Howl.prototype.orientation=function(n,t,r,o){var i=this;if(!i._webAudio)return i;if(\"loaded\"!==i._state)return i._queue.push({event:\"orientation\",action:function(){i.orientation(n,t,r,o)}}),i;if(t=\"number\"!=typeof t?i._orientation[1]:t,r=\"number\"!=typeof r?i._orientation[2]:r,void 0===o){if(\"number\"!=typeof n)return i._orientation;i._orientation=[n,t,r]}for(var a=i._getSoundIds(o),s=0;s<a.length;s++){var p=i._soundById(a[s]);if(p){if(\"number\"!=typeof n)return p._orientation;p._orientation=[n,t,r],p._node&&(p._panner||(p._pos||(p._pos=i._pos||[0,0,-.5]),e(p,\"spatial\")),void 0!==p._panner.orientationX?(p._panner.orientationX.setValueAtTime(n,Howler.ctx.currentTime),p._panner.orientationY.setValueAtTime(t,Howler.ctx.currentTime),p._panner.orientationZ.setValueAtTime(r,Howler.ctx.currentTime)):p._panner.setOrientation(n,t,r)),i._emit(\"orientation\",p._id)}}return i},Howl.prototype.pannerAttr=function(){var n,t,r,o=this,i=arguments;if(!o._webAudio)return o;if(0===i.length)return o._pannerAttr;if(1===i.length){if(\"object\"!=typeof i[0])return r=o._soundById(parseInt(i[0],10)),r?r._pannerAttr:o._pannerAttr;n=i[0],void 0===t&&(n.pannerAttr||(n.pannerAttr={coneInnerAngle:n.coneInnerAngle,coneOuterAngle:n.coneOuterAngle,coneOuterGain:n.coneOuterGain,distanceModel:n.distanceModel,maxDistance:n.maxDistance,refDistance:n.refDistance,rolloffFactor:n.rolloffFactor,panningModel:n.panningModel}),o._pannerAttr={coneInnerAngle:void 0!==n.pannerAttr.coneInnerAngle?n.pannerAttr.coneInnerAngle:o._coneInnerAngle,coneOuterAngle:void 0!==n.pannerAttr.coneOuterAngle?n.pannerAttr.coneOuterAngle:o._coneOuterAngle,coneOuterGain:void 0!==n.pannerAttr.coneOuterGain?n.pannerAttr.coneOuterGain:o._coneOuterGain,distanceModel:void 0!==n.pannerAttr.distanceModel?n.pannerAttr.distanceModel:o._distanceModel,maxDistance:void 0!==n.pannerAttr.maxDistance?n.pannerAttr.maxDistance:o._maxDistance,refDistance:void 0!==n.pannerAttr.refDistance?n.pannerAttr.refDistance:o._refDistance,rolloffFactor:void 0!==n.pannerAttr.rolloffFactor?n.pannerAttr.rolloffFactor:o._rolloffFactor,panningModel:void 0!==n.pannerAttr.panningModel?n.pannerAttr.panningModel:o._panningModel})}else 2===i.length&&(n=i[0],t=parseInt(i[1],10));for(var a=o._getSoundIds(t),s=0;s<a.length;s++)if(r=o._soundById(a[s])){var p=r._pannerAttr;p={coneInnerAngle:void 0!==n.coneInnerAngle?n.coneInnerAngle:p.coneInnerAngle,coneOuterAngle:void 0!==n.coneOuterAngle?n.coneOuterAngle:p.coneOuterAngle,coneOuterGain:void 0!==n.coneOuterGain?n.coneOuterGain:p.coneOuterGain,distanceModel:void 0!==n.distanceModel?n.distanceModel:p.distanceModel,maxDistance:void 0!==n.maxDistance?n.maxDistance:p.maxDistance,refDistance:void 0!==n.refDistance?n.refDistance:p.refDistance,rolloffFactor:void 0!==n.rolloffFactor?n.rolloffFactor:p.rolloffFactor,panningModel:void 0!==n.panningModel?n.panningModel:p.panningModel};var c=r._panner;c?(c.coneInnerAngle=p.coneInnerAngle,c.coneOuterAngle=p.coneOuterAngle,c.coneOuterGain=p.coneOuterGain,c.distanceModel=p.distanceModel,c.maxDistance=p.maxDistance,c.refDistance=p.refDistance,c.rolloffFactor=p.rolloffFactor,c.panningModel=p.panningModel):(r._pos||(r._pos=o._pos||[0,0,-.5]),e(r,\"spatial\"))}return o},Sound.prototype.init=function(e){return function(){var n=this,t=n._parent;n._orientation=t._orientation,n._stereo=t._stereo,n._pos=t._pos,n._pannerAttr=t._pannerAttr,e.call(this),n._stereo?t.stereo(n._stereo):n._pos&&t.pos(n._pos[0],n._pos[1],n._pos[2],n._id)}}(Sound.prototype.init),Sound.prototype.reset=function(e){return function(){var n=this,t=n._parent;return n._orientation=t._orientation,n._stereo=t._stereo,n._pos=t._pos,n._pannerAttr=t._pannerAttr,n._stereo?t.stereo(n._stereo):n._pos?t.pos(n._pos[0],n._pos[1],n._pos[2],n._id):n._panner&&(n._panner.disconnect(0),n._panner=void 0,t._refreshBuffer(n)),e.call(this)}}(Sound.prototype.reset);var e=function(e,n){n=n||\"spatial\",\"spatial\"===n?(e._panner=Howler.ctx.createPanner(),e._panner.coneInnerAngle=e._pannerAttr.coneInnerAngle,e._panner.coneOuterAngle=e._pannerAttr.coneOuterAngle,e._panner.coneOuterGain=e._pannerAttr.coneOuterGain,e._panner.distanceModel=e._pannerAttr.distanceModel,e._panner.maxDistance=e._pannerAttr.maxDistance,e._panner.refDistance=e._pannerAttr.refDistance,e._panner.rolloffFactor=e._pannerAttr.rolloffFactor,e._panner.panningModel=e._pannerAttr.panningModel,void 0!==e._panner.positionX?(e._panner.positionX.setValueAtTime(e._pos[0],Howler.ctx.currentTime),e._panner.positionY.setValueAtTime(e._pos[1],Howler.ctx.currentTime),e._panner.positionZ.setValueAtTime(e._pos[2],Howler.ctx.currentTime)):e._panner.setPosition(e._pos[0],e._pos[1],e._pos[2]),void 0!==e._panner.orientationX?(e._panner.orientationX.setValueAtTime(e._orientation[0],Howler.ctx.currentTime),e._panner.orientationY.setValueAtTime(e._orientation[1],Howler.ctx.currentTime),e._panner.orientationZ.setValueAtTime(e._orientation[2],Howler.ctx.currentTime)):e._panner.setOrientation(e._orientation[0],e._orientation[1],e._orientation[2])):(e._panner=Howler.ctx.createStereoPanner(),e._panner.pan.setValueAtTime(e._stereo,Howler.ctx.currentTime)),e._panner.connect(e._node),e._paused||e._parent.pause(e._id,!0).play(e._id,!0)}}();"
      ],
      "text/plain": [
       "<IPython.core.display.Javascript object>"
      ]
     },
     "metadata": {},
     "output_type": "display_data"
    }
   ],
   "source": [
    "display(Javascript(\"https://cdnjs.cloudflare.com/ajax/libs/howler/2.2.1/howler.min.js\"))"
   ]
  },
  {
   "cell_type": "code",
   "execution_count": 49,
   "id": "fff190f9-b08f-48f3-a042-dee557dd4886",
   "metadata": {},
   "outputs": [
    {
     "data": {
      "application/javascript": [
       "(function() {\n",
       "    'use strict';\n",
       "    \n",
       "    var sound42 = new Howl({\n",
       "        src: ['../do.wav']\n",
       "    });\n",
       "\n",
       "    alert(\"hello\");\n",
       "\n",
       "    sound42.play();\n",
       "})()"
      ],
      "text/plain": [
       "<IPython.core.display.Javascript object>"
      ]
     },
     "metadata": {},
     "output_type": "display_data"
    }
   ],
   "source": [
    "display(Javascript(\"test.js\"))"
   ]
  },
  {
   "cell_type": "code",
   "execution_count": 16,
   "id": "0255941c-fec5-453b-8957-9c85e4ffe70d",
   "metadata": {
    "tags": []
   },
   "outputs": [
    {
     "data": {
      "application/javascript": [
       "var sound42 = new Howl({\n",
       "    src: ['../do.wav']\n",
       "});\n",
       "\n",
       "alert(\"hello\");\n",
       "\n",
       "sound42.play();"
      ],
      "text/plain": [
       "<IPython.core.display.Javascript object>"
      ]
     },
     "metadata": {},
     "output_type": "display_data"
    }
   ],
   "source": [
    "display(Javascript(load))"
   ]
  },
  {
   "cell_type": "code",
   "execution_count": 21,
   "id": "439c82f6-2647-4aa5-a71b-8ee0f276a520",
   "metadata": {},
   "outputs": [
    {
     "data": {
      "application/javascript": [
       "sound26.play();"
      ],
      "text/plain": [
       "<IPython.core.display.Javascript object>"
      ]
     },
     "metadata": {},
     "output_type": "display_data"
    }
   ],
   "source": [
    "display(Javascript(\"sound{id}.play();\".format(id=26)))"
   ]
  },
  {
   "cell_type": "code",
   "execution_count": 18,
   "id": "chief-contrary",
   "metadata": {},
   "outputs": [
    {
     "data": {
      "application/javascript": [
       "var abc = 0;"
      ],
      "text/plain": [
       "<IPython.core.display.Javascript object>"
      ]
     },
     "metadata": {},
     "output_type": "display_data"
    }
   ],
   "source": [
    "display(Javascript(\"var abc = 0;\"))"
   ]
  },
  {
   "cell_type": "code",
   "execution_count": 1,
   "id": "c5d9bcea-c55f-4bee-947b-fae397728d8f",
   "metadata": {},
   "outputs": [],
   "source": [
    "import jp_proxy_widget"
   ]
  },
  {
   "cell_type": "code",
   "execution_count": 2,
   "id": "d9304dfb-4e24-4753-a45a-049a18c4f06c",
   "metadata": {},
   "outputs": [],
   "source": [
    "widget = jp_proxy_widget.JSProxyWidget()"
   ]
  },
  {
   "cell_type": "code",
   "execution_count": 3,
   "id": "c2eefb84-8b84-4d36-9659-76161dd2cb26",
   "metadata": {},
   "outputs": [],
   "source": [
    "js = \"https://cdnjs.cloudflare.com/ajax/libs/howler/2.2.1/howler.min.js\""
   ]
  },
  {
   "cell_type": "code",
   "execution_count": 4,
   "id": "c7eb7f60-453a-4407-8aae-30419fcc436b",
   "metadata": {},
   "outputs": [],
   "source": [
    "widget.load_js_files([js])"
   ]
  },
  {
   "cell_type": "code",
   "execution_count": 5,
   "id": "a6af40b9-88c0-45f7-81c1-9c401692e4a2",
   "metadata": {},
   "outputs": [],
   "source": [
    "widget.js_init(\"\"\"\n",
    "var sound43 = new Howl({\n",
    "    src: [\"../../do.wav\"]\n",
    "});\n",
    "\n",
    "sound43.play();\n",
    "\"\"\")"
   ]
  },
  {
   "cell_type": "code",
   "execution_count": 6,
   "id": "d87fd89a-c1bb-4774-8da0-b951f4e5000c",
   "metadata": {},
   "outputs": [
    {
     "data": {
      "text/plain": [
       "['method', <class 'jp_proxy_widget.proxy_widget.CommandMaker'>::140100157481552, 'html', '<h1>Hello, world !</h1>']"
      ]
     },
     "execution_count": 6,
     "metadata": {},
     "output_type": "execute_result"
    }
   ],
   "source": [
    "widget.element.html(\"<h1>Hello, world !</h1>\")"
   ]
  },
  {
   "cell_type": "code",
   "execution_count": 7,
   "id": "eea69512-c946-45d5-ae8c-e1f41acfac41",
   "metadata": {},
   "outputs": [
    {
     "data": {
      "application/vnd.jupyter.widget-view+json": {
       "model_id": "b7a14f10445c4d32bad8397df6fb9b13",
       "version_major": 2,
       "version_minor": 0
      },
      "text/plain": [
       "JSProxyWidget(status='deferring flush until render')"
      ]
     },
     "metadata": {},
     "output_type": "display_data"
    }
   ],
   "source": [
    "widget"
   ]
  },
  {
   "cell_type": "code",
   "execution_count": 21,
   "id": "e909b471-4180-4cdb-a35c-4007419b8329",
   "metadata": {},
   "outputs": [],
   "source": [
    "def play(url):\n",
    "    widget = jp_proxy_widget.JSProxyWidget()\n",
    "    js = \"https://cdnjs.cloudflare.com/ajax/libs/howler/2.2.1/howler.min.js\"\n",
    "    widget.load_js_files([js])\n",
    "    widget.js_init(\"\"\"\n",
    "        var sound43 = new Howl({\n",
    "            src: [url]\n",
    "        });\n",
    "        \n",
    "        window.sound43 = sound43;\n",
    "\n",
    "        sound43.play();\n",
    "        \"\"\", url=url)\n",
    "    widget.element.html(\"<h2>Play</h2>\")\n",
    "    display(widget)"
   ]
  },
  {
   "cell_type": "code",
   "execution_count": 22,
   "id": "554a8396-4792-4855-903d-9d00be1d1e60",
   "metadata": {},
   "outputs": [
    {
     "data": {
      "application/vnd.jupyter.widget-view+json": {
       "model_id": "346180d73869467393a98a106356ac51",
       "version_major": 2,
       "version_minor": 0
      },
      "text/plain": [
       "JSProxyWidget(status='deferring flush until render')"
      ]
     },
     "metadata": {},
     "output_type": "display_data"
    }
   ],
   "source": [
    "play(\"../do.wav\")"
   ]
  },
  {
   "cell_type": "code",
   "execution_count": null,
   "id": "2062478a-f0b6-40cb-b954-814e74a319cc",
   "metadata": {},
   "outputs": [],
   "source": []
  },
  {
   "cell_type": "code",
   "execution_count": 92,
   "id": "4f24e473-01c4-4ded-a7ba-fee45d24168f",
   "metadata": {},
   "outputs": [],
   "source": [
    "widget = jp_proxy_widget.JSProxyWidget()"
   ]
  },
  {
   "cell_type": "code",
   "execution_count": 123,
   "id": "bb3c778d-8f6c-43c2-8644-7f3e550d1f86",
   "metadata": {},
   "outputs": [],
   "source": [
    "js = \"https://unpkg.com/wavesurfer.js\"\n",
    "url = \"http://ia902606.us.archive.org/35/items/shortpoetry_047_librivox/song_cjrg_teasdale_64kb.mp3\"\n",
    "# url = \"http://www.kozco.com/tech/piano2.wav\"\n",
    "# url = \"https://www.kozco.com/tech/piano2-CoolEdit.mp3\""
   ]
  },
  {
   "cell_type": "code",
   "execution_count": 94,
   "id": "25e57eb8-4923-44f6-a393-c4f235c3dc4d",
   "metadata": {},
   "outputs": [],
   "source": [
    "widget.load_js_files([js])"
   ]
  },
  {
   "cell_type": "code",
   "execution_count": 124,
   "id": "4d2dc20e-3a80-40f1-9817-d69ac9d2b946",
   "metadata": {},
   "outputs": [],
   "source": [
    "widget.js_init(\"\"\"\n",
    "element.empty();\n",
    "\n",
    "element.wavesurfer = WaveSurfer.create({\n",
    "    container: element[0]\n",
    "});\n",
    "\n",
    "element.wavesurfer.load(url);\n",
    "\n",
    "element.wavesurfer.on('ready', function() {\n",
    "    element.wavesurfer.play();\n",
    "});\n",
    "\"\"\", url=url)"
   ]
  },
  {
   "cell_type": "code",
   "execution_count": 96,
   "id": "68cca088-bef0-49c9-89bb-4582e42d01de",
   "metadata": {},
   "outputs": [
    {
     "data": {
      "application/vnd.jupyter.widget-view+json": {
       "model_id": "6ae217e8da544b338194a8a1d7ba7711",
       "version_major": 2,
       "version_minor": 0
      },
      "text/plain": [
       "JSProxyWidget(status='deferring flush until render')"
      ]
     },
     "metadata": {},
     "output_type": "display_data"
    }
   ],
   "source": [
    "widget"
   ]
  },
  {
   "cell_type": "code",
   "execution_count": 127,
   "id": "f0063d6f-92a6-4abe-ba2d-859e39156e20",
   "metadata": {},
   "outputs": [
    {
     "data": {
      "text/plain": [
       "['method', ['get', <class 'jp_proxy_widget.proxy_widget.CommandMaker'>::140098513987952, 'wavesurfer'], 'pause']"
      ]
     },
     "execution_count": 127,
     "metadata": {},
     "output_type": "execute_result"
    }
   ],
   "source": [
    "widget.element.wavesurfer.pause()"
   ]
  },
  {
   "cell_type": "code",
   "execution_count": 126,
   "id": "2bab2d91-799c-4df1-9d01-fd97e8bf16d8",
   "metadata": {},
   "outputs": [
    {
     "data": {
      "text/plain": [
       "['method', ['get', <class 'jp_proxy_widget.proxy_widget.CommandMaker'>::140098513987952, 'wavesurfer'], 'play']"
      ]
     },
     "execution_count": 126,
     "metadata": {},
     "output_type": "execute_result"
    }
   ],
   "source": [
    "widget.element.wavesurfer.play()"
   ]
  },
  {
   "cell_type": "code",
   "execution_count": null,
   "id": "9b23cc5c-93f4-4456-9ce8-18489046419d",
   "metadata": {},
   "outputs": [],
   "source": []
  },
  {
   "cell_type": "code",
   "execution_count": 193,
   "id": "c24ec40c-9197-429b-b14f-65f00c3a0e32",
   "metadata": {},
   "outputs": [],
   "source": []
  },
  {
   "cell_type": "markdown",
   "id": "1e79fb68-021c-497b-b678-84158200e56e",
   "metadata": {},
   "source": [
    "# Un début de solution qui fonctionne"
   ]
  },
  {
   "cell_type": "code",
   "execution_count": 329,
   "id": "f712b9e1-7c59-4c2f-99ba-89fcdc390321",
   "metadata": {},
   "outputs": [],
   "source": [
    "from IPython.display import display\n",
    "import base64\n",
    "import jp_proxy_widget"
   ]
  },
  {
   "cell_type": "code",
   "execution_count": 273,
   "id": "5c9f40e9-4f06-47ae-80b1-b32364031354",
   "metadata": {},
   "outputs": [],
   "source": [
    "widget = jp_proxy_widget.JSProxyWidget()"
   ]
  },
  {
   "cell_type": "code",
   "execution_count": 274,
   "id": "a7bb8757-6ccc-4dba-a6fe-d8a94350a88d",
   "metadata": {},
   "outputs": [],
   "source": [
    "js = \"https://unpkg.com/wavesurfer.js\"\n",
    "js = \"https://cdnjs.cloudflare.com/ajax/libs/howler/2.2.1/howler.min.js\"\n",
    "url = \"http://ia902606.us.archive.org/35/items/shortpoetry_047_librivox/song_cjrg_teasdale_64kb.mp3\"\n",
    "url = \"https://www.kozco.com/tech/piano2-CoolEdit.mp3\""
   ]
  },
  {
   "cell_type": "code",
   "execution_count": 275,
   "id": "557ddc5a-cfc5-4c59-a894-5b02eeff6157",
   "metadata": {},
   "outputs": [],
   "source": [
    "widget.load_js_files([js])"
   ]
  },
  {
   "cell_type": "code",
   "execution_count": 276,
   "id": "47d825b9-e232-4969-a081-8d96dcbda2da",
   "metadata": {},
   "outputs": [],
   "source": [
    "f = open('../../do.wav', 'rb')\n",
    "data = f.read()\n",
    "encoded = base64.b64encode(data)"
   ]
  },
  {
   "cell_type": "code",
   "execution_count": 252,
   "id": "f4a089f4-ae34-4215-b286-1635282fc574",
   "metadata": {},
   "outputs": [],
   "source": [
    "url = 'data:audio/x-wav;base64,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'"
   ]
  },
  {
   "cell_type": "code",
   "execution_count": 277,
   "id": "f508dbdf-449a-4779-82b6-bffb36be38e4",
   "metadata": {},
   "outputs": [],
   "source": [
    "url = 'data:audio/x-wav;base64,' + str(encoded)[2:-1]"
   ]
  },
  {
   "cell_type": "code",
   "execution_count": 278,
   "id": "ce12b612-145d-4eed-907f-0520c2c3ac4a",
   "metadata": {},
   "outputs": [],
   "source": [
    "widget.js_init(\"\"\"\n",
    "element.empty();\n",
    "\n",
    "element.sound = new Howl({\n",
    "    src: [url]\n",
    "});\n",
    "        \n",
    "element.sound.play();\n",
    "\"\"\", url=url)"
   ]
  },
  {
   "cell_type": "code",
   "execution_count": 279,
   "id": "908e9039-c0bf-44de-a9b9-c83a80607dcc",
   "metadata": {},
   "outputs": [
    {
     "data": {
      "application/vnd.jupyter.widget-view+json": {
       "model_id": "b038e0cbee614b63a8cb73742c220b31",
       "version_major": 2,
       "version_minor": 0
      },
      "text/plain": [
       "JSProxyWidget(status='deferring flush until render')"
      ]
     },
     "metadata": {},
     "output_type": "display_data"
    }
   ],
   "source": [
    "widget"
   ]
  },
  {
   "cell_type": "code",
   "execution_count": 247,
   "id": "e0fcc252-2ca0-42a5-bed9-c8980ded6496",
   "metadata": {},
   "outputs": [
    {
     "data": {
      "text/plain": [
       "['method', ['get', <class 'jp_proxy_widget.proxy_widget.CommandMaker'>::140098519894384, 'sound'], 'pause']"
      ]
     },
     "execution_count": 247,
     "metadata": {},
     "output_type": "execute_result"
    }
   ],
   "source": [
    "widget.element.sound.pause()"
   ]
  },
  {
   "cell_type": "code",
   "execution_count": 292,
   "id": "6ca18068-a1fd-447b-8688-297558d184e3",
   "metadata": {},
   "outputs": [
    {
     "data": {
      "text/plain": [
       "['method', ['get', <class 'jp_proxy_widget.proxy_widget.CommandMaker'>::140098516210160, 'sound'], 'play']"
      ]
     },
     "execution_count": 292,
     "metadata": {},
     "output_type": "execute_result"
    }
   ],
   "source": [
    "widget.element.sound.play()"
   ]
  },
  {
   "cell_type": "code",
   "execution_count": null,
   "id": "58b3bb43-9797-4718-af43-faa8da3a8e9a",
   "metadata": {},
   "outputs": [],
   "source": []
  },
  {
   "cell_type": "code",
   "execution_count": null,
   "id": "3717efbc-fc3c-4a93-967f-1c145fb666f0",
   "metadata": {},
   "outputs": [],
   "source": []
  },
  {
   "cell_type": "markdown",
   "id": "23b7a5dc-3dfc-4ffd-af53-a546e743a727",
   "metadata": {},
   "source": [
    "# SOLUTION QUI FONCTIONNE !!!"
   ]
  },
  {
   "cell_type": "code",
   "execution_count": 1,
   "id": "3343f275-613b-44bc-9ede-882af486f829",
   "metadata": {},
   "outputs": [],
   "source": [
    "from IPython.display import display\n",
    "import base64\n",
    "import jp_proxy_widget"
   ]
  },
  {
   "cell_type": "code",
   "execution_count": 6,
   "id": "79d5cd76-3cf2-47bb-a209-79fe37e3f8c8",
   "metadata": {},
   "outputs": [],
   "source": [
    "class Audio():\n",
    "    def __init__(self, filename):\n",
    "        self.widget = jp_proxy_widget.JSProxyWidget()\n",
    "        self.js = \"../../howler.js\"\n",
    "        \n",
    "        self.widget.load_js_files([self.js])\n",
    "        \n",
    "        f = open(filename, 'rb')\n",
    "        data = f.read()\n",
    "        encoded = base64.b64encode(data)\n",
    "        \n",
    "        self.url = 'data:audio/x-wav;base64,' + str(encoded)[2:-1]\n",
    "        \n",
    "        self.widget.js_init(\"\"\"\n",
    "            element.empty();\n",
    "\n",
    "            element.sound = new Howl({\n",
    "                src: [url]\n",
    "            });\n",
    "            \"\"\", url=self.url)\n",
    "        \n",
    "    def display(self):\n",
    "        display(self.widget)\n",
    "        \n",
    "    def play(self):\n",
    "        self.widget.element.sound.play()\n",
    "        \n",
    "    def pause(self):\n",
    "        self.widget.element.sound.pause()"
   ]
  },
  {
   "cell_type": "code",
   "execution_count": 7,
   "id": "692c0db9-8810-4e46-a5a8-9b42637658c4",
   "metadata": {},
   "outputs": [],
   "source": [
    "do = Audio('../../do.wav')"
   ]
  },
  {
   "cell_type": "code",
   "execution_count": 8,
   "id": "3bbed256-f8c2-408d-b2e9-3b9ec85cdcea",
   "metadata": {},
   "outputs": [
    {
     "data": {
      "application/vnd.jupyter.widget-view+json": {
       "model_id": "43c97ed358894d57b504784bc3f09afa",
       "version_major": 2,
       "version_minor": 0
      },
      "text/plain": [
       "JSProxyWidget(status='deferring flush until render')"
      ]
     },
     "metadata": {},
     "output_type": "display_data"
    }
   ],
   "source": [
    "do.display() # il faut afficher le widget (qui est vide, puisqu'il n'exécute que du code en arrière plan)"
   ]
  },
  {
   "cell_type": "code",
   "execution_count": 9,
   "id": "225aecb0-d82e-4a30-83d3-23b79914688f",
   "metadata": {},
   "outputs": [],
   "source": [
    "do.play() # ça fonctionne !!!!!!"
   ]
  },
  {
   "cell_type": "markdown",
   "id": "24a3217d-5dea-4ad1-b147-52b7b8f2a4c2",
   "metadata": {},
   "source": [
    "### Plusieurs fois là même note"
   ]
  },
  {
   "cell_type": "code",
   "execution_count": 10,
   "id": "0c712c47-99e6-4935-90ef-623594f7b052",
   "metadata": {},
   "outputs": [],
   "source": [
    "for i in range(10):\n",
    "    do.play()"
   ]
  },
  {
   "cell_type": "markdown",
   "id": "050686db-205d-4f35-bb1f-f2424cac876a",
   "metadata": {},
   "source": [
    "### On charge une autre note ..."
   ]
  },
  {
   "cell_type": "code",
   "execution_count": 11,
   "id": "41be5235-0fc9-48b0-8d89-a6e414d3f2bc",
   "metadata": {},
   "outputs": [],
   "source": [
    "mi = Audio('../../mi.wav')"
   ]
  },
  {
   "cell_type": "code",
   "execution_count": 12,
   "id": "3fbba41d-ec25-40e0-8572-6ca623dc28d7",
   "metadata": {},
   "outputs": [
    {
     "data": {
      "application/vnd.jupyter.widget-view+json": {
       "model_id": "07594f7ed08840258fb66d641a41ee97",
       "version_major": 2,
       "version_minor": 0
      },
      "text/plain": [
       "JSProxyWidget(status='deferring flush until render')"
      ]
     },
     "metadata": {},
     "output_type": "display_data"
    }
   ],
   "source": [
    "mi.display()"
   ]
  },
  {
   "cell_type": "code",
   "execution_count": 13,
   "id": "833325e5-a751-41e0-b0af-bc2ec3125047",
   "metadata": {},
   "outputs": [],
   "source": [
    "mi.play()"
   ]
  },
  {
   "cell_type": "markdown",
   "id": "488cabc4-d75a-49e0-9cb3-793eb1d21147",
   "metadata": {},
   "source": [
    "### Plusieurs notes en même temps"
   ]
  },
  {
   "cell_type": "code",
   "execution_count": 14,
   "id": "33acc7e5-43ae-4feb-a8f2-0a7bb70fd534",
   "metadata": {},
   "outputs": [],
   "source": [
    "for i in range(10):\n",
    "    if i % 2 == 1:\n",
    "        do.play()\n",
    "    else:\n",
    "        mi.play()"
   ]
  },
  {
   "cell_type": "code",
   "execution_count": null,
   "id": "1c5f29a3-907f-47ea-bf54-fdc379c8155e",
   "metadata": {},
   "outputs": [],
   "source": []
  }
 ],
 "metadata": {
  "kernelspec": {
   "display_name": "Python 3",
   "language": "python",
   "name": "python3"
  },
  "language_info": {
   "codemirror_mode": {
    "name": "ipython",
    "version": 3
   },
   "file_extension": ".py",
   "mimetype": "text/x-python",
   "name": "python",
   "nbconvert_exporter": "python",
   "pygments_lexer": "ipython3",
   "version": "3.9.4"
  }
 },
 "nbformat": 4,
 "nbformat_minor": 5
}
