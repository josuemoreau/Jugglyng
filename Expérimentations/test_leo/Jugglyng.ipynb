{
 "cells": [
  {
   "cell_type": "code",
   "execution_count": 1,
   "metadata": {},
   "outputs": [],
   "source": [
    "%config Completer.use_jedi = False\n",
    "%load_ext autoreload\n",
    "%autoreload 2"
   ]
  },
  {
   "cell_type": "code",
   "execution_count": 15,
   "metadata": {
    "scrolled": true
   },
   "outputs": [],
   "source": [
    "import modele\n",
    "import ipywidgets\n",
    "import pythreejs\n",
    "\n",
    "\"\"\"balls = [{\"color\":\"blue\", \"tone\":\"do\", \"name\":\"do\"}]\n",
    "        #{\"color\":\"red\", \"tone\":\"mi\", \"name\":\"mi\"}]\n",
    "pattern = [\n",
    "    [ [(\"do\", 1, 2)], [], [], [], [], [] ],\n",
    "    [ [], [], [(\"do\", 2, 2)], [], [], [] ],\n",
    "    [ [], [], [], [], [(\"do\", 0, 2)], [] ]  \n",
    "          ]\"\"\"\n",
    "\n",
    "balls = [{\"color\":\"blue\", \"tone\":\"do\", \"name\":\"do\"},\n",
    "        {\"color\":\"red\", \"tone\":\"mi\", \"name\":\"mi\"}]\n",
    "pattern = [\n",
    "    [ [(\"do\", 1, 2)], [], [], [], [], [] ],\n",
    "    [ [(\"mi\", 1, 2)], [], [(\"do\", 2, 2)], [], [], [] ],\n",
    "    [ [], [], [], [], [(\"do\", 0, 2)], [] ]  \n",
    "          ]\n",
    "\n",
    "model = modele.Model(balls, pattern)\n",
    "slider = ipywidgets.FloatSlider(min=0, max=40)\n",
    "#view = modele.View(model, slider.step)\n",
    "#slider.observe(lambda change: view.update(change['new'], change['old']), names=\"value\")\n",
    "#ipywidgets.VBox([view.widget,slider])"
   ]
  },
  {
   "cell_type": "code",
   "execution_count": 10,
   "metadata": {},
   "outputs": [
    {
     "name": "stdout",
     "output_type": "stream",
     "text": [
      "{'balls': (Ball(name='do', color='blue', tone='../../sounds/do.wav', source_hand=0, target_hand=None, time_flying=0, time_to_land=0, number=0, just_landed=False, is_flying=False),\n",
      "           Ball(name='mi', color='red', tone='../../sounds/mi.wav', source_hand=1, target_hand=None, time_flying=0, time_to_land=0, number=1, just_landed=False, is_flying=False)),\n",
      " 'balls_dict': {'do': 0, 'mi': 1},\n",
      " 'nb_hands': 3,\n",
      " 'pattern': [[[(0, 1, 2)], [], [], [], [], []],\n",
      "             [[(1, 1, 2)], [], [(0, 2, 2)], [], [], []],\n",
      "             [[], [], [], [], [(0, 0, 2)], []]],\n",
      " 'pattern_len': 6,\n",
      " 'states': [State(hands=([0], [1], []), balls=[Ball(name='do', color='blue', tone='../../sounds/do.wav', source_hand=0, target_hand=None, time_flying=0, time_to_land=0, number=0, just_landed=False, is_flying=False), Ball(name='mi', color='red', tone='../../sounds/mi.wav', source_hand=1, target_hand=None, time_flying=0, time_to_land=0, number=1, just_landed=False, is_flying=False)])]}\n"
     ]
    }
   ],
   "source": [
    "from pprint import pprint\n",
    "pprint(vars(model))"
   ]
  },
  {
   "cell_type": "code",
   "execution_count": 11,
   "metadata": {},
   "outputs": [
    {
     "ename": "IndexError",
     "evalue": "pop index out of range",
     "output_type": "error",
     "traceback": [
      "\u001b[1;31m---------------------------------------------------------------------------\u001b[0m",
      "\u001b[1;31mIndexError\u001b[0m                                Traceback (most recent call last)",
      "\u001b[1;32m<ipython-input-11-fc0bd0b05143>\u001b[0m in \u001b[0;36m<module>\u001b[1;34m\u001b[0m\n\u001b[1;32m----> 1\u001b[1;33m \u001b[0mmodel\u001b[0m\u001b[1;33m.\u001b[0m\u001b[0mstate\u001b[0m\u001b[1;33m(\u001b[0m\u001b[1;36m5\u001b[0m\u001b[1;33m)\u001b[0m\u001b[1;33m\u001b[0m\u001b[1;33m\u001b[0m\u001b[0m\n\u001b[0m\u001b[0;32m      2\u001b[0m \u001b[1;31m#Le premier lancer est effectué au temps 1.\u001b[0m\u001b[1;33m\u001b[0m\u001b[1;33m\u001b[0m\u001b[1;33m\u001b[0m\u001b[0m\n\u001b[0;32m      3\u001b[0m \u001b[1;31m#Le temps 0 est le temps initial.\u001b[0m\u001b[1;33m\u001b[0m\u001b[1;33m\u001b[0m\u001b[1;33m\u001b[0m\u001b[0m\n",
      "\u001b[1;32mD:\\Stage\\jugglyng\\Expérimentations\\test_leo\\modele.py\u001b[0m in \u001b[0;36mstate\u001b[1;34m(self, t)\u001b[0m\n\u001b[0;32m    201\u001b[0m     \u001b[1;32mdef\u001b[0m \u001b[0mstate\u001b[0m\u001b[1;33m(\u001b[0m\u001b[0mself\u001b[0m\u001b[1;33m,\u001b[0m \u001b[0mt\u001b[0m \u001b[1;33m:\u001b[0m \u001b[0mint\u001b[0m\u001b[1;33m)\u001b[0m\u001b[1;33m:\u001b[0m\u001b[1;33m\u001b[0m\u001b[1;33m\u001b[0m\u001b[0m\n\u001b[0;32m    202\u001b[0m         \u001b[1;32mfor\u001b[0m \u001b[0mt1\u001b[0m \u001b[1;32min\u001b[0m \u001b[0mrange\u001b[0m\u001b[1;33m(\u001b[0m\u001b[0mlen\u001b[0m\u001b[1;33m(\u001b[0m\u001b[0mself\u001b[0m\u001b[1;33m.\u001b[0m\u001b[0mstates\u001b[0m\u001b[1;33m)\u001b[0m\u001b[1;33m-\u001b[0m\u001b[1;36m1\u001b[0m\u001b[1;33m,\u001b[0m \u001b[0mt\u001b[0m\u001b[1;33m)\u001b[0m\u001b[1;33m:\u001b[0m\u001b[1;33m\u001b[0m\u001b[1;33m\u001b[0m\u001b[0m\n\u001b[1;32m--> 203\u001b[1;33m             \u001b[0mself\u001b[0m\u001b[1;33m.\u001b[0m\u001b[0mstates\u001b[0m\u001b[1;33m.\u001b[0m\u001b[0mappend\u001b[0m\u001b[1;33m(\u001b[0m\u001b[0mself\u001b[0m\u001b[1;33m.\u001b[0m\u001b[0mtransition\u001b[0m\u001b[1;33m(\u001b[0m\u001b[0mself\u001b[0m\u001b[1;33m.\u001b[0m\u001b[0mstates\u001b[0m\u001b[1;33m[\u001b[0m\u001b[1;33m-\u001b[0m\u001b[1;36m1\u001b[0m\u001b[1;33m]\u001b[0m\u001b[1;33m,\u001b[0m \u001b[0mself\u001b[0m\u001b[1;33m.\u001b[0m\u001b[0mget_throws\u001b[0m\u001b[1;33m(\u001b[0m\u001b[0mt1\u001b[0m\u001b[1;33m)\u001b[0m\u001b[1;33m)\u001b[0m\u001b[1;33m)\u001b[0m\u001b[1;33m\u001b[0m\u001b[1;33m\u001b[0m\u001b[0m\n\u001b[0m\u001b[0;32m    204\u001b[0m         \u001b[1;32mreturn\u001b[0m \u001b[0mself\u001b[0m\u001b[1;33m.\u001b[0m\u001b[0mstates\u001b[0m\u001b[1;33m[\u001b[0m\u001b[0mt\u001b[0m\u001b[1;33m]\u001b[0m\u001b[1;33m\u001b[0m\u001b[1;33m\u001b[0m\u001b[0m\n\u001b[0;32m    205\u001b[0m \u001b[1;33m\u001b[0m\u001b[0m\n",
      "\u001b[1;32mD:\\Stage\\jugglyng\\Expérimentations\\test_leo\\modele.py\u001b[0m in \u001b[0;36mtransition\u001b[1;34m(self, state, throws)\u001b[0m\n\u001b[0;32m    184\u001b[0m                 \u001b[0mball\u001b[0m \u001b[1;33m=\u001b[0m \u001b[0mballs\u001b[0m\u001b[1;33m[\u001b[0m\u001b[0mthrow\u001b[0m\u001b[1;33m.\u001b[0m\u001b[0mball_number\u001b[0m\u001b[1;33m]\u001b[0m\u001b[1;33m\u001b[0m\u001b[1;33m\u001b[0m\u001b[0m\n\u001b[0;32m    185\u001b[0m                 \u001b[0mhand\u001b[0m \u001b[1;33m=\u001b[0m \u001b[0mhands\u001b[0m\u001b[1;33m[\u001b[0m\u001b[0mthrow\u001b[0m\u001b[1;33m.\u001b[0m\u001b[0msource_hand\u001b[0m\u001b[1;33m]\u001b[0m\u001b[1;33m\u001b[0m\u001b[1;33m\u001b[0m\u001b[0m\n\u001b[1;32m--> 186\u001b[1;33m                 \u001b[0mhand\u001b[0m\u001b[1;33m.\u001b[0m\u001b[0mpop\u001b[0m\u001b[1;33m(\u001b[0m\u001b[0mball\u001b[0m\u001b[1;33m.\u001b[0m\u001b[0mnumber\u001b[0m\u001b[1;33m)\u001b[0m\u001b[1;33m\u001b[0m\u001b[1;33m\u001b[0m\u001b[0m\n\u001b[0m\u001b[0;32m    187\u001b[0m                 \u001b[1;32mif\u001b[0m \u001b[0mthrow\u001b[0m\u001b[1;33m.\u001b[0m\u001b[0mduration\u001b[0m \u001b[1;33m==\u001b[0m \u001b[1;36m0\u001b[0m\u001b[1;33m:\u001b[0m \u001b[1;31m#téléportation !\u001b[0m\u001b[1;33m\u001b[0m\u001b[1;33m\u001b[0m\u001b[0m\n\u001b[0;32m    188\u001b[0m                     \u001b[0mball\u001b[0m\u001b[1;33m.\u001b[0m\u001b[0mjust_landed\u001b[0m \u001b[1;33m=\u001b[0m \u001b[1;32mTrue\u001b[0m\u001b[1;33m\u001b[0m\u001b[1;33m\u001b[0m\u001b[0m\n",
      "\u001b[1;31mIndexError\u001b[0m: pop index out of range"
     ]
    }
   ],
   "source": [
    "model.state(5)\n",
    "#Le premier lancer est effectué au temps 1.\n",
    "#Le temps 0 est le temps initial."
   ]
  },
  {
   "cell_type": "code",
   "execution_count": 4,
   "metadata": {},
   "outputs": [
    {
     "name": "stdout",
     "output_type": "stream",
     "text": [
      "blue:\t 0\n",
      "red:\t 0\n",
      "green:\t 1\n",
      "purple:\t 1\n",
      "\n",
      "blue:\t 0\n",
      "red:\t 0-0-4.1->1\n",
      "green:\t 1\n",
      "purple:\t 1\n",
      "\n",
      "blue:\t 0\n",
      "red:\t 0-1-3.0999999999999996->1\n",
      "green:\t 1\n",
      "purple:\t 1-0-2.1->0\n",
      "\n",
      "blue:\t 0-0-3.1->0\n",
      "red:\t 0-2-2.0999999999999996->1\n",
      "green:\t 1\n",
      "purple:\t 1-1-1.1->0\n",
      "\n",
      "blue:\t 0-1-2.1->0\n",
      "red:\t 0-3-1.0999999999999996->1\n",
      "green:\t 1-0-4.1->0\n",
      "purple:\t 1-2-0.10000000000000009->0\n",
      "\n",
      "blue:\t 0-2-1.1->0\n",
      "red:\t 0-4-0.09999999999999964->1\n",
      "green:\t 1-1-3.0999999999999996->0\n",
      "purple:\t 0-0-2.1->1\n",
      "\n",
      "blue:\t 0-3-0.10000000000000009->0\n",
      "red:\t 1-0-3.1->1\n",
      "green:\t 1-2-2.0999999999999996->0\n",
      "purple:\t 0-1-1.1->1\n",
      "\n",
      "blue:\t 0-0-4.1->1\n",
      "red:\t 1-1-2.1->1\n",
      "green:\t 1-3-1.0999999999999996->0\n",
      "purple:\t 0-2-0.10000000000000009->1\n",
      "\n",
      "blue:\t 0-1-3.0999999999999996->1\n",
      "red:\t 1-2-1.1->1\n",
      "green:\t 1-4-0.09999999999999964->0\n",
      "purple:\t 1-0-2.1->0\n",
      "\n",
      "blue:\t 0-2-2.0999999999999996->1\n",
      "red:\t 1-3-0.10000000000000009->1\n",
      "green:\t 0-0-3.1->0\n",
      "purple:\t 1-1-1.1->0\n",
      "\n",
      "blue:\t 0-3-1.0999999999999996->1\n",
      "red:\t 1-0-4.1->0\n",
      "green:\t 0-1-2.1->0\n",
      "purple:\t 1-2-0.10000000000000009->0\n",
      "\n",
      "blue:\t 0-4-0.09999999999999964->1\n",
      "red:\t 1-1-3.0999999999999996->0\n",
      "green:\t 0-2-1.1->0\n",
      "purple:\t 0-0-2.1->1\n",
      "\n",
      "blue:\t 1-0-3.1->1\n",
      "red:\t 1-2-2.0999999999999996->0\n",
      "green:\t 0-3-0.10000000000000009->0\n",
      "purple:\t 0-1-1.1->1\n",
      "\n",
      "blue:\t 1-1-2.1->1\n",
      "red:\t 1-3-1.0999999999999996->0\n",
      "green:\t 0-0-4.1->1\n",
      "purple:\t 0-2-0.10000000000000009->1\n",
      "\n",
      "blue:\t 1-2-1.1->1\n",
      "red:\t 1-4-0.09999999999999964->0\n",
      "green:\t 0-1-3.0999999999999996->1\n",
      "purple:\t 1-0-2.1->0\n",
      "\n",
      "blue:\t 1-3-0.10000000000000009->1\n",
      "red:\t 0-0-3.1->0\n",
      "green:\t 0-2-2.0999999999999996->1\n",
      "purple:\t 1-1-1.1->0\n",
      "\n",
      "blue:\t 1-0-4.1->0\n",
      "red:\t 0-1-2.1->0\n",
      "green:\t 0-3-1.0999999999999996->1\n",
      "purple:\t 1-2-0.10000000000000009->0\n",
      "\n",
      "blue:\t 1-1-3.0999999999999996->0\n",
      "red:\t 0-2-1.1->0\n",
      "green:\t 0-4-0.09999999999999964->1\n",
      "purple:\t 0-0-2.1->1\n",
      "\n",
      "blue:\t 1-2-2.0999999999999996->0\n",
      "red:\t 0-3-0.10000000000000009->0\n",
      "green:\t 1-0-3.1->1\n",
      "purple:\t 0-1-1.1->1\n",
      "\n",
      "blue:\t 1-3-1.0999999999999996->0\n",
      "red:\t 0-0-4.1->1\n",
      "green:\t 1-1-2.1->1\n",
      "purple:\t 0-2-0.10000000000000009->1\n",
      "\n",
      "blue:\t 1-4-0.09999999999999964->0\n",
      "red:\t 0-1-3.0999999999999996->1\n",
      "green:\t 1-2-1.1->1\n",
      "purple:\t 1-0-2.1->0\n",
      "\n",
      "blue:\t 0-0-3.1->0\n",
      "red:\t 0-2-2.0999999999999996->1\n",
      "green:\t 1-3-0.10000000000000009->1\n",
      "purple:\t 1-1-1.1->0\n",
      "\n",
      "blue:\t 0-1-2.1->0\n",
      "red:\t 0-3-1.0999999999999996->1\n",
      "green:\t 1-0-4.1->0\n",
      "purple:\t 1-2-0.10000000000000009->0\n",
      "\n",
      "blue:\t 0-2-1.1->0\n",
      "red:\t 0-4-0.09999999999999964->1\n",
      "green:\t 1-1-3.0999999999999996->0\n",
      "purple:\t 0-0-2.1->1\n",
      "\n",
      "blue:\t 0-3-0.10000000000000009->0\n",
      "red:\t 1-0-3.1->1\n",
      "green:\t 1-2-2.0999999999999996->0\n",
      "purple:\t 0-1-1.1->1\n",
      "\n",
      "blue:\t 0-0-4.1->1\n",
      "red:\t 1-1-2.1->1\n",
      "green:\t 1-3-1.0999999999999996->0\n",
      "purple:\t 0-2-0.10000000000000009->1\n",
      "\n",
      "blue:\t 0-1-3.0999999999999996->1\n",
      "red:\t 1-2-1.1->1\n",
      "green:\t 1-4-0.09999999999999964->0\n",
      "purple:\t 1-0-2.1->0\n",
      "\n",
      "blue:\t 0-2-2.0999999999999996->1\n",
      "red:\t 1-3-0.10000000000000009->1\n",
      "green:\t 0-0-3.1->0\n",
      "purple:\t 1-1-1.1->0\n",
      "\n",
      "blue:\t 0-3-1.0999999999999996->1\n",
      "red:\t 1-0-4.1->0\n",
      "green:\t 0-1-2.1->0\n",
      "purple:\t 1-2-0.10000000000000009->0\n",
      "\n",
      "blue:\t 0-4-0.09999999999999964->1\n",
      "red:\t 1-1-3.0999999999999996->0\n",
      "green:\t 0-2-1.1->0\n",
      "purple:\t 0-0-2.1->1\n",
      "\n",
      "blue:\t 1-0-3.1->1\n",
      "red:\t 1-2-2.0999999999999996->0\n",
      "green:\t 0-3-0.10000000000000009->0\n",
      "purple:\t 0-1-1.1->1\n",
      "\n",
      "blue:\t 1-1-2.1->1\n",
      "red:\t 1-3-1.0999999999999996->0\n",
      "green:\t 0-0-4.1->1\n",
      "purple:\t 0-2-0.10000000000000009->1\n",
      "\n",
      "blue:\t 1-2-1.1->1\n",
      "red:\t 1-4-0.09999999999999964->0\n",
      "green:\t 0-1-3.0999999999999996->1\n",
      "purple:\t 1-0-2.1->0\n",
      "\n",
      "blue:\t 1-3-0.10000000000000009->1\n",
      "red:\t 0-0-3.1->0\n",
      "green:\t 0-2-2.0999999999999996->1\n",
      "purple:\t 1-1-1.1->0\n",
      "\n"
     ]
    }
   ],
   "source": [
    "def summary(state):\n",
    "    for b in state.balls:\n",
    "        if b.time_to_land:\n",
    "            print(\"{}:\\t {}-{}-{}->{}\".format(b.color, b.source_hand, b.time_flying, b.time_to_land, b.target_hand))\n",
    "        else:\n",
    "            print(\"{}:\\t {}\".format(b.color, b.target_hand))\n",
    "\n",
    "import pprint\n",
    "for state in model.states: \n",
    "    summary(state)\n",
    "    print()"
   ]
  },
  {
   "cell_type": "code",
   "execution_count": 4,
   "metadata": {},
   "outputs": [
    {
     "name": "stdout",
     "output_type": "stream",
     "text": [
      "> \u001b[0;32m/opt/miniconda3/envs/jugglyng/lib/python3.8/site-packages/traitlets/traitlets.py\u001b[0m(690)\u001b[0;36merror\u001b[0;34m()\u001b[0m\n",
      "\u001b[0;32m    688 \u001b[0;31m                    e = \"The '%s' trait expected %s, not %s.\" % (\n",
      "\u001b[0m\u001b[0;32m    689 \u001b[0;31m                        self.name, self.info(), describe(\"the\", value))\n",
      "\u001b[0m\u001b[0;32m--> 690 \u001b[0;31m                \u001b[0;32mraise\u001b[0m \u001b[0mTraitError\u001b[0m\u001b[0;34m(\u001b[0m\u001b[0me\u001b[0m\u001b[0;34m)\u001b[0m\u001b[0;34m\u001b[0m\u001b[0;34m\u001b[0m\u001b[0m\n",
      "\u001b[0m\u001b[0;32m    691 \u001b[0;31m\u001b[0;34m\u001b[0m\u001b[0m\n",
      "\u001b[0m\u001b[0;32m    692 \u001b[0;31m    \u001b[0;32mdef\u001b[0m \u001b[0mget_metadata\u001b[0m\u001b[0;34m(\u001b[0m\u001b[0mself\u001b[0m\u001b[0;34m,\u001b[0m \u001b[0mkey\u001b[0m\u001b[0;34m,\u001b[0m \u001b[0mdefault\u001b[0m\u001b[0;34m=\u001b[0m\u001b[0;32mNone\u001b[0m\u001b[0;34m)\u001b[0m\u001b[0;34m:\u001b[0m\u001b[0;34m\u001b[0m\u001b[0;34m\u001b[0m\u001b[0m\n",
      "\u001b[0m\n",
      "ipdb> i\n",
      "*** NameError: name 'i' is not defined\n",
      "ipdb> u\n",
      "> \u001b[0;32m/opt/miniconda3/envs/jugglyng/lib/python3.8/site-packages/pythreejs/traits.py\u001b[0m(262)\u001b[0;36mvalidate\u001b[0;34m()\u001b[0m\n",
      "\u001b[0;32m    260 \u001b[0;31m            \u001b[0;32melif\u001b[0m \u001b[0m_color_hexa_re\u001b[0m\u001b[0;34m.\u001b[0m\u001b[0mmatch\u001b[0m\u001b[0;34m(\u001b[0m\u001b[0mvalue\u001b[0m\u001b[0;34m)\u001b[0m \u001b[0;32mor\u001b[0m \u001b[0m_color_rgbhsl_re\u001b[0m\u001b[0;34m.\u001b[0m\u001b[0mmatch\u001b[0m\u001b[0;34m(\u001b[0m\u001b[0mvalue\u001b[0m\u001b[0;34m)\u001b[0m\u001b[0;34m:\u001b[0m\u001b[0;34m\u001b[0m\u001b[0;34m\u001b[0m\u001b[0m\n",
      "\u001b[0m\u001b[0;32m    261 \u001b[0;31m                \u001b[0;32mreturn\u001b[0m \u001b[0mvalue\u001b[0m\u001b[0;34m\u001b[0m\u001b[0;34m\u001b[0m\u001b[0m\n",
      "\u001b[0m\u001b[0;32m--> 262 \u001b[0;31m        \u001b[0mself\u001b[0m\u001b[0;34m.\u001b[0m\u001b[0merror\u001b[0m\u001b[0;34m(\u001b[0m\u001b[0mobj\u001b[0m\u001b[0;34m,\u001b[0m \u001b[0mvalue\u001b[0m\u001b[0;34m)\u001b[0m\u001b[0;34m\u001b[0m\u001b[0;34m\u001b[0m\u001b[0m\n",
      "\u001b[0m\u001b[0;32m    263 \u001b[0;31m\u001b[0;34m\u001b[0m\u001b[0m\n",
      "\u001b[0m\u001b[0;32m    264 \u001b[0;31m\u001b[0;34m\u001b[0m\u001b[0m\n",
      "\u001b[0m\n",
      "ipdb> u\n",
      "> \u001b[0;32m/opt/miniconda3/envs/jugglyng/lib/python3.8/site-packages/traitlets/traitlets.py\u001b[0m(610)\u001b[0;36m_validate\u001b[0;34m()\u001b[0m\n",
      "\u001b[0;32m    608 \u001b[0;31m            \u001b[0;32mreturn\u001b[0m \u001b[0mvalue\u001b[0m\u001b[0;34m\u001b[0m\u001b[0;34m\u001b[0m\u001b[0m\n",
      "\u001b[0m\u001b[0;32m    609 \u001b[0;31m        \u001b[0;32mif\u001b[0m \u001b[0mhasattr\u001b[0m\u001b[0;34m(\u001b[0m\u001b[0mself\u001b[0m\u001b[0;34m,\u001b[0m \u001b[0;34m'validate'\u001b[0m\u001b[0;34m)\u001b[0m\u001b[0;34m:\u001b[0m\u001b[0;34m\u001b[0m\u001b[0;34m\u001b[0m\u001b[0m\n",
      "\u001b[0m\u001b[0;32m--> 610 \u001b[0;31m            \u001b[0mvalue\u001b[0m \u001b[0;34m=\u001b[0m \u001b[0mself\u001b[0m\u001b[0;34m.\u001b[0m\u001b[0mvalidate\u001b[0m\u001b[0;34m(\u001b[0m\u001b[0mobj\u001b[0m\u001b[0;34m,\u001b[0m \u001b[0mvalue\u001b[0m\u001b[0;34m)\u001b[0m\u001b[0;34m\u001b[0m\u001b[0;34m\u001b[0m\u001b[0m\n",
      "\u001b[0m\u001b[0;32m    611 \u001b[0;31m        \u001b[0;32mif\u001b[0m \u001b[0mobj\u001b[0m\u001b[0;34m.\u001b[0m\u001b[0m_cross_validation_lock\u001b[0m \u001b[0;32mis\u001b[0m \u001b[0;32mFalse\u001b[0m\u001b[0;34m:\u001b[0m\u001b[0;34m\u001b[0m\u001b[0;34m\u001b[0m\u001b[0m\n",
      "\u001b[0m\u001b[0;32m    612 \u001b[0;31m            \u001b[0mvalue\u001b[0m \u001b[0;34m=\u001b[0m \u001b[0mself\u001b[0m\u001b[0;34m.\u001b[0m\u001b[0m_cross_validate\u001b[0m\u001b[0;34m(\u001b[0m\u001b[0mobj\u001b[0m\u001b[0;34m,\u001b[0m \u001b[0mvalue\u001b[0m\u001b[0;34m)\u001b[0m\u001b[0;34m\u001b[0m\u001b[0;34m\u001b[0m\u001b[0m\n",
      "\u001b[0m\n",
      "ipdb> u\n",
      "> \u001b[0;32m/opt/miniconda3/envs/jugglyng/lib/python3.8/site-packages/traitlets/traitlets.py\u001b[0m(578)\u001b[0;36mset\u001b[0;34m()\u001b[0m\n",
      "\u001b[0;32m    576 \u001b[0;31m\u001b[0;34m\u001b[0m\u001b[0m\n",
      "\u001b[0m\u001b[0;32m    577 \u001b[0;31m    \u001b[0;32mdef\u001b[0m \u001b[0mset\u001b[0m\u001b[0;34m(\u001b[0m\u001b[0mself\u001b[0m\u001b[0;34m,\u001b[0m \u001b[0mobj\u001b[0m\u001b[0;34m,\u001b[0m \u001b[0mvalue\u001b[0m\u001b[0;34m)\u001b[0m\u001b[0;34m:\u001b[0m\u001b[0;34m\u001b[0m\u001b[0;34m\u001b[0m\u001b[0m\n",
      "\u001b[0m\u001b[0;32m--> 578 \u001b[0;31m        \u001b[0mnew_value\u001b[0m \u001b[0;34m=\u001b[0m \u001b[0mself\u001b[0m\u001b[0;34m.\u001b[0m\u001b[0m_validate\u001b[0m\u001b[0;34m(\u001b[0m\u001b[0mobj\u001b[0m\u001b[0;34m,\u001b[0m \u001b[0mvalue\u001b[0m\u001b[0;34m)\u001b[0m\u001b[0;34m\u001b[0m\u001b[0;34m\u001b[0m\u001b[0m\n",
      "\u001b[0m\u001b[0;32m    579 \u001b[0;31m        \u001b[0;32mtry\u001b[0m\u001b[0;34m:\u001b[0m\u001b[0;34m\u001b[0m\u001b[0;34m\u001b[0m\u001b[0m\n",
      "\u001b[0m\u001b[0;32m    580 \u001b[0;31m            \u001b[0mold_value\u001b[0m \u001b[0;34m=\u001b[0m \u001b[0mobj\u001b[0m\u001b[0;34m.\u001b[0m\u001b[0m_trait_values\u001b[0m\u001b[0;34m[\u001b[0m\u001b[0mself\u001b[0m\u001b[0;34m.\u001b[0m\u001b[0mname\u001b[0m\u001b[0;34m]\u001b[0m\u001b[0;34m\u001b[0m\u001b[0;34m\u001b[0m\u001b[0m\n",
      "\u001b[0m\n",
      "ipdb> u\n",
      "> \u001b[0;32m/opt/miniconda3/envs/jugglyng/lib/python3.8/site-packages/traitlets/traitlets.py\u001b[0m(604)\u001b[0;36m__set__\u001b[0;34m()\u001b[0m\n",
      "\u001b[0;32m    602 \u001b[0;31m            \u001b[0;32mraise\u001b[0m \u001b[0mTraitError\u001b[0m\u001b[0;34m(\u001b[0m\u001b[0;34m'The \"%s\" trait is read-only.'\u001b[0m \u001b[0;34m%\u001b[0m \u001b[0mself\u001b[0m\u001b[0;34m.\u001b[0m\u001b[0mname\u001b[0m\u001b[0;34m)\u001b[0m\u001b[0;34m\u001b[0m\u001b[0;34m\u001b[0m\u001b[0m\n",
      "\u001b[0m\u001b[0;32m    603 \u001b[0;31m        \u001b[0;32melse\u001b[0m\u001b[0;34m:\u001b[0m\u001b[0;34m\u001b[0m\u001b[0;34m\u001b[0m\u001b[0m\n",
      "\u001b[0m\u001b[0;32m--> 604 \u001b[0;31m            \u001b[0mself\u001b[0m\u001b[0;34m.\u001b[0m\u001b[0mset\u001b[0m\u001b[0;34m(\u001b[0m\u001b[0mobj\u001b[0m\u001b[0;34m,\u001b[0m \u001b[0mvalue\u001b[0m\u001b[0;34m)\u001b[0m\u001b[0;34m\u001b[0m\u001b[0;34m\u001b[0m\u001b[0m\n",
      "\u001b[0m\u001b[0;32m    605 \u001b[0;31m\u001b[0;34m\u001b[0m\u001b[0m\n",
      "\u001b[0m\u001b[0;32m    606 \u001b[0;31m    \u001b[0;32mdef\u001b[0m \u001b[0m_validate\u001b[0m\u001b[0;34m(\u001b[0m\u001b[0mself\u001b[0m\u001b[0;34m,\u001b[0m \u001b[0mobj\u001b[0m\u001b[0;34m,\u001b[0m \u001b[0mvalue\u001b[0m\u001b[0;34m)\u001b[0m\u001b[0;34m:\u001b[0m\u001b[0;34m\u001b[0m\u001b[0;34m\u001b[0m\u001b[0m\n",
      "\u001b[0m\n",
      "ipdb> u\n",
      "> \u001b[0;32m/opt/miniconda3/envs/jugglyng/lib/python3.8/site-packages/traitlets/traitlets.py\u001b[0m(1077)\u001b[0;36m__init__\u001b[0;34m()\u001b[0m\n",
      "\u001b[0;32m   1075 \u001b[0;31m            \u001b[0;32mfor\u001b[0m \u001b[0mkey\u001b[0m\u001b[0;34m,\u001b[0m \u001b[0mvalue\u001b[0m \u001b[0;32min\u001b[0m \u001b[0mkwargs\u001b[0m\u001b[0;34m.\u001b[0m\u001b[0mitems\u001b[0m\u001b[0;34m(\u001b[0m\u001b[0;34m)\u001b[0m\u001b[0;34m:\u001b[0m\u001b[0;34m\u001b[0m\u001b[0;34m\u001b[0m\u001b[0m\n",
      "\u001b[0m\u001b[0;32m   1076 \u001b[0;31m                \u001b[0;32mif\u001b[0m \u001b[0mself\u001b[0m\u001b[0;34m.\u001b[0m\u001b[0mhas_trait\u001b[0m\u001b[0;34m(\u001b[0m\u001b[0mkey\u001b[0m\u001b[0;34m)\u001b[0m\u001b[0;34m:\u001b[0m\u001b[0;34m\u001b[0m\u001b[0;34m\u001b[0m\u001b[0m\n",
      "\u001b[0m\u001b[0;32m-> 1077 \u001b[0;31m                    \u001b[0msetattr\u001b[0m\u001b[0;34m(\u001b[0m\u001b[0mself\u001b[0m\u001b[0;34m,\u001b[0m \u001b[0mkey\u001b[0m\u001b[0;34m,\u001b[0m \u001b[0mvalue\u001b[0m\u001b[0;34m)\u001b[0m\u001b[0;34m\u001b[0m\u001b[0;34m\u001b[0m\u001b[0m\n",
      "\u001b[0m\u001b[0;32m   1078 \u001b[0;31m                \u001b[0;32melse\u001b[0m\u001b[0;34m:\u001b[0m\u001b[0;34m\u001b[0m\u001b[0;34m\u001b[0m\u001b[0m\n",
      "\u001b[0m\u001b[0;32m   1079 \u001b[0;31m                    \u001b[0;31m# passthrough args that don't set traits to super\u001b[0m\u001b[0;34m\u001b[0m\u001b[0;34m\u001b[0m\u001b[0;34m\u001b[0m\u001b[0m\n",
      "\u001b[0m\n",
      "ipdb> u\n",
      "> \u001b[0;32m/opt/miniconda3/envs/jugglyng/lib/python3.8/site-packages/ipywidgets/widgets/widget.py\u001b[0m(412)\u001b[0;36m__init__\u001b[0;34m()\u001b[0m\n",
      "\u001b[0;32m    410 \u001b[0;31m        \u001b[0;34m\"\"\"Public constructor\"\"\"\u001b[0m\u001b[0;34m\u001b[0m\u001b[0;34m\u001b[0m\u001b[0m\n",
      "\u001b[0m\u001b[0;32m    411 \u001b[0;31m        \u001b[0mself\u001b[0m\u001b[0;34m.\u001b[0m\u001b[0m_model_id\u001b[0m \u001b[0;34m=\u001b[0m \u001b[0mkwargs\u001b[0m\u001b[0;34m.\u001b[0m\u001b[0mpop\u001b[0m\u001b[0;34m(\u001b[0m\u001b[0;34m'model_id'\u001b[0m\u001b[0;34m,\u001b[0m \u001b[0;32mNone\u001b[0m\u001b[0;34m)\u001b[0m\u001b[0;34m\u001b[0m\u001b[0;34m\u001b[0m\u001b[0m\n",
      "\u001b[0m\u001b[0;32m--> 412 \u001b[0;31m        \u001b[0msuper\u001b[0m\u001b[0;34m(\u001b[0m\u001b[0mWidget\u001b[0m\u001b[0;34m,\u001b[0m \u001b[0mself\u001b[0m\u001b[0;34m)\u001b[0m\u001b[0;34m.\u001b[0m\u001b[0m__init__\u001b[0m\u001b[0;34m(\u001b[0m\u001b[0;34m**\u001b[0m\u001b[0mkwargs\u001b[0m\u001b[0;34m)\u001b[0m\u001b[0;34m\u001b[0m\u001b[0;34m\u001b[0m\u001b[0m\n",
      "\u001b[0m\u001b[0;32m    413 \u001b[0;31m\u001b[0;34m\u001b[0m\u001b[0m\n",
      "\u001b[0m\u001b[0;32m    414 \u001b[0;31m        \u001b[0mWidget\u001b[0m\u001b[0;34m.\u001b[0m\u001b[0m_call_widget_constructed\u001b[0m\u001b[0;34m(\u001b[0m\u001b[0mself\u001b[0m\u001b[0;34m)\u001b[0m\u001b[0;34m\u001b[0m\u001b[0;34m\u001b[0m\u001b[0m\n",
      "\u001b[0m\n",
      "ipdb> u\n",
      "> \u001b[0;32m/opt/miniconda3/envs/jugglyng/lib/python3.8/site-packages/pythreejs/_base/Three.py\u001b[0m(17)\u001b[0;36m__init__\u001b[0;34m()\u001b[0m\n",
      "\u001b[0;32m     15 \u001b[0;31m\u001b[0;34m\u001b[0m\u001b[0m\n",
      "\u001b[0m\u001b[0;32m     16 \u001b[0;31m    \u001b[0;32mdef\u001b[0m \u001b[0m__init__\u001b[0m\u001b[0;34m(\u001b[0m\u001b[0mself\u001b[0m\u001b[0;34m,\u001b[0m \u001b[0;34m**\u001b[0m\u001b[0mkwargs\u001b[0m\u001b[0;34m)\u001b[0m\u001b[0;34m:\u001b[0m\u001b[0;34m\u001b[0m\u001b[0;34m\u001b[0m\u001b[0m\n",
      "\u001b[0m\u001b[0;32m---> 17 \u001b[0;31m        \u001b[0msuper\u001b[0m\u001b[0;34m(\u001b[0m\u001b[0mThreeWidget\u001b[0m\u001b[0;34m,\u001b[0m \u001b[0mself\u001b[0m\u001b[0;34m)\u001b[0m\u001b[0;34m.\u001b[0m\u001b[0m__init__\u001b[0m\u001b[0;34m(\u001b[0m\u001b[0;34m**\u001b[0m\u001b[0mkwargs\u001b[0m\u001b[0;34m)\u001b[0m\u001b[0;34m\u001b[0m\u001b[0;34m\u001b[0m\u001b[0m\n",
      "\u001b[0m\u001b[0;32m     18 \u001b[0;31m        \u001b[0mself\u001b[0m\u001b[0;34m.\u001b[0m\u001b[0mon_msg\u001b[0m\u001b[0;34m(\u001b[0m\u001b[0mself\u001b[0m\u001b[0;34m.\u001b[0m\u001b[0m_on_potential_ret_val\u001b[0m\u001b[0;34m)\u001b[0m\u001b[0;34m\u001b[0m\u001b[0;34m\u001b[0m\u001b[0m\n",
      "\u001b[0m\u001b[0;32m     19 \u001b[0;31m\u001b[0;34m\u001b[0m\u001b[0m\n",
      "\u001b[0m\n",
      "ipdb> u\n",
      "> \u001b[0;32m/opt/miniconda3/envs/jugglyng/lib/python3.8/site-packages/pythreejs/materials/Material_autogen.py\u001b[0m(28)\u001b[0;36m__init__\u001b[0;34m()\u001b[0m\n",
      "\u001b[0;32m     26 \u001b[0;31m\u001b[0;34m\u001b[0m\u001b[0m\n",
      "\u001b[0m\u001b[0;32m     27 \u001b[0;31m    \u001b[0;32mdef\u001b[0m \u001b[0m__init__\u001b[0m\u001b[0;34m(\u001b[0m\u001b[0mself\u001b[0m\u001b[0;34m,\u001b[0m \u001b[0;34m**\u001b[0m\u001b[0mkwargs\u001b[0m\u001b[0;34m)\u001b[0m\u001b[0;34m:\u001b[0m\u001b[0;34m\u001b[0m\u001b[0;34m\u001b[0m\u001b[0m\n",
      "\u001b[0m\u001b[0;32m---> 28 \u001b[0;31m        \u001b[0msuper\u001b[0m\u001b[0;34m(\u001b[0m\u001b[0mMaterial\u001b[0m\u001b[0;34m,\u001b[0m \u001b[0mself\u001b[0m\u001b[0;34m)\u001b[0m\u001b[0;34m.\u001b[0m\u001b[0m__init__\u001b[0m\u001b[0;34m(\u001b[0m\u001b[0;34m**\u001b[0m\u001b[0mkwargs\u001b[0m\u001b[0;34m)\u001b[0m\u001b[0;34m\u001b[0m\u001b[0;34m\u001b[0m\u001b[0m\n",
      "\u001b[0m\u001b[0;32m     29 \u001b[0;31m\u001b[0;34m\u001b[0m\u001b[0m\n",
      "\u001b[0m\u001b[0;32m     30 \u001b[0;31m    \u001b[0m_model_name\u001b[0m \u001b[0;34m=\u001b[0m \u001b[0mUnicode\u001b[0m\u001b[0;34m(\u001b[0m\u001b[0;34m'MaterialModel'\u001b[0m\u001b[0;34m)\u001b[0m\u001b[0;34m.\u001b[0m\u001b[0mtag\u001b[0m\u001b[0;34m(\u001b[0m\u001b[0msync\u001b[0m\u001b[0;34m=\u001b[0m\u001b[0;32mTrue\u001b[0m\u001b[0;34m)\u001b[0m\u001b[0;34m\u001b[0m\u001b[0;34m\u001b[0m\u001b[0m\n",
      "\u001b[0m\n",
      "ipdb> u\n",
      "> \u001b[0;32m/home/nthiery/Nextcloud/JonglerieMusicale/Jugglyng/modele.py\u001b[0m(95)\u001b[0;36m__init__\u001b[0;34m()\u001b[0m\n",
      "\u001b[0;32m     93 \u001b[0;31m        self.mesh = Mesh(\n",
      "\u001b[0m\u001b[0;32m     94 \u001b[0;31m            \u001b[0mSphereBufferGeometry\u001b[0m\u001b[0;34m(\u001b[0m\u001b[0;36m5\u001b[0m\u001b[0;34m,\u001b[0m \u001b[0;36m32\u001b[0m\u001b[0;34m,\u001b[0m \u001b[0;36m16\u001b[0m\u001b[0;34m)\u001b[0m\u001b[0;34m,\u001b[0m\u001b[0;34m\u001b[0m\u001b[0;34m\u001b[0m\u001b[0m\n",
      "\u001b[0m\u001b[0;32m---> 95 \u001b[0;31m            \u001b[0mMeshStandardMaterial\u001b[0m\u001b[0;34m(\u001b[0m\u001b[0mcolor\u001b[0m\u001b[0;34m=\u001b[0m\u001b[0mcolor\u001b[0m\u001b[0;34m)\u001b[0m\u001b[0;34m\u001b[0m\u001b[0;34m\u001b[0m\u001b[0m\n",
      "\u001b[0m\u001b[0;32m     96 \u001b[0;31m        )\n",
      "\u001b[0m\u001b[0;32m     97 \u001b[0;31m\u001b[0;34m\u001b[0m\u001b[0m\n",
      "\u001b[0m\n",
      "ipdb> p color\n",
      "{'color': 'blue', 'tone': 'do'}\n",
      "ipdb> u\n",
      "> \u001b[0;32m/home/nthiery/Nextcloud/JonglerieMusicale/Jugglyng/modele.py\u001b[0m(116)\u001b[0;36m<listcomp>\u001b[0;34m()\u001b[0m\n",
      "\u001b[0;32m    114 \u001b[0;31m        \u001b[0mself\u001b[0m\u001b[0;34m.\u001b[0m\u001b[0mmodel\u001b[0m \u001b[0;34m=\u001b[0m \u001b[0mmodel\u001b[0m\u001b[0;34m\u001b[0m\u001b[0;34m\u001b[0m\u001b[0m\n",
      "\u001b[0m\u001b[0;32m    115 \u001b[0;31m        \u001b[0minitial_state\u001b[0m \u001b[0;34m=\u001b[0m \u001b[0mself\u001b[0m\u001b[0;34m.\u001b[0m\u001b[0mmodel\u001b[0m\u001b[0;34m.\u001b[0m\u001b[0mstate\u001b[0m\u001b[0;34m(\u001b[0m\u001b[0;36m0\u001b[0m\u001b[0;34m)\u001b[0m\u001b[0;34m\u001b[0m\u001b[0;34m\u001b[0m\u001b[0m\n",
      "\u001b[0m\u001b[0;32m--> 116 \u001b[0;31m        self.balls = [BallView(ball.color)\n",
      "\u001b[0m\u001b[0;32m    117 \u001b[0;31m                      for ball in initial_state.balls]\n",
      "\u001b[0m\u001b[0;32m    118 \u001b[0;31m        \u001b[0;31m# TODO: currently hardcoded for two hands\u001b[0m\u001b[0;34m\u001b[0m\u001b[0;34m\u001b[0m\u001b[0;34m\u001b[0m\u001b[0m\n",
      "\u001b[0m\n",
      "ipdb> p ball\n",
      "Ball(color={'color': 'blue', 'tone': 'do'}, source_hand=None, target_hand=0, time_flying=0, time_to_land=0, number=0)\n",
      "ipdb> p ball.color\n",
      "{'color': 'blue', 'tone': 'do'}\n",
      "ipdb> q\n",
      "> \u001b[0;32m<string>\u001b[0m(1)\u001b[0;36m<module>\u001b[0;34m()\u001b[0m\n",
      "\n",
      "ipdb> q\n"
     ]
    }
   ],
   "source": [
    "import pdb\n",
    "pdb.pm()\n",
    "state = model.state(0)\n",
    "throw = modele.Throw(0,1,3)\n",
    "pdb.run(\"model.transition(state, throw)\")"
   ]
  },
  {
   "cell_type": "code",
   "execution_count": 17,
   "metadata": {},
   "outputs": [],
   "source": [
    "import collections\n",
    "a = collections.namedtuple(\"State\", [\"a\", \"b\"])\n",
    "b = a(a=1, b={})"
   ]
  },
  {
   "cell_type": "code",
   "execution_count": 18,
   "metadata": {},
   "outputs": [
    {
     "data": {
      "text/plain": [
       "State(a=1, b={})"
      ]
     },
     "execution_count": 18,
     "metadata": {},
     "output_type": "execute_result"
    }
   ],
   "source": [
    "b"
   ]
  },
  {
   "cell_type": "code",
   "execution_count": 19,
   "metadata": {},
   "outputs": [],
   "source": [
    "b[1][2] = \"a\""
   ]
  },
  {
   "cell_type": "code",
   "execution_count": 20,
   "metadata": {},
   "outputs": [
    {
     "data": {
      "text/plain": [
       "State(a=1, b={2: 'a'})"
      ]
     },
     "execution_count": 20,
     "metadata": {},
     "output_type": "execute_result"
    }
   ],
   "source": [
    "b"
   ]
  },
  {
   "cell_type": "code",
   "execution_count": 22,
   "metadata": {},
   "outputs": [
    {
     "ename": "Exception",
     "evalue": "Test",
     "output_type": "error",
     "traceback": [
      "\u001b[1;31m---------------------------------------------------------------------------\u001b[0m",
      "\u001b[1;31mException\u001b[0m                                 Traceback (most recent call last)",
      "\u001b[1;32m<ipython-input-22-27778e589f6a>\u001b[0m in \u001b[0;36m<module>\u001b[1;34m\u001b[0m\n\u001b[1;32m----> 1\u001b[1;33m \u001b[1;32mraise\u001b[0m \u001b[0mException\u001b[0m\u001b[1;33m(\u001b[0m\u001b[1;34m\"Test\"\u001b[0m\u001b[1;33m)\u001b[0m\u001b[1;33m\u001b[0m\u001b[1;33m\u001b[0m\u001b[0m\n\u001b[0m",
      "\u001b[1;31mException\u001b[0m: Test"
     ]
    }
   ],
   "source": [
    "raise Exception(\"Test\")"
   ]
  },
  {
   "cell_type": "code",
   "execution_count": 23,
   "metadata": {},
   "outputs": [],
   "source": [
    "class test():\n",
    "    def __init__(self):\n",
    "        self.l = [1]"
   ]
  },
  {
   "cell_type": "code",
   "execution_count": 24,
   "metadata": {},
   "outputs": [],
   "source": [
    "a = test()"
   ]
  },
  {
   "cell_type": "code",
   "execution_count": 26,
   "metadata": {},
   "outputs": [],
   "source": [
    "a.l.append(2)"
   ]
  },
  {
   "cell_type": "code",
   "execution_count": 27,
   "metadata": {},
   "outputs": [
    {
     "data": {
      "text/plain": [
       "[1, 2]"
      ]
     },
     "execution_count": 27,
     "metadata": {},
     "output_type": "execute_result"
    }
   ],
   "source": [
    "a.l"
   ]
  },
  {
   "cell_type": "code",
   "execution_count": 28,
   "metadata": {},
   "outputs": [],
   "source": [
    "from copy import deepcopy"
   ]
  },
  {
   "cell_type": "code",
   "execution_count": 29,
   "metadata": {},
   "outputs": [],
   "source": [
    "b = deepcopy(a)"
   ]
  },
  {
   "cell_type": "code",
   "execution_count": 30,
   "metadata": {},
   "outputs": [
    {
     "data": {
      "text/plain": [
       "[1, 2]"
      ]
     },
     "execution_count": 30,
     "metadata": {},
     "output_type": "execute_result"
    }
   ],
   "source": [
    "b.l"
   ]
  },
  {
   "cell_type": "code",
   "execution_count": 31,
   "metadata": {},
   "outputs": [],
   "source": [
    "b.l.append(3)"
   ]
  },
  {
   "cell_type": "code",
   "execution_count": 32,
   "metadata": {},
   "outputs": [
    {
     "data": {
      "text/plain": [
       "[1, 2, 3]"
      ]
     },
     "execution_count": 32,
     "metadata": {},
     "output_type": "execute_result"
    }
   ],
   "source": [
    "b.l"
   ]
  },
  {
   "cell_type": "code",
   "execution_count": 33,
   "metadata": {},
   "outputs": [
    {
     "data": {
      "text/plain": [
       "[1, 2]"
      ]
     },
     "execution_count": 33,
     "metadata": {},
     "output_type": "execute_result"
    }
   ],
   "source": [
    "a.l"
   ]
  },
  {
   "cell_type": "code",
   "execution_count": 46,
   "metadata": {},
   "outputs": [
    {
     "data": {
      "application/vnd.jupyter.widget-view+json": {
       "model_id": "689ce09d0b5a4a808790b3702283c431",
       "version_major": 2,
       "version_minor": 0
      },
      "text/plain": [
       "VBox(children=(IntSlider(value=0, max=1),))"
      ]
     },
     "metadata": {},
     "output_type": "display_data"
    }
   ],
   "source": [
    "\n",
    "\n",
    "slider = ipywidgets.IntSlider(min=0, max=1)\n",
    "slider.observe(lambda change: print(slider.value, end = \" \"))\n",
    "ipywidgets.VBox([slider])"
   ]
  },
  {
   "cell_type": "code",
   "execution_count": 36,
   "metadata": {},
   "outputs": [
    {
     "data": {
      "text/plain": [
       "0.1"
      ]
     },
     "execution_count": 36,
     "metadata": {},
     "output_type": "execute_result"
    }
   ],
   "source": [
    "slider.step"
   ]
  },
  {
   "cell_type": "code",
   "execution_count": null,
   "metadata": {},
   "outputs": [],
   "source": []
  }
 ],
 "metadata": {
  "kernelspec": {
   "display_name": "Python 3",
   "language": "python",
   "name": "python3"
  },
  "language_info": {
   "codemirror_mode": {
    "name": "ipython",
    "version": 3
   },
   "file_extension": ".py",
   "mimetype": "text/x-python",
   "name": "python",
   "nbconvert_exporter": "python",
   "pygments_lexer": "ipython3",
   "version": "3.9.1"
  }
 },
 "nbformat": 4,
 "nbformat_minor": 4
}
