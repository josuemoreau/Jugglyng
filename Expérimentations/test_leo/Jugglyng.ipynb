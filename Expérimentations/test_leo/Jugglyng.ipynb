{
 "cells": [
  {
   "cell_type": "code",
   "execution_count": 1,
   "metadata": {},
   "outputs": [],
   "source": [
    "%config Completer.use_jedi = False\n",
    "%load_ext autoreload\n",
    "%autoreload 2"
   ]
  },
  {
   "cell_type": "code",
   "execution_count": 2,
   "metadata": {
    "scrolled": false
   },
   "outputs": [
    {
     "name": "stdout",
     "output_type": "stream",
     "text": [
      "pygame 2.0.1 (SDL 2.0.14, Python 3.9.4)\n",
      "Hello from the pygame community. https://www.pygame.org/contribute.html\n"
     ]
    },
    {
     "data": {
      "text/html": [
       "<script type=\"module\">\n",
       "\t\timport * as THREE from 'https://unpkg.com/three@0.127.0/build/three.module.js';\n",
       "\t\t\n",
       "\t\tconst camera = new THREE.Camera();\n",
       "\n",
       "\t\tconst scene = new THREE.Scene();\n",
       "\n",
       "\t\t// create an AudioListener and add it to the camera \n",
       "\t\tconst listener = new THREE.AudioListener();\n",
       "\t\tcamera.add(listener); // create a global audio source\n",
       "\n",
       "\t\tconst sound = new THREE.Audio(listener); // load a sound and set it as the Audio object's buffer \n",
       "\n",
       "\t\tconst audioLoader = new THREE.AudioLoader();\n",
       "\t\taudioLoader.load('../../sounds/do.wav', function(buffer) {\n",
       "\t\t\tsound.setBuffer(buffer);\n",
       "\t\t\tsound.setLoop(false);\n",
       "\t\t\tsound.setVolume(2.0);\n",
       "\t\t\tsound.play();\n",
       "\t\t});\n",
       "    </script>"
      ],
      "text/plain": [
       "<IPython.core.display.HTML object>"
      ]
     },
     "metadata": {},
     "output_type": "display_data"
    },
    {
     "data": {
      "text/html": [
       "<script type=\"module\">\n",
       "\t\timport * as THREE from 'https://unpkg.com/three@0.127.0/build/three.module.js';\n",
       "\t\t\n",
       "\t\tconst camera = new THREE.Camera();\n",
       "\n",
       "\t\tconst scene = new THREE.Scene();\n",
       "\n",
       "\t\t// create an AudioListener and add it to the camera \n",
       "\t\tconst listener = new THREE.AudioListener();\n",
       "\t\tcamera.add(listener); // create a global audio source\n",
       "\n",
       "\t\tconst sound = new THREE.Audio(listener); // load a sound and set it as the Audio object's buffer \n",
       "\n",
       "\t\tconst audioLoader = new THREE.AudioLoader();\n",
       "\t\taudioLoader.load('../../sounds/mi.wav', function(buffer) {\n",
       "\t\t\tsound.setBuffer(buffer);\n",
       "\t\t\tsound.setLoop(false);\n",
       "\t\t\tsound.setVolume(2.0);\n",
       "\t\t\tsound.play();\n",
       "\t\t});\n",
       "    </script>"
      ],
      "text/plain": [
       "<IPython.core.display.HTML object>"
      ]
     },
     "metadata": {},
     "output_type": "display_data"
    },
    {
     "data": {
      "text/html": [
       "<script type=\"module\">\n",
       "\t\timport * as THREE from 'https://unpkg.com/three@0.127.0/build/three.module.js';\n",
       "\t\t\n",
       "\t\tconst camera = new THREE.Camera();\n",
       "\n",
       "\t\tconst scene = new THREE.Scene();\n",
       "\n",
       "\t\t// create an AudioListener and add it to the camera \n",
       "\t\tconst listener = new THREE.AudioListener();\n",
       "\t\tcamera.add(listener); // create a global audio source\n",
       "\n",
       "\t\tconst sound = new THREE.Audio(listener); // load a sound and set it as the Audio object's buffer \n",
       "\n",
       "\t\tconst audioLoader = new THREE.AudioLoader();\n",
       "\t\taudioLoader.load('../../sounds/sol.wav', function(buffer) {\n",
       "\t\t\tsound.setBuffer(buffer);\n",
       "\t\t\tsound.setLoop(false);\n",
       "\t\t\tsound.setVolume(2.0);\n",
       "\t\t\tsound.play();\n",
       "\t\t});\n",
       "    </script>"
      ],
      "text/plain": [
       "<IPython.core.display.HTML object>"
      ]
     },
     "metadata": {},
     "output_type": "display_data"
    },
    {
     "data": {
      "application/vnd.jupyter.widget-view+json": {
       "model_id": "dd123f59ae05456f8e13dc0f64d16dd3",
       "version_major": 2,
       "version_minor": 0
      },
      "text/plain": [
       "VBox(children=(Renderer(camera=PerspectiveCamera(position=(0.0, 0.0, -100.0), projectionMatrix=(1.0, 0.0, 0.0,…"
      ]
     },
     "metadata": {},
     "output_type": "display_data"
    }
   ],
   "source": [
    "#NB : Avec le simulateur :\n",
    "#   Clic gauche pour tourner la caméra\n",
    "#   Clic droit pour bouger caméra (sans la tourner)\n",
    "#Pour l'instant, il faut manuellement déplacer la caméra pour voir toutes les balles.\n",
    "import modele\n",
    "import ipywidgets\n",
    "import pythreejs\n",
    "\n",
    "\"\"\"balls = [{\"color\":\"blue\", \"tone\":\"do\", \"name\":\"do\"}]\n",
    "        #{\"color\":\"red\", \"tone\":\"mi\", \"name\":\"mi\"}]\n",
    "pattern = [\n",
    "    [ [(\"do\", 1, 2)], [], [], [], [], [] ],\n",
    "    [ [], [], [(\"do\", 2, 2)], [], [], [] ],\n",
    "    [ [], [], [], [], [(\"do\", 0, 2)], [] ]  \n",
    "          ]\"\"\"\n",
    "\n",
    "balls = [{\"color\":\"blue\", \"tone\":\"do\", \"name\":\"do\"},\n",
    "        {\"color\":\"red\", \"tone\":\"mi\", \"name\":\"mi\"},\n",
    "        {\"color\":\"green\", \"tone\":\"sol\", \"name\":\"sol\"}]\n",
    "pattern = [\n",
    "    [ [(\"do\", 1, 2)], [], [(\"sol\", 2, 3)],              [], [],             [] ],\n",
    "    [ [(\"mi\", 1, 2)], [], [(\"do\", 2, 2), (\"mi\", 2, 3)], [], [],             [] ],\n",
    "    [ [],             [], [],                           [], [(\"do\", 0, 2)], [] ]  \n",
    "          ]\n",
    "sides = [1, 1, -1]\n",
    "\n",
    "model = modele.Model(balls, pattern)\n",
    "slider = ipywidgets.FloatSlider(min=0, max=40, step=0.05)\n",
    "view = modele.View(model, sides)\n",
    "slider.observe(lambda change: view.update(change['new'], change['old']), names=\"value\")\n",
    "ipywidgets.VBox([view.widget,slider])"
   ]
  },
  {
   "cell_type": "code",
   "execution_count": 4,
   "metadata": {},
   "outputs": [
    {
     "data": {
      "text/html": [
       "<script type=\"module\">\n",
       "\t\timport * as THREE from 'https://unpkg.com/three@0.127.0/build/three.module.js';\n",
       "\t\t\n",
       "\t\tconst camera = new THREE.Camera();\n",
       "\n",
       "\t\tconst scene = new THREE.Scene();\n",
       "\n",
       "\t\t// create an AudioListener and add it to the camera \n",
       "\t\tconst listener = new THREE.AudioListener();\n",
       "\t\tcamera.add(listener); // create a global audio source\n",
       "\n",
       "\t\tconst sound = new THREE.Audio(listener); // load a sound and set it as the Audio object's buffer \n",
       "\n",
       "\t\tconst audioLoader = new THREE.AudioLoader();\n",
       "\t\taudioLoader.load('../../sounds/do.wav', function(buffer) {\n",
       "\t\t\tsound.setBuffer(buffer);\n",
       "\t\t\tsound.setLoop(false);\n",
       "\t\t\tsound.setVolume(2.0);\n",
       "\t\t\tsound.play();\n",
       "\t\t});\n",
       "    </script>"
      ],
      "text/plain": [
       "<IPython.core.display.HTML object>"
      ]
     },
     "metadata": {},
     "output_type": "display_data"
    },
    {
     "data": {
      "text/html": [
       "<script type=\"module\">\n",
       "\t\timport * as THREE from 'https://unpkg.com/three@0.127.0/build/three.module.js';\n",
       "\t\t\n",
       "\t\tconst camera = new THREE.Camera();\n",
       "\n",
       "\t\tconst scene = new THREE.Scene();\n",
       "\n",
       "\t\t// create an AudioListener and add it to the camera \n",
       "\t\tconst listener = new THREE.AudioListener();\n",
       "\t\tcamera.add(listener); // create a global audio source\n",
       "\n",
       "\t\tconst sound = new THREE.Audio(listener); // load a sound and set it as the Audio object's buffer \n",
       "\n",
       "\t\tconst audioLoader = new THREE.AudioLoader();\n",
       "\t\taudioLoader.load('../../sounds/re.wav', function(buffer) {\n",
       "\t\t\tsound.setBuffer(buffer);\n",
       "\t\t\tsound.setLoop(false);\n",
       "\t\t\tsound.setVolume(2.0);\n",
       "\t\t\tsound.play();\n",
       "\t\t});\n",
       "    </script>"
      ],
      "text/plain": [
       "<IPython.core.display.HTML object>"
      ]
     },
     "metadata": {},
     "output_type": "display_data"
    },
    {
     "data": {
      "text/html": [
       "<script type=\"module\">\n",
       "\t\timport * as THREE from 'https://unpkg.com/three@0.127.0/build/three.module.js';\n",
       "\t\t\n",
       "\t\tconst camera = new THREE.Camera();\n",
       "\n",
       "\t\tconst scene = new THREE.Scene();\n",
       "\n",
       "\t\t// create an AudioListener and add it to the camera \n",
       "\t\tconst listener = new THREE.AudioListener();\n",
       "\t\tcamera.add(listener); // create a global audio source\n",
       "\n",
       "\t\tconst sound = new THREE.Audio(listener); // load a sound and set it as the Audio object's buffer \n",
       "\n",
       "\t\tconst audioLoader = new THREE.AudioLoader();\n",
       "\t\taudioLoader.load('../../sounds/mi.wav', function(buffer) {\n",
       "\t\t\tsound.setBuffer(buffer);\n",
       "\t\t\tsound.setLoop(false);\n",
       "\t\t\tsound.setVolume(2.0);\n",
       "\t\t\tsound.play();\n",
       "\t\t});\n",
       "    </script>"
      ],
      "text/plain": [
       "<IPython.core.display.HTML object>"
      ]
     },
     "metadata": {},
     "output_type": "display_data"
    },
    {
     "data": {
      "application/vnd.jupyter.widget-view+json": {
       "model_id": "0ad5115d2ef94bbeb934d3093743c3f1",
       "version_major": 2,
       "version_minor": 0
      },
      "text/plain": [
       "VBox(children=(Renderer(camera=PerspectiveCamera(position=(0.0, 0.0, -100.0), projectionMatrix=(1.0, 0.0, 0.0,…"
      ]
     },
     "metadata": {},
     "output_type": "display_data"
    }
   ],
   "source": [
    "import modele\n",
    "import ipywidgets\n",
    "import pythreejs\n",
    "\n",
    "balls = [{\"color\":\"blue\", \"tone\":\"do\", \"name\":\"do\"},\n",
    "         {\"color\":\"red\", \"tone\":\"re\", \"name\":\"re\"},\n",
    "         {\"color\":\"green\", \"tone\":\"mi\", \"name\":\"mi\"}]\n",
    "# pattern = [\n",
    "#     [ [(\"do\", 1, 2)], [], [(\"re\", 2, 3)],              [], [],             [] ],\n",
    "#     [ [(\"mi\", 1, 2)], [], [(\"do\", 2, 2), (\"mi\", 2, 3)], [], [],             [] ],\n",
    "#     [ [],             [], [],                           [], [(\"do\", 0, 2)], [] ]  \n",
    "#           ]\n",
    "pattern = [\n",
    "    [[], [('do', 1, 1)], [('re', 0, 2)], [], [], [], [('re', 0, 1)], [], [('do', 0, 1)],\n",
    "     [], [('re', 0, 1)], [('re', 0, 1)], [('do', 0, 1)], []],\n",
    "    [[('do', 0, 1)], [], [('do', 0, 1)], [('mi', 1, 2)], [], [], [], [], [], [('mi', 0, 1)],\n",
    "     [], [], [], []]\n",
    "]\n",
    "\n",
    "sides = [1, -1]\n",
    "\n",
    "model = modele.Model(balls, pattern)\n",
    "slider = ipywidgets.FloatSlider(min=0, max=40, step=0.05)\n",
    "view = modele.View(model, sides)\n",
    "slider.observe(lambda change: view.update(change['new'], change['old']), names=\"value\")\n",
    "ipywidgets.VBox([view.widget,slider])"
   ]
  },
  {
   "cell_type": "code",
   "execution_count": 3,
   "metadata": {},
   "outputs": [
    {
     "data": {
      "text/html": [
       "<script type=\"module\">\n",
       "\t\timport * as THREE from 'https://unpkg.com/three@0.127.0/build/three.module.js';\n",
       "\t\t\n",
       "\t\tconst camera = new THREE.Camera();\n",
       "\n",
       "\t\tconst scene = new THREE.Scene();\n",
       "\n",
       "\t\t// create an AudioListener and add it to the camera \n",
       "\t\tconst listener = new THREE.AudioListener();\n",
       "\t\tcamera.add(listener); // create a global audio source\n",
       "\n",
       "\t\tconst sound = new THREE.Audio(listener); // load a sound and set it as the Audio object's buffer \n",
       "\n",
       "\t\tconst audioLoader = new THREE.AudioLoader();\n",
       "\t\taudioLoader.load('../../sounds/do4.wav', function(buffer) {\n",
       "\t\t\tsound.setBuffer(buffer);\n",
       "\t\t\tsound.setLoop(false);\n",
       "\t\t\tsound.setVolume(2.0);\n",
       "\t\t\tsound.play();\n",
       "\t\t});\n",
       "    </script>"
      ],
      "text/plain": [
       "<IPython.core.display.HTML object>"
      ]
     },
     "metadata": {},
     "output_type": "display_data"
    },
    {
     "data": {
      "text/html": [
       "<script type=\"module\">\n",
       "\t\timport * as THREE from 'https://unpkg.com/three@0.127.0/build/three.module.js';\n",
       "\t\t\n",
       "\t\tconst camera = new THREE.Camera();\n",
       "\n",
       "\t\tconst scene = new THREE.Scene();\n",
       "\n",
       "\t\t// create an AudioListener and add it to the camera \n",
       "\t\tconst listener = new THREE.AudioListener();\n",
       "\t\tcamera.add(listener); // create a global audio source\n",
       "\n",
       "\t\tconst sound = new THREE.Audio(listener); // load a sound and set it as the Audio object's buffer \n",
       "\n",
       "\t\tconst audioLoader = new THREE.AudioLoader();\n",
       "\t\taudioLoader.load('../../sounds/re4.wav', function(buffer) {\n",
       "\t\t\tsound.setBuffer(buffer);\n",
       "\t\t\tsound.setLoop(false);\n",
       "\t\t\tsound.setVolume(2.0);\n",
       "\t\t\tsound.play();\n",
       "\t\t});\n",
       "    </script>"
      ],
      "text/plain": [
       "<IPython.core.display.HTML object>"
      ]
     },
     "metadata": {},
     "output_type": "display_data"
    },
    {
     "data": {
      "text/html": [
       "<script type=\"module\">\n",
       "\t\timport * as THREE from 'https://unpkg.com/three@0.127.0/build/three.module.js';\n",
       "\t\t\n",
       "\t\tconst camera = new THREE.Camera();\n",
       "\n",
       "\t\tconst scene = new THREE.Scene();\n",
       "\n",
       "\t\t// create an AudioListener and add it to the camera \n",
       "\t\tconst listener = new THREE.AudioListener();\n",
       "\t\tcamera.add(listener); // create a global audio source\n",
       "\n",
       "\t\tconst sound = new THREE.Audio(listener); // load a sound and set it as the Audio object's buffer \n",
       "\n",
       "\t\tconst audioLoader = new THREE.AudioLoader();\n",
       "\t\taudioLoader.load('../../sounds/mi4.wav', function(buffer) {\n",
       "\t\t\tsound.setBuffer(buffer);\n",
       "\t\t\tsound.setLoop(false);\n",
       "\t\t\tsound.setVolume(2.0);\n",
       "\t\t\tsound.play();\n",
       "\t\t});\n",
       "    </script>"
      ],
      "text/plain": [
       "<IPython.core.display.HTML object>"
      ]
     },
     "metadata": {},
     "output_type": "display_data"
    },
    {
     "data": {
      "application/vnd.jupyter.widget-view+json": {
       "model_id": "47c7488f52a54b6db5242d3d90ca2860",
       "version_major": 2,
       "version_minor": 0
      },
      "text/plain": [
       "VBox(children=(Renderer(camera=PerspectiveCamera(position=(0.0, 0.0, -100.0), projectionMatrix=(1.0, 0.0, 0.0,…"
      ]
     },
     "metadata": {},
     "output_type": "display_data"
    }
   ],
   "source": [
    "#Au claire de la luuuun-eeeeuh\n",
    "\n",
    "import modele\n",
    "import ipywidgets\n",
    "import pythreejs\n",
    "\n",
    "balls = [{\"color\":\"blue\", \"tone\":\"do4\", \"name\":\"do\"},\n",
    "        {\"color\":\"red\", \"tone\":\"re4\", \"name\":\"re\"},\n",
    "        {\"color\":\"green\", \"tone\":\"mi4\", \"name\":\"mi\"}]\n",
    "pattern = [\n",
    "    [ [(\"do\", 1, 1), (\"re\", 0, 4)], [],             [(\"do\", 1, 1)] ],\n",
    "    [ [(\"mi\", 1, 5)],               [(\"do\", 0, 1)], []             ]\n",
    "          ]\n",
    "sides = [1, -1]\n",
    "\n",
    "model = modele.Model(balls, pattern)\n",
    "slider = ipywidgets.FloatSlider(min=0, max=40, step=0.05)\n",
    "view = modele.View(model, sides)\n",
    "slider.observe(lambda change: view.update(change['new'], change['old']), names=\"value\")\n",
    "ipywidgets.VBox([view.widget,slider])"
   ]
  },
  {
   "cell_type": "code",
   "execution_count": 10,
   "metadata": {},
   "outputs": [
    {
     "name": "stdout",
     "output_type": "stream",
     "text": [
      "{'balls': (Ball(name='do', color='blue', tone='../../sounds/do.wav', source_hand=0, target_hand=None, time_flying=0, time_to_land=0, number=0, just_landed=False, is_flying=False),\n",
      "           Ball(name='mi', color='red', tone='../../sounds/mi.wav', source_hand=1, target_hand=None, time_flying=0, time_to_land=0, number=1, just_landed=False, is_flying=False)),\n",
      " 'balls_dict': {'do': 0, 'mi': 1},\n",
      " 'nb_hands': 3,\n",
      " 'pattern': [[[(0, 1, 2)], [], [], [], [], []],\n",
      "             [[(1, 1, 2)], [], [(0, 2, 2)], [], [], []],\n",
      "             [[], [], [], [], [(0, 0, 2)], []]],\n",
      " 'pattern_len': 6,\n",
      " 'states': [State(hands=([0], [1], []), balls=[Ball(name='do', color='blue', tone='../../sounds/do.wav', source_hand=0, target_hand=None, time_flying=0, time_to_land=0, number=0, just_landed=False, is_flying=False), Ball(name='mi', color='red', tone='../../sounds/mi.wav', source_hand=1, target_hand=None, time_flying=0, time_to_land=0, number=1, just_landed=False, is_flying=False)])]}\n"
     ]
    }
   ],
   "source": [
    "from pprint import pprint\n",
    "pprint(vars(model))"
   ]
  },
  {
   "cell_type": "code",
   "execution_count": 43,
   "metadata": {},
   "outputs": [
    {
     "data": {
      "text/plain": [
       "State(hands=([], [], []), balls={'do': Ball(name='do', color='blue', tone='../../sounds/do.wav', source_hand=2, target_hand=0, time_flying=0, time_to_land=2, number=0, just_landed=True, is_flying=True), 'mi': Ball(name='mi', color='red', tone='../../sounds/mi.wav', source_hand=1, target_hand=2, time_flying=2, time_to_land=1, number=1, just_landed=False, is_flying=True), 'sol': Ball(name='sol', color='green', tone='../../sounds/sol.wav', source_hand=0, target_hand=2, time_flying=2, time_to_land=1, number=2, just_landed=False, is_flying=True)})"
      ]
     },
     "execution_count": 43,
     "metadata": {},
     "output_type": "execute_result"
    }
   ],
   "source": [
    "model.state(5)\n",
    "#Le premier lancer est effectué au temps 1.\n",
    "#Le temps 0 est le temps initial."
   ]
  }
 ],
 "metadata": {
  "kernelspec": {
   "display_name": "Python 3",
   "language": "python",
   "name": "python3"
  },
  "language_info": {
   "codemirror_mode": {
    "name": "ipython",
    "version": 3
   },
   "file_extension": ".py",
   "mimetype": "text/x-python",
   "name": "python",
   "nbconvert_exporter": "python",
   "pygments_lexer": "ipython3",
   "version": "3.9.4"
  }
 },
 "nbformat": 4,
 "nbformat_minor": 4
}
