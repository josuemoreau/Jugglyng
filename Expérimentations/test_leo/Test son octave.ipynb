{
 "cells": [
  {
   "cell_type": "markdown",
   "id": "endless-privilege",
   "metadata": {},
   "source": [
    "Ce notebook sert à rapidement itérer à travers tous les sons dans le dossier sounds, afin de vérifier qu'ils produisent bien les bonnes notes."
   ]
  },
  {
   "cell_type": "code",
   "execution_count": 7,
   "id": "pointed-sigma",
   "metadata": {},
   "outputs": [
    {
     "name": "stdout",
     "output_type": "stream",
     "text": [
      "pygame 2.0.1 (SDL 2.0.14, Python 3.9.1)\n",
      "Hello from the pygame community. https://www.pygame.org/contribute.html\n"
     ]
    }
   ],
   "source": [
    "#Test avec pygame\n",
    "\n",
    "import pygame as pg\n",
    "import time\n",
    "pg.mixer.init()\n",
    "\n",
    "note_names = [\"do\", \"do#\", \"re\", \"re#\", \"mi\", \"fa\", \"fa#\", \"sol\", \"sol#\", \"la\", \"la#\", \"si\"]\n",
    "\n",
    "def play_sounds(start_note, start_height, end_note, end_height):\n",
    "    i= note_names.index(start_note)\n",
    "    end_idx = (note_names.index(end_note) + 1) % len(note_names)\n",
    "    height = start_height\n",
    "    if end_idx == 0:\n",
    "        end_height += 1\n",
    "    print(\"playing\", end=\" \")\n",
    "    \n",
    "    while not (height == end_height and i == end_idx):\n",
    "        sound = pg.mixer.Sound(\"../../sounds/{}{}.wav\".format(note_names[i], height))\n",
    "        print(\"{}{}\".format(note_names[i], height), end=\" \")\n",
    "        time.sleep(0.1)\n",
    "        sound.play()\n",
    "        time.sleep(0.5)\n",
    "        i = (i+1) % len(note_names)\n",
    "        if i == 0:\n",
    "            height += 1"
   ]
  },
  {
   "cell_type": "code",
   "execution_count": 8,
   "id": "generous-macedonia",
   "metadata": {},
   "outputs": [
    {
     "name": "stdout",
     "output_type": "stream",
     "text": [
      "playing do3 do#3 re3 re#3 mi3 fa3 fa#3 sol3 sol#3 la3 la#3 si3 do4 do#4 re4 re#4 mi4 fa4 fa#4 sol4 sol#4 la4 la#4 si4 do5 do#5 re5 re#5 mi5 fa5 fa#5 sol5 "
     ]
    }
   ],
   "source": [
    "play_sounds(\"do\", 3, \"sol\", 5)"
   ]
  },
  {
   "cell_type": "code",
   "execution_count": 1,
   "id": "chemical-munich",
   "metadata": {},
   "outputs": [],
   "source": [
    "#Test avec Threejs, sans précharger les sons\n",
    "\n",
    "import sys\n",
    "sys.path.insert(0, \"../..\")\n",
    "from audio import Audio\n",
    "import time\n",
    "\n",
    "note_names = [\"do\", \"do#\", \"re\", \"re#\", \"mi\", \"fa\", \"fa#\", \"sol\", \"sol#\", \"la\", \"la#\", \"si\"]\n",
    "\n",
    "def play_sounds(start_note, start_height, end_note, end_height):\n",
    "    i= note_names.index(start_note)\n",
    "    end_idx = (note_names.index(end_note) + 1) % len(note_names)\n",
    "    height = start_height\n",
    "    if end_idx == 0:\n",
    "        end_height += 1\n",
    "    print(\"playing\", end=\" \")\n",
    "    \n",
    "    while not (height == end_height and i == end_idx):\n",
    "        sound = Audio(\"../../sounds/{}{}.wav\".format(note_names[i], height))\n",
    "        print(\"{}{}\".format(note_names[i], height), end=\" \")\n",
    "        time.sleep(0.1)\n",
    "        sound.play()\n",
    "        time.sleep(0.5)\n",
    "        i = (i+1) % len(note_names)\n",
    "        if i == 0:\n",
    "            height += 1"
   ]
  },
  {
   "cell_type": "code",
   "execution_count": 2,
   "id": "ideal-relaxation",
   "metadata": {},
   "outputs": [
    {
     "name": "stdout",
     "output_type": "stream",
     "text": [
      "playing "
     ]
    },
    {
     "data": {
      "text/html": [
       "<script type=\"module\">\n",
       "\t\timport * as THREE from 'https://unpkg.com/three@0.127.0/build/three.module.js';\n",
       "\t\t\n",
       "\t\tconst camera = new THREE.Camera();\n",
       "\n",
       "\t\tconst scene = new THREE.Scene();\n",
       "\n",
       "\t\t// create an AudioListener and add it to the camera \n",
       "\t\tconst listener = new THREE.AudioListener();\n",
       "\t\tcamera.add(listener); // create a global audio source\n",
       "\n",
       "\t\tconst sound = new THREE.Audio(listener); // load a sound and set it as the Audio object's buffer \n",
       "\n",
       "\t\tconst audioLoader = new THREE.AudioLoader();\n",
       "\t\taudioLoader.load('../../sounds/do3.wav', function(buffer) {\n",
       "\t\t\tsound.setBuffer(buffer);\n",
       "\t\t\tsound.setLoop(false);\n",
       "\t\t\tsound.setVolume(2.0);\n",
       "\t\t\tsound.play();\n",
       "\t\t});\n",
       "    </script>"
      ],
      "text/plain": [
       "<IPython.core.display.HTML object>"
      ]
     },
     "metadata": {},
     "output_type": "display_data"
    },
    {
     "name": "stdout",
     "output_type": "stream",
     "text": [
      "do3 "
     ]
    },
    {
     "data": {
      "text/html": [
       "<script type=\"module\">\n",
       "\t\timport * as THREE from 'https://unpkg.com/three@0.127.0/build/three.module.js';\n",
       "\t\t\n",
       "\t\tconst camera = new THREE.Camera();\n",
       "\n",
       "\t\tconst scene = new THREE.Scene();\n",
       "\n",
       "\t\t// create an AudioListener and add it to the camera \n",
       "\t\tconst listener = new THREE.AudioListener();\n",
       "\t\tcamera.add(listener); // create a global audio source\n",
       "\n",
       "\t\tconst sound = new THREE.Audio(listener); // load a sound and set it as the Audio object's buffer \n",
       "\n",
       "\t\tconst audioLoader = new THREE.AudioLoader();\n",
       "\t\taudioLoader.load('../../sounds/do#3.wav', function(buffer) {\n",
       "\t\t\tsound.setBuffer(buffer);\n",
       "\t\t\tsound.setLoop(false);\n",
       "\t\t\tsound.setVolume(2.0);\n",
       "\t\t\tsound.play();\n",
       "\t\t});\n",
       "    </script>"
      ],
      "text/plain": [
       "<IPython.core.display.HTML object>"
      ]
     },
     "metadata": {},
     "output_type": "display_data"
    },
    {
     "name": "stdout",
     "output_type": "stream",
     "text": [
      "do#3 "
     ]
    },
    {
     "data": {
      "text/html": [
       "<script type=\"module\">\n",
       "\t\timport * as THREE from 'https://unpkg.com/three@0.127.0/build/three.module.js';\n",
       "\t\t\n",
       "\t\tconst camera = new THREE.Camera();\n",
       "\n",
       "\t\tconst scene = new THREE.Scene();\n",
       "\n",
       "\t\t// create an AudioListener and add it to the camera \n",
       "\t\tconst listener = new THREE.AudioListener();\n",
       "\t\tcamera.add(listener); // create a global audio source\n",
       "\n",
       "\t\tconst sound = new THREE.Audio(listener); // load a sound and set it as the Audio object's buffer \n",
       "\n",
       "\t\tconst audioLoader = new THREE.AudioLoader();\n",
       "\t\taudioLoader.load('../../sounds/re3.wav', function(buffer) {\n",
       "\t\t\tsound.setBuffer(buffer);\n",
       "\t\t\tsound.setLoop(false);\n",
       "\t\t\tsound.setVolume(2.0);\n",
       "\t\t\tsound.play();\n",
       "\t\t});\n",
       "    </script>"
      ],
      "text/plain": [
       "<IPython.core.display.HTML object>"
      ]
     },
     "metadata": {},
     "output_type": "display_data"
    },
    {
     "name": "stdout",
     "output_type": "stream",
     "text": [
      "re3 "
     ]
    },
    {
     "data": {
      "text/html": [
       "<script type=\"module\">\n",
       "\t\timport * as THREE from 'https://unpkg.com/three@0.127.0/build/three.module.js';\n",
       "\t\t\n",
       "\t\tconst camera = new THREE.Camera();\n",
       "\n",
       "\t\tconst scene = new THREE.Scene();\n",
       "\n",
       "\t\t// create an AudioListener and add it to the camera \n",
       "\t\tconst listener = new THREE.AudioListener();\n",
       "\t\tcamera.add(listener); // create a global audio source\n",
       "\n",
       "\t\tconst sound = new THREE.Audio(listener); // load a sound and set it as the Audio object's buffer \n",
       "\n",
       "\t\tconst audioLoader = new THREE.AudioLoader();\n",
       "\t\taudioLoader.load('../../sounds/re#3.wav', function(buffer) {\n",
       "\t\t\tsound.setBuffer(buffer);\n",
       "\t\t\tsound.setLoop(false);\n",
       "\t\t\tsound.setVolume(2.0);\n",
       "\t\t\tsound.play();\n",
       "\t\t});\n",
       "    </script>"
      ],
      "text/plain": [
       "<IPython.core.display.HTML object>"
      ]
     },
     "metadata": {},
     "output_type": "display_data"
    },
    {
     "name": "stdout",
     "output_type": "stream",
     "text": [
      "re#3 "
     ]
    },
    {
     "data": {
      "text/html": [
       "<script type=\"module\">\n",
       "\t\timport * as THREE from 'https://unpkg.com/three@0.127.0/build/three.module.js';\n",
       "\t\t\n",
       "\t\tconst camera = new THREE.Camera();\n",
       "\n",
       "\t\tconst scene = new THREE.Scene();\n",
       "\n",
       "\t\t// create an AudioListener and add it to the camera \n",
       "\t\tconst listener = new THREE.AudioListener();\n",
       "\t\tcamera.add(listener); // create a global audio source\n",
       "\n",
       "\t\tconst sound = new THREE.Audio(listener); // load a sound and set it as the Audio object's buffer \n",
       "\n",
       "\t\tconst audioLoader = new THREE.AudioLoader();\n",
       "\t\taudioLoader.load('../../sounds/mi3.wav', function(buffer) {\n",
       "\t\t\tsound.setBuffer(buffer);\n",
       "\t\t\tsound.setLoop(false);\n",
       "\t\t\tsound.setVolume(2.0);\n",
       "\t\t\tsound.play();\n",
       "\t\t});\n",
       "    </script>"
      ],
      "text/plain": [
       "<IPython.core.display.HTML object>"
      ]
     },
     "metadata": {},
     "output_type": "display_data"
    },
    {
     "name": "stdout",
     "output_type": "stream",
     "text": [
      "mi3 "
     ]
    },
    {
     "data": {
      "text/html": [
       "<script type=\"module\">\n",
       "\t\timport * as THREE from 'https://unpkg.com/three@0.127.0/build/three.module.js';\n",
       "\t\t\n",
       "\t\tconst camera = new THREE.Camera();\n",
       "\n",
       "\t\tconst scene = new THREE.Scene();\n",
       "\n",
       "\t\t// create an AudioListener and add it to the camera \n",
       "\t\tconst listener = new THREE.AudioListener();\n",
       "\t\tcamera.add(listener); // create a global audio source\n",
       "\n",
       "\t\tconst sound = new THREE.Audio(listener); // load a sound and set it as the Audio object's buffer \n",
       "\n",
       "\t\tconst audioLoader = new THREE.AudioLoader();\n",
       "\t\taudioLoader.load('../../sounds/fa3.wav', function(buffer) {\n",
       "\t\t\tsound.setBuffer(buffer);\n",
       "\t\t\tsound.setLoop(false);\n",
       "\t\t\tsound.setVolume(2.0);\n",
       "\t\t\tsound.play();\n",
       "\t\t});\n",
       "    </script>"
      ],
      "text/plain": [
       "<IPython.core.display.HTML object>"
      ]
     },
     "metadata": {},
     "output_type": "display_data"
    },
    {
     "name": "stdout",
     "output_type": "stream",
     "text": [
      "fa3 "
     ]
    },
    {
     "data": {
      "text/html": [
       "<script type=\"module\">\n",
       "\t\timport * as THREE from 'https://unpkg.com/three@0.127.0/build/three.module.js';\n",
       "\t\t\n",
       "\t\tconst camera = new THREE.Camera();\n",
       "\n",
       "\t\tconst scene = new THREE.Scene();\n",
       "\n",
       "\t\t// create an AudioListener and add it to the camera \n",
       "\t\tconst listener = new THREE.AudioListener();\n",
       "\t\tcamera.add(listener); // create a global audio source\n",
       "\n",
       "\t\tconst sound = new THREE.Audio(listener); // load a sound and set it as the Audio object's buffer \n",
       "\n",
       "\t\tconst audioLoader = new THREE.AudioLoader();\n",
       "\t\taudioLoader.load('../../sounds/fa#3.wav', function(buffer) {\n",
       "\t\t\tsound.setBuffer(buffer);\n",
       "\t\t\tsound.setLoop(false);\n",
       "\t\t\tsound.setVolume(2.0);\n",
       "\t\t\tsound.play();\n",
       "\t\t});\n",
       "    </script>"
      ],
      "text/plain": [
       "<IPython.core.display.HTML object>"
      ]
     },
     "metadata": {},
     "output_type": "display_data"
    },
    {
     "name": "stdout",
     "output_type": "stream",
     "text": [
      "fa#3 "
     ]
    },
    {
     "data": {
      "text/html": [
       "<script type=\"module\">\n",
       "\t\timport * as THREE from 'https://unpkg.com/three@0.127.0/build/three.module.js';\n",
       "\t\t\n",
       "\t\tconst camera = new THREE.Camera();\n",
       "\n",
       "\t\tconst scene = new THREE.Scene();\n",
       "\n",
       "\t\t// create an AudioListener and add it to the camera \n",
       "\t\tconst listener = new THREE.AudioListener();\n",
       "\t\tcamera.add(listener); // create a global audio source\n",
       "\n",
       "\t\tconst sound = new THREE.Audio(listener); // load a sound and set it as the Audio object's buffer \n",
       "\n",
       "\t\tconst audioLoader = new THREE.AudioLoader();\n",
       "\t\taudioLoader.load('../../sounds/sol3.wav', function(buffer) {\n",
       "\t\t\tsound.setBuffer(buffer);\n",
       "\t\t\tsound.setLoop(false);\n",
       "\t\t\tsound.setVolume(2.0);\n",
       "\t\t\tsound.play();\n",
       "\t\t});\n",
       "    </script>"
      ],
      "text/plain": [
       "<IPython.core.display.HTML object>"
      ]
     },
     "metadata": {},
     "output_type": "display_data"
    },
    {
     "name": "stdout",
     "output_type": "stream",
     "text": [
      "sol3 "
     ]
    },
    {
     "data": {
      "text/html": [
       "<script type=\"module\">\n",
       "\t\timport * as THREE from 'https://unpkg.com/three@0.127.0/build/three.module.js';\n",
       "\t\t\n",
       "\t\tconst camera = new THREE.Camera();\n",
       "\n",
       "\t\tconst scene = new THREE.Scene();\n",
       "\n",
       "\t\t// create an AudioListener and add it to the camera \n",
       "\t\tconst listener = new THREE.AudioListener();\n",
       "\t\tcamera.add(listener); // create a global audio source\n",
       "\n",
       "\t\tconst sound = new THREE.Audio(listener); // load a sound and set it as the Audio object's buffer \n",
       "\n",
       "\t\tconst audioLoader = new THREE.AudioLoader();\n",
       "\t\taudioLoader.load('../../sounds/sol#3.wav', function(buffer) {\n",
       "\t\t\tsound.setBuffer(buffer);\n",
       "\t\t\tsound.setLoop(false);\n",
       "\t\t\tsound.setVolume(2.0);\n",
       "\t\t\tsound.play();\n",
       "\t\t});\n",
       "    </script>"
      ],
      "text/plain": [
       "<IPython.core.display.HTML object>"
      ]
     },
     "metadata": {},
     "output_type": "display_data"
    },
    {
     "name": "stdout",
     "output_type": "stream",
     "text": [
      "sol#3 "
     ]
    },
    {
     "data": {
      "text/html": [
       "<script type=\"module\">\n",
       "\t\timport * as THREE from 'https://unpkg.com/three@0.127.0/build/three.module.js';\n",
       "\t\t\n",
       "\t\tconst camera = new THREE.Camera();\n",
       "\n",
       "\t\tconst scene = new THREE.Scene();\n",
       "\n",
       "\t\t// create an AudioListener and add it to the camera \n",
       "\t\tconst listener = new THREE.AudioListener();\n",
       "\t\tcamera.add(listener); // create a global audio source\n",
       "\n",
       "\t\tconst sound = new THREE.Audio(listener); // load a sound and set it as the Audio object's buffer \n",
       "\n",
       "\t\tconst audioLoader = new THREE.AudioLoader();\n",
       "\t\taudioLoader.load('../../sounds/la3.wav', function(buffer) {\n",
       "\t\t\tsound.setBuffer(buffer);\n",
       "\t\t\tsound.setLoop(false);\n",
       "\t\t\tsound.setVolume(2.0);\n",
       "\t\t\tsound.play();\n",
       "\t\t});\n",
       "    </script>"
      ],
      "text/plain": [
       "<IPython.core.display.HTML object>"
      ]
     },
     "metadata": {},
     "output_type": "display_data"
    },
    {
     "name": "stdout",
     "output_type": "stream",
     "text": [
      "la3 "
     ]
    },
    {
     "data": {
      "text/html": [
       "<script type=\"module\">\n",
       "\t\timport * as THREE from 'https://unpkg.com/three@0.127.0/build/three.module.js';\n",
       "\t\t\n",
       "\t\tconst camera = new THREE.Camera();\n",
       "\n",
       "\t\tconst scene = new THREE.Scene();\n",
       "\n",
       "\t\t// create an AudioListener and add it to the camera \n",
       "\t\tconst listener = new THREE.AudioListener();\n",
       "\t\tcamera.add(listener); // create a global audio source\n",
       "\n",
       "\t\tconst sound = new THREE.Audio(listener); // load a sound and set it as the Audio object's buffer \n",
       "\n",
       "\t\tconst audioLoader = new THREE.AudioLoader();\n",
       "\t\taudioLoader.load('../../sounds/la#3.wav', function(buffer) {\n",
       "\t\t\tsound.setBuffer(buffer);\n",
       "\t\t\tsound.setLoop(false);\n",
       "\t\t\tsound.setVolume(2.0);\n",
       "\t\t\tsound.play();\n",
       "\t\t});\n",
       "    </script>"
      ],
      "text/plain": [
       "<IPython.core.display.HTML object>"
      ]
     },
     "metadata": {},
     "output_type": "display_data"
    },
    {
     "name": "stdout",
     "output_type": "stream",
     "text": [
      "la#3 "
     ]
    },
    {
     "data": {
      "text/html": [
       "<script type=\"module\">\n",
       "\t\timport * as THREE from 'https://unpkg.com/three@0.127.0/build/three.module.js';\n",
       "\t\t\n",
       "\t\tconst camera = new THREE.Camera();\n",
       "\n",
       "\t\tconst scene = new THREE.Scene();\n",
       "\n",
       "\t\t// create an AudioListener and add it to the camera \n",
       "\t\tconst listener = new THREE.AudioListener();\n",
       "\t\tcamera.add(listener); // create a global audio source\n",
       "\n",
       "\t\tconst sound = new THREE.Audio(listener); // load a sound and set it as the Audio object's buffer \n",
       "\n",
       "\t\tconst audioLoader = new THREE.AudioLoader();\n",
       "\t\taudioLoader.load('../../sounds/si3.wav', function(buffer) {\n",
       "\t\t\tsound.setBuffer(buffer);\n",
       "\t\t\tsound.setLoop(false);\n",
       "\t\t\tsound.setVolume(2.0);\n",
       "\t\t\tsound.play();\n",
       "\t\t});\n",
       "    </script>"
      ],
      "text/plain": [
       "<IPython.core.display.HTML object>"
      ]
     },
     "metadata": {},
     "output_type": "display_data"
    },
    {
     "name": "stdout",
     "output_type": "stream",
     "text": [
      "si3 "
     ]
    },
    {
     "data": {
      "text/html": [
       "<script type=\"module\">\n",
       "\t\timport * as THREE from 'https://unpkg.com/three@0.127.0/build/three.module.js';\n",
       "\t\t\n",
       "\t\tconst camera = new THREE.Camera();\n",
       "\n",
       "\t\tconst scene = new THREE.Scene();\n",
       "\n",
       "\t\t// create an AudioListener and add it to the camera \n",
       "\t\tconst listener = new THREE.AudioListener();\n",
       "\t\tcamera.add(listener); // create a global audio source\n",
       "\n",
       "\t\tconst sound = new THREE.Audio(listener); // load a sound and set it as the Audio object's buffer \n",
       "\n",
       "\t\tconst audioLoader = new THREE.AudioLoader();\n",
       "\t\taudioLoader.load('../../sounds/do4.wav', function(buffer) {\n",
       "\t\t\tsound.setBuffer(buffer);\n",
       "\t\t\tsound.setLoop(false);\n",
       "\t\t\tsound.setVolume(2.0);\n",
       "\t\t\tsound.play();\n",
       "\t\t});\n",
       "    </script>"
      ],
      "text/plain": [
       "<IPython.core.display.HTML object>"
      ]
     },
     "metadata": {},
     "output_type": "display_data"
    },
    {
     "name": "stdout",
     "output_type": "stream",
     "text": [
      "do4 "
     ]
    },
    {
     "data": {
      "text/html": [
       "<script type=\"module\">\n",
       "\t\timport * as THREE from 'https://unpkg.com/three@0.127.0/build/three.module.js';\n",
       "\t\t\n",
       "\t\tconst camera = new THREE.Camera();\n",
       "\n",
       "\t\tconst scene = new THREE.Scene();\n",
       "\n",
       "\t\t// create an AudioListener and add it to the camera \n",
       "\t\tconst listener = new THREE.AudioListener();\n",
       "\t\tcamera.add(listener); // create a global audio source\n",
       "\n",
       "\t\tconst sound = new THREE.Audio(listener); // load a sound and set it as the Audio object's buffer \n",
       "\n",
       "\t\tconst audioLoader = new THREE.AudioLoader();\n",
       "\t\taudioLoader.load('../../sounds/do#4.wav', function(buffer) {\n",
       "\t\t\tsound.setBuffer(buffer);\n",
       "\t\t\tsound.setLoop(false);\n",
       "\t\t\tsound.setVolume(2.0);\n",
       "\t\t\tsound.play();\n",
       "\t\t});\n",
       "    </script>"
      ],
      "text/plain": [
       "<IPython.core.display.HTML object>"
      ]
     },
     "metadata": {},
     "output_type": "display_data"
    },
    {
     "name": "stdout",
     "output_type": "stream",
     "text": [
      "do#4 "
     ]
    },
    {
     "data": {
      "text/html": [
       "<script type=\"module\">\n",
       "\t\timport * as THREE from 'https://unpkg.com/three@0.127.0/build/three.module.js';\n",
       "\t\t\n",
       "\t\tconst camera = new THREE.Camera();\n",
       "\n",
       "\t\tconst scene = new THREE.Scene();\n",
       "\n",
       "\t\t// create an AudioListener and add it to the camera \n",
       "\t\tconst listener = new THREE.AudioListener();\n",
       "\t\tcamera.add(listener); // create a global audio source\n",
       "\n",
       "\t\tconst sound = new THREE.Audio(listener); // load a sound and set it as the Audio object's buffer \n",
       "\n",
       "\t\tconst audioLoader = new THREE.AudioLoader();\n",
       "\t\taudioLoader.load('../../sounds/re4.wav', function(buffer) {\n",
       "\t\t\tsound.setBuffer(buffer);\n",
       "\t\t\tsound.setLoop(false);\n",
       "\t\t\tsound.setVolume(2.0);\n",
       "\t\t\tsound.play();\n",
       "\t\t});\n",
       "    </script>"
      ],
      "text/plain": [
       "<IPython.core.display.HTML object>"
      ]
     },
     "metadata": {},
     "output_type": "display_data"
    },
    {
     "name": "stdout",
     "output_type": "stream",
     "text": [
      "re4 "
     ]
    },
    {
     "data": {
      "text/html": [
       "<script type=\"module\">\n",
       "\t\timport * as THREE from 'https://unpkg.com/three@0.127.0/build/three.module.js';\n",
       "\t\t\n",
       "\t\tconst camera = new THREE.Camera();\n",
       "\n",
       "\t\tconst scene = new THREE.Scene();\n",
       "\n",
       "\t\t// create an AudioListener and add it to the camera \n",
       "\t\tconst listener = new THREE.AudioListener();\n",
       "\t\tcamera.add(listener); // create a global audio source\n",
       "\n",
       "\t\tconst sound = new THREE.Audio(listener); // load a sound and set it as the Audio object's buffer \n",
       "\n",
       "\t\tconst audioLoader = new THREE.AudioLoader();\n",
       "\t\taudioLoader.load('../../sounds/re#4.wav', function(buffer) {\n",
       "\t\t\tsound.setBuffer(buffer);\n",
       "\t\t\tsound.setLoop(false);\n",
       "\t\t\tsound.setVolume(2.0);\n",
       "\t\t\tsound.play();\n",
       "\t\t});\n",
       "    </script>"
      ],
      "text/plain": [
       "<IPython.core.display.HTML object>"
      ]
     },
     "metadata": {},
     "output_type": "display_data"
    },
    {
     "name": "stdout",
     "output_type": "stream",
     "text": [
      "re#4 "
     ]
    },
    {
     "data": {
      "text/html": [
       "<script type=\"module\">\n",
       "\t\timport * as THREE from 'https://unpkg.com/three@0.127.0/build/three.module.js';\n",
       "\t\t\n",
       "\t\tconst camera = new THREE.Camera();\n",
       "\n",
       "\t\tconst scene = new THREE.Scene();\n",
       "\n",
       "\t\t// create an AudioListener and add it to the camera \n",
       "\t\tconst listener = new THREE.AudioListener();\n",
       "\t\tcamera.add(listener); // create a global audio source\n",
       "\n",
       "\t\tconst sound = new THREE.Audio(listener); // load a sound and set it as the Audio object's buffer \n",
       "\n",
       "\t\tconst audioLoader = new THREE.AudioLoader();\n",
       "\t\taudioLoader.load('../../sounds/mi4.wav', function(buffer) {\n",
       "\t\t\tsound.setBuffer(buffer);\n",
       "\t\t\tsound.setLoop(false);\n",
       "\t\t\tsound.setVolume(2.0);\n",
       "\t\t\tsound.play();\n",
       "\t\t});\n",
       "    </script>"
      ],
      "text/plain": [
       "<IPython.core.display.HTML object>"
      ]
     },
     "metadata": {},
     "output_type": "display_data"
    },
    {
     "name": "stdout",
     "output_type": "stream",
     "text": [
      "mi4 "
     ]
    },
    {
     "data": {
      "text/html": [
       "<script type=\"module\">\n",
       "\t\timport * as THREE from 'https://unpkg.com/three@0.127.0/build/three.module.js';\n",
       "\t\t\n",
       "\t\tconst camera = new THREE.Camera();\n",
       "\n",
       "\t\tconst scene = new THREE.Scene();\n",
       "\n",
       "\t\t// create an AudioListener and add it to the camera \n",
       "\t\tconst listener = new THREE.AudioListener();\n",
       "\t\tcamera.add(listener); // create a global audio source\n",
       "\n",
       "\t\tconst sound = new THREE.Audio(listener); // load a sound and set it as the Audio object's buffer \n",
       "\n",
       "\t\tconst audioLoader = new THREE.AudioLoader();\n",
       "\t\taudioLoader.load('../../sounds/fa4.wav', function(buffer) {\n",
       "\t\t\tsound.setBuffer(buffer);\n",
       "\t\t\tsound.setLoop(false);\n",
       "\t\t\tsound.setVolume(2.0);\n",
       "\t\t\tsound.play();\n",
       "\t\t});\n",
       "    </script>"
      ],
      "text/plain": [
       "<IPython.core.display.HTML object>"
      ]
     },
     "metadata": {},
     "output_type": "display_data"
    },
    {
     "name": "stdout",
     "output_type": "stream",
     "text": [
      "fa4 "
     ]
    },
    {
     "data": {
      "text/html": [
       "<script type=\"module\">\n",
       "\t\timport * as THREE from 'https://unpkg.com/three@0.127.0/build/three.module.js';\n",
       "\t\t\n",
       "\t\tconst camera = new THREE.Camera();\n",
       "\n",
       "\t\tconst scene = new THREE.Scene();\n",
       "\n",
       "\t\t// create an AudioListener and add it to the camera \n",
       "\t\tconst listener = new THREE.AudioListener();\n",
       "\t\tcamera.add(listener); // create a global audio source\n",
       "\n",
       "\t\tconst sound = new THREE.Audio(listener); // load a sound and set it as the Audio object's buffer \n",
       "\n",
       "\t\tconst audioLoader = new THREE.AudioLoader();\n",
       "\t\taudioLoader.load('../../sounds/fa#4.wav', function(buffer) {\n",
       "\t\t\tsound.setBuffer(buffer);\n",
       "\t\t\tsound.setLoop(false);\n",
       "\t\t\tsound.setVolume(2.0);\n",
       "\t\t\tsound.play();\n",
       "\t\t});\n",
       "    </script>"
      ],
      "text/plain": [
       "<IPython.core.display.HTML object>"
      ]
     },
     "metadata": {},
     "output_type": "display_data"
    },
    {
     "name": "stdout",
     "output_type": "stream",
     "text": [
      "fa#4 "
     ]
    },
    {
     "data": {
      "text/html": [
       "<script type=\"module\">\n",
       "\t\timport * as THREE from 'https://unpkg.com/three@0.127.0/build/three.module.js';\n",
       "\t\t\n",
       "\t\tconst camera = new THREE.Camera();\n",
       "\n",
       "\t\tconst scene = new THREE.Scene();\n",
       "\n",
       "\t\t// create an AudioListener and add it to the camera \n",
       "\t\tconst listener = new THREE.AudioListener();\n",
       "\t\tcamera.add(listener); // create a global audio source\n",
       "\n",
       "\t\tconst sound = new THREE.Audio(listener); // load a sound and set it as the Audio object's buffer \n",
       "\n",
       "\t\tconst audioLoader = new THREE.AudioLoader();\n",
       "\t\taudioLoader.load('../../sounds/sol4.wav', function(buffer) {\n",
       "\t\t\tsound.setBuffer(buffer);\n",
       "\t\t\tsound.setLoop(false);\n",
       "\t\t\tsound.setVolume(2.0);\n",
       "\t\t\tsound.play();\n",
       "\t\t});\n",
       "    </script>"
      ],
      "text/plain": [
       "<IPython.core.display.HTML object>"
      ]
     },
     "metadata": {},
     "output_type": "display_data"
    },
    {
     "name": "stdout",
     "output_type": "stream",
     "text": [
      "sol4 "
     ]
    },
    {
     "data": {
      "text/html": [
       "<script type=\"module\">\n",
       "\t\timport * as THREE from 'https://unpkg.com/three@0.127.0/build/three.module.js';\n",
       "\t\t\n",
       "\t\tconst camera = new THREE.Camera();\n",
       "\n",
       "\t\tconst scene = new THREE.Scene();\n",
       "\n",
       "\t\t// create an AudioListener and add it to the camera \n",
       "\t\tconst listener = new THREE.AudioListener();\n",
       "\t\tcamera.add(listener); // create a global audio source\n",
       "\n",
       "\t\tconst sound = new THREE.Audio(listener); // load a sound and set it as the Audio object's buffer \n",
       "\n",
       "\t\tconst audioLoader = new THREE.AudioLoader();\n",
       "\t\taudioLoader.load('../../sounds/sol#4.wav', function(buffer) {\n",
       "\t\t\tsound.setBuffer(buffer);\n",
       "\t\t\tsound.setLoop(false);\n",
       "\t\t\tsound.setVolume(2.0);\n",
       "\t\t\tsound.play();\n",
       "\t\t});\n",
       "    </script>"
      ],
      "text/plain": [
       "<IPython.core.display.HTML object>"
      ]
     },
     "metadata": {},
     "output_type": "display_data"
    },
    {
     "name": "stdout",
     "output_type": "stream",
     "text": [
      "sol#4 "
     ]
    },
    {
     "data": {
      "text/html": [
       "<script type=\"module\">\n",
       "\t\timport * as THREE from 'https://unpkg.com/three@0.127.0/build/three.module.js';\n",
       "\t\t\n",
       "\t\tconst camera = new THREE.Camera();\n",
       "\n",
       "\t\tconst scene = new THREE.Scene();\n",
       "\n",
       "\t\t// create an AudioListener and add it to the camera \n",
       "\t\tconst listener = new THREE.AudioListener();\n",
       "\t\tcamera.add(listener); // create a global audio source\n",
       "\n",
       "\t\tconst sound = new THREE.Audio(listener); // load a sound and set it as the Audio object's buffer \n",
       "\n",
       "\t\tconst audioLoader = new THREE.AudioLoader();\n",
       "\t\taudioLoader.load('../../sounds/la4.wav', function(buffer) {\n",
       "\t\t\tsound.setBuffer(buffer);\n",
       "\t\t\tsound.setLoop(false);\n",
       "\t\t\tsound.setVolume(2.0);\n",
       "\t\t\tsound.play();\n",
       "\t\t});\n",
       "    </script>"
      ],
      "text/plain": [
       "<IPython.core.display.HTML object>"
      ]
     },
     "metadata": {},
     "output_type": "display_data"
    },
    {
     "name": "stdout",
     "output_type": "stream",
     "text": [
      "la4 "
     ]
    },
    {
     "data": {
      "text/html": [
       "<script type=\"module\">\n",
       "\t\timport * as THREE from 'https://unpkg.com/three@0.127.0/build/three.module.js';\n",
       "\t\t\n",
       "\t\tconst camera = new THREE.Camera();\n",
       "\n",
       "\t\tconst scene = new THREE.Scene();\n",
       "\n",
       "\t\t// create an AudioListener and add it to the camera \n",
       "\t\tconst listener = new THREE.AudioListener();\n",
       "\t\tcamera.add(listener); // create a global audio source\n",
       "\n",
       "\t\tconst sound = new THREE.Audio(listener); // load a sound and set it as the Audio object's buffer \n",
       "\n",
       "\t\tconst audioLoader = new THREE.AudioLoader();\n",
       "\t\taudioLoader.load('../../sounds/la#4.wav', function(buffer) {\n",
       "\t\t\tsound.setBuffer(buffer);\n",
       "\t\t\tsound.setLoop(false);\n",
       "\t\t\tsound.setVolume(2.0);\n",
       "\t\t\tsound.play();\n",
       "\t\t});\n",
       "    </script>"
      ],
      "text/plain": [
       "<IPython.core.display.HTML object>"
      ]
     },
     "metadata": {},
     "output_type": "display_data"
    },
    {
     "name": "stdout",
     "output_type": "stream",
     "text": [
      "la#4 "
     ]
    },
    {
     "data": {
      "text/html": [
       "<script type=\"module\">\n",
       "\t\timport * as THREE from 'https://unpkg.com/three@0.127.0/build/three.module.js';\n",
       "\t\t\n",
       "\t\tconst camera = new THREE.Camera();\n",
       "\n",
       "\t\tconst scene = new THREE.Scene();\n",
       "\n",
       "\t\t// create an AudioListener and add it to the camera \n",
       "\t\tconst listener = new THREE.AudioListener();\n",
       "\t\tcamera.add(listener); // create a global audio source\n",
       "\n",
       "\t\tconst sound = new THREE.Audio(listener); // load a sound and set it as the Audio object's buffer \n",
       "\n",
       "\t\tconst audioLoader = new THREE.AudioLoader();\n",
       "\t\taudioLoader.load('../../sounds/si4.wav', function(buffer) {\n",
       "\t\t\tsound.setBuffer(buffer);\n",
       "\t\t\tsound.setLoop(false);\n",
       "\t\t\tsound.setVolume(2.0);\n",
       "\t\t\tsound.play();\n",
       "\t\t});\n",
       "    </script>"
      ],
      "text/plain": [
       "<IPython.core.display.HTML object>"
      ]
     },
     "metadata": {},
     "output_type": "display_data"
    },
    {
     "name": "stdout",
     "output_type": "stream",
     "text": [
      "si4 "
     ]
    },
    {
     "data": {
      "text/html": [
       "<script type=\"module\">\n",
       "\t\timport * as THREE from 'https://unpkg.com/three@0.127.0/build/three.module.js';\n",
       "\t\t\n",
       "\t\tconst camera = new THREE.Camera();\n",
       "\n",
       "\t\tconst scene = new THREE.Scene();\n",
       "\n",
       "\t\t// create an AudioListener and add it to the camera \n",
       "\t\tconst listener = new THREE.AudioListener();\n",
       "\t\tcamera.add(listener); // create a global audio source\n",
       "\n",
       "\t\tconst sound = new THREE.Audio(listener); // load a sound and set it as the Audio object's buffer \n",
       "\n",
       "\t\tconst audioLoader = new THREE.AudioLoader();\n",
       "\t\taudioLoader.load('../../sounds/do5.wav', function(buffer) {\n",
       "\t\t\tsound.setBuffer(buffer);\n",
       "\t\t\tsound.setLoop(false);\n",
       "\t\t\tsound.setVolume(2.0);\n",
       "\t\t\tsound.play();\n",
       "\t\t});\n",
       "    </script>"
      ],
      "text/plain": [
       "<IPython.core.display.HTML object>"
      ]
     },
     "metadata": {},
     "output_type": "display_data"
    },
    {
     "name": "stdout",
     "output_type": "stream",
     "text": [
      "do5 "
     ]
    },
    {
     "data": {
      "text/html": [
       "<script type=\"module\">\n",
       "\t\timport * as THREE from 'https://unpkg.com/three@0.127.0/build/three.module.js';\n",
       "\t\t\n",
       "\t\tconst camera = new THREE.Camera();\n",
       "\n",
       "\t\tconst scene = new THREE.Scene();\n",
       "\n",
       "\t\t// create an AudioListener and add it to the camera \n",
       "\t\tconst listener = new THREE.AudioListener();\n",
       "\t\tcamera.add(listener); // create a global audio source\n",
       "\n",
       "\t\tconst sound = new THREE.Audio(listener); // load a sound and set it as the Audio object's buffer \n",
       "\n",
       "\t\tconst audioLoader = new THREE.AudioLoader();\n",
       "\t\taudioLoader.load('../../sounds/do#5.wav', function(buffer) {\n",
       "\t\t\tsound.setBuffer(buffer);\n",
       "\t\t\tsound.setLoop(false);\n",
       "\t\t\tsound.setVolume(2.0);\n",
       "\t\t\tsound.play();\n",
       "\t\t});\n",
       "    </script>"
      ],
      "text/plain": [
       "<IPython.core.display.HTML object>"
      ]
     },
     "metadata": {},
     "output_type": "display_data"
    },
    {
     "name": "stdout",
     "output_type": "stream",
     "text": [
      "do#5 "
     ]
    },
    {
     "data": {
      "text/html": [
       "<script type=\"module\">\n",
       "\t\timport * as THREE from 'https://unpkg.com/three@0.127.0/build/three.module.js';\n",
       "\t\t\n",
       "\t\tconst camera = new THREE.Camera();\n",
       "\n",
       "\t\tconst scene = new THREE.Scene();\n",
       "\n",
       "\t\t// create an AudioListener and add it to the camera \n",
       "\t\tconst listener = new THREE.AudioListener();\n",
       "\t\tcamera.add(listener); // create a global audio source\n",
       "\n",
       "\t\tconst sound = new THREE.Audio(listener); // load a sound and set it as the Audio object's buffer \n",
       "\n",
       "\t\tconst audioLoader = new THREE.AudioLoader();\n",
       "\t\taudioLoader.load('../../sounds/re5.wav', function(buffer) {\n",
       "\t\t\tsound.setBuffer(buffer);\n",
       "\t\t\tsound.setLoop(false);\n",
       "\t\t\tsound.setVolume(2.0);\n",
       "\t\t\tsound.play();\n",
       "\t\t});\n",
       "    </script>"
      ],
      "text/plain": [
       "<IPython.core.display.HTML object>"
      ]
     },
     "metadata": {},
     "output_type": "display_data"
    },
    {
     "name": "stdout",
     "output_type": "stream",
     "text": [
      "re5 "
     ]
    },
    {
     "data": {
      "text/html": [
       "<script type=\"module\">\n",
       "\t\timport * as THREE from 'https://unpkg.com/three@0.127.0/build/three.module.js';\n",
       "\t\t\n",
       "\t\tconst camera = new THREE.Camera();\n",
       "\n",
       "\t\tconst scene = new THREE.Scene();\n",
       "\n",
       "\t\t// create an AudioListener and add it to the camera \n",
       "\t\tconst listener = new THREE.AudioListener();\n",
       "\t\tcamera.add(listener); // create a global audio source\n",
       "\n",
       "\t\tconst sound = new THREE.Audio(listener); // load a sound and set it as the Audio object's buffer \n",
       "\n",
       "\t\tconst audioLoader = new THREE.AudioLoader();\n",
       "\t\taudioLoader.load('../../sounds/re#5.wav', function(buffer) {\n",
       "\t\t\tsound.setBuffer(buffer);\n",
       "\t\t\tsound.setLoop(false);\n",
       "\t\t\tsound.setVolume(2.0);\n",
       "\t\t\tsound.play();\n",
       "\t\t});\n",
       "    </script>"
      ],
      "text/plain": [
       "<IPython.core.display.HTML object>"
      ]
     },
     "metadata": {},
     "output_type": "display_data"
    },
    {
     "name": "stdout",
     "output_type": "stream",
     "text": [
      "re#5 "
     ]
    },
    {
     "data": {
      "text/html": [
       "<script type=\"module\">\n",
       "\t\timport * as THREE from 'https://unpkg.com/three@0.127.0/build/three.module.js';\n",
       "\t\t\n",
       "\t\tconst camera = new THREE.Camera();\n",
       "\n",
       "\t\tconst scene = new THREE.Scene();\n",
       "\n",
       "\t\t// create an AudioListener and add it to the camera \n",
       "\t\tconst listener = new THREE.AudioListener();\n",
       "\t\tcamera.add(listener); // create a global audio source\n",
       "\n",
       "\t\tconst sound = new THREE.Audio(listener); // load a sound and set it as the Audio object's buffer \n",
       "\n",
       "\t\tconst audioLoader = new THREE.AudioLoader();\n",
       "\t\taudioLoader.load('../../sounds/mi5.wav', function(buffer) {\n",
       "\t\t\tsound.setBuffer(buffer);\n",
       "\t\t\tsound.setLoop(false);\n",
       "\t\t\tsound.setVolume(2.0);\n",
       "\t\t\tsound.play();\n",
       "\t\t});\n",
       "    </script>"
      ],
      "text/plain": [
       "<IPython.core.display.HTML object>"
      ]
     },
     "metadata": {},
     "output_type": "display_data"
    },
    {
     "name": "stdout",
     "output_type": "stream",
     "text": [
      "mi5 "
     ]
    },
    {
     "data": {
      "text/html": [
       "<script type=\"module\">\n",
       "\t\timport * as THREE from 'https://unpkg.com/three@0.127.0/build/three.module.js';\n",
       "\t\t\n",
       "\t\tconst camera = new THREE.Camera();\n",
       "\n",
       "\t\tconst scene = new THREE.Scene();\n",
       "\n",
       "\t\t// create an AudioListener and add it to the camera \n",
       "\t\tconst listener = new THREE.AudioListener();\n",
       "\t\tcamera.add(listener); // create a global audio source\n",
       "\n",
       "\t\tconst sound = new THREE.Audio(listener); // load a sound and set it as the Audio object's buffer \n",
       "\n",
       "\t\tconst audioLoader = new THREE.AudioLoader();\n",
       "\t\taudioLoader.load('../../sounds/fa5.wav', function(buffer) {\n",
       "\t\t\tsound.setBuffer(buffer);\n",
       "\t\t\tsound.setLoop(false);\n",
       "\t\t\tsound.setVolume(2.0);\n",
       "\t\t\tsound.play();\n",
       "\t\t});\n",
       "    </script>"
      ],
      "text/plain": [
       "<IPython.core.display.HTML object>"
      ]
     },
     "metadata": {},
     "output_type": "display_data"
    },
    {
     "name": "stdout",
     "output_type": "stream",
     "text": [
      "fa5 "
     ]
    },
    {
     "data": {
      "text/html": [
       "<script type=\"module\">\n",
       "\t\timport * as THREE from 'https://unpkg.com/three@0.127.0/build/three.module.js';\n",
       "\t\t\n",
       "\t\tconst camera = new THREE.Camera();\n",
       "\n",
       "\t\tconst scene = new THREE.Scene();\n",
       "\n",
       "\t\t// create an AudioListener and add it to the camera \n",
       "\t\tconst listener = new THREE.AudioListener();\n",
       "\t\tcamera.add(listener); // create a global audio source\n",
       "\n",
       "\t\tconst sound = new THREE.Audio(listener); // load a sound and set it as the Audio object's buffer \n",
       "\n",
       "\t\tconst audioLoader = new THREE.AudioLoader();\n",
       "\t\taudioLoader.load('../../sounds/fa#5.wav', function(buffer) {\n",
       "\t\t\tsound.setBuffer(buffer);\n",
       "\t\t\tsound.setLoop(false);\n",
       "\t\t\tsound.setVolume(2.0);\n",
       "\t\t\tsound.play();\n",
       "\t\t});\n",
       "    </script>"
      ],
      "text/plain": [
       "<IPython.core.display.HTML object>"
      ]
     },
     "metadata": {},
     "output_type": "display_data"
    },
    {
     "name": "stdout",
     "output_type": "stream",
     "text": [
      "fa#5 "
     ]
    },
    {
     "data": {
      "text/html": [
       "<script type=\"module\">\n",
       "\t\timport * as THREE from 'https://unpkg.com/three@0.127.0/build/three.module.js';\n",
       "\t\t\n",
       "\t\tconst camera = new THREE.Camera();\n",
       "\n",
       "\t\tconst scene = new THREE.Scene();\n",
       "\n",
       "\t\t// create an AudioListener and add it to the camera \n",
       "\t\tconst listener = new THREE.AudioListener();\n",
       "\t\tcamera.add(listener); // create a global audio source\n",
       "\n",
       "\t\tconst sound = new THREE.Audio(listener); // load a sound and set it as the Audio object's buffer \n",
       "\n",
       "\t\tconst audioLoader = new THREE.AudioLoader();\n",
       "\t\taudioLoader.load('../../sounds/sol5.wav', function(buffer) {\n",
       "\t\t\tsound.setBuffer(buffer);\n",
       "\t\t\tsound.setLoop(false);\n",
       "\t\t\tsound.setVolume(2.0);\n",
       "\t\t\tsound.play();\n",
       "\t\t});\n",
       "    </script>"
      ],
      "text/plain": [
       "<IPython.core.display.HTML object>"
      ]
     },
     "metadata": {},
     "output_type": "display_data"
    },
    {
     "name": "stdout",
     "output_type": "stream",
     "text": [
      "sol5 "
     ]
    }
   ],
   "source": [
    "play_sounds(\"do\", 3, \"sol\", 5)"
   ]
  },
  {
   "cell_type": "code",
   "execution_count": 17,
   "id": "intelligent-needle",
   "metadata": {},
   "outputs": [
    {
     "data": {
      "text/html": [
       "<script type=\"module\">\n",
       "\t\timport * as THREE from 'https://unpkg.com/three@0.127.0/build/three.module.js';\n",
       "\t\t\n",
       "\t\tconst camera = new THREE.Camera();\n",
       "\n",
       "\t\tconst scene = new THREE.Scene();\n",
       "\n",
       "\t\t// create an AudioListener and add it to the camera \n",
       "\t\tconst listener = new THREE.AudioListener();\n",
       "\t\tcamera.add(listener); // create a global audio source\n",
       "\n",
       "\t\tconst sound = new THREE.Audio(listener); // load a sound and set it as the Audio object's buffer \n",
       "\n",
       "\t\tconst audioLoader = new THREE.AudioLoader();\n",
       "\t\taudioLoader.load('../../sounds/do3.wav', function(buffer) {\n",
       "\t\t\tsound.setBuffer(buffer);\n",
       "\t\t\tsound.setLoop(false);\n",
       "\t\t\tsound.setVolume(2.0);\n",
       "\t\t\tsound.play();\n",
       "\t\t});\n",
       "    </script>"
      ],
      "text/plain": [
       "<IPython.core.display.HTML object>"
      ]
     },
     "metadata": {},
     "output_type": "display_data"
    }
   ],
   "source": [
    "a = Audio(\"../../sounds/do3.wav\")\n",
    "a.play()"
   ]
  },
  {
   "cell_type": "code",
   "execution_count": 5,
   "id": "distant-afghanistan",
   "metadata": {},
   "outputs": [],
   "source": [
    "#Test avec Threejs, en préchargeant les sons\n",
    "\n",
    "import sys\n",
    "sys.path.insert(0, \"../..\")\n",
    "from audio import Audio\n",
    "import time\n",
    "\n",
    "note_names = [\"do\", \"do#\", \"re\", \"re#\", \"mi\", \"fa\", \"fa#\", \"sol\", \"sol#\", \"la\", \"la#\", \"si\"]\n",
    "\n",
    "def play_sounds(start_note, start_height, end_note, end_height):\n",
    "    #Setting up looping variables\n",
    "    i = note_names.index(start_note)\n",
    "    end_idx = (note_names.index(end_note) + 1) % len(note_names)\n",
    "    height = start_height\n",
    "    if end_idx == 0:\n",
    "        end_height += 1\n",
    "    \n",
    "    #Loading sounds\n",
    "    loaded_sounds = []\n",
    "    while not (height == end_height and i == end_idx):\n",
    "        sound = Audio(\"../../sounds/{}{}.wav\".format(note_names[i], height))\n",
    "        tone = \"{}{}\".format(note_names[i], height)\n",
    "        loaded_sounds.append((sound, tone))\n",
    "        i = (i+1) % len(note_names)\n",
    "        if i == 0:\n",
    "            height += 1\n",
    "\n",
    "    #Playing\n",
    "    print(\"playing\", end=\" \")\n",
    "    for sound, tone in loaded_sounds:\n",
    "        print(tone, end=\" \")\n",
    "        time.sleep(0.1)\n",
    "        sound.play()\n",
    "        time.sleep(0.5)"
   ]
  },
  {
   "cell_type": "code",
   "execution_count": 6,
   "id": "located-grammar",
   "metadata": {},
   "outputs": [
    {
     "data": {
      "text/html": [
       "<script type=\"module\">\n",
       "\t\timport * as THREE from 'https://unpkg.com/three@0.127.0/build/three.module.js';\n",
       "\t\t\n",
       "\t\tconst camera = new THREE.Camera();\n",
       "\n",
       "\t\tconst scene = new THREE.Scene();\n",
       "\n",
       "\t\t// create an AudioListener and add it to the camera \n",
       "\t\tconst listener = new THREE.AudioListener();\n",
       "\t\tcamera.add(listener); // create a global audio source\n",
       "\n",
       "\t\tconst sound = new THREE.Audio(listener); // load a sound and set it as the Audio object's buffer \n",
       "\n",
       "\t\tconst audioLoader = new THREE.AudioLoader();\n",
       "\t\taudioLoader.load('../../sounds/do3.wav', function(buffer) {\n",
       "\t\t\tsound.setBuffer(buffer);\n",
       "\t\t\tsound.setLoop(false);\n",
       "\t\t\tsound.setVolume(2.0);\n",
       "\t\t\tsound.play();\n",
       "\t\t});\n",
       "    </script>"
      ],
      "text/plain": [
       "<IPython.core.display.HTML object>"
      ]
     },
     "metadata": {},
     "output_type": "display_data"
    },
    {
     "data": {
      "text/html": [
       "<script type=\"module\">\n",
       "\t\timport * as THREE from 'https://unpkg.com/three@0.127.0/build/three.module.js';\n",
       "\t\t\n",
       "\t\tconst camera = new THREE.Camera();\n",
       "\n",
       "\t\tconst scene = new THREE.Scene();\n",
       "\n",
       "\t\t// create an AudioListener and add it to the camera \n",
       "\t\tconst listener = new THREE.AudioListener();\n",
       "\t\tcamera.add(listener); // create a global audio source\n",
       "\n",
       "\t\tconst sound = new THREE.Audio(listener); // load a sound and set it as the Audio object's buffer \n",
       "\n",
       "\t\tconst audioLoader = new THREE.AudioLoader();\n",
       "\t\taudioLoader.load('../../sounds/do#3.wav', function(buffer) {\n",
       "\t\t\tsound.setBuffer(buffer);\n",
       "\t\t\tsound.setLoop(false);\n",
       "\t\t\tsound.setVolume(2.0);\n",
       "\t\t\tsound.play();\n",
       "\t\t});\n",
       "    </script>"
      ],
      "text/plain": [
       "<IPython.core.display.HTML object>"
      ]
     },
     "metadata": {},
     "output_type": "display_data"
    },
    {
     "data": {
      "text/html": [
       "<script type=\"module\">\n",
       "\t\timport * as THREE from 'https://unpkg.com/three@0.127.0/build/three.module.js';\n",
       "\t\t\n",
       "\t\tconst camera = new THREE.Camera();\n",
       "\n",
       "\t\tconst scene = new THREE.Scene();\n",
       "\n",
       "\t\t// create an AudioListener and add it to the camera \n",
       "\t\tconst listener = new THREE.AudioListener();\n",
       "\t\tcamera.add(listener); // create a global audio source\n",
       "\n",
       "\t\tconst sound = new THREE.Audio(listener); // load a sound and set it as the Audio object's buffer \n",
       "\n",
       "\t\tconst audioLoader = new THREE.AudioLoader();\n",
       "\t\taudioLoader.load('../../sounds/re3.wav', function(buffer) {\n",
       "\t\t\tsound.setBuffer(buffer);\n",
       "\t\t\tsound.setLoop(false);\n",
       "\t\t\tsound.setVolume(2.0);\n",
       "\t\t\tsound.play();\n",
       "\t\t});\n",
       "    </script>"
      ],
      "text/plain": [
       "<IPython.core.display.HTML object>"
      ]
     },
     "metadata": {},
     "output_type": "display_data"
    },
    {
     "data": {
      "text/html": [
       "<script type=\"module\">\n",
       "\t\timport * as THREE from 'https://unpkg.com/three@0.127.0/build/three.module.js';\n",
       "\t\t\n",
       "\t\tconst camera = new THREE.Camera();\n",
       "\n",
       "\t\tconst scene = new THREE.Scene();\n",
       "\n",
       "\t\t// create an AudioListener and add it to the camera \n",
       "\t\tconst listener = new THREE.AudioListener();\n",
       "\t\tcamera.add(listener); // create a global audio source\n",
       "\n",
       "\t\tconst sound = new THREE.Audio(listener); // load a sound and set it as the Audio object's buffer \n",
       "\n",
       "\t\tconst audioLoader = new THREE.AudioLoader();\n",
       "\t\taudioLoader.load('../../sounds/re#3.wav', function(buffer) {\n",
       "\t\t\tsound.setBuffer(buffer);\n",
       "\t\t\tsound.setLoop(false);\n",
       "\t\t\tsound.setVolume(2.0);\n",
       "\t\t\tsound.play();\n",
       "\t\t});\n",
       "    </script>"
      ],
      "text/plain": [
       "<IPython.core.display.HTML object>"
      ]
     },
     "metadata": {},
     "output_type": "display_data"
    },
    {
     "data": {
      "text/html": [
       "<script type=\"module\">\n",
       "\t\timport * as THREE from 'https://unpkg.com/three@0.127.0/build/three.module.js';\n",
       "\t\t\n",
       "\t\tconst camera = new THREE.Camera();\n",
       "\n",
       "\t\tconst scene = new THREE.Scene();\n",
       "\n",
       "\t\t// create an AudioListener and add it to the camera \n",
       "\t\tconst listener = new THREE.AudioListener();\n",
       "\t\tcamera.add(listener); // create a global audio source\n",
       "\n",
       "\t\tconst sound = new THREE.Audio(listener); // load a sound and set it as the Audio object's buffer \n",
       "\n",
       "\t\tconst audioLoader = new THREE.AudioLoader();\n",
       "\t\taudioLoader.load('../../sounds/mi3.wav', function(buffer) {\n",
       "\t\t\tsound.setBuffer(buffer);\n",
       "\t\t\tsound.setLoop(false);\n",
       "\t\t\tsound.setVolume(2.0);\n",
       "\t\t\tsound.play();\n",
       "\t\t});\n",
       "    </script>"
      ],
      "text/plain": [
       "<IPython.core.display.HTML object>"
      ]
     },
     "metadata": {},
     "output_type": "display_data"
    },
    {
     "data": {
      "text/html": [
       "<script type=\"module\">\n",
       "\t\timport * as THREE from 'https://unpkg.com/three@0.127.0/build/three.module.js';\n",
       "\t\t\n",
       "\t\tconst camera = new THREE.Camera();\n",
       "\n",
       "\t\tconst scene = new THREE.Scene();\n",
       "\n",
       "\t\t// create an AudioListener and add it to the camera \n",
       "\t\tconst listener = new THREE.AudioListener();\n",
       "\t\tcamera.add(listener); // create a global audio source\n",
       "\n",
       "\t\tconst sound = new THREE.Audio(listener); // load a sound and set it as the Audio object's buffer \n",
       "\n",
       "\t\tconst audioLoader = new THREE.AudioLoader();\n",
       "\t\taudioLoader.load('../../sounds/fa3.wav', function(buffer) {\n",
       "\t\t\tsound.setBuffer(buffer);\n",
       "\t\t\tsound.setLoop(false);\n",
       "\t\t\tsound.setVolume(2.0);\n",
       "\t\t\tsound.play();\n",
       "\t\t});\n",
       "    </script>"
      ],
      "text/plain": [
       "<IPython.core.display.HTML object>"
      ]
     },
     "metadata": {},
     "output_type": "display_data"
    },
    {
     "data": {
      "text/html": [
       "<script type=\"module\">\n",
       "\t\timport * as THREE from 'https://unpkg.com/three@0.127.0/build/three.module.js';\n",
       "\t\t\n",
       "\t\tconst camera = new THREE.Camera();\n",
       "\n",
       "\t\tconst scene = new THREE.Scene();\n",
       "\n",
       "\t\t// create an AudioListener and add it to the camera \n",
       "\t\tconst listener = new THREE.AudioListener();\n",
       "\t\tcamera.add(listener); // create a global audio source\n",
       "\n",
       "\t\tconst sound = new THREE.Audio(listener); // load a sound and set it as the Audio object's buffer \n",
       "\n",
       "\t\tconst audioLoader = new THREE.AudioLoader();\n",
       "\t\taudioLoader.load('../../sounds/fa#3.wav', function(buffer) {\n",
       "\t\t\tsound.setBuffer(buffer);\n",
       "\t\t\tsound.setLoop(false);\n",
       "\t\t\tsound.setVolume(2.0);\n",
       "\t\t\tsound.play();\n",
       "\t\t});\n",
       "    </script>"
      ],
      "text/plain": [
       "<IPython.core.display.HTML object>"
      ]
     },
     "metadata": {},
     "output_type": "display_data"
    },
    {
     "data": {
      "text/html": [
       "<script type=\"module\">\n",
       "\t\timport * as THREE from 'https://unpkg.com/three@0.127.0/build/three.module.js';\n",
       "\t\t\n",
       "\t\tconst camera = new THREE.Camera();\n",
       "\n",
       "\t\tconst scene = new THREE.Scene();\n",
       "\n",
       "\t\t// create an AudioListener and add it to the camera \n",
       "\t\tconst listener = new THREE.AudioListener();\n",
       "\t\tcamera.add(listener); // create a global audio source\n",
       "\n",
       "\t\tconst sound = new THREE.Audio(listener); // load a sound and set it as the Audio object's buffer \n",
       "\n",
       "\t\tconst audioLoader = new THREE.AudioLoader();\n",
       "\t\taudioLoader.load('../../sounds/sol3.wav', function(buffer) {\n",
       "\t\t\tsound.setBuffer(buffer);\n",
       "\t\t\tsound.setLoop(false);\n",
       "\t\t\tsound.setVolume(2.0);\n",
       "\t\t\tsound.play();\n",
       "\t\t});\n",
       "    </script>"
      ],
      "text/plain": [
       "<IPython.core.display.HTML object>"
      ]
     },
     "metadata": {},
     "output_type": "display_data"
    },
    {
     "data": {
      "text/html": [
       "<script type=\"module\">\n",
       "\t\timport * as THREE from 'https://unpkg.com/three@0.127.0/build/three.module.js';\n",
       "\t\t\n",
       "\t\tconst camera = new THREE.Camera();\n",
       "\n",
       "\t\tconst scene = new THREE.Scene();\n",
       "\n",
       "\t\t// create an AudioListener and add it to the camera \n",
       "\t\tconst listener = new THREE.AudioListener();\n",
       "\t\tcamera.add(listener); // create a global audio source\n",
       "\n",
       "\t\tconst sound = new THREE.Audio(listener); // load a sound and set it as the Audio object's buffer \n",
       "\n",
       "\t\tconst audioLoader = new THREE.AudioLoader();\n",
       "\t\taudioLoader.load('../../sounds/sol#3.wav', function(buffer) {\n",
       "\t\t\tsound.setBuffer(buffer);\n",
       "\t\t\tsound.setLoop(false);\n",
       "\t\t\tsound.setVolume(2.0);\n",
       "\t\t\tsound.play();\n",
       "\t\t});\n",
       "    </script>"
      ],
      "text/plain": [
       "<IPython.core.display.HTML object>"
      ]
     },
     "metadata": {},
     "output_type": "display_data"
    },
    {
     "data": {
      "text/html": [
       "<script type=\"module\">\n",
       "\t\timport * as THREE from 'https://unpkg.com/three@0.127.0/build/three.module.js';\n",
       "\t\t\n",
       "\t\tconst camera = new THREE.Camera();\n",
       "\n",
       "\t\tconst scene = new THREE.Scene();\n",
       "\n",
       "\t\t// create an AudioListener and add it to the camera \n",
       "\t\tconst listener = new THREE.AudioListener();\n",
       "\t\tcamera.add(listener); // create a global audio source\n",
       "\n",
       "\t\tconst sound = new THREE.Audio(listener); // load a sound and set it as the Audio object's buffer \n",
       "\n",
       "\t\tconst audioLoader = new THREE.AudioLoader();\n",
       "\t\taudioLoader.load('../../sounds/la3.wav', function(buffer) {\n",
       "\t\t\tsound.setBuffer(buffer);\n",
       "\t\t\tsound.setLoop(false);\n",
       "\t\t\tsound.setVolume(2.0);\n",
       "\t\t\tsound.play();\n",
       "\t\t});\n",
       "    </script>"
      ],
      "text/plain": [
       "<IPython.core.display.HTML object>"
      ]
     },
     "metadata": {},
     "output_type": "display_data"
    },
    {
     "data": {
      "text/html": [
       "<script type=\"module\">\n",
       "\t\timport * as THREE from 'https://unpkg.com/three@0.127.0/build/three.module.js';\n",
       "\t\t\n",
       "\t\tconst camera = new THREE.Camera();\n",
       "\n",
       "\t\tconst scene = new THREE.Scene();\n",
       "\n",
       "\t\t// create an AudioListener and add it to the camera \n",
       "\t\tconst listener = new THREE.AudioListener();\n",
       "\t\tcamera.add(listener); // create a global audio source\n",
       "\n",
       "\t\tconst sound = new THREE.Audio(listener); // load a sound and set it as the Audio object's buffer \n",
       "\n",
       "\t\tconst audioLoader = new THREE.AudioLoader();\n",
       "\t\taudioLoader.load('../../sounds/la#3.wav', function(buffer) {\n",
       "\t\t\tsound.setBuffer(buffer);\n",
       "\t\t\tsound.setLoop(false);\n",
       "\t\t\tsound.setVolume(2.0);\n",
       "\t\t\tsound.play();\n",
       "\t\t});\n",
       "    </script>"
      ],
      "text/plain": [
       "<IPython.core.display.HTML object>"
      ]
     },
     "metadata": {},
     "output_type": "display_data"
    },
    {
     "data": {
      "text/html": [
       "<script type=\"module\">\n",
       "\t\timport * as THREE from 'https://unpkg.com/three@0.127.0/build/three.module.js';\n",
       "\t\t\n",
       "\t\tconst camera = new THREE.Camera();\n",
       "\n",
       "\t\tconst scene = new THREE.Scene();\n",
       "\n",
       "\t\t// create an AudioListener and add it to the camera \n",
       "\t\tconst listener = new THREE.AudioListener();\n",
       "\t\tcamera.add(listener); // create a global audio source\n",
       "\n",
       "\t\tconst sound = new THREE.Audio(listener); // load a sound and set it as the Audio object's buffer \n",
       "\n",
       "\t\tconst audioLoader = new THREE.AudioLoader();\n",
       "\t\taudioLoader.load('../../sounds/si3.wav', function(buffer) {\n",
       "\t\t\tsound.setBuffer(buffer);\n",
       "\t\t\tsound.setLoop(false);\n",
       "\t\t\tsound.setVolume(2.0);\n",
       "\t\t\tsound.play();\n",
       "\t\t});\n",
       "    </script>"
      ],
      "text/plain": [
       "<IPython.core.display.HTML object>"
      ]
     },
     "metadata": {},
     "output_type": "display_data"
    },
    {
     "data": {
      "text/html": [
       "<script type=\"module\">\n",
       "\t\timport * as THREE from 'https://unpkg.com/three@0.127.0/build/three.module.js';\n",
       "\t\t\n",
       "\t\tconst camera = new THREE.Camera();\n",
       "\n",
       "\t\tconst scene = new THREE.Scene();\n",
       "\n",
       "\t\t// create an AudioListener and add it to the camera \n",
       "\t\tconst listener = new THREE.AudioListener();\n",
       "\t\tcamera.add(listener); // create a global audio source\n",
       "\n",
       "\t\tconst sound = new THREE.Audio(listener); // load a sound and set it as the Audio object's buffer \n",
       "\n",
       "\t\tconst audioLoader = new THREE.AudioLoader();\n",
       "\t\taudioLoader.load('../../sounds/do4.wav', function(buffer) {\n",
       "\t\t\tsound.setBuffer(buffer);\n",
       "\t\t\tsound.setLoop(false);\n",
       "\t\t\tsound.setVolume(2.0);\n",
       "\t\t\tsound.play();\n",
       "\t\t});\n",
       "    </script>"
      ],
      "text/plain": [
       "<IPython.core.display.HTML object>"
      ]
     },
     "metadata": {},
     "output_type": "display_data"
    },
    {
     "data": {
      "text/html": [
       "<script type=\"module\">\n",
       "\t\timport * as THREE from 'https://unpkg.com/three@0.127.0/build/three.module.js';\n",
       "\t\t\n",
       "\t\tconst camera = new THREE.Camera();\n",
       "\n",
       "\t\tconst scene = new THREE.Scene();\n",
       "\n",
       "\t\t// create an AudioListener and add it to the camera \n",
       "\t\tconst listener = new THREE.AudioListener();\n",
       "\t\tcamera.add(listener); // create a global audio source\n",
       "\n",
       "\t\tconst sound = new THREE.Audio(listener); // load a sound and set it as the Audio object's buffer \n",
       "\n",
       "\t\tconst audioLoader = new THREE.AudioLoader();\n",
       "\t\taudioLoader.load('../../sounds/do#4.wav', function(buffer) {\n",
       "\t\t\tsound.setBuffer(buffer);\n",
       "\t\t\tsound.setLoop(false);\n",
       "\t\t\tsound.setVolume(2.0);\n",
       "\t\t\tsound.play();\n",
       "\t\t});\n",
       "    </script>"
      ],
      "text/plain": [
       "<IPython.core.display.HTML object>"
      ]
     },
     "metadata": {},
     "output_type": "display_data"
    },
    {
     "data": {
      "text/html": [
       "<script type=\"module\">\n",
       "\t\timport * as THREE from 'https://unpkg.com/three@0.127.0/build/three.module.js';\n",
       "\t\t\n",
       "\t\tconst camera = new THREE.Camera();\n",
       "\n",
       "\t\tconst scene = new THREE.Scene();\n",
       "\n",
       "\t\t// create an AudioListener and add it to the camera \n",
       "\t\tconst listener = new THREE.AudioListener();\n",
       "\t\tcamera.add(listener); // create a global audio source\n",
       "\n",
       "\t\tconst sound = new THREE.Audio(listener); // load a sound and set it as the Audio object's buffer \n",
       "\n",
       "\t\tconst audioLoader = new THREE.AudioLoader();\n",
       "\t\taudioLoader.load('../../sounds/re4.wav', function(buffer) {\n",
       "\t\t\tsound.setBuffer(buffer);\n",
       "\t\t\tsound.setLoop(false);\n",
       "\t\t\tsound.setVolume(2.0);\n",
       "\t\t\tsound.play();\n",
       "\t\t});\n",
       "    </script>"
      ],
      "text/plain": [
       "<IPython.core.display.HTML object>"
      ]
     },
     "metadata": {},
     "output_type": "display_data"
    },
    {
     "data": {
      "text/html": [
       "<script type=\"module\">\n",
       "\t\timport * as THREE from 'https://unpkg.com/three@0.127.0/build/three.module.js';\n",
       "\t\t\n",
       "\t\tconst camera = new THREE.Camera();\n",
       "\n",
       "\t\tconst scene = new THREE.Scene();\n",
       "\n",
       "\t\t// create an AudioListener and add it to the camera \n",
       "\t\tconst listener = new THREE.AudioListener();\n",
       "\t\tcamera.add(listener); // create a global audio source\n",
       "\n",
       "\t\tconst sound = new THREE.Audio(listener); // load a sound and set it as the Audio object's buffer \n",
       "\n",
       "\t\tconst audioLoader = new THREE.AudioLoader();\n",
       "\t\taudioLoader.load('../../sounds/re#4.wav', function(buffer) {\n",
       "\t\t\tsound.setBuffer(buffer);\n",
       "\t\t\tsound.setLoop(false);\n",
       "\t\t\tsound.setVolume(2.0);\n",
       "\t\t\tsound.play();\n",
       "\t\t});\n",
       "    </script>"
      ],
      "text/plain": [
       "<IPython.core.display.HTML object>"
      ]
     },
     "metadata": {},
     "output_type": "display_data"
    },
    {
     "data": {
      "text/html": [
       "<script type=\"module\">\n",
       "\t\timport * as THREE from 'https://unpkg.com/three@0.127.0/build/three.module.js';\n",
       "\t\t\n",
       "\t\tconst camera = new THREE.Camera();\n",
       "\n",
       "\t\tconst scene = new THREE.Scene();\n",
       "\n",
       "\t\t// create an AudioListener and add it to the camera \n",
       "\t\tconst listener = new THREE.AudioListener();\n",
       "\t\tcamera.add(listener); // create a global audio source\n",
       "\n",
       "\t\tconst sound = new THREE.Audio(listener); // load a sound and set it as the Audio object's buffer \n",
       "\n",
       "\t\tconst audioLoader = new THREE.AudioLoader();\n",
       "\t\taudioLoader.load('../../sounds/mi4.wav', function(buffer) {\n",
       "\t\t\tsound.setBuffer(buffer);\n",
       "\t\t\tsound.setLoop(false);\n",
       "\t\t\tsound.setVolume(2.0);\n",
       "\t\t\tsound.play();\n",
       "\t\t});\n",
       "    </script>"
      ],
      "text/plain": [
       "<IPython.core.display.HTML object>"
      ]
     },
     "metadata": {},
     "output_type": "display_data"
    },
    {
     "data": {
      "text/html": [
       "<script type=\"module\">\n",
       "\t\timport * as THREE from 'https://unpkg.com/three@0.127.0/build/three.module.js';\n",
       "\t\t\n",
       "\t\tconst camera = new THREE.Camera();\n",
       "\n",
       "\t\tconst scene = new THREE.Scene();\n",
       "\n",
       "\t\t// create an AudioListener and add it to the camera \n",
       "\t\tconst listener = new THREE.AudioListener();\n",
       "\t\tcamera.add(listener); // create a global audio source\n",
       "\n",
       "\t\tconst sound = new THREE.Audio(listener); // load a sound and set it as the Audio object's buffer \n",
       "\n",
       "\t\tconst audioLoader = new THREE.AudioLoader();\n",
       "\t\taudioLoader.load('../../sounds/fa4.wav', function(buffer) {\n",
       "\t\t\tsound.setBuffer(buffer);\n",
       "\t\t\tsound.setLoop(false);\n",
       "\t\t\tsound.setVolume(2.0);\n",
       "\t\t\tsound.play();\n",
       "\t\t});\n",
       "    </script>"
      ],
      "text/plain": [
       "<IPython.core.display.HTML object>"
      ]
     },
     "metadata": {},
     "output_type": "display_data"
    },
    {
     "data": {
      "text/html": [
       "<script type=\"module\">\n",
       "\t\timport * as THREE from 'https://unpkg.com/three@0.127.0/build/three.module.js';\n",
       "\t\t\n",
       "\t\tconst camera = new THREE.Camera();\n",
       "\n",
       "\t\tconst scene = new THREE.Scene();\n",
       "\n",
       "\t\t// create an AudioListener and add it to the camera \n",
       "\t\tconst listener = new THREE.AudioListener();\n",
       "\t\tcamera.add(listener); // create a global audio source\n",
       "\n",
       "\t\tconst sound = new THREE.Audio(listener); // load a sound and set it as the Audio object's buffer \n",
       "\n",
       "\t\tconst audioLoader = new THREE.AudioLoader();\n",
       "\t\taudioLoader.load('../../sounds/fa#4.wav', function(buffer) {\n",
       "\t\t\tsound.setBuffer(buffer);\n",
       "\t\t\tsound.setLoop(false);\n",
       "\t\t\tsound.setVolume(2.0);\n",
       "\t\t\tsound.play();\n",
       "\t\t});\n",
       "    </script>"
      ],
      "text/plain": [
       "<IPython.core.display.HTML object>"
      ]
     },
     "metadata": {},
     "output_type": "display_data"
    },
    {
     "data": {
      "text/html": [
       "<script type=\"module\">\n",
       "\t\timport * as THREE from 'https://unpkg.com/three@0.127.0/build/three.module.js';\n",
       "\t\t\n",
       "\t\tconst camera = new THREE.Camera();\n",
       "\n",
       "\t\tconst scene = new THREE.Scene();\n",
       "\n",
       "\t\t// create an AudioListener and add it to the camera \n",
       "\t\tconst listener = new THREE.AudioListener();\n",
       "\t\tcamera.add(listener); // create a global audio source\n",
       "\n",
       "\t\tconst sound = new THREE.Audio(listener); // load a sound and set it as the Audio object's buffer \n",
       "\n",
       "\t\tconst audioLoader = new THREE.AudioLoader();\n",
       "\t\taudioLoader.load('../../sounds/sol4.wav', function(buffer) {\n",
       "\t\t\tsound.setBuffer(buffer);\n",
       "\t\t\tsound.setLoop(false);\n",
       "\t\t\tsound.setVolume(2.0);\n",
       "\t\t\tsound.play();\n",
       "\t\t});\n",
       "    </script>"
      ],
      "text/plain": [
       "<IPython.core.display.HTML object>"
      ]
     },
     "metadata": {},
     "output_type": "display_data"
    },
    {
     "data": {
      "text/html": [
       "<script type=\"module\">\n",
       "\t\timport * as THREE from 'https://unpkg.com/three@0.127.0/build/three.module.js';\n",
       "\t\t\n",
       "\t\tconst camera = new THREE.Camera();\n",
       "\n",
       "\t\tconst scene = new THREE.Scene();\n",
       "\n",
       "\t\t// create an AudioListener and add it to the camera \n",
       "\t\tconst listener = new THREE.AudioListener();\n",
       "\t\tcamera.add(listener); // create a global audio source\n",
       "\n",
       "\t\tconst sound = new THREE.Audio(listener); // load a sound and set it as the Audio object's buffer \n",
       "\n",
       "\t\tconst audioLoader = new THREE.AudioLoader();\n",
       "\t\taudioLoader.load('../../sounds/sol#4.wav', function(buffer) {\n",
       "\t\t\tsound.setBuffer(buffer);\n",
       "\t\t\tsound.setLoop(false);\n",
       "\t\t\tsound.setVolume(2.0);\n",
       "\t\t\tsound.play();\n",
       "\t\t});\n",
       "    </script>"
      ],
      "text/plain": [
       "<IPython.core.display.HTML object>"
      ]
     },
     "metadata": {},
     "output_type": "display_data"
    },
    {
     "data": {
      "text/html": [
       "<script type=\"module\">\n",
       "\t\timport * as THREE from 'https://unpkg.com/three@0.127.0/build/three.module.js';\n",
       "\t\t\n",
       "\t\tconst camera = new THREE.Camera();\n",
       "\n",
       "\t\tconst scene = new THREE.Scene();\n",
       "\n",
       "\t\t// create an AudioListener and add it to the camera \n",
       "\t\tconst listener = new THREE.AudioListener();\n",
       "\t\tcamera.add(listener); // create a global audio source\n",
       "\n",
       "\t\tconst sound = new THREE.Audio(listener); // load a sound and set it as the Audio object's buffer \n",
       "\n",
       "\t\tconst audioLoader = new THREE.AudioLoader();\n",
       "\t\taudioLoader.load('../../sounds/la4.wav', function(buffer) {\n",
       "\t\t\tsound.setBuffer(buffer);\n",
       "\t\t\tsound.setLoop(false);\n",
       "\t\t\tsound.setVolume(2.0);\n",
       "\t\t\tsound.play();\n",
       "\t\t});\n",
       "    </script>"
      ],
      "text/plain": [
       "<IPython.core.display.HTML object>"
      ]
     },
     "metadata": {},
     "output_type": "display_data"
    },
    {
     "data": {
      "text/html": [
       "<script type=\"module\">\n",
       "\t\timport * as THREE from 'https://unpkg.com/three@0.127.0/build/three.module.js';\n",
       "\t\t\n",
       "\t\tconst camera = new THREE.Camera();\n",
       "\n",
       "\t\tconst scene = new THREE.Scene();\n",
       "\n",
       "\t\t// create an AudioListener and add it to the camera \n",
       "\t\tconst listener = new THREE.AudioListener();\n",
       "\t\tcamera.add(listener); // create a global audio source\n",
       "\n",
       "\t\tconst sound = new THREE.Audio(listener); // load a sound and set it as the Audio object's buffer \n",
       "\n",
       "\t\tconst audioLoader = new THREE.AudioLoader();\n",
       "\t\taudioLoader.load('../../sounds/la#4.wav', function(buffer) {\n",
       "\t\t\tsound.setBuffer(buffer);\n",
       "\t\t\tsound.setLoop(false);\n",
       "\t\t\tsound.setVolume(2.0);\n",
       "\t\t\tsound.play();\n",
       "\t\t});\n",
       "    </script>"
      ],
      "text/plain": [
       "<IPython.core.display.HTML object>"
      ]
     },
     "metadata": {},
     "output_type": "display_data"
    },
    {
     "data": {
      "text/html": [
       "<script type=\"module\">\n",
       "\t\timport * as THREE from 'https://unpkg.com/three@0.127.0/build/three.module.js';\n",
       "\t\t\n",
       "\t\tconst camera = new THREE.Camera();\n",
       "\n",
       "\t\tconst scene = new THREE.Scene();\n",
       "\n",
       "\t\t// create an AudioListener and add it to the camera \n",
       "\t\tconst listener = new THREE.AudioListener();\n",
       "\t\tcamera.add(listener); // create a global audio source\n",
       "\n",
       "\t\tconst sound = new THREE.Audio(listener); // load a sound and set it as the Audio object's buffer \n",
       "\n",
       "\t\tconst audioLoader = new THREE.AudioLoader();\n",
       "\t\taudioLoader.load('../../sounds/si4.wav', function(buffer) {\n",
       "\t\t\tsound.setBuffer(buffer);\n",
       "\t\t\tsound.setLoop(false);\n",
       "\t\t\tsound.setVolume(2.0);\n",
       "\t\t\tsound.play();\n",
       "\t\t});\n",
       "    </script>"
      ],
      "text/plain": [
       "<IPython.core.display.HTML object>"
      ]
     },
     "metadata": {},
     "output_type": "display_data"
    },
    {
     "data": {
      "text/html": [
       "<script type=\"module\">\n",
       "\t\timport * as THREE from 'https://unpkg.com/three@0.127.0/build/three.module.js';\n",
       "\t\t\n",
       "\t\tconst camera = new THREE.Camera();\n",
       "\n",
       "\t\tconst scene = new THREE.Scene();\n",
       "\n",
       "\t\t// create an AudioListener and add it to the camera \n",
       "\t\tconst listener = new THREE.AudioListener();\n",
       "\t\tcamera.add(listener); // create a global audio source\n",
       "\n",
       "\t\tconst sound = new THREE.Audio(listener); // load a sound and set it as the Audio object's buffer \n",
       "\n",
       "\t\tconst audioLoader = new THREE.AudioLoader();\n",
       "\t\taudioLoader.load('../../sounds/do5.wav', function(buffer) {\n",
       "\t\t\tsound.setBuffer(buffer);\n",
       "\t\t\tsound.setLoop(false);\n",
       "\t\t\tsound.setVolume(2.0);\n",
       "\t\t\tsound.play();\n",
       "\t\t});\n",
       "    </script>"
      ],
      "text/plain": [
       "<IPython.core.display.HTML object>"
      ]
     },
     "metadata": {},
     "output_type": "display_data"
    },
    {
     "data": {
      "text/html": [
       "<script type=\"module\">\n",
       "\t\timport * as THREE from 'https://unpkg.com/three@0.127.0/build/three.module.js';\n",
       "\t\t\n",
       "\t\tconst camera = new THREE.Camera();\n",
       "\n",
       "\t\tconst scene = new THREE.Scene();\n",
       "\n",
       "\t\t// create an AudioListener and add it to the camera \n",
       "\t\tconst listener = new THREE.AudioListener();\n",
       "\t\tcamera.add(listener); // create a global audio source\n",
       "\n",
       "\t\tconst sound = new THREE.Audio(listener); // load a sound and set it as the Audio object's buffer \n",
       "\n",
       "\t\tconst audioLoader = new THREE.AudioLoader();\n",
       "\t\taudioLoader.load('../../sounds/do#5.wav', function(buffer) {\n",
       "\t\t\tsound.setBuffer(buffer);\n",
       "\t\t\tsound.setLoop(false);\n",
       "\t\t\tsound.setVolume(2.0);\n",
       "\t\t\tsound.play();\n",
       "\t\t});\n",
       "    </script>"
      ],
      "text/plain": [
       "<IPython.core.display.HTML object>"
      ]
     },
     "metadata": {},
     "output_type": "display_data"
    },
    {
     "data": {
      "text/html": [
       "<script type=\"module\">\n",
       "\t\timport * as THREE from 'https://unpkg.com/three@0.127.0/build/three.module.js';\n",
       "\t\t\n",
       "\t\tconst camera = new THREE.Camera();\n",
       "\n",
       "\t\tconst scene = new THREE.Scene();\n",
       "\n",
       "\t\t// create an AudioListener and add it to the camera \n",
       "\t\tconst listener = new THREE.AudioListener();\n",
       "\t\tcamera.add(listener); // create a global audio source\n",
       "\n",
       "\t\tconst sound = new THREE.Audio(listener); // load a sound and set it as the Audio object's buffer \n",
       "\n",
       "\t\tconst audioLoader = new THREE.AudioLoader();\n",
       "\t\taudioLoader.load('../../sounds/re5.wav', function(buffer) {\n",
       "\t\t\tsound.setBuffer(buffer);\n",
       "\t\t\tsound.setLoop(false);\n",
       "\t\t\tsound.setVolume(2.0);\n",
       "\t\t\tsound.play();\n",
       "\t\t});\n",
       "    </script>"
      ],
      "text/plain": [
       "<IPython.core.display.HTML object>"
      ]
     },
     "metadata": {},
     "output_type": "display_data"
    },
    {
     "data": {
      "text/html": [
       "<script type=\"module\">\n",
       "\t\timport * as THREE from 'https://unpkg.com/three@0.127.0/build/three.module.js';\n",
       "\t\t\n",
       "\t\tconst camera = new THREE.Camera();\n",
       "\n",
       "\t\tconst scene = new THREE.Scene();\n",
       "\n",
       "\t\t// create an AudioListener and add it to the camera \n",
       "\t\tconst listener = new THREE.AudioListener();\n",
       "\t\tcamera.add(listener); // create a global audio source\n",
       "\n",
       "\t\tconst sound = new THREE.Audio(listener); // load a sound and set it as the Audio object's buffer \n",
       "\n",
       "\t\tconst audioLoader = new THREE.AudioLoader();\n",
       "\t\taudioLoader.load('../../sounds/re#5.wav', function(buffer) {\n",
       "\t\t\tsound.setBuffer(buffer);\n",
       "\t\t\tsound.setLoop(false);\n",
       "\t\t\tsound.setVolume(2.0);\n",
       "\t\t\tsound.play();\n",
       "\t\t});\n",
       "    </script>"
      ],
      "text/plain": [
       "<IPython.core.display.HTML object>"
      ]
     },
     "metadata": {},
     "output_type": "display_data"
    },
    {
     "data": {
      "text/html": [
       "<script type=\"module\">\n",
       "\t\timport * as THREE from 'https://unpkg.com/three@0.127.0/build/three.module.js';\n",
       "\t\t\n",
       "\t\tconst camera = new THREE.Camera();\n",
       "\n",
       "\t\tconst scene = new THREE.Scene();\n",
       "\n",
       "\t\t// create an AudioListener and add it to the camera \n",
       "\t\tconst listener = new THREE.AudioListener();\n",
       "\t\tcamera.add(listener); // create a global audio source\n",
       "\n",
       "\t\tconst sound = new THREE.Audio(listener); // load a sound and set it as the Audio object's buffer \n",
       "\n",
       "\t\tconst audioLoader = new THREE.AudioLoader();\n",
       "\t\taudioLoader.load('../../sounds/mi5.wav', function(buffer) {\n",
       "\t\t\tsound.setBuffer(buffer);\n",
       "\t\t\tsound.setLoop(false);\n",
       "\t\t\tsound.setVolume(2.0);\n",
       "\t\t\tsound.play();\n",
       "\t\t});\n",
       "    </script>"
      ],
      "text/plain": [
       "<IPython.core.display.HTML object>"
      ]
     },
     "metadata": {},
     "output_type": "display_data"
    },
    {
     "data": {
      "text/html": [
       "<script type=\"module\">\n",
       "\t\timport * as THREE from 'https://unpkg.com/three@0.127.0/build/three.module.js';\n",
       "\t\t\n",
       "\t\tconst camera = new THREE.Camera();\n",
       "\n",
       "\t\tconst scene = new THREE.Scene();\n",
       "\n",
       "\t\t// create an AudioListener and add it to the camera \n",
       "\t\tconst listener = new THREE.AudioListener();\n",
       "\t\tcamera.add(listener); // create a global audio source\n",
       "\n",
       "\t\tconst sound = new THREE.Audio(listener); // load a sound and set it as the Audio object's buffer \n",
       "\n",
       "\t\tconst audioLoader = new THREE.AudioLoader();\n",
       "\t\taudioLoader.load('../../sounds/fa5.wav', function(buffer) {\n",
       "\t\t\tsound.setBuffer(buffer);\n",
       "\t\t\tsound.setLoop(false);\n",
       "\t\t\tsound.setVolume(2.0);\n",
       "\t\t\tsound.play();\n",
       "\t\t});\n",
       "    </script>"
      ],
      "text/plain": [
       "<IPython.core.display.HTML object>"
      ]
     },
     "metadata": {},
     "output_type": "display_data"
    },
    {
     "data": {
      "text/html": [
       "<script type=\"module\">\n",
       "\t\timport * as THREE from 'https://unpkg.com/three@0.127.0/build/three.module.js';\n",
       "\t\t\n",
       "\t\tconst camera = new THREE.Camera();\n",
       "\n",
       "\t\tconst scene = new THREE.Scene();\n",
       "\n",
       "\t\t// create an AudioListener and add it to the camera \n",
       "\t\tconst listener = new THREE.AudioListener();\n",
       "\t\tcamera.add(listener); // create a global audio source\n",
       "\n",
       "\t\tconst sound = new THREE.Audio(listener); // load a sound and set it as the Audio object's buffer \n",
       "\n",
       "\t\tconst audioLoader = new THREE.AudioLoader();\n",
       "\t\taudioLoader.load('../../sounds/fa#5.wav', function(buffer) {\n",
       "\t\t\tsound.setBuffer(buffer);\n",
       "\t\t\tsound.setLoop(false);\n",
       "\t\t\tsound.setVolume(2.0);\n",
       "\t\t\tsound.play();\n",
       "\t\t});\n",
       "    </script>"
      ],
      "text/plain": [
       "<IPython.core.display.HTML object>"
      ]
     },
     "metadata": {},
     "output_type": "display_data"
    },
    {
     "data": {
      "text/html": [
       "<script type=\"module\">\n",
       "\t\timport * as THREE from 'https://unpkg.com/three@0.127.0/build/three.module.js';\n",
       "\t\t\n",
       "\t\tconst camera = new THREE.Camera();\n",
       "\n",
       "\t\tconst scene = new THREE.Scene();\n",
       "\n",
       "\t\t// create an AudioListener and add it to the camera \n",
       "\t\tconst listener = new THREE.AudioListener();\n",
       "\t\tcamera.add(listener); // create a global audio source\n",
       "\n",
       "\t\tconst sound = new THREE.Audio(listener); // load a sound and set it as the Audio object's buffer \n",
       "\n",
       "\t\tconst audioLoader = new THREE.AudioLoader();\n",
       "\t\taudioLoader.load('../../sounds/sol5.wav', function(buffer) {\n",
       "\t\t\tsound.setBuffer(buffer);\n",
       "\t\t\tsound.setLoop(false);\n",
       "\t\t\tsound.setVolume(2.0);\n",
       "\t\t\tsound.play();\n",
       "\t\t});\n",
       "    </script>"
      ],
      "text/plain": [
       "<IPython.core.display.HTML object>"
      ]
     },
     "metadata": {},
     "output_type": "display_data"
    },
    {
     "name": "stdout",
     "output_type": "stream",
     "text": [
      "playing do3 do#3 re3 re#3 mi3 fa3 fa#3 sol3 sol#3 la3 la#3 si3 do4 do#4 re4 re#4 mi4 fa4 fa#4 sol4 sol#4 la4 la#4 si4 do5 do#5 re5 re#5 mi5 fa5 fa#5 sol5 "
     ]
    }
   ],
   "source": [
    "play_sounds(\"do\", 3, \"sol\", 5)"
   ]
  },
  {
   "cell_type": "code",
   "execution_count": 1,
   "id": "accepting-director",
   "metadata": {},
   "outputs": [],
   "source": [
    "import sys\n",
    "sys.path.insert(0, \"../..\")\n",
    "from audio import Audio"
   ]
  },
  {
   "cell_type": "code",
   "execution_count": 4,
   "id": "configured-species",
   "metadata": {},
   "outputs": [
    {
     "data": {
      "text/plain": [
       "<Channel at 0x17561a15e90>"
      ]
     },
     "execution_count": 4,
     "metadata": {},
     "output_type": "execute_result"
    }
   ],
   "source": [
    "from pygame import mixer\n",
    "import time\n",
    "mixer.init()\n",
    "a = mixer.Sound(\"../../sounds/do.wav\")\n",
    "a.play()\n",
    "time.sleep(0.2)\n",
    "a.play()"
   ]
  },
  {
   "cell_type": "code",
   "execution_count": null,
   "id": "british-crown",
   "metadata": {},
   "outputs": [],
   "source": []
  }
 ],
 "metadata": {
  "kernelspec": {
   "display_name": "Python 3",
   "language": "python",
   "name": "python3"
  },
  "language_info": {
   "codemirror_mode": {
    "name": "ipython",
    "version": 3
   },
   "file_extension": ".py",
   "mimetype": "text/x-python",
   "name": "python",
   "nbconvert_exporter": "python",
   "pygments_lexer": "ipython3",
   "version": "3.9.1"
  }
 },
 "nbformat": 4,
 "nbformat_minor": 5
}
