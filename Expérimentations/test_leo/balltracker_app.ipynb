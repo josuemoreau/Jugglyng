{
 "cells": [
  {
   "cell_type": "code",
   "execution_count": 3,
   "id": "cardiovascular-surrey",
   "metadata": {},
   "outputs": [],
   "source": [
    "%config Completer.use_jedi = False\n",
    "import ipywidgets as widgets\n",
    "from IPython.display import display\n",
    "import threading\n",
    "import cv2\n",
    "import numpy as np\n",
    "from enum import Enum\n",
    "from collections import deque\n",
    "import imutils\n",
    "import time\n",
    "import json\n",
    "\n",
    "class Mode(Enum):\n",
    "    HSV_FINDER = 0\n",
    "    BALL_TRACKER = 1\n",
    "    QUIT = 2"
   ]
  },
  {
   "cell_type": "code",
   "execution_count": 4,
   "id": "established-strip",
   "metadata": {},
   "outputs": [
    {
     "data": {
      "text/plain": [
       "True"
      ]
     },
     "execution_count": 4,
     "metadata": {},
     "output_type": "execute_result"
    }
   ],
   "source": [
    "isinstance(Mode.QUIT, Mode)"
   ]
  },
  {
   "cell_type": "code",
   "execution_count": 5,
   "id": "signal-demographic",
   "metadata": {},
   "outputs": [],
   "source": [
    "#implémanter threading un jour ?\n",
    "class VideoPlayer:\n",
    "    def __init__(self, source):\n",
    "        self.cap = cv2.VideoCapture(source)\n",
    "        self.paused = False\n",
    "        self.frame = None\n",
    "        self.loop = True\n",
    "    \n",
    "    def read(self):\n",
    "        \"\"\"if not self.cap.isopened():\n",
    "            return False, None\"\"\"\n",
    "        \n",
    "        if self.paused:\n",
    "            return True, self.frame\n",
    "\n",
    "        ret, self.frame = self.cap.read()\n",
    "        if self.loop and not ret:\n",
    "            self.restart()\n",
    "            ret, self.frame = self.cap.read()\n",
    "        return ret, self.frame\n",
    "        \n",
    "    def pause(self):\n",
    "        if self.frame is None:\n",
    "            self.read()\n",
    "        self.paused = not(self.paused)\n",
    "        \n",
    "    def stop(self):\n",
    "        self.cap.release()\n",
    "    \n",
    "    def restart(self):\n",
    "        self.cap.set(cv2.CAP_PROP_POS_FRAMES, 0)\n",
    "        #Si en pause, on change l'image renvoyée\n",
    "        if self.paused:\n",
    "            _, self.frame = self.cap.read()\n",
    "    \n",
    "    def get_time(self):\n",
    "        return self.cap.get(cv2.CAP_PROP_POS_MSEC)\n",
    "        \n",
    "def convert_single_color(color, convertion_function):\n",
    "    #Cette couleur est bien convertie, mais les entiers qu'elle contient sont du type np.uint8\n",
    "    #On souhaite donc les convertir en le type int natif de python.\n",
    "    converted_color = cv2.cvtColor(np.uint8([[color]]), convertion_function)[0][0]\n",
    "    return tuple(int(elem) for elem in converted_color)"
   ]
  },
  {
   "cell_type": "code",
   "execution_count": 6,
   "id": "touched-savings",
   "metadata": {},
   "outputs": [],
   "source": [
    "#Rajouter count ?\n",
    "class Ball:\n",
    "    maxlen = 16\n",
    "    def __init__(self, name, lower_hsv = (0, 0, 0), higher_hsv = (179, 255, 255), data = dict()):\n",
    "        self.name = name #Changer en \"name\" ?\n",
    "        self.lower_hsv = tuple(lower_hsv)\n",
    "        self.higher_hsv = tuple(higher_hsv)\n",
    "        self.trail = deque(maxlen = self.maxlen)\n",
    "        #Les fonctions de dessin d'opencv utilisent RGB\n",
    "        hsv_trail_color = ((lower_hsv[0] + higher_hsv[0]) // 2, 255, 255)\n",
    "        self.trail_color = convert_single_color(hsv_trail_color, cv2.COLOR_HSV2BGR)\n",
    "        self.data = data\n",
    "    \n",
    "    def to_dict(self):\n",
    "        return {\"name\" : self.name, \"lower_hsv\" : self.lower_hsv,\n",
    "                \"higher_hsv\" : self.higher_hsv, \"data\" : self.data}\n",
    "\n",
    "    @classmethod\n",
    "    def from_dict(cls, d):\n",
    "        return Ball(d[\"name\"], lower_hsv=d[\"lower_hsv\"], higher_hsv=d[\"higher_hsv\"], data=d[\"data\"])\n",
    "    \n",
    "    def __repr__(self):\n",
    "        return \"Ball(name = '{}', lower_hsv = {}, higher_hsv = {})\".format(self.name, self.lower_hsv, self.higher_hsv)"
   ]
  },
  {
   "cell_type": "code",
   "execution_count": 7,
   "id": "aggressive-renaissance",
   "metadata": {
    "scrolled": true
   },
   "outputs": [
    {
     "data": {
      "application/vnd.jupyter.widget-view+json": {
       "model_id": "0172e96c7cce4a46bd81a4cc717a026b",
       "version_major": 2,
       "version_minor": 0
      },
      "text/plain": [
       "Button(description='click me to raise an exception', layout=Layout(width='300px'), style=ButtonStyle())"
      ]
     },
     "metadata": {},
     "output_type": "display_data"
    }
   ],
   "source": [
    "debug_view = widgets.Output(layout={'border': '1px solid black'})\n",
    "\n",
    "@debug_view.capture(clear_output=True)\n",
    "def bad_callback(event):\n",
    "    print('This is about to explode')\n",
    "    return 1.0 / 0.0\n",
    "\n",
    "button = widgets.Button(\n",
    "    description='click me to raise an exception',\n",
    "    layout={'width': '300px'}\n",
    ")\n",
    "button.on_click(bad_callback())\n",
    "button"
   ]
  },
  {
   "cell_type": "code",
   "execution_count": 8,
   "id": "finished-validity",
   "metadata": {},
   "outputs": [
    {
     "data": {
      "application/vnd.jupyter.widget-view+json": {
       "model_id": "50e2017f6df34300ac6355649146af33",
       "version_major": 2,
       "version_minor": 0
      },
      "text/plain": [
       "Output(layout=Layout(border='1px solid black'), outputs=({'output_type': 'error', 'ename': 'TypeError', 'evalu…"
      ]
     },
     "metadata": {},
     "output_type": "display_data"
    }
   ],
   "source": [
    "debug_view"
   ]
  },
  {
   "cell_type": "code",
   "execution_count": 9,
   "id": "legitimate-builder",
   "metadata": {},
   "outputs": [],
   "source": [
    "class BallTracker():\n",
    "    def __init__(self, source=0, data_path=None, mode=Mode.HSV_FINDER):\n",
    "        #self.dropdown.options est un tuple\n",
    "        #Hypothèse : les clés de self.balls sont exactement les éléments de self.dropdown.options\n",
    "        layout = widgets.Layout(width='50%')\n",
    "        button_layout = widgets.Layout(width = '40px')\n",
    "        \n",
    "        #Widgets HSV_FINDER\n",
    "        #Utiliser des IntRangeSlider ?\n",
    "        h_low  = widgets.IntSlider(value=0, min=0, max=179, description='h_low:', layout=layout)\n",
    "        s_low  = widgets.IntSlider(value=0, min=0, max=255, description='s_low:', layout=layout)\n",
    "        v_low  = widgets.IntSlider(value=0, min=0, max=255, description='v_low:', layout=layout)\n",
    "        h_high = widgets.IntSlider(value=179, min=0, max=179, description='h_high:', layout=layout)\n",
    "        s_high = widgets.IntSlider(value=255, min=0, max=255, description='s_high:', layout=layout)\n",
    "        v_high = widgets.IntSlider(value=255, min=0, max=255, description='v_high:', layout=layout)\n",
    "        speed  = widgets.IntSlider(value=30, min=0, max=100, description='speed:', layout=layout)\n",
    "\n",
    "        name_ball = widgets.Text(placeholder='Name ball color')\n",
    "        add_ball = widgets.Button(icon='plus', layout=button_layout)\n",
    "        remove_ball = widgets.Button(icon='remove', layout=button_layout)\n",
    "        modify_ball = widgets.Button(icon='refresh', layout=button_layout)\n",
    "        add_ball.on_click(lambda b : self.add_ball())\n",
    "        remove_ball.on_click(lambda b : self.remove_ball())\n",
    "        modify_ball.on_click(lambda b : self.modify_ball())\n",
    "        \n",
    "        dropdown = widgets.Dropdown(description='Balls :', options=[])\n",
    "        dropdown.observe(lambda change : self.dropdown_observe(change), names=\"value\")\n",
    "        \n",
    "        \"\"\"upload_balls = widgets.Button(icon='upload', layout=button_layout)\n",
    "        download_balls = widgets.Button(icon= 'download', layout=button_layout)\n",
    "        \n",
    "        upload_balls.on_click(lambda b : self.upload_balls())\n",
    "        download_balls.on_click(lambda b : self.download_balls())\"\"\"\n",
    "        \n",
    "        #Widgets BALL_TRACKER\n",
    "        #...\n",
    "        \n",
    "        #Widgets GENERAUX\n",
    "        #...\n",
    "        \n",
    "        self.widgets = {\"h_low\" : h_low, \"s_low\" : s_low, \"v_low\" : v_low,\n",
    "                       \"h_high\" : h_high, \"s_high\" : s_high, \"v_high\" : v_high,\n",
    "                       \"speed\" : speed, \"name_ball\" : name_ball, \"add_ball\" : add_ball,\n",
    "                       \"remove_ball\" : remove_ball, \"modify_ball\" : modify_ball,\n",
    "                       \"dropdown\" : dropdown}\n",
    "        self.dropdown = dropdown #A SUPPRIMER ? \n",
    "        self.balls = dict()\n",
    "        \n",
    "        self.only_video = False\n",
    "        self.vp = None\n",
    "        #self.vp = VideoPlayer(source=source)\n",
    "        self.source = source\n",
    "        self.mode = mode #Check mode ? isinstance(mode, Mode)\n",
    "        self.switch_idx = 0 #A RESET\n",
    "        self.switch_frames = [] #???\n",
    "        self.window_name = 'frame'\n",
    "        self.thread = None\n",
    "        self.grab_coord = True\n",
    "        \n",
    "        if data_path is not None:\n",
    "            self.load_balls(data_path)\n",
    "        \n",
    "    def get_ball_properties_from_widget(self):\n",
    "        name = self.widgets[\"name_ball\"].value\n",
    "        lower_hsv  = (self.widgets[\"h_low\"].value, self.widgets[\"s_low\"].value,\n",
    "                      self.widgets[\"v_low\"].value)\n",
    "        higher_hsv = (self.widgets[\"h_high\"].value, self.widgets[\"s_high\"].value,\n",
    "                      self.widgets[\"v_high\"].value)\n",
    "        return name, lower_hsv, higher_hsv\n",
    "    \n",
    "    def add_ball(self):\n",
    "        name, lower_hsv, higher_hsv = self.get_ball_properties_from_widget()\n",
    "        if name in self.dropdown.options :\n",
    "            print(\"{} existe déjà.\".format(name))\n",
    "            return\n",
    "        self.balls[name] = Ball(name, lower_hsv=lower_hsv, higher_hsv=higher_hsv)\n",
    "        self.dropdown.options = list(self.dropdown.options) + [name]\n",
    "        self.dropdown.value = name\n",
    "        print(self.balls)\n",
    "    \n",
    "    def remove_ball(self):\n",
    "        #Principe : on supprime ou modifie le nom actuellement sélectionné.\n",
    "        name, lower_hsv, higher_hsv = self.get_ball_properties_from_widget()\n",
    "        if len(self.dropdown.options) == 0:\n",
    "            return\n",
    "        to_remove = self.dropdown.value\n",
    "        self.balls.pop(name)\n",
    "        self.dropdown.options = [elem for elem in self.dropdown.options if elem != to_remove]\n",
    "        print(self.balls)\n",
    "        \n",
    "    def modify_ball(self):\n",
    "        new_name, lower_hsv, higher_hsv = self.get_ball_properties_from_widget()\n",
    "        old_name = self.dropdown.value\n",
    "        if old_name != new_name and new_name in self.dropdown.options:\n",
    "            print(\"{} existe déjà.\".format(new_name))\n",
    "            return\n",
    "        ball = self.balls.pop(old_name)\n",
    "        self.balls[new_name] = Ball(new_name, lower_hsv=lower_hsv, higher_hsv=higher_hsv)\n",
    "        self.dropdown.options = [elem if elem != old_name else new_name for elem in self.dropdown.options]\n",
    "        self.dropdown.value = new_name\n",
    "        print(self.balls)\n",
    "    \n",
    "    def dropdown_observe(self, change):\n",
    "        #ATTENTION, IL FAUT D'ABORD CHANGER LES VALEURS, PUIS A LA FIN CHANGER LE SLIDER !\n",
    "        #SINON PB LORS DE L'UPDATE\n",
    "        name = change['new']\n",
    "        #A refaire plus proprement\n",
    "        self.widgets[\"h_low\"].value, self.widgets[\"s_low\"].value, self.widgets[\"v_low\"].value = self.balls[name].lower_hsv\n",
    "        self.widgets[\"h_high\"].value, self.widgets[\"s_high\"].value, self.widgets[\"v_high\"].value = self.balls[name].higher_hsv\n",
    "        self.widgets[\"name_ball\"].value = name\n",
    "        \n",
    "    def save_balls(self, path):\n",
    "        data = [self.balls[name].to_dict() for name in self.dropdown.options]\n",
    "        with open(path, 'w') as f:\n",
    "            json.dump(data, f)\n",
    "        \n",
    "    def load_balls(self, path):\n",
    "        with open(path, 'r') as f:\n",
    "            data = json.load(f)\n",
    "        options = []\n",
    "        self.balls = dict()\n",
    "        for ball_data in data:\n",
    "            ball = Ball.from_dict(ball_data)\n",
    "            self.balls[ball.name] = ball\n",
    "            options.append(ball.name)\n",
    "        self.dropdown.options = options\n",
    "    \n",
    "    def display(self):\n",
    "        #Faire avec Out à l'avenir\n",
    "        display(\n",
    "            widgets.VBox([\n",
    "                self.widgets[\"h_low\"],\n",
    "                self.widgets[\"s_low\"],\n",
    "                self.widgets[\"v_low\"],\n",
    "                self.widgets[\"h_high\"],\n",
    "                self.widgets[\"s_high\"],\n",
    "                self.widgets[\"v_high\"],\n",
    "                self.widgets[\"speed\"], \n",
    "                widgets.HBox([\n",
    "                    widgets.Label(\"Balle :\"),\n",
    "                    self.widgets[\"name_ball\"],\n",
    "                    self.widgets[\"add_ball\"],\n",
    "                    self.widgets[\"remove_ball\"],\n",
    "                    self.widgets[\"modify_ball\"]\n",
    "                ]),\n",
    "                self.widgets[\"dropdown\"]\n",
    "            ])\n",
    "        )\n",
    "    \n",
    "    def run(self):\n",
    "        \n",
    "        cv2.namedWindow(self.window_name, cv2.WINDOW_NORMAL)\n",
    "        while True:\n",
    "            #Choses à faire à chaque fois qu'on change de mode\n",
    "            #...\n",
    "\n",
    "            #Choix du mode\n",
    "            if self.mode == Mode.HSV_FINDER:\n",
    "                self.hsv_finder()\n",
    "            elif self.mode == Mode.BALL_TRACKER:\n",
    "                self.ball_tracker()\n",
    "            elif self.mode == Mode.QUIT:\n",
    "                break\n",
    "            else:\n",
    "                raise ValueError(\"{} n'est pas un mode reconnu.\".format(self.mode))\n",
    "        cv2.destroyWindow(self.window_name)\n",
    "        self.vp.stop()\n",
    "    \n",
    "    #Rajouter choix du mode quand on peut load data.\n",
    "    def start(self, threaded=True):\n",
    "        self.vp = VideoPlayer(source=self.source)\n",
    "        self.display()\n",
    "        #self.mode = Mode.BALL_TRACKER\n",
    "        if threaded:\n",
    "            self.thread = threading.Thread(target=self.run)\n",
    "            #thread = threading.Thread(target = self.test)\n",
    "            self.thread.start()\n",
    "            print(\"started\")\n",
    "        else:\n",
    "            self.widgets['h_low'].value = 50\n",
    "            print(\"started\")\n",
    "            self.run()\n",
    "    \n",
    "    def stop(self):\n",
    "        self.mode = Mode.QUIT\n",
    "    \n",
    "    def hsv_finder(self): #Runs on thread\n",
    "    \n",
    "        def only_color(frame, color_ranges):\n",
    "            h_low, s_low, v_low, h_high, s_high, v_high = color_ranges\n",
    "            hsv = cv2.cvtColor(frame, cv2.COLOR_BGR2HSV)\n",
    "            lower = np.array([h_low, s_low, v_low])\n",
    "            upper = np.array([h_high, s_high, v_high])\n",
    "            mask = cv2.inRange(hsv, lower, upper)\n",
    "            res = cv2.bitwise_and(frame,frame, mask= mask)\n",
    "            return res, mask\n",
    "\n",
    "        while self.mode == Mode.HSV_FINDER:\n",
    "            ret, img = self.vp.read()\n",
    "            if not ret:\n",
    "                self.stop()\n",
    "                break\n",
    "\n",
    "            h_low  = self.widgets[\"h_low\"].value\n",
    "            s_low  = self.widgets[\"s_low\"].value\n",
    "            v_low  = self.widgets[\"v_low\"].value\n",
    "            h_high = self.widgets[\"h_high\"].value\n",
    "            s_high = self.widgets[\"s_high\"].value\n",
    "            v_high = self.widgets[\"v_high\"].value\n",
    "            speed  = self.widgets[\"speed\"].value\n",
    "\n",
    "            img2, mask = only_color(img, (h_low, s_low, v_low, h_high, s_high, v_high))\n",
    "            img_to_draw = img2 if not(self.only_video) else img\n",
    "            cv2.imshow(self.window_name, img_to_draw)\n",
    "\n",
    "            k = cv2.waitKey(speed)\n",
    "            if k == 27:\n",
    "                self.stop()\n",
    "                break #Plus besoin ?\n",
    "            elif k == ord('p'):\n",
    "                self.vp.pause()\n",
    "            elif k == ord('t'):\n",
    "                self.only_video = not(self.only_video)\n",
    "            elif k == ord('m'):\n",
    "                self.mode = Mode.BALL_TRACKER\n",
    "    \n",
    "    def ball_tracker(self): #Runs on thread\n",
    "\n",
    "        while self.mode == Mode.BALL_TRACKER:\n",
    "            ret, frame = self.vp.read()\n",
    "            if not ret:\n",
    "                self.stop()\n",
    "                break\n",
    "                \n",
    "            video_time = self.vp.get_time()\n",
    "\n",
    "            #frame = imutils.resize(frame, width=600)\n",
    "            blurred = cv2.GaussianBlur(frame, (11, 11), 0)\n",
    "            hsv = cv2.cvtColor(blurred, cv2.COLOR_BGR2HSV)\n",
    "            # construct a mask for the color \"green\", then perform a series of dilations\n",
    "            # and erosions to remove any small blobs left in the mask\n",
    "            for ball in self.balls.values():\n",
    "                mask1 = cv2.inRange(hsv, ball.lower_hsv, ball.higher_hsv)\n",
    "                mask2 = cv2.erode(mask1, None, iterations=2)\n",
    "                mask3 = cv2.dilate(mask2, None, iterations=2)\n",
    "                # find contours in the mask and initialize the current (x, y) center of the ball\n",
    "                cnts = cv2.findContours(mask3.copy(), cv2.RETR_EXTERNAL,\n",
    "                    cv2.CHAIN_APPROX_SIMPLE)\n",
    "                cnts = imutils.grab_contours(cnts)\n",
    "                center = None\n",
    "                # only proceed if at least one contour was found\n",
    "                if len(cnts) > 0:\n",
    "                    # find the largest contour in the mask, then use it to compute the minimum \n",
    "                    # enclosing circle and centroid\n",
    "                    c = max(cnts, key=cv2.contourArea)\n",
    "                    ((x, y), radius) = cv2.minEnclosingCircle(c)\n",
    "                    M = cv2.moments(c)\n",
    "                    center = (int(M[\"m10\"] / M[\"m00\"]), int(M[\"m01\"] / M[\"m00\"]))\n",
    "                    # only proceed if the radius meets a minimum size\n",
    "                    if radius > 10:\n",
    "                        # draw the circle and centroid on the frame, then update the list of tracked points\n",
    "                        if not self.only_video :\n",
    "                            cv2.circle(frame, (int(x), int(y)), int(radius), (0, 255, 255), 2)\n",
    "                # update the points queue\n",
    "                ball.trail.appendleft(center)\n",
    "                \n",
    "                if self.grab_coord:\n",
    "                    ball.data[video_time] = center\n",
    "                \n",
    "                # loop over the set of tracked points\n",
    "                for i in range(1, len(ball.trail)):\n",
    "                    # if either of the tracked points are None, ignore them\n",
    "                    if ball.trail[i - 1] is None or ball.trail[i] is None:\n",
    "                        continue\n",
    "                    # otherwise, compute the thickness of the line and draw the connecting lines\n",
    "                    thickness = int(np.sqrt(Ball.maxlen / float(i + 1)) * 2.5)\n",
    "                    if not self.only_video:\n",
    "                        cv2.line(frame, ball.trail[i - 1], ball.trail[i], ball.trail_color, thickness)\n",
    "            # show the frame to our screen\n",
    "            t = [frame, blurred, hsv]\n",
    "            cv2.imshow(self.window_name, t[self.switch_idx])\n",
    "            k = cv2.waitKey(1) & 0xFF\n",
    "            if k == 27:\n",
    "                self.stop()\n",
    "                break\n",
    "            elif k == ord('p'):\n",
    "                self.vp.pause()\n",
    "            elif k == ord('s'):\n",
    "                self.switch_idx = (self.switch_idx + 1) % len(t)\n",
    "            elif k == ord('t'):\n",
    "                self.only_video = not(self.only_video)\n",
    "            elif k == ord('m'):\n",
    "                self.mode = Mode.HSV_FINDER"
   ]
  },
  {
   "cell_type": "code",
   "execution_count": 10,
   "id": "authorized-distance",
   "metadata": {
    "scrolled": true
   },
   "outputs": [
    {
     "data": {
      "application/vnd.jupyter.widget-view+json": {
       "model_id": "5e5a1c61dfd44ce4b1768821d44bdd84",
       "version_major": 2,
       "version_minor": 0
      },
      "text/plain": [
       "VBox(children=(IntSlider(value=0, description='h_low:', layout=Layout(width='50%'), max=179), IntSlider(value=…"
      ]
     },
     "metadata": {},
     "output_type": "display_data"
    },
    {
     "name": "stdout",
     "output_type": "stream",
     "text": [
      "started\n"
     ]
    }
   ],
   "source": [
    "test = BallTracker(source='chant_cut.mp4')\n",
    "test.start(threaded=True)"
   ]
  },
  {
   "cell_type": "code",
   "execution_count": 21,
   "id": "variable-framing",
   "metadata": {},
   "outputs": [],
   "source": [
    "test.load_balls('test.json')"
   ]
  },
  {
   "cell_type": "code",
   "execution_count": 16,
   "id": "plain-underground",
   "metadata": {},
   "outputs": [
    {
     "name": "stdout",
     "output_type": "stream",
     "text": [
      "Ball(name = 'red', lower_hsv = [0, 111, 125], higher_hsv = [7, 184, 255])\n",
      "Ball(name = 'yellow', lower_hsv = [17, 75, 145], higher_hsv = [38, 149, 207])\n",
      "Ball(name = 'blue', lower_hsv = [95, 46, 55], higher_hsv = [119, 207, 194])\n"
     ]
    }
   ],
   "source": [
    "for ball in test.balls.values():\n",
    "    print(ball)"
   ]
  },
  {
   "cell_type": "code",
   "execution_count": null,
   "id": "exempt-review",
   "metadata": {
    "scrolled": true
   },
   "outputs": [],
   "source": [
    "b = widgets.Dropdown(options=[1, 2, 3])\n",
    "b.observe(lambda change : print(change), names=\"value\")\n",
    "display(b)"
   ]
  },
  {
   "cell_type": "code",
   "execution_count": 130,
   "id": "running-member",
   "metadata": {
    "scrolled": true
   },
   "outputs": [],
   "source": [
    "b.options = [1, 2, 3, 4]"
   ]
  },
  {
   "cell_type": "code",
   "execution_count": 131,
   "id": "skilled-accident",
   "metadata": {},
   "outputs": [
    {
     "name": "stdout",
     "output_type": "stream",
     "text": [
      "{'name': 'value', 'old': 1, 'new': 2, 'owner': Dropdown(index=1, options=(1, 2, 3, 4), value=2), 'type': 'change'}\n"
     ]
    }
   ],
   "source": [
    " b.value = 2"
   ]
  },
  {
   "cell_type": "code",
   "execution_count": null,
   "id": "romance-circumstances",
   "metadata": {},
   "outputs": [],
   "source": [
    "a = Test()\n",
    "b = Test()\n",
    "print({\"a\":a, \"b\":b})"
   ]
  },
  {
   "cell_type": "code",
   "execution_count": 88,
   "id": "toxic-architect",
   "metadata": {},
   "outputs": [
    {
     "data": {
      "application/vnd.jupyter.widget-view+json": {
       "model_id": "27f3e53b99e2408a8e0c3aaed0432aa0",
       "version_major": 2,
       "version_minor": 0
      },
      "text/plain": [
       "Output(layout=Layout(border='1px solid black'), outputs=({'output_type': 'stream', 'text': \"{'JV': {'lower_hsv…"
      ]
     },
     "metadata": {},
     "output_type": "display_data"
    }
   ],
   "source": [
    "debug_view"
   ]
  },
  {
   "cell_type": "code",
   "execution_count": 17,
   "id": "radical-biotechnology",
   "metadata": {},
   "outputs": [
    {
     "name": "stdout",
     "output_type": "stream",
     "text": [
      "started  0\n"
     ]
    }
   ],
   "source": [
    "class Test:\n",
    "    def __init__(self):\n",
    "        self.button = widgets.Button(layout={'width': '300px'})\n",
    "        self.button.on_click(lambda b: self.oups())\n",
    "        self.i = 0\n",
    "    \n",
    "    @debug_view.capture(clear_output=True)\n",
    "    def oups(self):\n",
    "        print('This is about to explode')\n",
    "        tmp = 1.0 / 0.0\n",
    "    \n",
    "    def print_sleep(self):\n",
    "        time.sleep(5.0)\n",
    "        print('thread ', self.i)\n",
    "    \n",
    "    def start_thread(self):\n",
    "        thread = threading.Thread(target = self.print_sleep)\n",
    "        thread.start()\n",
    "        print('started ', self.i)\n",
    "    \n",
    "    def display(self):\n",
    "        display(self.button)\n",
    "    \n",
    "    def __repr__(self):\n",
    "        return str(self.i)\n",
    "\n",
    "a = Test()\n",
    "a.start_thread()"
   ]
  },
  {
   "cell_type": "code",
   "execution_count": 18,
   "id": "funny-yorkshire",
   "metadata": {},
   "outputs": [
    {
     "name": "stdout",
     "output_type": "stream",
     "text": [
      "thread  10\n"
     ]
    }
   ],
   "source": [
    "a.i = 10"
   ]
  },
  {
   "cell_type": "code",
   "execution_count": 82,
   "id": "other-remainder",
   "metadata": {},
   "outputs": [
    {
     "data": {
      "application/vnd.jupyter.widget-view+json": {
       "model_id": "27f3e53b99e2408a8e0c3aaed0432aa0",
       "version_major": 2,
       "version_minor": 0
      },
      "text/plain": [
       "Output(layout=Layout(border='1px solid black'), outputs=({'output_type': 'stream', 'text': 'This is about to e…"
      ]
     },
     "metadata": {},
     "output_type": "display_data"
    }
   ],
   "source": [
    "debug_view"
   ]
  },
  {
   "cell_type": "code",
   "execution_count": null,
   "id": "professional-stylus",
   "metadata": {},
   "outputs": [],
   "source": [
    "self.only_video = False\n",
    "self.vp = VideoPlayer(source=source)\n",
    "self.mode = Mode.HSV_FINDER\n",
    "self.switch_idx = 0 #A RESET\n",
    "self.switch_frames = ???\n",
    "self.window_name = 'frame'\n",
    "self.data = dict() # A bien initialiser !\n",
    "\n",
    "def hsv_finder(self): #Runs on thread\n",
    "    \n",
    "    def only_color(frame, color_ranges):\n",
    "        h_low, s_low, v_low, h_high, s_high, v_high = color_ranges\n",
    "        hsv = cv2.cvtColor(frame, cv2.COLOR_BGR2HSV)\n",
    "        lower = np.array([h_low, s_low, v_low])\n",
    "        upper = np.array([h_high, s_high, v_high])\n",
    "        mask = cv2.inRange(hsv, lower, upper)\n",
    "        res = cv2.bitwise_and(frame,frame, mask= mask)\n",
    "        return res, mask\n",
    "    \n",
    "    while self.mode is Mode.HSV_FINDER:\n",
    "        ret, img = self.vp.read()\n",
    "        if not ret:\n",
    "            self.mode = Mode.QUIT\n",
    "            break\n",
    "        \n",
    "        h_low  = self.sliders[\"h_low\"].value\n",
    "        s_low  = self.sliders[\"s_low\"].value\n",
    "        v_low  = self.sliders[\"v_low\"].value\n",
    "        h_high = self.sliders[\"h_high\"].value\n",
    "        s_high = self.sliders[\"s_high\"].value\n",
    "        v_high = self.sliders[\"v_high\"].value\n",
    "        speed  = self.sliders[\"speed\"].value\n",
    "\n",
    "        img2, mask = only_color(img, (h_low, s_low, v_low, h_high, s_high, v_high))\n",
    "        img_to_draw = img2 if not(self.only_video) else img\n",
    "        cv2.imshow(self.window_name, img_to_draw)\n",
    "        \n",
    "        k = cv2.waitKey(speed)\n",
    "        if k == 27:\n",
    "            self.mode = Mode.QUIT\n",
    "            break #Plus besoin ?\n",
    "        elif k == ord('p'):\n",
    "            self.vp.pause()\n",
    "        elif k == ord('t'):\n",
    "            self.only_video = not(self.only_video)\n",
    "        elif k == ord('m'):\n",
    "            self.mode = Mode.BALL_TRACKER\n",
    "        \n",
    "    \"\"\"print('h_low, s_low, v_low, h_high, s_high, v_high\\n{}, {}, {}, {}, {}, {}'.format(\n",
    "        h_low, s_low, v_low, h_high, s_high, v_high))\"\"\"\n",
    "\n",
    "    \n",
    "def ball_tracker(self): #Runs on thread\n",
    "\n",
    "    balls = [Ball(color=\"red\", lower_hsv=(0, 111, 125), higher_hsv=(7, 184, 255)),\n",
    "            Ball(color=\"yellow\", lower_hsv=(17, 75, 145), higher_hsv=(38, 149, 207)),\n",
    "            Ball(color=\"blue\", lower_hsv=(95, 46, 55), higher_hsv=(119, 207, 194))]\n",
    "\n",
    "    #ATTENTION A LOOP ! ET A NE PAS NOMMER UNE BALLE TIME ?\n",
    "    self.data = {ball.color : {\"x\":[], \"y\":[]} for ball in balls}\n",
    "    self.data[\"time\"] = []\n",
    "\n",
    "    while True:\n",
    "        ret, frame = self.vp.read()\n",
    "        if not ret:\n",
    "            self.mode = Mode.QUIT\n",
    "            break\n",
    "        self.data[\"time\"].append(self.vp.cap.get(cv2.CAP_PROP_POS_MSEC))\n",
    "\n",
    "        frame = imutils.resize(frame, width=600)\n",
    "        blurred = cv2.GaussianBlur(frame, (11, 11), 0)\n",
    "        hsv = cv2.cvtColor(blurred, cv2.COLOR_BGR2HSV)\n",
    "        # construct a mask for the color \"green\", then perform a series of dilations\n",
    "        # and erosions to remove any small blobs left in the mask\n",
    "\n",
    "        for ball_name, ball in self.balls.items():\n",
    "            mask1 = cv2.inRange(hsv, ball.lower_hsv, ball.higher_hsv)\n",
    "            mask2 = cv2.erode(mask1, None, iterations=2)\n",
    "            mask3 = cv2.dilate(mask2, None, iterations=2)\n",
    "            # find contours in the mask and initialize the current (x, y) center of the ball\n",
    "            cnts = cv2.findContours(mask3.copy(), cv2.RETR_EXTERNAL,\n",
    "                cv2.CHAIN_APPROX_SIMPLE)\n",
    "            cnts = imutils.grab_contours(cnts)\n",
    "            center = None\n",
    "            # only proceed if at least one contour was found\n",
    "            if len(cnts) > 0:\n",
    "                # find the largest contour in the mask, then use it to compute the minimum \n",
    "                # enclosing circle and centroid\n",
    "                c = max(cnts, key=cv2.contourArea)\n",
    "                ((x, y), radius) = cv2.minEnclosingCircle(c)\n",
    "                self.data[ball.color][\"x\"].append(x)\n",
    "                self.data[ball.color][\"y\"].append(y)\n",
    "                self.data[ball.color][\"time\"].append(self.vp.cap.get(cv2.CAP_PROP_POS_MSEC))\n",
    "                M = cv2.moments(c)\n",
    "                center = (int(M[\"m10\"] / M[\"m00\"]), int(M[\"m01\"] / M[\"m00\"]))\n",
    "                # only proceed if the radius meets a minimum size\n",
    "                if radius > 10:\n",
    "                    # draw the circle and centroid on the frame, then update the list of tracked points\n",
    "                    if not self.only_video :\n",
    "                        cv2.circle(frame, (int(x), int(y)), int(radius), (0, 255, 255), 2)\n",
    "            # update the points queue\n",
    "            ball.trail.appendleft(center)\n",
    "            # loop over the set of tracked points\n",
    "            for i in range(1, len(ball.trail)):\n",
    "                # if either of the tracked points are None, ignore them\n",
    "                if ball.trail[i - 1] is None or ball.trail[i] is None:\n",
    "                    continue\n",
    "                # otherwise, compute the thickness of the line and draw the connecting lines\n",
    "                thickness = int(np.sqrt(Ball.maxlen / float(i + 1)) * 2.5)\n",
    "                if not self.only_video:\n",
    "                    cv2.line(frame, ball.trail[i - 1], ball.trail[i], ball.trail_color, thickness)\n",
    "        # show the frame to our screen\n",
    "        t = [frame, blurred, hsv, mask1, mask2, mask3]\n",
    "        cv2.imshow(\"frame\", t[switch])\n",
    "        key = cv2.waitKey(1) & 0xFF\n",
    "        if key == 27:\n",
    "            break\n",
    "        if key == ord('p'):\n",
    "            self.vp.pause()\n",
    "        if key == ord('s'):\n",
    "            self.switch = (self.switch + 1) % len(t)\n",
    "        if key == ord('t'):\n",
    "            self.only_video = not(self.only_video)\n",
    "\n",
    "def run(self):\n",
    "    cv2.namedWindow(self.window_name, cv2.WINDOW_NORMAL)\n",
    "    while True:\n",
    "        #Choses à faire à chaque fois qu'on change de mode\n",
    "        #...\n",
    "        \n",
    "        #Choix du mode\n",
    "        if self.mode is Mode.HSV_FINDER:\n",
    "            self.hsv_finder()\n",
    "        elif self.mode is Mode.BALL_TRACKER:\n",
    "            self.ball_tracker()\n",
    "        elif self.mode is Mode.QUIT:\n",
    "            break\n",
    "        else:\n",
    "            raise ValueError(\"{} n'est pas un mode reconnu.\".format(self.mode))\n",
    "    cv2.destroyWindow(self.window_name)\n",
    "    self.vp.stop()\n",
    "    \n",
    "def start(self):\n",
    "    thread = threading.Thread(target=self.run)\n",
    "    thread.start()"
   ]
  },
  {
   "cell_type": "code",
   "execution_count": null,
   "id": "latter-spare",
   "metadata": {},
   "outputs": [],
   "source": [
    "#A rendre fonctionnel un jour avec des vidéos (en plus de webcam)"
   ]
  }
 ],
 "metadata": {
  "kernelspec": {
   "display_name": "Python 3",
   "language": "python",
   "name": "python3"
  },
  "language_info": {
   "codemirror_mode": {
    "name": "ipython",
    "version": 3
   },
   "file_extension": ".py",
   "mimetype": "text/x-python",
   "name": "python",
   "nbconvert_exporter": "python",
   "pygments_lexer": "ipython3",
   "version": "3.9.1"
  }
 },
 "nbformat": 4,
 "nbformat_minor": 5
}
