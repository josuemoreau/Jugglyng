{
 "cells": [
  {
   "cell_type": "code",
   "execution_count": 6,
   "id": "indonesian-lottery",
   "metadata": {},
   "outputs": [],
   "source": [
    "import sys\n",
    "import os\n",
    "\n",
    "sys.path.insert(1, \"../\")\n",
    "os.chdir(\"../\")"
   ]
  },
  {
   "cell_type": "code",
   "execution_count": 7,
   "id": "cordless-array",
   "metadata": {},
   "outputs": [
    {
     "data": {
      "application/vnd.jupyter.widget-view+json": {
       "model_id": "2bf763cb67a24222bf024816e1289f78",
       "version_major": 2,
       "version_minor": 0
      },
      "text/plain": [
       "VBox(children=(Renderer(camera=PerspectiveCamera(position=(0.0, 0.0, -100.0), projectionMatrix=(1.0, 0.0, 0.0,…"
      ]
     },
     "metadata": {},
     "output_type": "display_data"
    }
   ],
   "source": [
    "import modele\n",
    "import ipywidgets\n",
    "import pythreejs\n",
    "\n",
    "model = modele.Model([{\"color\":\"blue\", \"tone\":\"do\"}, \n",
    "                      {\"color\":\"red\", \"tone\":\"do\"}, \n",
    "                      {\"color\":\"green\", \"tone\":\"do\"}],\n",
    "                    pattern=[3, 3, 3, 3, 3, 4, 5, 5, 0, 4, 0, 3, 3, 3, 4, 2])\n",
    "view = modele.View(model)\n",
    "\n",
    "slider = ipywidgets.FloatSlider(min=0, max=15)\n",
    "slider.observe(lambda change: view.update(slider.value))\n",
    "ipywidgets.VBox([view.widget,slider])"
   ]
  },
  {
   "cell_type": "code",
   "execution_count": null,
   "id": "associate-testing",
   "metadata": {},
   "outputs": [],
   "source": []
  }
 ],
 "metadata": {
  "kernelspec": {
   "display_name": "Python 3",
   "language": "python",
   "name": "python3"
  },
  "language_info": {
   "codemirror_mode": {
    "name": "ipython",
    "version": 3
   },
   "file_extension": ".py",
   "mimetype": "text/x-python",
   "name": "python",
   "nbconvert_exporter": "python",
   "pygments_lexer": "ipython3",
   "version": "3.9.2"
  }
 },
 "nbformat": 4,
 "nbformat_minor": 5
}
