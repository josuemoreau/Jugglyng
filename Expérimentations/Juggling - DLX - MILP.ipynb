{
 "cells": [
  {
   "cell_type": "code",
   "execution_count": 1,
   "id": "administrative-oxygen",
   "metadata": {},
   "outputs": [],
   "source": [
    "import juggling_dlx_milp"
   ]
  },
  {
   "cell_type": "code",
   "execution_count": 2,
   "id": "sapphire-comparison",
   "metadata": {},
   "outputs": [],
   "source": [
    "from sage.all import MixedIntegerLinearProgram"
   ]
  },
  {
   "cell_type": "code",
   "execution_count": 3,
   "id": "rolled-biography",
   "metadata": {},
   "outputs": [],
   "source": [
    "p = MixedIntegerLinearProgram()"
   ]
  },
  {
   "cell_type": "code",
   "execution_count": 4,
   "id": "warming-discussion",
   "metadata": {},
   "outputs": [],
   "source": [
    "x, y, z = p['x'], p['y'], p['z']"
   ]
  },
  {
   "cell_type": "code",
   "execution_count": 5,
   "id": "gorgeous-albania",
   "metadata": {},
   "outputs": [],
   "source": [
    "p.set_min(x, 0)\n",
    "p.set_min(y, 0)\n",
    "p.set_min(z, 0)"
   ]
  },
  {
   "cell_type": "code",
   "execution_count": 6,
   "id": "approved-runner",
   "metadata": {},
   "outputs": [],
   "source": [
    "p.set_objective(x + y + 3 * z)"
   ]
  },
  {
   "cell_type": "code",
   "execution_count": 7,
   "id": "ethical-microphone",
   "metadata": {},
   "outputs": [],
   "source": [
    "p.add_constraint(x + 2 * y <= 4)\n",
    "p.add_constraint(5 * z - y <= 8)"
   ]
  },
  {
   "cell_type": "code",
   "execution_count": 8,
   "id": "descending-flooring",
   "metadata": {},
   "outputs": [
    {
     "data": {
      "text/plain": [
       "8.8"
      ]
     },
     "execution_count": 8,
     "metadata": {},
     "output_type": "execute_result"
    }
   ],
   "source": [
    "p.solve()"
   ]
  },
  {
   "cell_type": "code",
   "execution_count": 9,
   "id": "played-power",
   "metadata": {},
   "outputs": [
    {
     "data": {
      "text/plain": [
       "(4.0, 0.0, 1.6)"
      ]
     },
     "execution_count": 9,
     "metadata": {},
     "output_type": "execute_result"
    }
   ],
   "source": [
    "p.get_values(x), p.get_values(y), p.get_values(z)"
   ]
  },
  {
   "cell_type": "code",
   "execution_count": 119,
   "id": "alike-congo",
   "metadata": {},
   "outputs": [],
   "source": [
    "%load_ext autoreload"
   ]
  },
  {
   "cell_type": "code",
   "execution_count": 120,
   "id": "deadly-blade",
   "metadata": {},
   "outputs": [],
   "source": [
    "%autoreload 2"
   ]
  },
  {
   "cell_type": "code",
   "execution_count": 121,
   "id": "further-happening",
   "metadata": {},
   "outputs": [],
   "source": [
    "from juggling_dlx_milp import *"
   ]
  },
  {
   "cell_type": "code",
   "execution_count": 122,
   "id": "reserved-freedom",
   "metadata": {},
   "outputs": [],
   "source": [
    "music = [( 1, \"do\"), ( 2, \"do\"), ( 3, \"do\"), \n",
    "         ( 4, \"ré\"), ( 5, \"mi\"), ( 7, \"ré\"), \n",
    "         ( 9, \"do\"), (10, \"mi\"), (11, \"ré\"),\n",
    "         (12, \"ré\"), (13, \"do\")]"
   ]
  },
  {
   "cell_type": "code",
   "execution_count": 123,
   "id": "sharing-harris",
   "metadata": {},
   "outputs": [],
   "source": [
    "balls, throws = music_to_throws(music)"
   ]
  },
  {
   "cell_type": "code",
   "execution_count": 124,
   "id": "authentic-logistics",
   "metadata": {},
   "outputs": [
    {
     "data": {
      "text/plain": [
       "{'do', 'mi', 'ré'}"
      ]
     },
     "execution_count": 124,
     "metadata": {},
     "output_type": "execute_result"
    }
   ],
   "source": [
    "balls"
   ]
  },
  {
   "cell_type": "code",
   "execution_count": 125,
   "id": "eight-confusion",
   "metadata": {},
   "outputs": [
    {
     "data": {
      "text/plain": [
       "[[Throw(ball='do', time=0, max_height=1),\n",
       "  Throw(ball='ré', time=0, max_height=4),\n",
       "  Throw(ball='mi', time=0, max_height=5)],\n",
       " [Throw(ball='do', time=1, max_height=1)],\n",
       " [Throw(ball='do', time=2, max_height=1)],\n",
       " [Throw(ball='do', time=3, max_height=6)],\n",
       " [Throw(ball='ré', time=4, max_height=3)],\n",
       " [Throw(ball='mi', time=5, max_height=5)],\n",
       " [],\n",
       " [Throw(ball='ré', time=7, max_height=4)],\n",
       " [],\n",
       " [Throw(ball='do', time=9, max_height=4)],\n",
       " [],\n",
       " [Throw(ball='ré', time=11, max_height=1)],\n",
       " []]"
      ]
     },
     "execution_count": 125,
     "metadata": {},
     "output_type": "execute_result"
    }
   ],
   "source": [
    "throws"
   ]
  },
  {
   "cell_type": "code",
   "execution_count": 141,
   "id": "general-proposition",
   "metadata": {
    "scrolled": true
   },
   "outputs": [],
   "source": [
    "x_items, w_items, i_items, m_items = \\\n",
    "    throws_to_extended_exact_cover(balls, throws, 2, 4, 2,\n",
    "                                   [(1, 3)])"
   ]
  },
  {
   "cell_type": "code",
   "execution_count": 142,
   "id": "controlling-civilization",
   "metadata": {
    "scrolled": true
   },
   "outputs": [
    {
     "data": {
      "text/plain": [
       "[XItem(throw=Throw(ball='do', time=0, max_height=1), hand=0, flying_time=1),\n",
       " XItem(throw=Throw(ball='do', time=0, max_height=1), hand=1, flying_time=1),\n",
       " XItem(throw=Throw(ball='ré', time=0, max_height=4), hand=0, flying_time=1),\n",
       " XItem(throw=Throw(ball='ré', time=0, max_height=4), hand=0, flying_time=2),\n",
       " XItem(throw=Throw(ball='ré', time=0, max_height=4), hand=0, flying_time=3),\n",
       " XItem(throw=Throw(ball='ré', time=0, max_height=4), hand=0, flying_time=4),\n",
       " XItem(throw=Throw(ball='ré', time=0, max_height=4), hand=1, flying_time=1),\n",
       " XItem(throw=Throw(ball='ré', time=0, max_height=4), hand=1, flying_time=2),\n",
       " XItem(throw=Throw(ball='ré', time=0, max_height=4), hand=1, flying_time=3),\n",
       " XItem(throw=Throw(ball='ré', time=0, max_height=4), hand=1, flying_time=4),\n",
       " XItem(throw=Throw(ball='mi', time=0, max_height=5), hand=0, flying_time=1),\n",
       " XItem(throw=Throw(ball='mi', time=0, max_height=5), hand=0, flying_time=2),\n",
       " XItem(throw=Throw(ball='mi', time=0, max_height=5), hand=0, flying_time=3),\n",
       " XItem(throw=Throw(ball='mi', time=0, max_height=5), hand=0, flying_time=4),\n",
       " XItem(throw=Throw(ball='mi', time=0, max_height=5), hand=1, flying_time=1),\n",
       " XItem(throw=Throw(ball='mi', time=0, max_height=5), hand=1, flying_time=2),\n",
       " XItem(throw=Throw(ball='mi', time=0, max_height=5), hand=1, flying_time=3),\n",
       " XItem(throw=Throw(ball='mi', time=0, max_height=5), hand=1, flying_time=4),\n",
       " XItem(throw=Throw(ball='do', time=1, max_height=1), hand=0, flying_time=1),\n",
       " XItem(throw=Throw(ball='do', time=1, max_height=1), hand=1, flying_time=1),\n",
       " XItem(throw=Throw(ball='do', time=2, max_height=1), hand=0, flying_time=1),\n",
       " XItem(throw=Throw(ball='do', time=2, max_height=1), hand=1, flying_time=1),\n",
       " XItem(throw=Throw(ball='do', time=3, max_height=6), hand=0, flying_time=1),\n",
       " XItem(throw=Throw(ball='do', time=3, max_height=6), hand=0, flying_time=2),\n",
       " XItem(throw=Throw(ball='do', time=3, max_height=6), hand=0, flying_time=3),\n",
       " XItem(throw=Throw(ball='do', time=3, max_height=6), hand=0, flying_time=4),\n",
       " XItem(throw=Throw(ball='do', time=3, max_height=6), hand=1, flying_time=1),\n",
       " XItem(throw=Throw(ball='do', time=3, max_height=6), hand=1, flying_time=2),\n",
       " XItem(throw=Throw(ball='do', time=3, max_height=6), hand=1, flying_time=3),\n",
       " XItem(throw=Throw(ball='do', time=3, max_height=6), hand=1, flying_time=4),\n",
       " XItem(throw=Throw(ball='ré', time=4, max_height=3), hand=0, flying_time=1),\n",
       " XItem(throw=Throw(ball='ré', time=4, max_height=3), hand=0, flying_time=2),\n",
       " XItem(throw=Throw(ball='ré', time=4, max_height=3), hand=0, flying_time=3),\n",
       " XItem(throw=Throw(ball='ré', time=4, max_height=3), hand=1, flying_time=1),\n",
       " XItem(throw=Throw(ball='ré', time=4, max_height=3), hand=1, flying_time=2),\n",
       " XItem(throw=Throw(ball='ré', time=4, max_height=3), hand=1, flying_time=3),\n",
       " XItem(throw=Throw(ball='mi', time=5, max_height=5), hand=0, flying_time=1),\n",
       " XItem(throw=Throw(ball='mi', time=5, max_height=5), hand=0, flying_time=2),\n",
       " XItem(throw=Throw(ball='mi', time=5, max_height=5), hand=0, flying_time=3),\n",
       " XItem(throw=Throw(ball='mi', time=5, max_height=5), hand=0, flying_time=4),\n",
       " XItem(throw=Throw(ball='mi', time=5, max_height=5), hand=1, flying_time=1),\n",
       " XItem(throw=Throw(ball='mi', time=5, max_height=5), hand=1, flying_time=2),\n",
       " XItem(throw=Throw(ball='mi', time=5, max_height=5), hand=1, flying_time=3),\n",
       " XItem(throw=Throw(ball='mi', time=5, max_height=5), hand=1, flying_time=4),\n",
       " XItem(throw=Throw(ball='ré', time=7, max_height=4), hand=0, flying_time=1),\n",
       " XItem(throw=Throw(ball='ré', time=7, max_height=4), hand=0, flying_time=2),\n",
       " XItem(throw=Throw(ball='ré', time=7, max_height=4), hand=0, flying_time=3),\n",
       " XItem(throw=Throw(ball='ré', time=7, max_height=4), hand=0, flying_time=4),\n",
       " XItem(throw=Throw(ball='ré', time=7, max_height=4), hand=1, flying_time=1),\n",
       " XItem(throw=Throw(ball='ré', time=7, max_height=4), hand=1, flying_time=2),\n",
       " XItem(throw=Throw(ball='ré', time=7, max_height=4), hand=1, flying_time=3),\n",
       " XItem(throw=Throw(ball='ré', time=7, max_height=4), hand=1, flying_time=4),\n",
       " XItem(throw=Throw(ball='do', time=9, max_height=4), hand=0, flying_time=1),\n",
       " XItem(throw=Throw(ball='do', time=9, max_height=4), hand=0, flying_time=2),\n",
       " XItem(throw=Throw(ball='do', time=9, max_height=4), hand=0, flying_time=3),\n",
       " XItem(throw=Throw(ball='do', time=9, max_height=4), hand=0, flying_time=4),\n",
       " XItem(throw=Throw(ball='do', time=9, max_height=4), hand=1, flying_time=1),\n",
       " XItem(throw=Throw(ball='do', time=9, max_height=4), hand=1, flying_time=2),\n",
       " XItem(throw=Throw(ball='do', time=9, max_height=4), hand=1, flying_time=3),\n",
       " XItem(throw=Throw(ball='do', time=9, max_height=4), hand=1, flying_time=4),\n",
       " XItem(throw=Throw(ball='ré', time=11, max_height=1), hand=0, flying_time=1),\n",
       " XItem(throw=Throw(ball='ré', time=11, max_height=1), hand=1, flying_time=1)]"
      ]
     },
     "execution_count": 142,
     "metadata": {},
     "output_type": "execute_result"
    }
   ],
   "source": [
    "x_items"
   ]
  },
  {
   "cell_type": "code",
   "execution_count": 143,
   "id": "dietary-collect",
   "metadata": {},
   "outputs": [
    {
     "data": {
      "text/plain": [
       "[WItem(time=0, hand=0),\n",
       " WItem(time=0, hand=1),\n",
       " WItem(time=1, hand=0),\n",
       " WItem(time=1, hand=1),\n",
       " WItem(time=2, hand=0),\n",
       " WItem(time=2, hand=1),\n",
       " WItem(time=3, hand=0),\n",
       " WItem(time=3, hand=1),\n",
       " WItem(time=4, hand=0),\n",
       " WItem(time=4, hand=1),\n",
       " WItem(time=5, hand=0),\n",
       " WItem(time=5, hand=1),\n",
       " WItem(time=6, hand=0),\n",
       " WItem(time=6, hand=1),\n",
       " WItem(time=7, hand=0),\n",
       " WItem(time=7, hand=1),\n",
       " WItem(time=8, hand=0),\n",
       " WItem(time=8, hand=1),\n",
       " WItem(time=9, hand=0),\n",
       " WItem(time=9, hand=1),\n",
       " WItem(time=10, hand=0),\n",
       " WItem(time=10, hand=1),\n",
       " WItem(time=11, hand=0),\n",
       " WItem(time=11, hand=1),\n",
       " WItem(time=12, hand=0),\n",
       " WItem(time=12, hand=1)]"
      ]
     },
     "execution_count": 143,
     "metadata": {},
     "output_type": "execute_result"
    }
   ],
   "source": [
    "w_items"
   ]
  },
  {
   "cell_type": "code",
   "execution_count": 144,
   "id": "illegal-translation",
   "metadata": {
    "scrolled": true
   },
   "outputs": [
    {
     "data": {
      "text/plain": [
       "[IItem(time=0, flying_time=1),\n",
       " IItem(time=0, flying_time=2),\n",
       " IItem(time=0, flying_time=3),\n",
       " IItem(time=0, flying_time=4),\n",
       " IItem(time=1, flying_time=1),\n",
       " IItem(time=1, flying_time=2),\n",
       " IItem(time=1, flying_time=3),\n",
       " IItem(time=1, flying_time=4),\n",
       " IItem(time=2, flying_time=1),\n",
       " IItem(time=2, flying_time=2),\n",
       " IItem(time=2, flying_time=3),\n",
       " IItem(time=2, flying_time=4),\n",
       " IItem(time=3, flying_time=1),\n",
       " IItem(time=3, flying_time=2),\n",
       " IItem(time=3, flying_time=3),\n",
       " IItem(time=3, flying_time=4),\n",
       " IItem(time=4, flying_time=1),\n",
       " IItem(time=4, flying_time=2),\n",
       " IItem(time=4, flying_time=3),\n",
       " IItem(time=4, flying_time=4),\n",
       " IItem(time=5, flying_time=1),\n",
       " IItem(time=5, flying_time=2),\n",
       " IItem(time=5, flying_time=3),\n",
       " IItem(time=5, flying_time=4),\n",
       " IItem(time=6, flying_time=1),\n",
       " IItem(time=6, flying_time=2),\n",
       " IItem(time=6, flying_time=3),\n",
       " IItem(time=6, flying_time=4),\n",
       " IItem(time=7, flying_time=1),\n",
       " IItem(time=7, flying_time=2),\n",
       " IItem(time=7, flying_time=3),\n",
       " IItem(time=7, flying_time=4),\n",
       " IItem(time=8, flying_time=1),\n",
       " IItem(time=8, flying_time=2),\n",
       " IItem(time=8, flying_time=3),\n",
       " IItem(time=8, flying_time=4),\n",
       " IItem(time=9, flying_time=1),\n",
       " IItem(time=9, flying_time=2),\n",
       " IItem(time=9, flying_time=3),\n",
       " IItem(time=9, flying_time=4),\n",
       " IItem(time=10, flying_time=1),\n",
       " IItem(time=10, flying_time=2),\n",
       " IItem(time=10, flying_time=3),\n",
       " IItem(time=10, flying_time=4),\n",
       " IItem(time=11, flying_time=1),\n",
       " IItem(time=11, flying_time=2),\n",
       " IItem(time=11, flying_time=3),\n",
       " IItem(time=11, flying_time=4),\n",
       " IItem(time=12, flying_time=1),\n",
       " IItem(time=12, flying_time=2),\n",
       " IItem(time=12, flying_time=3),\n",
       " IItem(time=12, flying_time=4)]"
      ]
     },
     "execution_count": 144,
     "metadata": {},
     "output_type": "execute_result"
    }
   ],
   "source": [
    "i_items"
   ]
  },
  {
   "cell_type": "code",
   "execution_count": 145,
   "id": "sacred-reynolds",
   "metadata": {},
   "outputs": [
    {
     "data": {
      "text/plain": [
       "[MItem(time=0, hand=0, multiplex=(1, 3)),\n",
       " MItem(time=0, hand=1, multiplex=(1, 3)),\n",
       " MItem(time=1, hand=0, multiplex=(1, 3)),\n",
       " MItem(time=1, hand=1, multiplex=(1, 3)),\n",
       " MItem(time=2, hand=0, multiplex=(1, 3)),\n",
       " MItem(time=2, hand=1, multiplex=(1, 3)),\n",
       " MItem(time=3, hand=0, multiplex=(1, 3)),\n",
       " MItem(time=3, hand=1, multiplex=(1, 3)),\n",
       " MItem(time=4, hand=0, multiplex=(1, 3)),\n",
       " MItem(time=4, hand=1, multiplex=(1, 3)),\n",
       " MItem(time=5, hand=0, multiplex=(1, 3)),\n",
       " MItem(time=5, hand=1, multiplex=(1, 3)),\n",
       " MItem(time=6, hand=0, multiplex=(1, 3)),\n",
       " MItem(time=6, hand=1, multiplex=(1, 3)),\n",
       " MItem(time=7, hand=0, multiplex=(1, 3)),\n",
       " MItem(time=7, hand=1, multiplex=(1, 3)),\n",
       " MItem(time=8, hand=0, multiplex=(1, 3)),\n",
       " MItem(time=8, hand=1, multiplex=(1, 3)),\n",
       " MItem(time=9, hand=0, multiplex=(1, 3)),\n",
       " MItem(time=9, hand=1, multiplex=(1, 3)),\n",
       " MItem(time=10, hand=0, multiplex=(1, 3)),\n",
       " MItem(time=10, hand=1, multiplex=(1, 3)),\n",
       " MItem(time=11, hand=0, multiplex=(1, 3)),\n",
       " MItem(time=11, hand=1, multiplex=(1, 3)),\n",
       " MItem(time=12, hand=0, multiplex=(1, 3)),\n",
       " MItem(time=12, hand=1, multiplex=(1, 3))]"
      ]
     },
     "execution_count": 145,
     "metadata": {},
     "output_type": "execute_result"
    }
   ],
   "source": [
    "m_items"
   ]
  },
  {
   "cell_type": "code",
   "execution_count": null,
   "id": "residential-solomon",
   "metadata": {},
   "outputs": [],
   "source": []
  }
 ],
 "metadata": {
  "kernelspec": {
   "display_name": "Python 3",
   "language": "python",
   "name": "python3"
  },
  "language_info": {
   "codemirror_mode": {
    "name": "ipython",
    "version": 3
   },
   "file_extension": ".py",
   "mimetype": "text/x-python",
   "name": "python",
   "nbconvert_exporter": "python",
   "pygments_lexer": "ipython3",
   "version": "3.9.2"
  }
 },
 "nbformat": 4,
 "nbformat_minor": 5
}
