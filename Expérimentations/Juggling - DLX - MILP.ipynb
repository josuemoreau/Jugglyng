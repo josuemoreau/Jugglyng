{
 "cells": [
  {
   "cell_type": "code",
   "execution_count": 1,
   "id": "alike-congo",
   "metadata": {},
   "outputs": [],
   "source": [
    "%load_ext autoreload"
   ]
  },
  {
   "cell_type": "code",
   "execution_count": 2,
   "id": "deadly-blade",
   "metadata": {},
   "outputs": [],
   "source": [
    "%autoreload 2"
   ]
  },
  {
   "cell_type": "code",
   "execution_count": 3,
   "id": "further-happening",
   "metadata": {},
   "outputs": [],
   "source": [
    "from juggling_dlx_milp import *"
   ]
  },
  {
   "cell_type": "code",
   "execution_count": 4,
   "id": "reserved-freedom",
   "metadata": {},
   "outputs": [],
   "source": [
    "music = [( 1, \"do\"), ( 2, \"do\"), ( 3, \"do\"), \n",
    "         ( 4, \"re\"), ( 5, \"mi\"), ( 7, \"re\"), \n",
    "         ( 9, \"do\"), (10, \"mi\"), (11, \"re\"),\n",
    "         (12, \"re\"), (13, \"do\")]"
   ]
  },
  {
   "cell_type": "code",
   "execution_count": 5,
   "id": "sharing-harris",
   "metadata": {},
   "outputs": [],
   "source": [
    "balls, throws = music_to_throws(music)"
   ]
  },
  {
   "cell_type": "code",
   "execution_count": 6,
   "id": "authentic-logistics",
   "metadata": {},
   "outputs": [
    {
     "data": {
      "text/plain": [
       "{'do', 'mi', 're'}"
      ]
     },
     "execution_count": 6,
     "metadata": {},
     "output_type": "execute_result"
    }
   ],
   "source": [
    "balls"
   ]
  },
  {
   "cell_type": "code",
   "execution_count": 7,
   "id": "eight-confusion",
   "metadata": {},
   "outputs": [
    {
     "data": {
      "text/plain": [
       "[[Throw(ball='do', time=0, max_height=1),\n",
       "  Throw(ball='re', time=0, max_height=4),\n",
       "  Throw(ball='mi', time=0, max_height=5)],\n",
       " [Throw(ball='do', time=1, max_height=1)],\n",
       " [Throw(ball='do', time=2, max_height=1)],\n",
       " [Throw(ball='do', time=3, max_height=6)],\n",
       " [Throw(ball='re', time=4, max_height=3)],\n",
       " [Throw(ball='mi', time=5, max_height=5)],\n",
       " [],\n",
       " [Throw(ball='re', time=7, max_height=4)],\n",
       " [],\n",
       " [Throw(ball='do', time=9, max_height=4)],\n",
       " [],\n",
       " [Throw(ball='re', time=11, max_height=1)],\n",
       " []]"
      ]
     },
     "execution_count": 7,
     "metadata": {},
     "output_type": "execute_result"
    }
   ],
   "source": [
    "throws"
   ]
  },
  {
   "cell_type": "code",
   "execution_count": 8,
   "id": "suitable-person",
   "metadata": {
    "scrolled": true
   },
   "outputs": [],
   "source": [
    "ec_instance1 = throws_to_extended_exact_cover(balls, throws, 2, 4, 2,\n",
    "                                             [(1, 3)], [(1, 3), (1, 1)], True)"
   ]
  },
  {
   "cell_type": "code",
   "execution_count": 9,
   "id": "violent-understanding",
   "metadata": {},
   "outputs": [],
   "source": [
    "sol1 = solve_exact_cover_with_milp(ec_instance1, True)"
   ]
  },
  {
   "cell_type": "code",
   "execution_count": 10,
   "id": "unlike-europe",
   "metadata": {
    "scrolled": true
   },
   "outputs": [],
   "source": [
    "ec_instance2 = throws_to_extended_exact_cover(balls, throws, 2, 4, 2,\n",
    "                                             [(1, 3)], [(1, 3), (1, 1)], False)"
   ]
  },
  {
   "cell_type": "code",
   "execution_count": 11,
   "id": "personal-locator",
   "metadata": {},
   "outputs": [],
   "source": [
    "sol2 = solve_exact_cover_with_milp(ec_instance2)"
   ]
  },
  {
   "cell_type": "markdown",
   "id": "local-franchise",
   "metadata": {},
   "source": [
    "#### Solution en interdisant de lancer plusieurs balles depuis une même main en même temps"
   ]
  },
  {
   "cell_type": "code",
   "execution_count": 12,
   "id": "comfortable-restaurant",
   "metadata": {},
   "outputs": [
    {
     "name": "stdout",
     "output_type": "stream",
     "text": [
      "   {'re'}    {'do', 'mi'} : do -- 1 --> 0\n",
      "{'do', 're'}    {'mi'}    : do -- 1 --> 1\n",
      "   {'re'}    {'do', 'mi'} : re -- 2 --> 0\n",
      "                            do -- 1 --> 0\n",
      "   {'do'}       {'mi'}    : mi -- 2 --> 1\n",
      "{'do', 're'}      {}      : \n",
      "{'do', 're'}    {'mi'}    : \n",
      "{'do', 're'}    {'mi'}    : re -- 1 --> 0\n",
      "{'do', 're'}    {'mi'}    : \n",
      "{'do', 're'}    {'mi'}    : do -- 1 --> 0\n",
      "{'do', 're'}    {'mi'}    : mi -- 1 --> ?\n",
      "{'do', 're'}      {}      : re -- 1 --> 0\n",
      "{'do', 're'}      {}      : re -- 1 --> ?\n",
      "   {'do'}         {}      : do -- 1 --> ?\n"
     ]
    }
   ],
   "source": [
    "print_juggling(sol1)"
   ]
  },
  {
   "cell_type": "markdown",
   "id": "black-great",
   "metadata": {},
   "source": [
    "#### Solution en autorisant de lancer plusieurs balles depuis une même main en même temps"
   ]
  },
  {
   "cell_type": "code",
   "execution_count": 13,
   "id": "necessary-cleaners",
   "metadata": {},
   "outputs": [
    {
     "name": "stdout",
     "output_type": "stream",
     "text": [
      "{'do', 're'}    {'mi'}    : do -- 1 --> 1\n",
      "   {'re'}    {'do', 'mi'} : do -- 1 --> 0\n",
      "{'do', 're'}    {'mi'}    : re -- 2 --> 0\n",
      "                            do -- 1 --> 0\n",
      "   {'do'}       {'mi'}    : mi -- 2 --> 1\n",
      "{'do', 're'}      {}      : \n",
      "{'do', 're'}    {'mi'}    : \n",
      "{'do', 're'}    {'mi'}    : re -- 1 --> 0\n",
      "{'do', 're'}    {'mi'}    : \n",
      "{'do', 're'}    {'mi'}    : do -- 1 --> 0\n",
      "{'do', 're'}    {'mi'}    : mi -- 1 --> ?\n",
      "{'do', 're'}      {}      : re -- 1 --> 0\n",
      "{'do', 're'}      {}      : re -- 1 --> ?\n",
      "   {'do'}         {}      : do -- 1 --> ?\n"
     ]
    }
   ],
   "source": [
    "print_juggling(sol2)"
   ]
  },
  {
   "cell_type": "markdown",
   "id": "cosmetic-egypt",
   "metadata": {},
   "source": [
    "#### Même comparaison avec d'autres fonctions d'affichages"
   ]
  },
  {
   "cell_type": "code",
   "execution_count": 14,
   "id": "undefined-graph",
   "metadata": {},
   "outputs": [
    {
     "name": "stdout",
     "output_type": "stream",
     "text": [
      "0 - do : main 1 (0 temps) --> 1 temps\n",
      "0 - re : main 0 (2 temps) --> 2 temps\n",
      "0 - mi : main 1 (3 temps) --> 2 temps\n",
      "1 - do : main 0 (0 temps) --> 1 temps\n",
      "2 - do : main 1 (0 temps) --> 1 temps\n",
      "3 - do : main 0 (5 temps) --> 1 temps\n",
      "4 - re : main 0 (2 temps) --> 1 temps\n",
      "5 - mi : main 1 (4 temps) --> 1 temps\n",
      "7 - re : main 0 (3 temps) --> 1 temps\n",
      "9 - do : main 0 (3 temps) --> 1 temps\n",
      "11 - re : main 0 (0 temps) --> 1 temps\n"
     ]
    }
   ],
   "source": [
    "print_juggling_solution(sol1)"
   ]
  },
  {
   "cell_type": "code",
   "execution_count": 15,
   "id": "level-classification",
   "metadata": {},
   "outputs": [
    {
     "name": "stdout",
     "output_type": "stream",
     "text": [
      "0 - do : main 0 (0 temps) --> 1 temps\n",
      "0 - re : main 0 (2 temps) --> 2 temps\n",
      "0 - mi : main 1 (3 temps) --> 2 temps\n",
      "1 - do : main 1 (0 temps) --> 1 temps\n",
      "2 - do : main 0 (0 temps) --> 1 temps\n",
      "3 - do : main 0 (5 temps) --> 1 temps\n",
      "4 - re : main 0 (2 temps) --> 1 temps\n",
      "5 - mi : main 1 (4 temps) --> 1 temps\n",
      "7 - re : main 0 (3 temps) --> 1 temps\n",
      "9 - do : main 0 (3 temps) --> 1 temps\n",
      "11 - re : main 0 (0 temps) --> 1 temps\n"
     ]
    }
   ],
   "source": [
    "print_juggling_solution(sol2)"
   ]
  },
  {
   "cell_type": "markdown",
   "id": "9448adba",
   "metadata": {},
   "source": [
    "#### Export vers le format du simulateur"
   ]
  },
  {
   "cell_type": "code",
   "execution_count": 17,
   "id": "d3ddcf61",
   "metadata": {},
   "outputs": [
    {
     "data": {
      "text/plain": [
       "[[[],\n",
       "  [('do', 1, 1)],\n",
       "  [('re', 0, 2)],\n",
       "  [],\n",
       "  [],\n",
       "  [],\n",
       "  [('re', 0, 1)],\n",
       "  [],\n",
       "  [('do', 0, 1)],\n",
       "  [],\n",
       "  [('re', 0, 1)],\n",
       "  [('re', 0, 1)],\n",
       "  [('do', 0, 1)],\n",
       "  []],\n",
       " [[('do', 0, 1)],\n",
       "  [],\n",
       "  [('do', 0, 1)],\n",
       "  [('mi', 1, 2)],\n",
       "  [],\n",
       "  [],\n",
       "  [],\n",
       "  [],\n",
       "  [],\n",
       "  [('mi', 0, 1)],\n",
       "  [],\n",
       "  [],\n",
       "  [],\n",
       "  []]]"
      ]
     },
     "execution_count": 17,
     "metadata": {},
     "output_type": "execute_result"
    }
   ],
   "source": [
    "juggling_sol_to_simulator(sol1)"
   ]
  },
  {
   "cell_type": "markdown",
   "id": "medical-slide",
   "metadata": {},
   "source": [
    "Une éventuelle contrainte à rajouter : interdire qu'une main ne lance et rattrape une balle au même moment.\n",
    "\n",
    "...\n",
    "\n",
    "Après réflexion ce n'est en fait pas nécessaire. Si on veut jongler à la suite 3 lancers de hauteur 1 avec deux mains on va faire : main 0 -> main 1 -> main 0 -> main 1.\n",
    "\n",
    "Formellement une main relance une balle au même instant où elle la reçoit. En réalité, elle reçoit la balle puis la garde un court instant dans la main (moins d'un temps) puis la relance. Une main ne lance et ne reçoit donc jamais en même temps. Le temps où la balle reste dans la main entre la réception et le lancer par le jongleur fait partie du temps de vol dans le modèle."
   ]
  },
  {
   "cell_type": "markdown",
   "id": "sacred-figure",
   "metadata": {},
   "source": [
    "## Notes suite à la discussion du 7/05\n",
    "\n",
    "### Contraintes supplémentaires à ajouter à la réduction\n",
    "- interdir de lancer deux balles en même temps dans la même main\n",
    "- score de jouabilité (minimiser le nombre de lancer en même temps)\n",
    "- temps de départ à prendre en compte\n",
    "\n",
    "### Corrections à faire\n",
    "- corriger la réduction pour le cas où on a des lancers multiplex où les balles étaient déjà dans la main (et pas : elles arrivent puis sont relancées immédiatement après)\n",
    "\n",
    "### Changements à essayer dans l'algorithme\n",
    "- utiliser l'algo avec les polytopes pour générer toutes les solutions (cf. la solution de cette [question](https://ask.sagemath.org/question/23666/solving-system-of-linear-diophantine-equations/))\n",
    "\n",
    "### Autres choses pratiques à faire\n",
    "- améliorer un peu la classe `Audio` (définir à l'initialisation du programme une fonction javascript qui est ensuite simplement appelée par python)"
   ]
  },
  {
   "cell_type": "code",
   "execution_count": null,
   "id": "complimentary-literacy",
   "metadata": {},
   "outputs": [],
   "source": []
  },
  {
   "cell_type": "code",
   "execution_count": null,
   "id": "latin-pointer",
   "metadata": {},
   "outputs": [],
   "source": []
  },
  {
   "cell_type": "code",
   "execution_count": 20,
   "id": "framed-accommodation",
   "metadata": {
    "scrolled": true
   },
   "outputs": [
    {
     "name": "stdout",
     "output_type": "stream",
     "text": [
      "Rc files read:\n",
      "  NONE\n",
      "Latexmk: This is Latexmk, John Collins, 29 September 2020, version: 4.70b.\n",
      "Rule 'pdflatex': File changes, etc:\n",
      "   Changed files, or newly in use since previous run(s):\n",
      "      '/home/josue/Documents/git/Jugglyng1/Expérimentations/full_table.tex'\n",
      "      'full_table.tex'\n",
      "------------\n",
      "Run number 1 of rule 'pdflatex'\n",
      "------------\n",
      "------------\n",
      "Running 'pdflatex  --interaction=nonstopmode -recorder  \"/home/josue/Documents/git/Jugglyng1/Expérimentations/full_table.tex\"'\n",
      "------------\n",
      "Latexmk: applying rule 'pdflatex'...\n",
      "This is pdfTeX, Version 3.14159265-2.6-1.40.21 (TeX Live 2020/Arch Linux) (preloaded format=pdflatex)\n",
      " restricted \\write18 enabled.\n",
      "entering extended mode\n",
      "(/home/josue/Documents/git/Jugglyng1/Expérimentations/full_table.tex\n",
      "LaTeX2e <2020-10-01> patch level 2\n",
      "L3 programming layer <2020-12-03> xparse <2020-03-03>\n",
      "(/usr/share/texmf-dist/tex/latex/standalone/standalone.cls\n",
      "Document Class: standalone 2018/03/26 v1.3a Class to compile TeX sub-files stan\n",
      "dalone\n",
      "(/usr/share/texmf-dist/tex/latex/tools/shellesc.sty)\n",
      "(/usr/share/texmf-dist/tex/generic/iftex/ifluatex.sty\n",
      "(/usr/share/texmf-dist/tex/generic/iftex/iftex.sty))\n",
      "(/usr/share/texmf-dist/tex/latex/xkeyval/xkeyval.sty\n",
      "(/usr/share/texmf-dist/tex/generic/xkeyval/xkeyval.tex\n",
      "(/usr/share/texmf-dist/tex/generic/xkeyval/xkvutils.tex\n",
      "(/usr/share/texmf-dist/tex/generic/xkeyval/keyval.tex))))\n",
      "(/usr/share/texmf-dist/tex/latex/standalone/standalone.cfg)\n",
      "(/usr/share/texmf-dist/tex/latex/base/article.cls\n",
      "Document Class: article 2020/04/10 v1.4m Standard LaTeX document class\n",
      "(/usr/share/texmf-dist/tex/latex/base/size10.clo)))\n",
      "(/usr/share/texmf-dist/tex/latex/base/fontenc.sty)\n",
      "(/usr/share/texmf-dist/tex/latex/base/inputenc.sty)\n",
      "(/usr/share/texmf-dist/tex/latex/lm/lmodern.sty)\n",
      "(/usr/share/texmf-dist/tex/latex/base/textcomp.sty)\n",
      "(/usr/share/texmf-dist/tex/latex/lastpage/lastpage.sty)\n",
      "(/usr/share/texmf-dist/tex/latex/lm/t1lmr.fd)\n",
      "(/usr/share/texmf-dist/tex/latex/l3backend/l3backend-pdftex.def)\n",
      "(./full_table.aux) (/usr/share/texmf-dist/tex/latex/lm/ot1lmr.fd)\n",
      "(/usr/share/texmf-dist/tex/latex/lm/omllmm.fd)\n",
      "(/usr/share/texmf-dist/tex/latex/lm/omslmsy.fd)\n",
      "(/usr/share/texmf-dist/tex/latex/lm/omxlmex.fd)\n",
      "! Extra alignment tab has been changed to \\cr.\n",
      "<recently read> \\endtemplate \n",
      "                             \n",
      "l.12 ... & m_{12, 0, (1, 3)} & m_{12, 1, (1, 3)} &\n",
      "                                                   \\hline\\hline \\bullet &  &...\n",
      "\n",
      "[1{/var/lib/texmf/fonts/map/pdftex/updmap/pdftex.map}]\n",
      "\n",
      "AED: lastpage setting LastPage\n",
      "(./full_table.aux) )\n",
      "(see the transcript file for additional information){/usr/share/texmf-dist/font\n",
      "s/enc/dvips/lm/lm-mathsy.enc}{/usr/share/texmf-dist/fonts/enc/dvips/lm/lm-mathi\n",
      "t.enc}{/usr/share/texmf-dist/fonts/enc/dvips/lm/lm-rm.enc}</usr/share/texmf-dis\n",
      "t/fonts/type1/public/lm/lmmi10.pfb></usr/share/texmf-dist/fonts/type1/public/lm\n",
      "/lmmi7.pfb></usr/share/texmf-dist/fonts/type1/public/lm/lmr7.pfb></usr/share/te\n",
      "xmf-dist/fonts/type1/public/lm/lmsy10.pfb>\n",
      "Output written on full_table.pdf (1 page, 96112 bytes).\n",
      "Transcript written on full_table.log.\n",
      "Latexmk: Log file says output to 'full_table.pdf'\n",
      "Collected error summary (may duplicate other messages):\n",
      "  pdflatex: Command for 'pdflatex' gave return code 1\n",
      "      Refer to 'full_table.log' for details\n",
      "Latexmk: Use the -f option to force complete processing,\n",
      " unless error was exceeding maximum runs, or warnings treated as errors.\n",
      "Latexmk: Examining 'full_table.log'\n",
      "=== TeX engine is 'pdfTeX'\n",
      "Latexmk: Errors, so I did not complete making targets\n",
      "\n"
     ]
    },
    {
     "ename": "CalledProcessError",
     "evalue": "Command '['latexmk', '--pdf', '--interaction=nonstopmode', '/home/josue/Documents/git/Jugglyng1/Expérimentations/full_table.tex']' returned non-zero exit status 12.",
     "output_type": "error",
     "traceback": [
      "\u001b[0;31m---------------------------------------------------------------------------\u001b[0m",
      "\u001b[0;31mCalledProcessError\u001b[0m                        Traceback (most recent call last)",
      "\u001b[0;32m<ipython-input-20-0448051ea629>\u001b[0m in \u001b[0;36m<module>\u001b[0;34m\u001b[0m\n\u001b[1;32m      1\u001b[0m \u001b[0;31m# des erreurs vont être affichées mais c'est bon en fait\u001b[0m\u001b[0;34m\u001b[0m\u001b[0;34m\u001b[0m\u001b[0;34m\u001b[0m\u001b[0m\n\u001b[0;32m----> 2\u001b[0;31m \u001b[0mgenerate_full_table\u001b[0m\u001b[0;34m(\u001b[0m\u001b[0mec_instance\u001b[0m\u001b[0;34m)\u001b[0m\u001b[0;34m\u001b[0m\u001b[0;34m\u001b[0m\u001b[0m\n\u001b[0m",
      "\u001b[0;32m~/Documents/git/Jugglyng1/Expérimentations/juggling_dlx_milp.py\u001b[0m in \u001b[0;36mgenerate_full_table\u001b[0;34m(ec_instance)\u001b[0m\n\u001b[1;32m    407\u001b[0m     \u001b[0mltxs\u001b[0m \u001b[0;34m=\u001b[0m \u001b[0;34m'$'\u001b[0m \u001b[0;34m+\u001b[0m \u001b[0mltx\u001b[0m \u001b[0;34m+\u001b[0m \u001b[0;34m'$'\u001b[0m\u001b[0;34m\u001b[0m\u001b[0;34m\u001b[0m\u001b[0m\n\u001b[1;32m    408\u001b[0m     \u001b[0mdoc\u001b[0m\u001b[0;34m.\u001b[0m\u001b[0mappend\u001b[0m\u001b[0;34m(\u001b[0m\u001b[0mNoEscape\u001b[0m\u001b[0;34m(\u001b[0m\u001b[0mltxs\u001b[0m\u001b[0;34m)\u001b[0m\u001b[0;34m)\u001b[0m\u001b[0;34m\u001b[0m\u001b[0;34m\u001b[0m\u001b[0m\n\u001b[0;32m--> 409\u001b[0;31m     \u001b[0mdoc\u001b[0m\u001b[0;34m.\u001b[0m\u001b[0mgenerate_pdf\u001b[0m\u001b[0;34m(\u001b[0m\u001b[0;34m)\u001b[0m\u001b[0;34m\u001b[0m\u001b[0;34m\u001b[0m\u001b[0m\n\u001b[0m\u001b[1;32m    410\u001b[0m \u001b[0;34m\u001b[0m\u001b[0m\n\u001b[1;32m    411\u001b[0m \u001b[0;32mdef\u001b[0m \u001b[0mitem_key\u001b[0m\u001b[0;34m(\u001b[0m\u001b[0mec_instance\u001b[0m \u001b[0;34m:\u001b[0m \u001b[0mExactCoverInstance\u001b[0m\u001b[0;34m)\u001b[0m\u001b[0;34m:\u001b[0m\u001b[0;34m\u001b[0m\u001b[0;34m\u001b[0m\u001b[0m\n",
      "\u001b[0;32m~/.local/lib/python3.9/site-packages/pylatex/document.py\u001b[0m in \u001b[0;36mgenerate_pdf\u001b[0;34m(self, filepath, clean, clean_tex, compiler, compiler_args, silent)\u001b[0m\n\u001b[1;32m    248\u001b[0m \u001b[0;34m\u001b[0m\u001b[0m\n\u001b[1;32m    249\u001b[0m             \u001b[0;32mtry\u001b[0m\u001b[0;34m:\u001b[0m\u001b[0;34m\u001b[0m\u001b[0;34m\u001b[0m\u001b[0m\n\u001b[0;32m--> 250\u001b[0;31m                 output = subprocess.check_output(command,\n\u001b[0m\u001b[1;32m    251\u001b[0m                                                  \u001b[0mstderr\u001b[0m\u001b[0;34m=\u001b[0m\u001b[0msubprocess\u001b[0m\u001b[0;34m.\u001b[0m\u001b[0mSTDOUT\u001b[0m\u001b[0;34m,\u001b[0m\u001b[0;34m\u001b[0m\u001b[0;34m\u001b[0m\u001b[0m\n\u001b[1;32m    252\u001b[0m                                                  **check_output_kwargs)\n",
      "\u001b[0;32m/usr/lib/python3.9/subprocess.py\u001b[0m in \u001b[0;36mcheck_output\u001b[0;34m(timeout, *popenargs, **kwargs)\u001b[0m\n\u001b[1;32m    422\u001b[0m         \u001b[0mkwargs\u001b[0m\u001b[0;34m[\u001b[0m\u001b[0;34m'input'\u001b[0m\u001b[0;34m]\u001b[0m \u001b[0;34m=\u001b[0m \u001b[0mempty\u001b[0m\u001b[0;34m\u001b[0m\u001b[0;34m\u001b[0m\u001b[0m\n\u001b[1;32m    423\u001b[0m \u001b[0;34m\u001b[0m\u001b[0m\n\u001b[0;32m--> 424\u001b[0;31m     return run(*popenargs, stdout=PIPE, timeout=timeout, check=True,\n\u001b[0m\u001b[1;32m    425\u001b[0m                **kwargs).stdout\n\u001b[1;32m    426\u001b[0m \u001b[0;34m\u001b[0m\u001b[0m\n",
      "\u001b[0;32m/usr/lib/python3.9/subprocess.py\u001b[0m in \u001b[0;36mrun\u001b[0;34m(input, capture_output, timeout, check, *popenargs, **kwargs)\u001b[0m\n\u001b[1;32m    526\u001b[0m         \u001b[0mretcode\u001b[0m \u001b[0;34m=\u001b[0m \u001b[0mprocess\u001b[0m\u001b[0;34m.\u001b[0m\u001b[0mpoll\u001b[0m\u001b[0;34m(\u001b[0m\u001b[0;34m)\u001b[0m\u001b[0;34m\u001b[0m\u001b[0;34m\u001b[0m\u001b[0m\n\u001b[1;32m    527\u001b[0m         \u001b[0;32mif\u001b[0m \u001b[0mcheck\u001b[0m \u001b[0;32mand\u001b[0m \u001b[0mretcode\u001b[0m\u001b[0;34m:\u001b[0m\u001b[0;34m\u001b[0m\u001b[0;34m\u001b[0m\u001b[0m\n\u001b[0;32m--> 528\u001b[0;31m             raise CalledProcessError(retcode, process.args,\n\u001b[0m\u001b[1;32m    529\u001b[0m                                      output=stdout, stderr=stderr)\n\u001b[1;32m    530\u001b[0m     \u001b[0;32mreturn\u001b[0m \u001b[0mCompletedProcess\u001b[0m\u001b[0;34m(\u001b[0m\u001b[0mprocess\u001b[0m\u001b[0;34m.\u001b[0m\u001b[0margs\u001b[0m\u001b[0;34m,\u001b[0m \u001b[0mretcode\u001b[0m\u001b[0;34m,\u001b[0m \u001b[0mstdout\u001b[0m\u001b[0;34m,\u001b[0m \u001b[0mstderr\u001b[0m\u001b[0;34m)\u001b[0m\u001b[0;34m\u001b[0m\u001b[0;34m\u001b[0m\u001b[0m\n",
      "\u001b[0;31mCalledProcessError\u001b[0m: Command '['latexmk', '--pdf', '--interaction=nonstopmode', '/home/josue/Documents/git/Jugglyng1/Expérimentations/full_table.tex']' returned non-zero exit status 12."
     ]
    }
   ],
   "source": [
    "# des erreurs vont être affichées mais c'est bon en fait\n",
    "generate_full_table(ec_instance)"
   ]
  },
  {
   "cell_type": "code",
   "execution_count": 21,
   "id": "settled-ready",
   "metadata": {},
   "outputs": [],
   "source": [
    "generate_table(ec_instance)"
   ]
  },
  {
   "cell_type": "code",
   "execution_count": null,
   "id": "hydraulic-transmission",
   "metadata": {},
   "outputs": [],
   "source": []
  }
 ],
 "metadata": {
  "kernelspec": {
   "display_name": "Python 3",
   "language": "python",
   "name": "python3"
  },
  "language_info": {
   "codemirror_mode": {
    "name": "ipython",
    "version": 3
   },
   "file_extension": ".py",
   "mimetype": "text/x-python",
   "name": "python",
   "nbconvert_exporter": "python",
   "pygments_lexer": "ipython3",
   "version": "3.9.4"
  }
 },
 "nbformat": 4,
 "nbformat_minor": 5
}
