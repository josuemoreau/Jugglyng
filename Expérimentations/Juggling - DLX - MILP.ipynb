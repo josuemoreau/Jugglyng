{
 "cells": [
  {
   "cell_type": "code",
   "execution_count": 1,
   "id": "sapphire-comparison",
   "metadata": {},
   "outputs": [],
   "source": [
    "from sage.all import MixedIntegerLinearProgram"
   ]
  },
  {
   "cell_type": "code",
   "execution_count": 2,
   "id": "rolled-biography",
   "metadata": {},
   "outputs": [],
   "source": [
    "p = MixedIntegerLinearProgram()"
   ]
  },
  {
   "cell_type": "code",
   "execution_count": 3,
   "id": "warming-discussion",
   "metadata": {},
   "outputs": [],
   "source": [
    "x, y, z = p['x'], p['y'], p['z']"
   ]
  },
  {
   "cell_type": "code",
   "execution_count": 4,
   "id": "gorgeous-albania",
   "metadata": {},
   "outputs": [],
   "source": [
    "p.set_min(x, 0)\n",
    "p.set_min(y, 0)\n",
    "p.set_min(z, 0)"
   ]
  },
  {
   "cell_type": "code",
   "execution_count": 5,
   "id": "approved-runner",
   "metadata": {},
   "outputs": [],
   "source": [
    "p.set_objective(x + y + 3 * z)"
   ]
  },
  {
   "cell_type": "code",
   "execution_count": 6,
   "id": "ethical-microphone",
   "metadata": {},
   "outputs": [],
   "source": [
    "p.add_constraint(x + 2 * y <= 4)\n",
    "p.add_constraint(5 * z - y <= 8)"
   ]
  },
  {
   "cell_type": "code",
   "execution_count": 7,
   "id": "descending-flooring",
   "metadata": {},
   "outputs": [
    {
     "data": {
      "text/plain": [
       "8.8"
      ]
     },
     "execution_count": 7,
     "metadata": {},
     "output_type": "execute_result"
    }
   ],
   "source": [
    "p.solve()"
   ]
  },
  {
   "cell_type": "code",
   "execution_count": 8,
   "id": "played-power",
   "metadata": {},
   "outputs": [
    {
     "data": {
      "text/plain": [
       "(4.0, 0.0, 1.6)"
      ]
     },
     "execution_count": 8,
     "metadata": {},
     "output_type": "execute_result"
    }
   ],
   "source": [
    "p.get_values(x), p.get_values(y), p.get_values(z)"
   ]
  },
  {
   "cell_type": "code",
   "execution_count": 9,
   "id": "alike-congo",
   "metadata": {},
   "outputs": [],
   "source": [
    "%load_ext autoreload"
   ]
  },
  {
   "cell_type": "code",
   "execution_count": 10,
   "id": "deadly-blade",
   "metadata": {},
   "outputs": [],
   "source": [
    "%autoreload 2"
   ]
  },
  {
   "cell_type": "code",
   "execution_count": 11,
   "id": "further-happening",
   "metadata": {},
   "outputs": [],
   "source": [
    "from juggling_dlx_milp import *"
   ]
  },
  {
   "cell_type": "code",
   "execution_count": 12,
   "id": "reserved-freedom",
   "metadata": {},
   "outputs": [],
   "source": [
    "music = [( 1, \"do\"), ( 2, \"do\"), ( 3, \"do\"), \n",
    "         ( 4, \"re\"), ( 5, \"mi\"), ( 7, \"re\"), \n",
    "         ( 9, \"do\"), (10, \"mi\"), (11, \"re\"),\n",
    "         (12, \"re\"), (13, \"do\")]"
   ]
  },
  {
   "cell_type": "code",
   "execution_count": 13,
   "id": "sharing-harris",
   "metadata": {},
   "outputs": [],
   "source": [
    "balls, throws = music_to_throws(music)"
   ]
  },
  {
   "cell_type": "code",
   "execution_count": 14,
   "id": "authentic-logistics",
   "metadata": {},
   "outputs": [
    {
     "data": {
      "text/plain": [
       "{'do', 'mi', 're'}"
      ]
     },
     "execution_count": 14,
     "metadata": {},
     "output_type": "execute_result"
    }
   ],
   "source": [
    "balls"
   ]
  },
  {
   "cell_type": "code",
   "execution_count": 15,
   "id": "eight-confusion",
   "metadata": {},
   "outputs": [
    {
     "data": {
      "text/plain": [
       "[[Throw(ball='do', time=0, max_height=1),\n",
       "  Throw(ball='re', time=0, max_height=4),\n",
       "  Throw(ball='mi', time=0, max_height=5)],\n",
       " [Throw(ball='do', time=1, max_height=1)],\n",
       " [Throw(ball='do', time=2, max_height=1)],\n",
       " [Throw(ball='do', time=3, max_height=6)],\n",
       " [Throw(ball='re', time=4, max_height=3)],\n",
       " [Throw(ball='mi', time=5, max_height=5)],\n",
       " [],\n",
       " [Throw(ball='re', time=7, max_height=4)],\n",
       " [],\n",
       " [Throw(ball='do', time=9, max_height=4)],\n",
       " [],\n",
       " [Throw(ball='re', time=11, max_height=1)],\n",
       " []]"
      ]
     },
     "execution_count": 15,
     "metadata": {},
     "output_type": "execute_result"
    }
   ],
   "source": [
    "throws"
   ]
  },
  {
   "cell_type": "code",
   "execution_count": 16,
   "id": "general-proposition",
   "metadata": {
    "scrolled": true
   },
   "outputs": [],
   "source": [
    "ec_instance = throws_to_extended_exact_cover(balls, throws, 2, 4, 2,\n",
    "                                             [(1, 3)], [(1, 3)])"
   ]
  },
  {
   "cell_type": "code",
   "execution_count": 17,
   "id": "framed-accommodation",
   "metadata": {},
   "outputs": [],
   "source": [
    "# des erreurs vont être affichées mais c'est bon en fait\n",
    "generate_full_table(ec_instance)"
   ]
  },
  {
   "cell_type": "code",
   "execution_count": 24,
   "id": "modern-organization",
   "metadata": {},
   "outputs": [
    {
     "data": {
      "text/plain": [
       "'\\\\begin{array}{ccccc}\\\\hline x_{T(do, 0, 1)}^{0, 1} & l_{T(do, 0, 1)} & i_{0, 0, 1} & i_{1, 0, 3} & m_{0, 0, (1, 3)}\\\\\\\\x_{T(do, 0, 1)}^{1, 1} & l_{T(do, 0, 1)} & i_{0, 1, 1} & i_{1, 1, 3} & m_{0, 1, (1, 3)}\\\\\\\\x_{T(re, 0, 4)}^{0, 1} & l_{T(re, 0, 4)} & i_{1, 0, 3} & m_{3, 0, (1, 3)}\\\\\\\\x_{T(re, 0, 4)}^{0, 2} & l_{T(re, 0, 4)}\\\\\\\\x_{T(re, 0, 4)}^{0, 3} & l_{T(re, 0, 4)} & m_{1, 0, (1, 3)}\\\\\\\\x_{T(re, 0, 4)}^{0, 4} & l_{T(re, 0, 4)} & i_{0, 0, 4}\\\\\\\\x_{T(re, 0, 4)}^{1, 1} & l_{T(re, 0, 4)} & i_{1, 1, 3} & m_{3, 1, (1, 3)}\\\\\\\\x_{T(re, 0, 4)}^{1, 2} & l_{T(re, 0, 4)}\\\\\\\\x_{T(re, 0, 4)}^{1, 3} & l_{T(re, 0, 4)} & m_{1, 1, (1, 3)}\\\\\\\\x_{T(re, 0, 4)}^{1, 4} & l_{T(re, 0, 4)} & i_{0, 1, 4}\\\\\\\\x_{T(mi, 0, 5)}^{0, 1} & l_{T(mi, 0, 5)} & i_{1, 0, 3} & m_{4, 0, (1, 3)}\\\\\\\\x_{T(mi, 0, 5)}^{0, 2} & l_{T(mi, 0, 5)}\\\\\\\\x_{T(mi, 0, 5)}^{0, 3} & l_{T(mi, 0, 5)} & m_{2, 0, (1, 3)}\\\\\\\\x_{T(mi, 0, 5)}^{0, 4} & l_{T(mi, 0, 5)}\\\\\\\\x_{T(mi, 0, 5)}^{1, 1} & l_{T(mi, 0, 5)} & i_{1, 1, 3} & m_{4, 1, (1, 3)}\\\\\\\\x_{T(mi, 0, 5)}^{1, 2} & l_{T(mi, 0, 5)}\\\\\\\\x_{T(mi, 0, 5)}^{1, 3} & l_{T(mi, 0, 5)} & m_{2, 1, (1, 3)}\\\\\\\\x_{T(mi, 0, 5)}^{1, 4} & l_{T(mi, 0, 5)}\\\\\\\\x_{T(do, 1, 1)}^{0, 1} & l_{T(do, 1, 1)} & i_{1, 0, 1} & i_{2, 0, 3} & m_{1, 0, (1, 3)}\\\\\\\\x_{T(do, 1, 1)}^{1, 1} & l_{T(do, 1, 1)} & i_{1, 1, 1} & i_{2, 1, 3} & m_{1, 1, (1, 3)}\\\\\\\\x_{T(do, 2, 1)}^{0, 1} & l_{T(do, 2, 1)} & i_{2, 0, 1} & i_{3, 0, 3} & m_{2, 0, (1, 3)}\\\\\\\\x_{T(do, 2, 1)}^{1, 1} & l_{T(do, 2, 1)} & i_{2, 1, 1} & i_{3, 1, 3} & m_{2, 1, (1, 3)}\\\\\\\\x_{T(do, 3, 6)}^{0, 1} & l_{T(do, 3, 6)} & i_{4, 0, 3} & m_{8, 0, (1, 3)}\\\\\\\\x_{T(do, 3, 6)}^{0, 2} & l_{T(do, 3, 6)}\\\\\\\\x_{T(do, 3, 6)}^{0, 3} & l_{T(do, 3, 6)} & m_{6, 0, (1, 3)}\\\\\\\\x_{T(do, 3, 6)}^{0, 4} & l_{T(do, 3, 6)}\\\\\\\\x_{T(do, 3, 6)}^{1, 1} & l_{T(do, 3, 6)} & i_{4, 1, 3} & m_{8, 1, (1, 3)}\\\\\\\\x_{T(do, 3, 6)}^{1, 2} & l_{T(do, 3, 6)}\\\\\\\\x_{T(do, 3, 6)}^{1, 3} & l_{T(do, 3, 6)} & m_{6, 1, (1, 3)}\\\\\\\\x_{T(do, 3, 6)}^{1, 4} & l_{T(do, 3, 6)}\\\\\\\\x_{T(re, 4, 3)}^{0, 1} & l_{T(re, 4, 3)} & i_{5, 0, 3} & m_{6, 0, (1, 3)}\\\\\\\\x_{T(re, 4, 3)}^{0, 2} & l_{T(re, 4, 3)}\\\\\\\\x_{T(re, 4, 3)}^{0, 3} & l_{T(re, 4, 3)} & i_{4, 0, 3} & m_{4, 0, (1, 3)}\\\\\\\\x_{T(re, 4, 3)}^{1, 1} & l_{T(re, 4, 3)} & i_{5, 1, 3} & m_{6, 1, (1, 3)}\\\\\\\\x_{T(re, 4, 3)}^{1, 2} & l_{T(re, 4, 3)}\\\\\\\\x_{T(re, 4, 3)}^{1, 3} & l_{T(re, 4, 3)} & i_{4, 1, 3} & m_{4, 1, (1, 3)}\\\\\\\\x_{T(mi, 5, 5)}^{0, 1} & l_{T(mi, 5, 5)} & i_{6, 0, 3} & m_{9, 0, (1, 3)}\\\\\\\\x_{T(mi, 5, 5)}^{0, 2} & l_{T(mi, 5, 5)}\\\\\\\\x_{T(mi, 5, 5)}^{0, 3} & l_{T(mi, 5, 5)} & m_{7, 0, (1, 3)}\\\\\\\\x_{T(mi, 5, 5)}^{0, 4} & l_{T(mi, 5, 5)}\\\\\\\\x_{T(mi, 5, 5)}^{1, 1} & l_{T(mi, 5, 5)} & i_{6, 1, 3} & m_{9, 1, (1, 3)}\\\\\\\\x_{T(mi, 5, 5)}^{1, 2} & l_{T(mi, 5, 5)}\\\\\\\\x_{T(mi, 5, 5)}^{1, 3} & l_{T(mi, 5, 5)} & m_{7, 1, (1, 3)}\\\\\\\\x_{T(mi, 5, 5)}^{1, 4} & l_{T(mi, 5, 5)}\\\\\\\\x_{T(re, 7, 4)}^{0, 1} & l_{T(re, 7, 4)} & i_{8, 0, 3} & m_{10, 0, (1, 3)}\\\\\\\\x_{T(re, 7, 4)}^{0, 2} & l_{T(re, 7, 4)}\\\\\\\\x_{T(re, 7, 4)}^{0, 3} & l_{T(re, 7, 4)} & m_{8, 0, (1, 3)}\\\\\\\\x_{T(re, 7, 4)}^{0, 4} & l_{T(re, 7, 4)} & i_{7, 0, 4}\\\\\\\\x_{T(re, 7, 4)}^{1, 1} & l_{T(re, 7, 4)} & i_{8, 1, 3} & m_{10, 1, (1, 3)}\\\\\\\\x_{T(re, 7, 4)}^{1, 2} & l_{T(re, 7, 4)}\\\\\\\\x_{T(re, 7, 4)}^{1, 3} & l_{T(re, 7, 4)} & m_{8, 1, (1, 3)}\\\\\\\\x_{T(re, 7, 4)}^{1, 4} & l_{T(re, 7, 4)} & i_{7, 1, 4}\\\\\\\\x_{T(do, 9, 4)}^{0, 1} & l_{T(do, 9, 4)} & i_{10, 0, 3} & m_{12, 0, (1, 3)}\\\\\\\\x_{T(do, 9, 4)}^{0, 2} & l_{T(do, 9, 4)}\\\\\\\\x_{T(do, 9, 4)}^{0, 3} & l_{T(do, 9, 4)} & m_{10, 0, (1, 3)}\\\\\\\\x_{T(do, 9, 4)}^{0, 4} & l_{T(do, 9, 4)} & i_{9, 0, 4}\\\\\\\\x_{T(do, 9, 4)}^{1, 1} & l_{T(do, 9, 4)} & i_{10, 1, 3} & m_{12, 1, (1, 3)}\\\\\\\\x_{T(do, 9, 4)}^{1, 2} & l_{T(do, 9, 4)}\\\\\\\\x_{T(do, 9, 4)}^{1, 3} & l_{T(do, 9, 4)} & m_{10, 1, (1, 3)}\\\\\\\\x_{T(do, 9, 4)}^{1, 4} & l_{T(do, 9, 4)} & i_{9, 1, 4}\\\\\\\\x_{T(re, 11, 1)}^{0, 1} & l_{T(re, 11, 1)} & i_{11, 0, 1} & i_{12, 0, 3} & m_{11, 0, (1, 3)}\\\\\\\\x_{T(re, 11, 1)}^{1, 1} & l_{T(re, 11, 1)} & i_{11, 1, 1} & i_{12, 1, 3} & m_{11, 1, (1, 3)}\\\\\\\\\\\\hline \\\\end{array}'"
      ]
     },
     "execution_count": 24,
     "metadata": {},
     "output_type": "execute_result"
    }
   ],
   "source": [
    "latex_table(ec_instance)"
   ]
  },
  {
   "cell_type": "code",
   "execution_count": 25,
   "id": "settled-ready",
   "metadata": {},
   "outputs": [],
   "source": [
    "generate_table(ec_instance)"
   ]
  }
 ],
 "metadata": {
  "kernelspec": {
   "display_name": "Python 3",
   "language": "python",
   "name": "python3"
  },
  "language_info": {
   "codemirror_mode": {
    "name": "ipython",
    "version": 3
   },
   "file_extension": ".py",
   "mimetype": "text/x-python",
   "name": "python",
   "nbconvert_exporter": "python",
   "pygments_lexer": "ipython3",
   "version": "3.9.2"
  }
 },
 "nbformat": 4,
 "nbformat_minor": 5
}
