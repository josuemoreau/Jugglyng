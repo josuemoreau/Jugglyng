{
 "cells": [
  {
   "cell_type": "code",
   "execution_count": 1,
   "id": "alike-congo",
   "metadata": {},
   "outputs": [],
   "source": [
    "%load_ext autoreload"
   ]
  },
  {
   "cell_type": "code",
   "execution_count": 2,
   "id": "deadly-blade",
   "metadata": {},
   "outputs": [],
   "source": [
    "%autoreload 2"
   ]
  },
  {
   "cell_type": "code",
   "execution_count": 1,
   "id": "further-happening",
   "metadata": {},
   "outputs": [
    {
     "name": "stderr",
     "output_type": "stream",
     "text": [
      "/home/josue/Documents/git/Jugglyng1/Expérimentations/Juggling DLX/DLX/dlxm.py:69: RuntimeWarning: class \"DLX_M::AbstrItem\" has no virtual destructor\n",
      "  class ConcItem(_AbstrItem):\n"
     ]
    }
   ],
   "source": [
    "from juggling_dlx_milp import *"
   ]
  },
  {
   "cell_type": "code",
   "execution_count": 2,
   "id": "reserved-freedom",
   "metadata": {},
   "outputs": [],
   "source": [
    "music = [( 1, \"do\"), ( 2, \"do\"), ( 3, \"do\"), \n",
    "         ( 4, \"re\"), ( 5, \"mi\"), ( 7, \"re\"), \n",
    "         ( 9, \"do\"), (10, \"mi\"), (11, \"re\"),\n",
    "         (12, \"re\"), (13, \"do\")]"
   ]
  },
  {
   "cell_type": "code",
   "execution_count": 3,
   "id": "sharing-harris",
   "metadata": {},
   "outputs": [],
   "source": [
    "balls, throws = music_to_throws(music)"
   ]
  },
  {
   "cell_type": "code",
   "execution_count": 4,
   "id": "authentic-logistics",
   "metadata": {},
   "outputs": [
    {
     "data": {
      "text/plain": [
       "{'do', 'mi', 're'}"
      ]
     },
     "execution_count": 4,
     "metadata": {},
     "output_type": "execute_result"
    }
   ],
   "source": [
    "balls"
   ]
  },
  {
   "cell_type": "code",
   "execution_count": 5,
   "id": "eight-confusion",
   "metadata": {},
   "outputs": [
    {
     "data": {
      "text/plain": [
       "[[Throw(ball='do', time=0, max_height=1),\n",
       "  Throw(ball='re', time=0, max_height=4),\n",
       "  Throw(ball='mi', time=0, max_height=5)],\n",
       " [Throw(ball='do', time=1, max_height=1)],\n",
       " [Throw(ball='do', time=2, max_height=1)],\n",
       " [Throw(ball='do', time=3, max_height=6)],\n",
       " [Throw(ball='re', time=4, max_height=3)],\n",
       " [Throw(ball='mi', time=5, max_height=5)],\n",
       " [],\n",
       " [Throw(ball='re', time=7, max_height=4)],\n",
       " [],\n",
       " [Throw(ball='do', time=9, max_height=4)],\n",
       " [],\n",
       " [Throw(ball='re', time=11, max_height=1)],\n",
       " []]"
      ]
     },
     "execution_count": 5,
     "metadata": {},
     "output_type": "execute_result"
    }
   ],
   "source": [
    "throws"
   ]
  },
  {
   "cell_type": "markdown",
   "id": "284a1252-14a7-4d7c-8882-acba303c6320",
   "metadata": {},
   "source": [
    "### Contraintes"
   ]
  },
  {
   "cell_type": "code",
   "execution_count": 6,
   "id": "4f39d131-9d79-4cfe-b83c-65d07a4e90d7",
   "metadata": {},
   "outputs": [],
   "source": [
    "nb_hands = 2\n",
    "max_height = 5\n",
    "max_weight = 3\n",
    "forbidden_multiplex = [(1, 2), (1, 3), (1, 4), (2, )]\n",
    "multiple_throws = True"
   ]
  },
  {
   "cell_type": "markdown",
   "id": "02bdf479-9490-4d9f-8ad4-405a87b43cfc",
   "metadata": {},
   "source": [
    "### Algorithme"
   ]
  },
  {
   "cell_type": "code",
   "execution_count": 7,
   "id": "suitable-person",
   "metadata": {
    "scrolled": true
   },
   "outputs": [],
   "source": [
    "ec_instance1 = throws_to_extended_exact_cover(balls, throws, nb_hands, max_height, max_weight,\n",
    "                                              forbidden_multiplex, [], multiple_throws)"
   ]
  },
  {
   "cell_type": "code",
   "execution_count": 8,
   "id": "violent-understanding",
   "metadata": {},
   "outputs": [],
   "source": [
    "sol1 = solve_exact_cover_with_milp(ec_instance1, True)"
   ]
  },
  {
   "cell_type": "code",
   "execution_count": 9,
   "id": "unlike-europe",
   "metadata": {
    "scrolled": true
   },
   "outputs": [],
   "source": [
    "ec_instance2 = throws_to_extended_exact_cover(balls, throws, 2, 4, 2,\n",
    "                                             [(1, 3)], [(1, 3), (1, 1)], False)"
   ]
  },
  {
   "cell_type": "code",
   "execution_count": 10,
   "id": "personal-locator",
   "metadata": {},
   "outputs": [],
   "source": [
    "sol2 = solve_exact_cover_with_milp(ec_instance2)"
   ]
  },
  {
   "cell_type": "markdown",
   "id": "local-franchise",
   "metadata": {},
   "source": [
    "#### Solution en interdisant de lancer plusieurs balles depuis une même main en même temps"
   ]
  },
  {
   "cell_type": "code",
   "execution_count": 11,
   "id": "comfortable-restaurant",
   "metadata": {},
   "outputs": [
    {
     "name": "stdout",
     "output_type": "stream",
     "text": [
      "{'do', 'mi'}    {'re'}    : do -- 1 --> 1\n",
      "                            re -- 4 --> 1\n",
      "   {'mi'}       {'do'}    : mi -- 4 --> 1\n",
      "                            do -- 1 --> 0\n",
      "   {'do'}         {}      : do -- 1 --> 1\n",
      "     {}         {'do'}    : \n",
      "     {}      {'do', 're'} : re -- 3 --> 0\n",
      "     {}      {'do', 'mi'} : \n",
      "     {}      {'do', 'mi'} : do -- 3 --> 0\n",
      "   {'re'}       {'mi'}    : mi -- 3 --> ?\n",
      "   {'re'}         {}      : re -- 3 --> 1\n",
      "   {'do'}         {}      : \n",
      "   {'do'}         {}      : do -- 3 --> ?\n",
      "     {}         {'re'}    : re -- 1 --> ?\n",
      "     {}           {}      : \n"
     ]
    }
   ],
   "source": [
    "print_juggling(sol1)"
   ]
  },
  {
   "cell_type": "markdown",
   "id": "black-great",
   "metadata": {},
   "source": [
    "#### Solution en autorisant de lancer plusieurs balles depuis une même main en même temps"
   ]
  },
  {
   "cell_type": "code",
   "execution_count": 12,
   "id": "necessary-cleaners",
   "metadata": {},
   "outputs": [
    {
     "name": "stdout",
     "output_type": "stream",
     "text": [
      "{'do', 're'}    {'mi'}    : do -- 1 --> 1\n",
      "   {'re'}    {'do', 'mi'} : do -- 1 --> 0\n",
      "{'do', 're'}    {'mi'}    : re -- 2 --> 0\n",
      "                            do -- 1 --> 1\n",
      "     {}      {'do', 'mi'} : mi -- 2 --> 0\n",
      "   {'re'}       {'do'}    : \n",
      "{'mi', 're'}    {'do'}    : \n",
      "{'mi', 're'}    {'do'}    : re -- 1 --> 1\n",
      "   {'mi'}    {'do', 're'} : \n",
      "   {'mi'}    {'do', 're'} : do -- 1 --> 0\n",
      "{'do', 'mi'}    {'re'}    : mi -- 1 --> ?\n",
      "   {'do'}       {'re'}    : re -- 1 --> 0\n",
      "{'do', 're'}      {}      : re -- 1 --> ?\n",
      "   {'do'}         {}      : do -- 1 --> ?\n"
     ]
    }
   ],
   "source": [
    "print_juggling(sol2)"
   ]
  },
  {
   "cell_type": "markdown",
   "id": "cosmetic-egypt",
   "metadata": {},
   "source": [
    "#### Même comparaison avec d'autres fonctions d'affichages"
   ]
  },
  {
   "cell_type": "code",
   "execution_count": 13,
   "id": "undefined-graph",
   "metadata": {},
   "outputs": [
    {
     "name": "stdout",
     "output_type": "stream",
     "text": [
      "0 - do : main 0 (0 temps) --> 1 temps\n",
      "0 - re : main 1 (0 temps) --> 4 temps\n",
      "0 - mi : main 0 (1 temps) --> 4 temps\n",
      "1 - do : main 1 (0 temps) --> 1 temps\n",
      "2 - do : main 0 (0 temps) --> 1 temps\n",
      "3 - do : main 1 (3 temps) --> 3 temps\n",
      "4 - re : main 1 (0 temps) --> 3 temps\n",
      "5 - mi : main 1 (2 temps) --> 3 temps\n",
      "7 - re : main 0 (1 temps) --> 3 temps\n",
      "9 - do : main 0 (1 temps) --> 3 temps\n",
      "11 - re : main 1 (0 temps) --> 1 temps\n"
     ]
    }
   ],
   "source": [
    "print_juggling_solution(sol1)"
   ]
  },
  {
   "cell_type": "code",
   "execution_count": 14,
   "id": "level-classification",
   "metadata": {},
   "outputs": [
    {
     "name": "stdout",
     "output_type": "stream",
     "text": [
      "0 - do : main 0 (0 temps) --> 1 temps\n",
      "0 - re : main 0 (2 temps) --> 2 temps\n",
      "0 - mi : main 1 (3 temps) --> 2 temps\n",
      "1 - do : main 1 (0 temps) --> 1 temps\n",
      "2 - do : main 0 (0 temps) --> 1 temps\n",
      "3 - do : main 1 (5 temps) --> 1 temps\n",
      "4 - re : main 0 (2 temps) --> 1 temps\n",
      "5 - mi : main 0 (4 temps) --> 1 temps\n",
      "7 - re : main 1 (3 temps) --> 1 temps\n",
      "9 - do : main 0 (3 temps) --> 1 temps\n",
      "11 - re : main 0 (0 temps) --> 1 temps\n"
     ]
    }
   ],
   "source": [
    "print_juggling_solution(sol2)"
   ]
  },
  {
   "cell_type": "markdown",
   "id": "9448adba",
   "metadata": {},
   "source": [
    "#### Export vers le format du simulateur"
   ]
  },
  {
   "cell_type": "code",
   "execution_count": 15,
   "id": "d3ddcf61",
   "metadata": {},
   "outputs": [
    {
     "data": {
      "text/plain": [
       "[[[('do', 1, 1)],\n",
       "  [('mi', 1, 4)],\n",
       "  [('do', 1, 1)],\n",
       "  [],\n",
       "  [],\n",
       "  [],\n",
       "  [],\n",
       "  [],\n",
       "  [('re', 1, 3)],\n",
       "  [],\n",
       "  [('do', 1, 3)],\n",
       "  [],\n",
       "  [],\n",
       "  []],\n",
       " [[('re', 1, 4)],\n",
       "  [('do', 0, 1)],\n",
       "  [],\n",
       "  [],\n",
       "  [('re', 0, 3)],\n",
       "  [],\n",
       "  [('do', 0, 3)],\n",
       "  [('mi', 0, 3)],\n",
       "  [],\n",
       "  [],\n",
       "  [],\n",
       "  [('re', 0, 1)],\n",
       "  [],\n",
       "  []]]"
      ]
     },
     "execution_count": 15,
     "metadata": {},
     "output_type": "execute_result"
    }
   ],
   "source": [
    "juggling_sol_to_simulator(sol1)"
   ]
  },
  {
   "cell_type": "markdown",
   "id": "233566a4-3d85-4ccb-9a5b-7a116563e0e6",
   "metadata": {},
   "source": [
    "### Simulateur"
   ]
  },
  {
   "cell_type": "code",
   "execution_count": 27,
   "id": "ba242ade-4bdc-4466-a49b-8ed0aa94ae37",
   "metadata": {},
   "outputs": [
    {
     "data": {
      "text/html": [
       "<script type=\"module\">\n",
       "\t\timport * as THREE from 'https://unpkg.com/three@0.127.0/build/three.module.js';\n",
       "\t\t\n",
       "\t\tconst camera = new THREE.Camera();\n",
       "\n",
       "\t\tconst scene = new THREE.Scene();\n",
       "\n",
       "\t\t// create an AudioListener and add it to the camera \n",
       "\t\tconst listener = new THREE.AudioListener();\n",
       "\t\tcamera.add(listener); // create a global audio source\n",
       "\n",
       "\t\tconst sound = new THREE.Audio(listener); // load a sound and set it as the Audio object's buffer \n",
       "\n",
       "\t\tconst audioLoader = new THREE.AudioLoader();\n",
       "\t\taudioLoader.load('../../sounds2/do.wav', function(buffer) {\n",
       "\t\t\tsound.setBuffer(buffer);\n",
       "\t\t\tsound.setLoop(false);\n",
       "\t\t\tsound.setVolume(2.0);\n",
       "\t\t\tsound.play();\n",
       "\t\t});\n",
       "    </script>"
      ],
      "text/plain": [
       "<IPython.core.display.HTML object>"
      ]
     },
     "metadata": {},
     "output_type": "display_data"
    },
    {
     "data": {
      "text/html": [
       "<script type=\"module\">\n",
       "\t\timport * as THREE from 'https://unpkg.com/three@0.127.0/build/three.module.js';\n",
       "\t\t\n",
       "\t\tconst camera = new THREE.Camera();\n",
       "\n",
       "\t\tconst scene = new THREE.Scene();\n",
       "\n",
       "\t\t// create an AudioListener and add it to the camera \n",
       "\t\tconst listener = new THREE.AudioListener();\n",
       "\t\tcamera.add(listener); // create a global audio source\n",
       "\n",
       "\t\tconst sound = new THREE.Audio(listener); // load a sound and set it as the Audio object's buffer \n",
       "\n",
       "\t\tconst audioLoader = new THREE.AudioLoader();\n",
       "\t\taudioLoader.load('../../sounds2/re.wav', function(buffer) {\n",
       "\t\t\tsound.setBuffer(buffer);\n",
       "\t\t\tsound.setLoop(false);\n",
       "\t\t\tsound.setVolume(2.0);\n",
       "\t\t\tsound.play();\n",
       "\t\t});\n",
       "    </script>"
      ],
      "text/plain": [
       "<IPython.core.display.HTML object>"
      ]
     },
     "metadata": {},
     "output_type": "display_data"
    },
    {
     "data": {
      "text/html": [
       "<script type=\"module\">\n",
       "\t\timport * as THREE from 'https://unpkg.com/three@0.127.0/build/three.module.js';\n",
       "\t\t\n",
       "\t\tconst camera = new THREE.Camera();\n",
       "\n",
       "\t\tconst scene = new THREE.Scene();\n",
       "\n",
       "\t\t// create an AudioListener and add it to the camera \n",
       "\t\tconst listener = new THREE.AudioListener();\n",
       "\t\tcamera.add(listener); // create a global audio source\n",
       "\n",
       "\t\tconst sound = new THREE.Audio(listener); // load a sound and set it as the Audio object's buffer \n",
       "\n",
       "\t\tconst audioLoader = new THREE.AudioLoader();\n",
       "\t\taudioLoader.load('../../sounds2/mi.wav', function(buffer) {\n",
       "\t\t\tsound.setBuffer(buffer);\n",
       "\t\t\tsound.setLoop(false);\n",
       "\t\t\tsound.setVolume(2.0);\n",
       "\t\t\tsound.play();\n",
       "\t\t});\n",
       "    </script>"
      ],
      "text/plain": [
       "<IPython.core.display.HTML object>"
      ]
     },
     "metadata": {},
     "output_type": "display_data"
    },
    {
     "data": {
      "application/vnd.jupyter.widget-view+json": {
       "model_id": "bdee040f24134dd3a18e960d3676b57b",
       "version_major": 2,
       "version_minor": 0
      },
      "text/plain": [
       "VBox(children=(Renderer(camera=PerspectiveCamera(position=(0.0, 0.0, -100.0), projectionMatrix=(1.0, 0.0, 0.0,…"
      ]
     },
     "metadata": {},
     "output_type": "display_data"
    }
   ],
   "source": [
    "import modele\n",
    "import ipywidgets\n",
    "import pythreejs\n",
    "\n",
    "balls = [{\"color\":\"blue\", \"tone\":\"do\", \"name\":\"do\"},\n",
    "         {\"color\":\"red\", \"tone\":\"re\", \"name\":\"re\"},\n",
    "         {\"color\":\"green\", \"tone\":\"mi\", \"name\":\"mi\"},]\n",
    "\n",
    "# balls = [{\"color\":\"blue\", \"tone\":\"do\", \"name\":\"do\"},\n",
    "#          {\"color\":\"red\", \"tone\":\"re\", \"name\":\"re\"},\n",
    "#          {\"color\":\"green\", \"tone\":\"mi\", \"name\":\"mi\"}]\n",
    "\n",
    "pattern = juggling_sol_to_simulator(sol1)\n",
    "\n",
    "sides = [-1, 1]\n",
    "\n",
    "model = modele.Model(balls, pattern)\n",
    "slider = ipywidgets.FloatSlider(min=0, max=40, step=0.05)\n",
    "view = modele.View(model, sides)\n",
    "slider.observe(lambda change: view.update(change['new'], change['old']), names=\"value\")\n",
    "ipywidgets.VBox([view.widget,slider])"
   ]
  },
  {
   "cell_type": "code",
   "execution_count": 30,
   "id": "bff7b611-8d91-4cbf-a2f4-e693ed192809",
   "metadata": {},
   "outputs": [],
   "source": [
    "view.widget.camera.position = (0, 0, -50)"
   ]
  },
  {
   "cell_type": "code",
   "execution_count": 17,
   "id": "bc0e30fc-5ee3-423b-aa6b-1967a9650b4d",
   "metadata": {},
   "outputs": [],
   "source": [
    "dlx = dlx_solver_instance(ec_instance1)"
   ]
  },
  {
   "cell_type": "code",
   "execution_count": 18,
   "id": "19d2691d-190f-400e-9653-cea25e9f1962",
   "metadata": {},
   "outputs": [
    {
     "data": {
      "text/plain": [
       "62"
      ]
     },
     "execution_count": 18,
     "metadata": {},
     "output_type": "execute_result"
    }
   ],
   "source": [
    "len(dlx.rows)"
   ]
  },
  {
   "cell_type": "code",
   "execution_count": 19,
   "id": "11c53b23-57c4-4c3d-a1cc-b3b82559525b",
   "metadata": {},
   "outputs": [
    {
     "name": "stdout",
     "output_type": "stream",
     "text": [
      "0 1 False\n",
      "1 1 False\n",
      "0 2 False\n",
      "0 1 False\n",
      "0 1 False\n",
      "0 1 False\n",
      "0 1 False\n"
     ]
    }
   ],
   "source": [
    "for v in dlx.variables:\n",
    "    print(v.lower_bound, v.upper_bound, v.secondary)"
   ]
  },
  {
   "cell_type": "code",
   "execution_count": null,
   "id": "5e3ac7a1-a0ed-45e5-b956-325c716e0882",
   "metadata": {},
   "outputs": [],
   "source": []
  },
  {
   "cell_type": "code",
   "execution_count": 20,
   "id": "c7e0ce6e-8588-4044-bb5f-a1f32c6b7365",
   "metadata": {},
   "outputs": [],
   "source": [
    "music1 = [( 1, \"do\"), ( 2, \"do\"), ( 3, \"do\")]"
   ]
  },
  {
   "cell_type": "code",
   "execution_count": 21,
   "id": "c38a03bf-1875-400e-9b06-74deb743dd72",
   "metadata": {},
   "outputs": [],
   "source": [
    "balls1, throws1 = music_to_throws(music1)"
   ]
  },
  {
   "cell_type": "code",
   "execution_count": 22,
   "id": "268d5fa1-1012-44c2-9910-a38cd3ed77af",
   "metadata": {},
   "outputs": [
    {
     "data": {
      "text/plain": [
       "({'do'},\n",
       " [[Throw(ball='do', time=0, max_height=1)],\n",
       "  [Throw(ball='do', time=1, max_height=1)],\n",
       "  [Throw(ball='do', time=2, max_height=1)]])"
      ]
     },
     "execution_count": 22,
     "metadata": {},
     "output_type": "execute_result"
    }
   ],
   "source": [
    "balls1, throws1"
   ]
  },
  {
   "cell_type": "code",
   "execution_count": 23,
   "id": "fb69bdb0-060d-47f9-acf4-71258906b8fc",
   "metadata": {
    "scrolled": true
   },
   "outputs": [],
   "source": [
    "ec_instance3 = throws_to_extended_exact_cover(balls1, throws1, 2, 4, 2, [], [], True)"
   ]
  },
  {
   "cell_type": "code",
   "execution_count": 24,
   "id": "870f1ffe-cc9e-4091-bb2e-1ed6b63fd7ca",
   "metadata": {},
   "outputs": [],
   "source": [
    "dlx = dlx_solver_instance(ec_instance3)"
   ]
  },
  {
   "cell_type": "code",
   "execution_count": 25,
   "id": "86ee7882-65f6-453f-9573-712eedce215f",
   "metadata": {},
   "outputs": [
    {
     "name": "stdout",
     "output_type": "stream",
     "text": [
      "x0 x1 x2 x3 x4 x5 x6 \n",
      "x7 x1 x8 x9 x10 x11 x12 \n",
      "x13 x14 x15 x16 x17 x6 x18 \n",
      "x19 x14 x20 x21 x22 x12 x23 \n",
      "x24 x25 x26 x27 x28 x18 x29 \n",
      "x30 x25 x31 x32 x33 x23 x34 \n",
      "0:1|x0 1:1|x1 0:1|x2 0:1|x3 0:2|x4 0:1|x5 0:1|x6 0:1|x7 0:1|x8 0:1|x9 0:2|x10 0:1|x11 0:1|x12 0:1|x13 1:1|x14 0:1|x15 0:1|x16 0:2|x17 0:1|x18 0:1|x19 0:1|x20 0:1|x21 0:2|x22 0:1|x23 0:1|x24 1:1|x25 0:1|x26 0:1|x27 0:2|x28 0:1|x29 0:1|x30 0:1|x31 0:1|x32 0:2|x33 0:1|x34 \n"
     ]
    }
   ],
   "source": [
    "cols = []\n",
    "for i in range(len(dlx.rows)):\n",
    "    for r in dlx.row_repr(i):\n",
    "        r1 = r.replace(\"_\", \"\")\n",
    "        if r not in cols:\n",
    "            cols.append(r)\n",
    "        print(r1, end=\" \")\n",
    "    print(\"\")\n",
    "for col in cols:\n",
    "    for v in dlx.variables:\n",
    "        for k in v:\n",
    "            if v[k].get_repr() == col:\n",
    "                print(\"{}:{}|{}\".format(v.lower_bound, v.upper_bound, col.replace(\"_\", \"\")), end=\" \")\n",
    "                continue\n",
    "print(\"\")"
   ]
  },
  {
   "cell_type": "code",
   "execution_count": 26,
   "id": "30999f7f-0621-4890-bb3d-bf9720eaec89",
   "metadata": {},
   "outputs": [
    {
     "name": "stdout",
     "output_type": "stream",
     "text": [
      "x_{Throw(ball='do', time=0, max_height=1)}^{0, 1} l_{Throw(ball='do', time=0, max_height=1)} D_{0}^{0} i_{0, 0, 1} w_{0, 0} U_{do, 0}^{0} U_{do, 1}^{0} \n",
      "x_{Throw(ball='do', time=0, max_height=1)}^{1, 1} l_{Throw(ball='do', time=0, max_height=1)} D_{0}^{1} i_{0, 1, 1} w_{0, 1} U_{do, 0}^{1} U_{do, 1}^{1} \n",
      "x_{Throw(ball='do', time=1, max_height=1)}^{0, 1} l_{Throw(ball='do', time=1, max_height=1)} D_{1}^{0} i_{1, 0, 1} w_{1, 0} U_{do, 1}^{0} U_{do, 2}^{0} \n",
      "x_{Throw(ball='do', time=1, max_height=1)}^{1, 1} l_{Throw(ball='do', time=1, max_height=1)} D_{1}^{1} i_{1, 1, 1} w_{1, 1} U_{do, 1}^{1} U_{do, 2}^{1} \n",
      "x_{Throw(ball='do', time=2, max_height=1)}^{0, 1} l_{Throw(ball='do', time=2, max_height=1)} D_{2}^{0} i_{2, 0, 1} w_{2, 0} U_{do, 2}^{0} U_{do, 3}^{0} \n",
      "x_{Throw(ball='do', time=2, max_height=1)}^{1, 1} l_{Throw(ball='do', time=2, max_height=1)} D_{2}^{1} i_{2, 1, 1} w_{2, 1} U_{do, 2}^{1} U_{do, 3}^{1} \n"
     ]
    }
   ],
   "source": [
    "for i in range(len(dlx.rows)):\n",
    "    for obj in dlx.row_obj(i):\n",
    "        print(obj.latex(), end=\" \")\n",
    "    print(\"\")"
   ]
  },
  {
   "cell_type": "code",
   "execution_count": 27,
   "id": "972efda0-7444-4d0b-9f0d-f2246000777b",
   "metadata": {},
   "outputs": [
    {
     "data": {
      "text/plain": [
       "[{0, 3, 4}, {1, 2, 5}]"
      ]
     },
     "execution_count": 27,
     "metadata": {},
     "output_type": "execute_result"
    }
   ],
   "source": [
    "dlx.all_solutions()"
   ]
  },
  {
   "cell_type": "code",
   "execution_count": null,
   "id": "b3a3c484-2e64-4b99-b30d-698f7c897add",
   "metadata": {},
   "outputs": [],
   "source": []
  },
  {
   "cell_type": "code",
   "execution_count": null,
   "id": "fe17b395-97c0-4893-9320-9481faa6e1af",
   "metadata": {},
   "outputs": [],
   "source": []
  },
  {
   "cell_type": "code",
   "execution_count": null,
   "id": "abea3b11-2347-4e13-b41c-991c3d694826",
   "metadata": {},
   "outputs": [],
   "source": []
  },
  {
   "cell_type": "code",
   "execution_count": null,
   "id": "10e418e9-8b19-4413-b720-a51e470d4580",
   "metadata": {},
   "outputs": [],
   "source": []
  },
  {
   "cell_type": "code",
   "execution_count": 28,
   "id": "c1efe8e2-940f-44ad-bfcb-ad75ea18e3b3",
   "metadata": {},
   "outputs": [],
   "source": [
    "sols = solve_with_dlx(ec_instance1)"
   ]
  },
  {
   "cell_type": "code",
   "execution_count": 29,
   "id": "d224bb2e-d434-42f3-91e6-13f0d200e4d1",
   "metadata": {},
   "outputs": [
    {
     "data": {
      "text/plain": [
       "110208"
      ]
     },
     "execution_count": 29,
     "metadata": {},
     "output_type": "execute_result"
    }
   ],
   "source": [
    "len(sols)"
   ]
  },
  {
   "cell_type": "code",
   "execution_count": 30,
   "id": "b03ec11b-e76e-4a86-bfc4-e2f860397a06",
   "metadata": {},
   "outputs": [
    {
     "data": {
      "text/plain": [
       "ExactCoverSolution(max_time=13, nb_hands=2, balls={'do', 're', 'mi'}, rows=[[XItem(throw=Throw(ball='do', time=0, max_height=1), hand=0, flying_time=1), LItem(throw=Throw(ball='do', time=0, max_height=1)), DItem(time=0, hand=0), IItem(time=0, hand=0, flying_time=1), MItem(time=0, hand=0, multiplex=(1, 3)), IItem(time=1, hand=0, flying_time=3), IItem(time=1, hand=0, flying_time=1), WItem(time=0, hand=0), UItem(ball='do', time=0, hand=0), UItem(ball='do', time=1, hand=0)], [XItem(throw=Throw(ball='re', time=0, max_height=4), hand=0, flying_time=3), LItem(throw=Throw(ball='re', time=0, max_height=4)), DItem(time=1, hand=0), MItem(time=1, hand=0, multiplex=(1, 3)), WItem(time=0, hand=0), WItem(time=1, hand=0), UItem(ball='re', time=0, hand=0)], [XItem(throw=Throw(ball='mi', time=5, max_height=5), hand=0, flying_time=1), LItem(throw=Throw(ball='mi', time=5, max_height=5)), DItem(time=9, hand=0), MItem(time=9, hand=0, multiplex=(1, 3)), IItem(time=6, hand=0, flying_time=3), IItem(time=6, hand=0, flying_time=1), WItem(time=5, hand=0), WItem(time=6, hand=0), WItem(time=7, hand=0), WItem(time=8, hand=0), WItem(time=9, hand=0), UItem(ball='mi', time=5, hand=0), UItem(ball='mi', time=10, hand=0)], [XItem(throw=Throw(ball='mi', time=0, max_height=5), hand=1, flying_time=2), LItem(throw=Throw(ball='mi', time=0, max_height=5)), DItem(time=3, hand=1), WItem(time=0, hand=1), WItem(time=1, hand=1), WItem(time=2, hand=1), WItem(time=3, hand=1), UItem(ball='mi', time=0, hand=1)], [XItem(throw=Throw(ball='re', time=7, max_height=4), hand=1, flying_time=1), LItem(throw=Throw(ball='re', time=7, max_height=4)), DItem(time=10, hand=1), MItem(time=10, hand=1, multiplex=(1, 3)), IItem(time=8, hand=1, flying_time=3), IItem(time=8, hand=1, flying_time=1), WItem(time=7, hand=1), WItem(time=8, hand=1), WItem(time=9, hand=1), WItem(time=10, hand=1), UItem(ball='re', time=7, hand=1), UItem(ball='re', time=11, hand=1)], [XItem(throw=Throw(ball='do', time=1, max_height=1), hand=1, flying_time=1), LItem(throw=Throw(ball='do', time=1, max_height=1)), DItem(time=1, hand=1), IItem(time=1, hand=1, flying_time=1), MItem(time=1, hand=1, multiplex=(1, 3)), IItem(time=2, hand=1, flying_time=3), IItem(time=2, hand=1, flying_time=1), WItem(time=1, hand=1), UItem(ball='do', time=1, hand=1), UItem(ball='do', time=2, hand=1)], [XItem(throw=Throw(ball='do', time=2, max_height=1), hand=0, flying_time=1), LItem(throw=Throw(ball='do', time=2, max_height=1)), DItem(time=2, hand=0), IItem(time=2, hand=0, flying_time=1), MItem(time=2, hand=0, multiplex=(1, 3)), IItem(time=3, hand=0, flying_time=3), IItem(time=3, hand=0, flying_time=1), WItem(time=2, hand=0), UItem(ball='do', time=2, hand=0), UItem(ball='do', time=3, hand=0)], [XItem(throw=Throw(ball='do', time=9, max_height=4), hand=0, flying_time=1), LItem(throw=Throw(ball='do', time=9, max_height=4)), DItem(time=12, hand=0), MItem(time=12, hand=0, multiplex=(1, 3)), IItem(time=10, hand=0, flying_time=3), IItem(time=10, hand=0, flying_time=1), WItem(time=9, hand=0), WItem(time=10, hand=0), WItem(time=11, hand=0), WItem(time=12, hand=0), UItem(ball='do', time=9, hand=0), UItem(ball='do', time=13, hand=0)], [XItem(throw=Throw(ball='do', time=3, max_height=6), hand=1, flying_time=1), LItem(throw=Throw(ball='do', time=3, max_height=6)), DItem(time=8, hand=1), MItem(time=8, hand=1, multiplex=(1, 3)), IItem(time=4, hand=1, flying_time=3), IItem(time=4, hand=1, flying_time=1), WItem(time=3, hand=1), WItem(time=4, hand=1), WItem(time=5, hand=1), WItem(time=6, hand=1), WItem(time=7, hand=1), WItem(time=8, hand=1), UItem(ball='do', time=3, hand=1), UItem(ball='do', time=9, hand=1)], [XItem(throw=Throw(ball='re', time=11, max_height=1), hand=0, flying_time=1), LItem(throw=Throw(ball='re', time=11, max_height=1)), DItem(time=11, hand=0), IItem(time=11, hand=0, flying_time=1), MItem(time=11, hand=0, multiplex=(1, 3)), IItem(time=12, hand=0, flying_time=3), IItem(time=12, hand=0, flying_time=1), WItem(time=11, hand=0), UItem(ball='re', time=11, hand=0), UItem(ball='re', time=12, hand=0)], [XItem(throw=Throw(ball='re', time=4, max_height=3), hand=0, flying_time=1), LItem(throw=Throw(ball='re', time=4, max_height=3)), DItem(time=6, hand=0), MItem(time=6, hand=0, multiplex=(1, 3)), IItem(time=5, hand=0, flying_time=3), IItem(time=5, hand=0, flying_time=1), WItem(time=4, hand=0), WItem(time=5, hand=0), WItem(time=6, hand=0), UItem(ball='re', time=4, hand=0), UItem(ball='re', time=7, hand=0)]])"
      ]
     },
     "execution_count": 30,
     "metadata": {},
     "output_type": "execute_result"
    }
   ],
   "source": [
    "sols[0]"
   ]
  },
  {
   "cell_type": "code",
   "execution_count": 31,
   "id": "c7e60283-d161-42e5-9950-35938fc04892",
   "metadata": {},
   "outputs": [
    {
     "name": "stdout",
     "output_type": "stream",
     "text": [
      "0 - do : main 0 (0 temps) --> 1 temps\n",
      "0 - re : main 0 (1 temps) --> 3 temps\n",
      "5 - mi : main 0 (4 temps) --> 1 temps\n",
      "0 - mi : main 1 (3 temps) --> 2 temps\n",
      "7 - re : main 1 (3 temps) --> 1 temps\n",
      "1 - do : main 1 (0 temps) --> 1 temps\n",
      "2 - do : main 0 (0 temps) --> 1 temps\n",
      "9 - do : main 0 (3 temps) --> 1 temps\n",
      "3 - do : main 1 (5 temps) --> 1 temps\n",
      "11 - re : main 0 (0 temps) --> 1 temps\n",
      "4 - re : main 0 (2 temps) --> 1 temps\n"
     ]
    }
   ],
   "source": [
    "print_juggling_solution(sols[0])"
   ]
  },
  {
   "cell_type": "code",
   "execution_count": 32,
   "id": "80cd14f8-2e8c-4668-a1d3-460da395bd31",
   "metadata": {},
   "outputs": [
    {
     "data": {
      "text/plain": [
       "[[[('do', 1, 1)],\n",
       "  [('re', 0, 3)],\n",
       "  [('do', 1, 1)],\n",
       "  [],\n",
       "  [],\n",
       "  [],\n",
       "  [('re', 1, 1)],\n",
       "  [],\n",
       "  [],\n",
       "  [('mi', 1, 1)],\n",
       "  [],\n",
       "  [('re', 1, 1)],\n",
       "  [('do', 1, 1)],\n",
       "  []],\n",
       " [[],\n",
       "  [('do', 0, 1)],\n",
       "  [],\n",
       "  [('mi', 0, 2)],\n",
       "  [],\n",
       "  [],\n",
       "  [],\n",
       "  [],\n",
       "  [('do', 0, 1)],\n",
       "  [],\n",
       "  [('re', 0, 1)],\n",
       "  [],\n",
       "  [],\n",
       "  []]]"
      ]
     },
     "execution_count": 32,
     "metadata": {},
     "output_type": "execute_result"
    }
   ],
   "source": [
    "juggling_sol_to_simulator(sols[0])"
   ]
  },
  {
   "cell_type": "markdown",
   "id": "medical-slide",
   "metadata": {},
   "source": [
    "Une éventuelle contrainte à rajouter : interdire qu'une main ne lance et rattrape une balle au même moment.\n",
    "\n",
    "...\n",
    "\n",
    "Après réflexion ce n'est en fait pas nécessaire. Si on veut jongler à la suite 3 lancers de hauteur 1 avec deux mains on va faire : main 0 -> main 1 -> main 0 -> main 1.\n",
    "\n",
    "Formellement une main relance une balle au même instant où elle la reçoit. En réalité, elle reçoit la balle puis la garde un court instant dans la main (moins d'un temps) puis la relance. Une main ne lance et ne reçoit donc jamais en même temps. Le temps où la balle reste dans la main entre la réception et le lancer par le jongleur fait partie du temps de vol dans le modèle."
   ]
  },
  {
   "cell_type": "markdown",
   "id": "sacred-figure",
   "metadata": {},
   "source": [
    "## Notes suite à la discussion du 7/05\n",
    "\n",
    "### Contraintes supplémentaires à ajouter à la réduction\n",
    "- interdir de lancer deux balles en même temps dans la même main\n",
    "- score de jouabilité (minimiser le nombre de lancer en même temps)\n",
    "- temps de départ à prendre en compte\n",
    "\n",
    "### Corrections à faire\n",
    "- corriger la réduction pour le cas où on a des lancers multiplex où les balles étaient déjà dans la main (et pas : elles arrivent puis sont relancées immédiatement après)\n",
    "\n",
    "### Changements à essayer dans l'algorithme\n",
    "- utiliser l'algo avec les polytopes pour générer toutes les solutions (cf. la solution de cette [question](https://ask.sagemath.org/question/23666/solving-system-of-linear-diophantine-equations/))\n",
    "\n",
    "### Autres choses pratiques à faire\n",
    "- améliorer un peu la classe `Audio` (définir à l'initialisation du programme une fonction javascript qui est ensuite simplement appelée par python)"
   ]
  },
  {
   "cell_type": "code",
   "execution_count": null,
   "id": "complimentary-literacy",
   "metadata": {},
   "outputs": [],
   "source": []
  },
  {
   "cell_type": "code",
   "execution_count": null,
   "id": "latin-pointer",
   "metadata": {},
   "outputs": [],
   "source": []
  },
  {
   "cell_type": "code",
   "execution_count": 20,
   "id": "framed-accommodation",
   "metadata": {
    "scrolled": true
   },
   "outputs": [
    {
     "name": "stdout",
     "output_type": "stream",
     "text": [
      "Rc files read:\n",
      "  NONE\n",
      "Latexmk: This is Latexmk, John Collins, 29 September 2020, version: 4.70b.\n",
      "Rule 'pdflatex': File changes, etc:\n",
      "   Changed files, or newly in use since previous run(s):\n",
      "      '/home/josue/Documents/git/Jugglyng1/Expérimentations/full_table.tex'\n",
      "      'full_table.tex'\n",
      "------------\n",
      "Run number 1 of rule 'pdflatex'\n",
      "------------\n",
      "------------\n",
      "Running 'pdflatex  --interaction=nonstopmode -recorder  \"/home/josue/Documents/git/Jugglyng1/Expérimentations/full_table.tex\"'\n",
      "------------\n",
      "Latexmk: applying rule 'pdflatex'...\n",
      "This is pdfTeX, Version 3.14159265-2.6-1.40.21 (TeX Live 2020/Arch Linux) (preloaded format=pdflatex)\n",
      " restricted \\write18 enabled.\n",
      "entering extended mode\n",
      "(/home/josue/Documents/git/Jugglyng1/Expérimentations/full_table.tex\n",
      "LaTeX2e <2020-10-01> patch level 2\n",
      "L3 programming layer <2020-12-03> xparse <2020-03-03>\n",
      "(/usr/share/texmf-dist/tex/latex/standalone/standalone.cls\n",
      "Document Class: standalone 2018/03/26 v1.3a Class to compile TeX sub-files stan\n",
      "dalone\n",
      "(/usr/share/texmf-dist/tex/latex/tools/shellesc.sty)\n",
      "(/usr/share/texmf-dist/tex/generic/iftex/ifluatex.sty\n",
      "(/usr/share/texmf-dist/tex/generic/iftex/iftex.sty))\n",
      "(/usr/share/texmf-dist/tex/latex/xkeyval/xkeyval.sty\n",
      "(/usr/share/texmf-dist/tex/generic/xkeyval/xkeyval.tex\n",
      "(/usr/share/texmf-dist/tex/generic/xkeyval/xkvutils.tex\n",
      "(/usr/share/texmf-dist/tex/generic/xkeyval/keyval.tex))))\n",
      "(/usr/share/texmf-dist/tex/latex/standalone/standalone.cfg)\n",
      "(/usr/share/texmf-dist/tex/latex/base/article.cls\n",
      "Document Class: article 2020/04/10 v1.4m Standard LaTeX document class\n",
      "(/usr/share/texmf-dist/tex/latex/base/size10.clo)))\n",
      "(/usr/share/texmf-dist/tex/latex/base/fontenc.sty)\n",
      "(/usr/share/texmf-dist/tex/latex/base/inputenc.sty)\n",
      "(/usr/share/texmf-dist/tex/latex/lm/lmodern.sty)\n",
      "(/usr/share/texmf-dist/tex/latex/base/textcomp.sty)\n",
      "(/usr/share/texmf-dist/tex/latex/lastpage/lastpage.sty)\n",
      "(/usr/share/texmf-dist/tex/latex/lm/t1lmr.fd)\n",
      "(/usr/share/texmf-dist/tex/latex/l3backend/l3backend-pdftex.def)\n",
      "(./full_table.aux) (/usr/share/texmf-dist/tex/latex/lm/ot1lmr.fd)\n",
      "(/usr/share/texmf-dist/tex/latex/lm/omllmm.fd)\n",
      "(/usr/share/texmf-dist/tex/latex/lm/omslmsy.fd)\n",
      "(/usr/share/texmf-dist/tex/latex/lm/omxlmex.fd)\n",
      "! Extra alignment tab has been changed to \\cr.\n",
      "<recently read> \\endtemplate \n",
      "                             \n",
      "l.12 ... & m_{12, 0, (1, 3)} & m_{12, 1, (1, 3)} &\n",
      "                                                   \\hline\\hline \\bullet &  &...\n",
      "\n",
      "[1{/var/lib/texmf/fonts/map/pdftex/updmap/pdftex.map}]\n",
      "\n",
      "AED: lastpage setting LastPage\n",
      "(./full_table.aux) )\n",
      "(see the transcript file for additional information){/usr/share/texmf-dist/font\n",
      "s/enc/dvips/lm/lm-mathsy.enc}{/usr/share/texmf-dist/fonts/enc/dvips/lm/lm-mathi\n",
      "t.enc}{/usr/share/texmf-dist/fonts/enc/dvips/lm/lm-rm.enc}</usr/share/texmf-dis\n",
      "t/fonts/type1/public/lm/lmmi10.pfb></usr/share/texmf-dist/fonts/type1/public/lm\n",
      "/lmmi7.pfb></usr/share/texmf-dist/fonts/type1/public/lm/lmr7.pfb></usr/share/te\n",
      "xmf-dist/fonts/type1/public/lm/lmsy10.pfb>\n",
      "Output written on full_table.pdf (1 page, 96112 bytes).\n",
      "Transcript written on full_table.log.\n",
      "Latexmk: Log file says output to 'full_table.pdf'\n",
      "Collected error summary (may duplicate other messages):\n",
      "  pdflatex: Command for 'pdflatex' gave return code 1\n",
      "      Refer to 'full_table.log' for details\n",
      "Latexmk: Use the -f option to force complete processing,\n",
      " unless error was exceeding maximum runs, or warnings treated as errors.\n",
      "Latexmk: Examining 'full_table.log'\n",
      "=== TeX engine is 'pdfTeX'\n",
      "Latexmk: Errors, so I did not complete making targets\n",
      "\n"
     ]
    },
    {
     "ename": "CalledProcessError",
     "evalue": "Command '['latexmk', '--pdf', '--interaction=nonstopmode', '/home/josue/Documents/git/Jugglyng1/Expérimentations/full_table.tex']' returned non-zero exit status 12.",
     "output_type": "error",
     "traceback": [
      "\u001b[0;31m---------------------------------------------------------------------------\u001b[0m",
      "\u001b[0;31mCalledProcessError\u001b[0m                        Traceback (most recent call last)",
      "\u001b[0;32m<ipython-input-20-0448051ea629>\u001b[0m in \u001b[0;36m<module>\u001b[0;34m\u001b[0m\n\u001b[1;32m      1\u001b[0m \u001b[0;31m# des erreurs vont être affichées mais c'est bon en fait\u001b[0m\u001b[0;34m\u001b[0m\u001b[0;34m\u001b[0m\u001b[0;34m\u001b[0m\u001b[0m\n\u001b[0;32m----> 2\u001b[0;31m \u001b[0mgenerate_full_table\u001b[0m\u001b[0;34m(\u001b[0m\u001b[0mec_instance\u001b[0m\u001b[0;34m)\u001b[0m\u001b[0;34m\u001b[0m\u001b[0;34m\u001b[0m\u001b[0m\n\u001b[0m",
      "\u001b[0;32m~/Documents/git/Jugglyng1/Expérimentations/juggling_dlx_milp.py\u001b[0m in \u001b[0;36mgenerate_full_table\u001b[0;34m(ec_instance)\u001b[0m\n\u001b[1;32m    407\u001b[0m     \u001b[0mltxs\u001b[0m \u001b[0;34m=\u001b[0m \u001b[0;34m'$'\u001b[0m \u001b[0;34m+\u001b[0m \u001b[0mltx\u001b[0m \u001b[0;34m+\u001b[0m \u001b[0;34m'$'\u001b[0m\u001b[0;34m\u001b[0m\u001b[0;34m\u001b[0m\u001b[0m\n\u001b[1;32m    408\u001b[0m     \u001b[0mdoc\u001b[0m\u001b[0;34m.\u001b[0m\u001b[0mappend\u001b[0m\u001b[0;34m(\u001b[0m\u001b[0mNoEscape\u001b[0m\u001b[0;34m(\u001b[0m\u001b[0mltxs\u001b[0m\u001b[0;34m)\u001b[0m\u001b[0;34m)\u001b[0m\u001b[0;34m\u001b[0m\u001b[0;34m\u001b[0m\u001b[0m\n\u001b[0;32m--> 409\u001b[0;31m     \u001b[0mdoc\u001b[0m\u001b[0;34m.\u001b[0m\u001b[0mgenerate_pdf\u001b[0m\u001b[0;34m(\u001b[0m\u001b[0;34m)\u001b[0m\u001b[0;34m\u001b[0m\u001b[0;34m\u001b[0m\u001b[0m\n\u001b[0m\u001b[1;32m    410\u001b[0m \u001b[0;34m\u001b[0m\u001b[0m\n\u001b[1;32m    411\u001b[0m \u001b[0;32mdef\u001b[0m \u001b[0mitem_key\u001b[0m\u001b[0;34m(\u001b[0m\u001b[0mec_instance\u001b[0m \u001b[0;34m:\u001b[0m \u001b[0mExactCoverInstance\u001b[0m\u001b[0;34m)\u001b[0m\u001b[0;34m:\u001b[0m\u001b[0;34m\u001b[0m\u001b[0;34m\u001b[0m\u001b[0m\n",
      "\u001b[0;32m~/.local/lib/python3.9/site-packages/pylatex/document.py\u001b[0m in \u001b[0;36mgenerate_pdf\u001b[0;34m(self, filepath, clean, clean_tex, compiler, compiler_args, silent)\u001b[0m\n\u001b[1;32m    248\u001b[0m \u001b[0;34m\u001b[0m\u001b[0m\n\u001b[1;32m    249\u001b[0m             \u001b[0;32mtry\u001b[0m\u001b[0;34m:\u001b[0m\u001b[0;34m\u001b[0m\u001b[0;34m\u001b[0m\u001b[0m\n\u001b[0;32m--> 250\u001b[0;31m                 output = subprocess.check_output(command,\n\u001b[0m\u001b[1;32m    251\u001b[0m                                                  \u001b[0mstderr\u001b[0m\u001b[0;34m=\u001b[0m\u001b[0msubprocess\u001b[0m\u001b[0;34m.\u001b[0m\u001b[0mSTDOUT\u001b[0m\u001b[0;34m,\u001b[0m\u001b[0;34m\u001b[0m\u001b[0;34m\u001b[0m\u001b[0m\n\u001b[1;32m    252\u001b[0m                                                  **check_output_kwargs)\n",
      "\u001b[0;32m/usr/lib/python3.9/subprocess.py\u001b[0m in \u001b[0;36mcheck_output\u001b[0;34m(timeout, *popenargs, **kwargs)\u001b[0m\n\u001b[1;32m    422\u001b[0m         \u001b[0mkwargs\u001b[0m\u001b[0;34m[\u001b[0m\u001b[0;34m'input'\u001b[0m\u001b[0;34m]\u001b[0m \u001b[0;34m=\u001b[0m \u001b[0mempty\u001b[0m\u001b[0;34m\u001b[0m\u001b[0;34m\u001b[0m\u001b[0m\n\u001b[1;32m    423\u001b[0m \u001b[0;34m\u001b[0m\u001b[0m\n\u001b[0;32m--> 424\u001b[0;31m     return run(*popenargs, stdout=PIPE, timeout=timeout, check=True,\n\u001b[0m\u001b[1;32m    425\u001b[0m                **kwargs).stdout\n\u001b[1;32m    426\u001b[0m \u001b[0;34m\u001b[0m\u001b[0m\n",
      "\u001b[0;32m/usr/lib/python3.9/subprocess.py\u001b[0m in \u001b[0;36mrun\u001b[0;34m(input, capture_output, timeout, check, *popenargs, **kwargs)\u001b[0m\n\u001b[1;32m    526\u001b[0m         \u001b[0mretcode\u001b[0m \u001b[0;34m=\u001b[0m \u001b[0mprocess\u001b[0m\u001b[0;34m.\u001b[0m\u001b[0mpoll\u001b[0m\u001b[0;34m(\u001b[0m\u001b[0;34m)\u001b[0m\u001b[0;34m\u001b[0m\u001b[0;34m\u001b[0m\u001b[0m\n\u001b[1;32m    527\u001b[0m         \u001b[0;32mif\u001b[0m \u001b[0mcheck\u001b[0m \u001b[0;32mand\u001b[0m \u001b[0mretcode\u001b[0m\u001b[0;34m:\u001b[0m\u001b[0;34m\u001b[0m\u001b[0;34m\u001b[0m\u001b[0m\n\u001b[0;32m--> 528\u001b[0;31m             raise CalledProcessError(retcode, process.args,\n\u001b[0m\u001b[1;32m    529\u001b[0m                                      output=stdout, stderr=stderr)\n\u001b[1;32m    530\u001b[0m     \u001b[0;32mreturn\u001b[0m \u001b[0mCompletedProcess\u001b[0m\u001b[0;34m(\u001b[0m\u001b[0mprocess\u001b[0m\u001b[0;34m.\u001b[0m\u001b[0margs\u001b[0m\u001b[0;34m,\u001b[0m \u001b[0mretcode\u001b[0m\u001b[0;34m,\u001b[0m \u001b[0mstdout\u001b[0m\u001b[0;34m,\u001b[0m \u001b[0mstderr\u001b[0m\u001b[0;34m)\u001b[0m\u001b[0;34m\u001b[0m\u001b[0;34m\u001b[0m\u001b[0m\n",
      "\u001b[0;31mCalledProcessError\u001b[0m: Command '['latexmk', '--pdf', '--interaction=nonstopmode', '/home/josue/Documents/git/Jugglyng1/Expérimentations/full_table.tex']' returned non-zero exit status 12."
     ]
    }
   ],
   "source": [
    "# des erreurs vont être affichées mais c'est bon en fait\n",
    "generate_full_table(ec_instance)"
   ]
  },
  {
   "cell_type": "code",
   "execution_count": 21,
   "id": "settled-ready",
   "metadata": {},
   "outputs": [],
   "source": [
    "generate_table(ec_instance)"
   ]
  },
  {
   "cell_type": "code",
   "execution_count": null,
   "id": "hydraulic-transmission",
   "metadata": {},
   "outputs": [],
   "source": []
  }
 ],
 "metadata": {
  "kernelspec": {
   "display_name": "Python 3",
   "language": "python",
   "name": "python3"
  },
  "language_info": {
   "codemirror_mode": {
    "name": "ipython",
    "version": 3
   },
   "file_extension": ".py",
   "mimetype": "text/x-python",
   "name": "python",
   "nbconvert_exporter": "python",
   "pygments_lexer": "ipython3",
   "version": "3.9.4"
  }
 },
 "nbformat": 4,
 "nbformat_minor": 5
}
