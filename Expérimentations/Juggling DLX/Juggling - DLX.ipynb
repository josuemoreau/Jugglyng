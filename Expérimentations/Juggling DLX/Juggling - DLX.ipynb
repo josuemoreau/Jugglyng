{
 "cells": [
  {
   "cell_type": "code",
   "execution_count": 1,
   "id": "92beacbb-26ae-4652-9ff3-307db0805aee",
   "metadata": {},
   "outputs": [],
   "source": [
    "import time"
   ]
  },
  {
   "cell_type": "code",
   "execution_count": 2,
   "id": "64db8b74-5ef6-4506-9d67-cd0e9c3a93f4",
   "metadata": {},
   "outputs": [
    {
     "name": "stderr",
     "output_type": "stream",
     "text": [
      "/home/josue/Documents/git/Jugglyng1/Expérimentations/Juggling DLX/DLX/dlxm.py:69: RuntimeWarning: class \"DLX_M::AbstrItem\" has no virtual destructor\n",
      "  class ConcItem(_AbstrItem):\n"
     ]
    }
   ],
   "source": [
    "from juggling_dlx_milp import *"
   ]
  },
  {
   "cell_type": "code",
   "execution_count": 3,
   "id": "358fe7a6-f95d-4e8b-a8e5-a68c348a8a74",
   "metadata": {},
   "outputs": [
    {
     "data": {
      "text/plain": [
       "[(('mi', 'ré'), ('do',)),\n",
       " (('ré', 'mi'), ('do',)),\n",
       " (('mi', 'do'), ('ré',)),\n",
       " (('do', 'mi'), ('ré',)),\n",
       " (('ré', 'do'), ('mi',)),\n",
       " (('do', 'ré'), ('mi',)),\n",
       " (('mi',), ('ré', 'do')),\n",
       " (('mi',), ('do', 'ré')),\n",
       " (('ré',), ('mi', 'do')),\n",
       " (('ré',), ('do', 'mi')),\n",
       " (('do',), ('mi', 'ré')),\n",
       " (('do',), ('ré', 'mi')),\n",
       " ((), ('mi', 'ré', 'do')),\n",
       " ((), ('mi', 'do', 'ré')),\n",
       " ((), ('ré', 'mi', 'do')),\n",
       " ((), ('ré', 'do', 'mi')),\n",
       " ((), ('do', 'mi', 'ré')),\n",
       " ((), ('do', 'ré', 'mi')),\n",
       " (('mi', 'ré', 'do'), ()),\n",
       " (('mi', 'do', 'ré'), ()),\n",
       " (('ré', 'mi', 'do'), ()),\n",
       " (('ré', 'do', 'mi'), ()),\n",
       " (('do', 'mi', 'ré'), ()),\n",
       " (('do', 'ré', 'mi'), ())]"
      ]
     },
     "execution_count": 3,
     "metadata": {},
     "output_type": "execute_result"
    }
   ],
   "source": [
    "configs = HandsConfigurations({\"do\", \"ré\", \"mi\"}, 2)\n",
    "configs"
   ]
  },
  {
   "cell_type": "code",
   "execution_count": null,
   "id": "d565a55d-9756-4d7d-bc4c-dac933063452",
   "metadata": {},
   "outputs": [],
   "source": []
  },
  {
   "cell_type": "markdown",
   "id": "b4d344f7-35ec-4ae2-a171-5c56882c3161",
   "metadata": {},
   "source": [
    "### Musique à jouer"
   ]
  },
  {
   "cell_type": "code",
   "execution_count": 4,
   "id": "60e1c3cb-ad78-463b-b2c1-254a3370a44a",
   "metadata": {},
   "outputs": [],
   "source": [
    "music = [( 1, \"do\"), ( 2, \"do\"), ( 3, \"do\"), \n",
    "         ( 4, \"re\"), ( 5, \"mi\"), ( 7, \"re\"), \n",
    "         ( 9, \"do\"), (10, \"mi\"), (11, \"re\"),\n",
    "         (12, \"re\"), (13, \"do\")]"
   ]
  },
  {
   "cell_type": "code",
   "execution_count": 5,
   "id": "cbfeae9a",
   "metadata": {},
   "outputs": [],
   "source": [
    "music = [(1, \"re5\"), (2, \"do5\"), (3, \"re5\"), (4, \"do5\"),\n",
    "         (5, \"re5\"), (7, \"do5\"), (9, \"mi5\"),\n",
    "         (11, \"re5\"), (12, \"fa5\"), (13, \"la5\"), (14, \"re6\"), (15, \"fa6\")]"
   ]
  },
  {
   "cell_type": "code",
   "execution_count": 6,
   "id": "63c5f2b3-9be4-4f7a-81fb-65b866311a8d",
   "metadata": {},
   "outputs": [],
   "source": [
    "music = [( 1, \"do\"), ( 2, \"do\")]"
   ]
  },
  {
   "cell_type": "markdown",
   "id": "55335529-f4ca-44df-afd0-e38929e3f6fe",
   "metadata": {},
   "source": [
    "### Contraintes"
   ]
  },
  {
   "cell_type": "code",
   "execution_count": 6,
   "id": "1b0becbc-6d95-4ebe-a28d-c5efcd1e1b40",
   "metadata": {},
   "outputs": [],
   "source": [
    "nb_hands = 2\n",
    "max_height = 5\n",
    "max_weight = 2\n",
    "forbidden_multiplex = [(1, 2), (1, 3), (1, 4), (2, )]\n",
    "multiple_throws = True"
   ]
  },
  {
   "cell_type": "markdown",
   "id": "9bf25e61-2efc-4a0e-a729-c07beadf7f1b",
   "metadata": {},
   "source": [
    "### Algorithme"
   ]
  },
  {
   "cell_type": "code",
   "execution_count": 7,
   "id": "dfc5fbaf-2b4d-457b-bd4a-e58c7f7fec84",
   "metadata": {},
   "outputs": [],
   "source": [
    "balls, throws = music_to_throws(music)"
   ]
  },
  {
   "cell_type": "code",
   "execution_count": 8,
   "id": "596435c3-3a70-4476-8308-6e5ca7e9c87a",
   "metadata": {
    "scrolled": true
   },
   "outputs": [
    {
     "name": "stdout",
     "output_type": "stream",
     "text": [
      "15\n"
     ]
    }
   ],
   "source": [
    "ec_instance = throws_to_extended_exact_cover(balls, throws, nb_hands, max_height, max_weight,\n",
    "                                             forbidden_multiplex, [], multiple_throws)"
   ]
  },
  {
   "cell_type": "code",
   "execution_count": 9,
   "id": "5dbf2901-7b5c-4f5c-b8b8-2d2660aeac79",
   "metadata": {},
   "outputs": [],
   "source": [
    "dlx = dlx_solver_instance(ec_instance)"
   ]
  },
  {
   "cell_type": "code",
   "execution_count": 10,
   "id": "f7c2cbde-df0f-47c6-a9c9-03b0937587a8",
   "metadata": {},
   "outputs": [
    {
     "data": {
      "text/plain": [
       "1434"
      ]
     },
     "execution_count": 10,
     "metadata": {},
     "output_type": "execute_result"
    }
   ],
   "source": [
    "# for r in range(len(dlx.rows)):\n",
    "#     print(dlx.row_obj(r))\n",
    "len(dlx.rows)"
   ]
  },
  {
   "cell_type": "code",
   "execution_count": 11,
   "id": "cea49c20-3aa7-4c98-bb13-4380b1513c35",
   "metadata": {},
   "outputs": [],
   "source": [
    "# for r in range(len(dlx.rows)):\n",
    "#     print(dlx.row_obj(r))"
   ]
  },
  {
   "cell_type": "code",
   "execution_count": 12,
   "id": "247a80a4-1327-4686-9c81-96dcfb510362",
   "metadata": {},
   "outputs": [
    {
     "data": {
      "text/plain": [
       "['', 'false', 'true', 'do5', 're6', 'mi5', 'la5', 'fa5', 're5', 'fa6']"
      ]
     },
     "execution_count": 12,
     "metadata": {},
     "output_type": "execute_result"
    }
   ],
   "source": [
    "ec_instance.colors"
   ]
  },
  {
   "cell_type": "code",
   "execution_count": 13,
   "id": "4cc4404b-4f22-425a-ab75-89c7493b48cf",
   "metadata": {},
   "outputs": [],
   "source": [
    "sol = dlx.get_solution()"
   ]
  },
  {
   "cell_type": "code",
   "execution_count": 14,
   "id": "083de7cd-6e46-4be2-9a22-1821c556f933",
   "metadata": {},
   "outputs": [
    {
     "data": {
      "text/plain": [
       "195"
      ]
     },
     "execution_count": 14,
     "metadata": {},
     "output_type": "execute_result"
    }
   ],
   "source": [
    "len(sol)"
   ]
  },
  {
   "cell_type": "code",
   "execution_count": 15,
   "id": "5fac358a-6a84-4f80-bc92-b6d31b520408",
   "metadata": {},
   "outputs": [],
   "source": [
    "# len(dlx.all_solutions())"
   ]
  },
  {
   "cell_type": "code",
   "execution_count": 16,
   "id": "48214ff9-9b77-4c96-b2f7-8e8eeaa69da9",
   "metadata": {},
   "outputs": [],
   "source": [
    "rows = []\n",
    "for i in sol:\n",
    "    rows.append(dlx.row_obj(i))\n",
    "solution = ExactCoverSolution(max_time=ec_instance.max_time,\n",
    "                              nb_hands=ec_instance.nb_hands,\n",
    "                              balls=ec_instance.balls,\n",
    "                              rows=rows)"
   ]
  },
  {
   "cell_type": "code",
   "execution_count": 17,
   "id": "a64d9277-962f-40f1-b66c-cf2107aaeb57",
   "metadata": {},
   "outputs": [
    {
     "name": "stdout",
     "output_type": "stream",
     "text": [
      "{'do5', 're6', 'mi5', 'la5', 'fa5', 're5', 'fa6'}       {}       : re5 -- 1 --> 1\n",
      "   {'do5', 're6', 'mi5', 'la5', 'fa5', 'fa6'}        {'re5'}     : do5 -- 1 --> 1\n",
      "       {'re6', 'mi5', 'la5', 'fa5', 'fa6'}        {'do5', 're5'} : re5 -- 1 --> 0\n",
      "   {'re6', 'mi5', 'la5', 'fa5', 're5', 'fa6'}        {'do5'}     : do5 -- 1 --> 0\n",
      "{'do5', 're6', 'mi5', 'la5', 'fa5', 're5', 'fa6'}       {}       : re5 -- 1 --> 1\n",
      "   {'do5', 're6', 'mi5', 'la5', 'fa5', 'fa6'}        {'re5'}     : \n",
      "   {'do5', 're6', 'mi5', 'la5', 'fa5', 'fa6'}        {'re5'}     : do5 -- 1 --> ?\n",
      "       {'re6', 'mi5', 'la5', 'fa5', 'fa6'}           {'re5'}     : \n",
      "       {'re6', 'mi5', 'la5', 'fa5', 'fa6'}           {'re5'}     : mi5 -- 1 --> ?\n",
      "          {'la5', 'fa5', 'fa6', 're6'}               {'re5'}     : \n",
      "          {'la5', 'fa5', 'fa6', 're6'}               {'re5'}     : re5 -- 1 --> ?\n",
      "          {'la5', 'fa5', 'fa6', 're6'}                  {}       : fa5 -- 1 --> ?\n",
      "              {'la5', 'fa6', 're6'}                     {}       : la5 -- 1 --> ?\n",
      "                 {'fa6', 're6'}                         {}       : re6 -- 1 --> ?\n",
      "                     {'fa6'}                            {}       : fa6 -- 1 --> ?\n"
     ]
    }
   ],
   "source": [
    "print_juggling(solution)"
   ]
  },
  {
   "cell_type": "code",
   "execution_count": null,
   "id": "786d484f-b36a-47d0-9388-7eb4aeb33c6d",
   "metadata": {},
   "outputs": [],
   "source": []
  },
  {
   "cell_type": "code",
   "execution_count": null,
   "id": "c6ccf141-e2ba-4bed-bbf6-61874118dc9b",
   "metadata": {},
   "outputs": [],
   "source": []
  },
  {
   "cell_type": "code",
   "execution_count": null,
   "id": "d7270a95-2d7d-4868-abfe-03d7081bd783",
   "metadata": {},
   "outputs": [],
   "source": []
  },
  {
   "cell_type": "code",
   "execution_count": null,
   "id": "88b6a9ae-d855-432c-b9ea-40301f6bcd2d",
   "metadata": {},
   "outputs": [],
   "source": []
  },
  {
   "cell_type": "code",
   "execution_count": 8,
   "id": "abe3d354-ed2a-4975-bf6e-d658e47fc0a3",
   "metadata": {},
   "outputs": [
    {
     "name": "stdout",
     "output_type": "stream",
     "text": [
      "0 solutions trouvées en 0.8061761856079102 secondes\n"
     ]
    }
   ],
   "source": [
    "t = time.time()\n",
    "sols = solve_with_dlx(ec_instance)\n",
    "print(\"{} solutions trouvées en {} secondes\".format(len(sols), time.time() - t))"
   ]
  },
  {
   "cell_type": "code",
   "execution_count": 17,
   "id": "078d1b64-6fc3-4f6c-b79b-afffae99e057",
   "metadata": {},
   "outputs": [
    {
     "name": "stdout",
     "output_type": "stream",
     "text": [
      "{'do5', 'mi5', 're5', 'fa5'}       {}       : re5 -- 1 --> 1\n",
      "   {'do5', 'mi5', 'fa5'}        {'re5'}     : do5 -- 1 --> 1\n",
      "       {'mi5', 'fa5'}        {'do5', 're5'} : re5 -- 1 --> 0\n",
      "   {'mi5', 'fa5', 're5'}        {'do5'}     : do5 -- 1 --> 0\n",
      "{'do5', 'mi5', 'fa5', 're5'}       {}       : re5 -- 1 --> 1\n",
      "   {'do5', 'mi5', 'fa5'}        {'re5'}     : \n",
      "   {'do5', 'mi5', 'fa5'}        {'re5'}     : do5 -- 1 --> ?\n",
      "       {'mi5', 'fa5'}           {'re5'}     : \n",
      "       {'mi5', 'fa5'}           {'re5'}     : mi5 -- 1 --> ?\n",
      "          {'fa5'}               {'re5'}     : \n",
      "          {'fa5'}               {'re5'}     : re5 -- 1 --> ?\n",
      "          {'fa5'}                  {}       : fa5 -- 1 --> ?\n"
     ]
    }
   ],
   "source": [
    "print_juggling(sols[0])"
   ]
  },
  {
   "cell_type": "code",
   "execution_count": 18,
   "id": "67def512-c94a-43e6-8c69-2e46006abf50",
   "metadata": {},
   "outputs": [
    {
     "data": {
      "text/html": [
       "<script type=\"module\">\n",
       "\t\timport * as THREE from 'https://unpkg.com/three@0.127.0/build/three.module.js';\n",
       "\t\t\n",
       "\t\tconst camera = new THREE.Camera();\n",
       "\n",
       "\t\tconst scene = new THREE.Scene();\n",
       "\n",
       "\t\t// create an AudioListener and add it to the camera \n",
       "\t\tconst listener = new THREE.AudioListener();\n",
       "\t\tcamera.add(listener); // create a global audio source\n",
       "\n",
       "\t\tconst sound = new THREE.Audio(listener); // load a sound and set it as the Audio object's buffer \n",
       "\n",
       "\t\tconst audioLoader = new THREE.AudioLoader();\n",
       "\t\taudioLoader.load('../../sounds2/do5.wav', function(buffer) {\n",
       "\t\t\tsound.setBuffer(buffer);\n",
       "\t\t\tsound.setLoop(false);\n",
       "\t\t\tsound.setVolume(2.0);\n",
       "\t\t\tsound.play();\n",
       "\t\t});\n",
       "    </script>"
      ],
      "text/plain": [
       "<IPython.core.display.HTML object>"
      ]
     },
     "metadata": {},
     "output_type": "display_data"
    },
    {
     "data": {
      "text/html": [
       "<script type=\"module\">\n",
       "\t\timport * as THREE from 'https://unpkg.com/three@0.127.0/build/three.module.js';\n",
       "\t\t\n",
       "\t\tconst camera = new THREE.Camera();\n",
       "\n",
       "\t\tconst scene = new THREE.Scene();\n",
       "\n",
       "\t\t// create an AudioListener and add it to the camera \n",
       "\t\tconst listener = new THREE.AudioListener();\n",
       "\t\tcamera.add(listener); // create a global audio source\n",
       "\n",
       "\t\tconst sound = new THREE.Audio(listener); // load a sound and set it as the Audio object's buffer \n",
       "\n",
       "\t\tconst audioLoader = new THREE.AudioLoader();\n",
       "\t\taudioLoader.load('../../sounds2/re5.wav', function(buffer) {\n",
       "\t\t\tsound.setBuffer(buffer);\n",
       "\t\t\tsound.setLoop(false);\n",
       "\t\t\tsound.setVolume(2.0);\n",
       "\t\t\tsound.play();\n",
       "\t\t});\n",
       "    </script>"
      ],
      "text/plain": [
       "<IPython.core.display.HTML object>"
      ]
     },
     "metadata": {},
     "output_type": "display_data"
    },
    {
     "data": {
      "text/html": [
       "<script type=\"module\">\n",
       "\t\timport * as THREE from 'https://unpkg.com/three@0.127.0/build/three.module.js';\n",
       "\t\t\n",
       "\t\tconst camera = new THREE.Camera();\n",
       "\n",
       "\t\tconst scene = new THREE.Scene();\n",
       "\n",
       "\t\t// create an AudioListener and add it to the camera \n",
       "\t\tconst listener = new THREE.AudioListener();\n",
       "\t\tcamera.add(listener); // create a global audio source\n",
       "\n",
       "\t\tconst sound = new THREE.Audio(listener); // load a sound and set it as the Audio object's buffer \n",
       "\n",
       "\t\tconst audioLoader = new THREE.AudioLoader();\n",
       "\t\taudioLoader.load('../../sounds2/mi5.wav', function(buffer) {\n",
       "\t\t\tsound.setBuffer(buffer);\n",
       "\t\t\tsound.setLoop(false);\n",
       "\t\t\tsound.setVolume(2.0);\n",
       "\t\t\tsound.play();\n",
       "\t\t});\n",
       "    </script>"
      ],
      "text/plain": [
       "<IPython.core.display.HTML object>"
      ]
     },
     "metadata": {},
     "output_type": "display_data"
    },
    {
     "data": {
      "text/html": [
       "<script type=\"module\">\n",
       "\t\timport * as THREE from 'https://unpkg.com/three@0.127.0/build/three.module.js';\n",
       "\t\t\n",
       "\t\tconst camera = new THREE.Camera();\n",
       "\n",
       "\t\tconst scene = new THREE.Scene();\n",
       "\n",
       "\t\t// create an AudioListener and add it to the camera \n",
       "\t\tconst listener = new THREE.AudioListener();\n",
       "\t\tcamera.add(listener); // create a global audio source\n",
       "\n",
       "\t\tconst sound = new THREE.Audio(listener); // load a sound and set it as the Audio object's buffer \n",
       "\n",
       "\t\tconst audioLoader = new THREE.AudioLoader();\n",
       "\t\taudioLoader.load('../../sounds2/fa5.wav', function(buffer) {\n",
       "\t\t\tsound.setBuffer(buffer);\n",
       "\t\t\tsound.setLoop(false);\n",
       "\t\t\tsound.setVolume(2.0);\n",
       "\t\t\tsound.play();\n",
       "\t\t});\n",
       "    </script>"
      ],
      "text/plain": [
       "<IPython.core.display.HTML object>"
      ]
     },
     "metadata": {},
     "output_type": "display_data"
    },
    {
     "data": {
      "application/vnd.jupyter.widget-view+json": {
       "model_id": "9ec309d32e3940249ca587da7f3f7e49",
       "version_major": 2,
       "version_minor": 0
      },
      "text/plain": [
       "VBox(children=(Renderer(camera=PerspectiveCamera(position=(0.0, 0.0, -100.0), projectionMatrix=(1.0, 0.0, 0.0,…"
      ]
     },
     "metadata": {},
     "output_type": "display_data"
    }
   ],
   "source": [
    "import modele\n",
    "import ipywidgets\n",
    "import pythreejs\n",
    "\n",
    "# balls = [{\"color\":\"blue\", \"tone\":\"do5\", \"name\":\"do5\"},\n",
    "#          {\"color\":\"red\", \"tone\":\"re5\", \"name\":\"re5\"},\n",
    "#          {\"color\":\"green\", \"tone\":\"mi5\", \"name\":\"mi5\"},\n",
    "#          {\"color\":\"yellow\", \"tone\":\"fa5\", \"name\":\"fa5\"},\n",
    "#          {\"color\":\"yellow\", \"tone\":\"la5\", \"name\":\"la5\"},\n",
    "#          {\"color\":\"yellow\", \"tone\":\"re6\", \"name\":\"re5\"},\n",
    "#          {\"color\":\"yellow\", \"tone\":\"fa6\", \"name\":\"fa6\"}]\n",
    "\n",
    "balls = [{\"color\":\"blue\", \"tone\":\"do\", \"name\":\"do\"},\n",
    "         {\"color\":\"red\", \"tone\":\"re\", \"name\":\"re\"},\n",
    "         {\"color\":\"green\", \"tone\":\"mi\", \"name\":\"mi\"}]\n",
    "\n",
    "pattern = juggling_sol_to_simulator(sols[0])\n",
    "\n",
    "sides = [-1, 1]\n",
    "\n",
    "model = modele.Model(balls, pattern)\n",
    "slider = ipywidgets.FloatSlider(min=0, max=40, step=0.1)\n",
    "view = modele.View(model, sides)\n",
    "slider.observe(lambda change: view.update(change['new'], change['old']), names=\"value\")\n",
    "ipywidgets.VBox([view.widget,slider])"
   ]
  },
  {
   "cell_type": "code",
   "execution_count": null,
   "id": "0a4a2d36-83a7-4b91-94dd-248486e0bfb2",
   "metadata": {},
   "outputs": [],
   "source": []
  }
 ],
 "metadata": {
  "kernelspec": {
   "display_name": "Python 3",
   "language": "python",
   "name": "python3"
  },
  "language_info": {
   "codemirror_mode": {
    "name": "ipython",
    "version": 3
   },
   "file_extension": ".py",
   "mimetype": "text/x-python",
   "name": "python",
   "nbconvert_exporter": "python",
   "pygments_lexer": "ipython3",
   "version": "3.9.4"
  }
 },
 "nbformat": 4,
 "nbformat_minor": 5
}
