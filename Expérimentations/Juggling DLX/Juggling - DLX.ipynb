{
 "cells": [
  {
   "cell_type": "code",
   "execution_count": 1,
   "id": "5e3fd336-2b00-4329-a521-e449d04c0f16",
   "metadata": {},
   "outputs": [],
   "source": [
    "%load_ext autoreload\n",
    "%autoreload 2"
   ]
  },
  {
   "cell_type": "code",
   "execution_count": 2,
   "id": "76ff3071-34b6-4cd8-b716-12c40bd67ba0",
   "metadata": {},
   "outputs": [],
   "source": [
    "import warnings\n",
    "import os\n",
    "warnings.filterwarnings('ignore')\n",
    "os.chdir(\"../../\")"
   ]
  },
  {
   "cell_type": "code",
   "execution_count": 3,
   "id": "92beacbb-26ae-4652-9ff3-307db0805aee",
   "metadata": {},
   "outputs": [],
   "source": [
    "import time"
   ]
  },
  {
   "cell_type": "code",
   "execution_count": 4,
   "id": "64db8b74-5ef6-4506-9d67-cd0e9c3a93f4",
   "metadata": {},
   "outputs": [],
   "source": [
    "from juggling_dlx_milp import *"
   ]
  },
  {
   "cell_type": "code",
   "execution_count": 5,
   "id": "9a3a5e5c-d7a2-4bb0-acab-ce5eb655883a",
   "metadata": {},
   "outputs": [],
   "source": [
    "import modele\n",
    "import ipywidgets\n",
    "import pythreejs\n",
    "\n",
    "colors = [\"blue\", \"red\", \"green\", \"yellow\", \"purple\", \"cyan\", \"magenta\"]\n",
    "sides = [-1, 1, 1]"
   ]
  },
  {
   "cell_type": "markdown",
   "id": "b4d344f7-35ec-4ae2-a171-5c56882c3161",
   "metadata": {},
   "source": [
    "# Musique à jouer"
   ]
  },
  {
   "cell_type": "code",
   "execution_count": 6,
   "id": "60e1c3cb-ad78-463b-b2c1-254a3370a44a",
   "metadata": {},
   "outputs": [],
   "source": [
    "# Au clair de la lune\n",
    "music = [( 1, \"do\"), ( 2, \"do\"), ( 3, \"do\"), \n",
    "         ( 4, \"re\"), ( 5, \"mi\"), ( 7, \"re\"), \n",
    "         ( 9, \"do\"), (10, \"mi\"), (11, \"re\"),\n",
    "         (12, \"re\"), (13, \"do\")]"
   ]
  },
  {
   "cell_type": "code",
   "execution_count": 6,
   "id": "cbfeae9a",
   "metadata": {},
   "outputs": [],
   "source": [
    "music = [(1, \"re5\"), (2, \"do5\"), (3, \"re5\"), (4, \"do5\"),\n",
    "         (5, \"re5\"), (7, \"do5\"), (9, \"mi5\"),\n",
    "         (11, \"re5\"), (12, \"fa5\"), (13, \"la5\"), (14, \"re6\"), (15, \"fa6\")]"
   ]
  },
  {
   "cell_type": "code",
   "execution_count": 6,
   "id": "fb023abd-5cbd-4e38-a39d-48a1e35781e8",
   "metadata": {},
   "outputs": [],
   "source": [
    "# Frères jacques\n",
    "music = [( 1, \"fa4\"), ( 2, \"sol4\"), ( 3, \"la4\"), ( 4, \"fa4\"),\n",
    "         ( 5, \"fa4\"), ( 6, \"sol4\"), ( 7, \"la4\"), ( 8, \"fa4\"),\n",
    "         ( 9, \"la4\"), (10, \"la#4\"), (11, \"do5\"),\n",
    "         (13, \"la4\"), (14, \"la#4\"), (15, \"do5\")]"
   ]
  },
  {
   "cell_type": "code",
   "execution_count": 12,
   "id": "2a27bafb-2ba8-428f-b65f-c19569037544",
   "metadata": {},
   "outputs": [],
   "source": [
    "# In the hall of the moutain king\n",
    "music = [( 1, \"la3\"), ( 2, \"si3\"), ( 3, \"do4\"), ( 4, \"re4\"),\n",
    "         ( 5, \"mi4\"), ( 6, \"do4\"), ( 7, \"mi4\"),\n",
    "         ( 9, \"re#4\"), (10, \"si3\"), (11, \"re#4\"),\n",
    "         (13, \"re4\"), (14, \"la#3\"), (15, \"re4\")]"
   ]
  },
  {
   "cell_type": "code",
   "execution_count": 6,
   "id": "270f11ed-4a4c-4152-81e9-a545653d3551",
   "metadata": {},
   "outputs": [],
   "source": [
    "# Tetris\n",
    "music = [(1, \"mi5\"), \n",
    "         (3, \"si4\"), (4, \"do5\"), (5, \"re5\"),\n",
    "         (7, \"do5\"), (8, \"si4\"), (9, \"la4\"), \n",
    "         (11, \"la4\"), (12, \"do5\"), (13, \"mi5\"),\n",
    "         (15, \"re5\"), (16, \"do5\"), (17, \"si4\"),\n",
    "         (20, \"do5\"), (21, \"re5\"), (23, \"mi5\"),\n",
    "         (25, \"do5\"), (27, \"la4\"), (29, \"la4\")]"
   ]
  },
  {
   "cell_type": "markdown",
   "id": "55335529-f4ca-44df-afd0-e38929e3f6fe",
   "metadata": {},
   "source": [
    "# Contraintes"
   ]
  },
  {
   "cell_type": "code",
   "execution_count": 7,
   "id": "1b0becbc-6d95-4ebe-a28d-c5efcd1e1b40",
   "metadata": {},
   "outputs": [],
   "source": [
    "nb_hands = 2\n",
    "max_height = 5\n",
    "max_weight = 3\n",
    "forbidden_multiplex = [(1, 2), (1, 3), (1, 4), (2, )]\n",
    "multiple_throws = True"
   ]
  },
  {
   "cell_type": "markdown",
   "id": "9bf25e61-2efc-4a0e-a729-c07beadf7f1b",
   "metadata": {},
   "source": [
    "# Algorithme"
   ]
  },
  {
   "cell_type": "code",
   "execution_count": 8,
   "id": "dfc5fbaf-2b4d-457b-bd4a-e58c7f7fec84",
   "metadata": {},
   "outputs": [],
   "source": [
    "balls, throws = music_to_throws(music)"
   ]
  },
  {
   "cell_type": "code",
   "execution_count": 9,
   "id": "596435c3-3a70-4476-8308-6e5ca7e9c87a",
   "metadata": {
    "scrolled": true
   },
   "outputs": [],
   "source": [
    "ec_instance = throws_to_extended_exact_cover(balls, throws, nb_hands, max_height, max_weight,\n",
    "                                             forbidden_multiplex, multiple_throws)"
   ]
  },
  {
   "cell_type": "code",
   "execution_count": 10,
   "id": "f17904ec-4afe-4669-ac5d-c986034fa35b",
   "metadata": {},
   "outputs": [
    {
     "name": "stdout",
     "output_type": "stream",
     "text": [
      "{'do', 'mi'}    {'re'}    : do -- 1 --> 1\n",
      "                            mi -- 5 --> 0\n",
      "     {}      {'do', 're'} : do -- 1 --> 0\n",
      "   {'do'}       {'re'}    : do -- 1 --> 1\n",
      "     {}      {'do', 're'} : re -- 1 --> 0\n",
      "   {'re'}       {'do'}    : \n",
      "{'re', 'mi'}    {'do'}    : \n",
      "{'re', 'mi'}    {'do'}    : re -- 1 --> 1\n",
      "   {'mi'}    {'do', 're'} : \n",
      "   {'mi'}    {'do', 're'} : do -- 1 --> 0\n",
      "{'do', 'mi'}    {'re'}    : mi -- 1 --> 1\n",
      "   {'do'}    {'re', 'mi'} : re -- 1 --> 0\n",
      "                            do -- 3 --> 1\n",
      "   {'re'}       {'mi'}    : re -- 1 --> 1\n",
      "     {}      {'re', 'mi'} : \n"
     ]
    }
   ],
   "source": [
    "sol = solve_and_print(music, nb_hands, max_height, max_weight, forbidden_multiplex, method=\"DLX\")"
   ]
  },
  {
   "cell_type": "code",
   "execution_count": 13,
   "id": "8d0a4ad1-b68d-4b86-b608-ecf387a8a6d8",
   "metadata": {},
   "outputs": [
    {
     "data": {
      "text/plain": [
       "[FinalThrow(ball='do', time=0, time_in_hand=0, flying_time=1, src_hand=0, dst_hand=1, full_time=1),\n",
       " FinalThrow(ball='mi', time=5, time_in_hand=4, flying_time=1, src_hand=0, dst_hand=1, full_time=5),\n",
       " FinalThrow(ball='re', time=0, time_in_hand=3, flying_time=1, src_hand=1, dst_hand=0, full_time=4),\n",
       " FinalThrow(ball='mi', time=0, time_in_hand=0, flying_time=5, src_hand=0, dst_hand=0, full_time=5),\n",
       " FinalThrow(ball='re', time=7, time_in_hand=3, flying_time=1, src_hand=1, dst_hand=0, full_time=4),\n",
       " FinalThrow(ball='do', time=9, time_in_hand=1, flying_time=3, src_hand=0, dst_hand=1, full_time=4),\n",
       " FinalThrow(ball='do', time=1, time_in_hand=0, flying_time=1, src_hand=1, dst_hand=0, full_time=1),\n",
       " FinalThrow(ball='do', time=2, time_in_hand=0, flying_time=1, src_hand=0, dst_hand=1, full_time=1),\n",
       " FinalThrow(ball='re', time=11, time_in_hand=0, flying_time=1, src_hand=0, dst_hand=1, full_time=1),\n",
       " FinalThrow(ball='do', time=3, time_in_hand=5, flying_time=1, src_hand=1, dst_hand=0, full_time=6),\n",
       " FinalThrow(ball='re', time=4, time_in_hand=2, flying_time=1, src_hand=0, dst_hand=1, full_time=3)]"
      ]
     },
     "execution_count": 13,
     "metadata": {},
     "output_type": "execute_result"
    }
   ],
   "source": [
    "sol.throws"
   ]
  },
  {
   "cell_type": "code",
   "execution_count": 14,
   "id": "442a0c58-3dc7-4445-a71d-3f984c12949e",
   "metadata": {},
   "outputs": [
    {
     "data": {
      "text/plain": [
       "([{'color': 'blue', 'tone': 'do', 'name': 'do'},\n",
       "  {'color': 'red', 'tone': 're', 'name': 're'},\n",
       "  {'color': 'green', 'tone': 'mi', 'name': 'mi'}],\n",
       " [[[('do', 1, 1), ('mi', 0, 5)],\n",
       "   [],\n",
       "   [('do', 1, 1)],\n",
       "   [],\n",
       "   [],\n",
       "   [],\n",
       "   [('re', 1, 1)],\n",
       "   [],\n",
       "   [],\n",
       "   [('mi', 1, 1)],\n",
       "   [('do', 1, 3)],\n",
       "   [('re', 1, 1)],\n",
       "   [],\n",
       "   []],\n",
       "  [[],\n",
       "   [('do', 0, 1)],\n",
       "   [],\n",
       "   [('re', 0, 1)],\n",
       "   [],\n",
       "   [],\n",
       "   [],\n",
       "   [],\n",
       "   [('do', 0, 1)],\n",
       "   [],\n",
       "   [('re', 0, 1)],\n",
       "   [],\n",
       "   [],\n",
       "   []]])"
      ]
     },
     "execution_count": 14,
     "metadata": {},
     "output_type": "execute_result"
    }
   ],
   "source": [
    "juggling_sol_to_simulator(sol, colors)"
   ]
  },
  {
   "cell_type": "code",
   "execution_count": 16,
   "id": "12bc04a9-25eb-4b2f-8f64-7064e261b925",
   "metadata": {},
   "outputs": [
    {
     "data": {
      "application/vnd.jupyter.widget-view+json": {
       "model_id": "fa95c7b4d48a4503bb840fd3f858c2ea",
       "version_major": 2,
       "version_minor": 0
      },
      "text/plain": [
       "JSProxyWidget(status='deferring flush until render')"
      ]
     },
     "metadata": {},
     "output_type": "display_data"
    },
    {
     "data": {
      "application/vnd.jupyter.widget-view+json": {
       "model_id": "623836dc35cf45e7b5c982df8aecb571",
       "version_major": 2,
       "version_minor": 0
      },
      "text/plain": [
       "JSProxyWidget(status='deferring flush until render')"
      ]
     },
     "metadata": {},
     "output_type": "display_data"
    },
    {
     "data": {
      "application/vnd.jupyter.widget-view+json": {
       "model_id": "28ad590bedc844d382892f44443e1b4c",
       "version_major": 2,
       "version_minor": 0
      },
      "text/plain": [
       "JSProxyWidget(status='deferring flush until render')"
      ]
     },
     "metadata": {},
     "output_type": "display_data"
    },
    {
     "data": {
      "application/vnd.jupyter.widget-view+json": {
       "model_id": "b7f920911f964ca8a050b940192b8062",
       "version_major": 2,
       "version_minor": 0
      },
      "text/plain": [
       "VBox(children=(Renderer(camera=PerspectiveCamera(position=(0.0, 0.0, -100.0), projectionMatrix=(1.0, 0.0, 0.0,…"
      ]
     },
     "metadata": {},
     "output_type": "display_data"
    }
   ],
   "source": [
    "solve_and_simulate(music, nb_hands, max_height, max_weight, forbidden_multiplex, colors, sides, method=\"MILP\", step=5)"
   ]
  },
  {
   "cell_type": "markdown",
   "id": "cbee196a-f053-48ec-bf66-dbf5db9a8cfe",
   "metadata": {},
   "source": [
    "## Résolution avec Exact Cover"
   ]
  },
  {
   "cell_type": "code",
   "execution_count": 9,
   "id": "4cc4404b-4f22-425a-ab75-89c7493b48cf",
   "metadata": {},
   "outputs": [],
   "source": [
    "sol1 = get_solution_with_dlx(ec_instance)"
   ]
  },
  {
   "cell_type": "code",
   "execution_count": 10,
   "id": "e93bad29-3e49-4172-863c-fefa6466c316",
   "metadata": {},
   "outputs": [
    {
     "data": {
      "text/plain": [
       "11"
      ]
     },
     "execution_count": 10,
     "metadata": {},
     "output_type": "execute_result"
    }
   ],
   "source": [
    "len(sol1.rows)"
   ]
  },
  {
   "cell_type": "code",
   "execution_count": 11,
   "id": "a64d9277-962f-40f1-b66c-cf2107aaeb57",
   "metadata": {},
   "outputs": [
    {
     "name": "stdout",
     "output_type": "stream",
     "text": [
      "{'re', 'do', 'mi'}         {}         : do -- 1 --> 1\n",
      "   {'re', 'mi'}          {'do'}       : do -- 1 --> 0\n",
      "{'re', 'do', 'mi'}         {}         : do -- 1 --> 1\n",
      "   {'re', 'mi'}          {'do'}       : re -- 1 --> 1\n",
      "      {'mi'}          {'re', 'do'}    : mi -- 1 --> 1\n",
      "        {}         {'re', 'do', 'mi'} : \n",
      "        {}         {'re', 'do', 'mi'} : re -- 1 --> 0\n",
      "      {'re'}          {'do', 'mi'}    : \n",
      "      {'re'}          {'do', 'mi'}    : do -- 1 --> 0\n",
      "   {'re', 'do'}          {'mi'}       : mi -- 1 --> ?\n",
      "   {'re', 'do'}            {}         : re -- 1 --> 1\n",
      "      {'do'}             {'re'}       : re -- 1 --> ?\n",
      "      {'do'}               {}         : do -- 1 --> ?\n"
     ]
    }
   ],
   "source": [
    "print_juggling(sol1)"
   ]
  },
  {
   "cell_type": "code",
   "execution_count": 12,
   "id": "67def512-c94a-43e6-8c69-2e46006abf50",
   "metadata": {},
   "outputs": [
    {
     "data": {
      "application/vnd.jupyter.widget-view+json": {
       "model_id": "3d44d5ebe1914a52845d2676d13e5d5a",
       "version_major": 2,
       "version_minor": 0
      },
      "text/plain": [
       "JSProxyWidget(status='deferring flush until render')"
      ]
     },
     "metadata": {},
     "output_type": "display_data"
    },
    {
     "data": {
      "application/vnd.jupyter.widget-view+json": {
       "model_id": "24a03f54a985449181e1733b6aa3b7fa",
       "version_major": 2,
       "version_minor": 0
      },
      "text/plain": [
       "JSProxyWidget(status='deferring flush until render')"
      ]
     },
     "metadata": {},
     "output_type": "display_data"
    },
    {
     "data": {
      "application/vnd.jupyter.widget-view+json": {
       "model_id": "749e543b6af54c8dace56d1b11340107",
       "version_major": 2,
       "version_minor": 0
      },
      "text/plain": [
       "JSProxyWidget(status='deferring flush until render')"
      ]
     },
     "metadata": {},
     "output_type": "display_data"
    },
    {
     "data": {
      "application/vnd.jupyter.widget-view+json": {
       "model_id": "49ed8d9ec47c4e5ea431bc8e11b5629f",
       "version_major": 2,
       "version_minor": 0
      },
      "text/plain": [
       "VBox(children=(Renderer(camera=PerspectiveCamera(position=(0.0, 0.0, -100.0), projectionMatrix=(1.0, 0.0, 0.0,…"
      ]
     },
     "metadata": {},
     "output_type": "display_data"
    }
   ],
   "source": [
    "balls1, pattern1 = juggling_sol_to_simulator(sol1, colors)\n",
    "\n",
    "sides1 = [-1, 1, 1]\n",
    "\n",
    "model1 = modele.Model(balls1, pattern1)\n",
    "slider1 = ipywidgets.FloatSlider(min=0, max=40, step=0.05)\n",
    "view1 = modele.View(model1, sides1)\n",
    "slider1.observe(lambda change: view1.update(change['new'], change['old']), names=\"value\")\n",
    "ipywidgets.VBox([view1.widget,slider1])"
   ]
  },
  {
   "cell_type": "markdown",
   "id": "125046e8-f266-4c98-9107-113fae6e9e2f",
   "metadata": {},
   "source": [
    "## Résolution avec MILP"
   ]
  },
  {
   "cell_type": "code",
   "execution_count": 9,
   "id": "b7dd155c-9ae2-4e64-80d5-9304e11ac526",
   "metadata": {},
   "outputs": [],
   "source": [
    "sol2 = solve_exact_cover_with_milp(ec_instance, True)"
   ]
  },
  {
   "cell_type": "code",
   "execution_count": 10,
   "id": "06fbc5b6-f859-4d38-b5a8-0b6734e71e94",
   "metadata": {},
   "outputs": [
    {
     "data": {
      "text/plain": [
       "11"
      ]
     },
     "execution_count": 10,
     "metadata": {},
     "output_type": "execute_result"
    }
   ],
   "source": [
    "len(sol2.rows)"
   ]
  },
  {
   "cell_type": "code",
   "execution_count": 11,
   "id": "3f4d4e62-901a-4ffb-ada9-d8ba2195bfa2",
   "metadata": {},
   "outputs": [
    {
     "name": "stdout",
     "output_type": "stream",
     "text": [
      "{'mi', 're', 'do'}      {}      : do -- 1 --> 1\n",
      "   {'mi', 're'}       {'do'}    : re -- 3 --> 1\n",
      "                                  mi -- 4 --> 1\n",
      "                                  do -- 1 --> 0\n",
      "      {'do'}            {}      : do -- 1 --> 1\n",
      "        {}            {'do'}    : \n",
      "        {}         {'re', 'do'} : re -- 3 --> 0\n",
      "        {}         {'mi', 'do'} : \n",
      "        {}         {'mi', 'do'} : do -- 3 --> 0\n",
      "      {'re'}          {'mi'}    : mi -- 3 --> ?\n",
      "      {'re'}            {}      : re -- 3 --> 1\n",
      "      {'do'}            {}      : \n",
      "      {'do'}            {}      : do -- 3 --> ?\n",
      "        {}            {'re'}    : re -- 1 --> ?\n",
      "        {}              {}      : \n"
     ]
    }
   ],
   "source": [
    "print_juggling(sol2)"
   ]
  },
  {
   "cell_type": "code",
   "execution_count": 12,
   "id": "5ddaf5a5-dc08-46cd-b784-979ca7af9d99",
   "metadata": {},
   "outputs": [
    {
     "data": {
      "application/vnd.jupyter.widget-view+json": {
       "model_id": "ad9ff3821eea4b9393e9b4327130edc8",
       "version_major": 2,
       "version_minor": 0
      },
      "text/plain": [
       "JSProxyWidget(status='deferring flush until render')"
      ]
     },
     "metadata": {},
     "output_type": "display_data"
    },
    {
     "data": {
      "application/vnd.jupyter.widget-view+json": {
       "model_id": "af8b0826e219486fbdaebc9530806ab2",
       "version_major": 2,
       "version_minor": 0
      },
      "text/plain": [
       "JSProxyWidget(status='deferring flush until render')"
      ]
     },
     "metadata": {},
     "output_type": "display_data"
    },
    {
     "data": {
      "application/vnd.jupyter.widget-view+json": {
       "model_id": "de14472e4e90484da78d13dde8b10f43",
       "version_major": 2,
       "version_minor": 0
      },
      "text/plain": [
       "JSProxyWidget(status='deferring flush until render')"
      ]
     },
     "metadata": {},
     "output_type": "display_data"
    },
    {
     "data": {
      "application/vnd.jupyter.widget-view+json": {
       "model_id": "2dab7cabd1da4516b6568e05edeaf8f7",
       "version_major": 2,
       "version_minor": 0
      },
      "text/plain": [
       "VBox(children=(Renderer(camera=PerspectiveCamera(position=(0.0, 0.0, -100.0), projectionMatrix=(1.0, 0.0, 0.0,…"
      ]
     },
     "metadata": {},
     "output_type": "display_data"
    }
   ],
   "source": [
    "balls2, pattern2 = juggling_sol_to_simulator(sol2, colors)\n",
    "\n",
    "sides2 = [-1, 1, 1]\n",
    "\n",
    "model2 = modele.Model(balls2, pattern2)\n",
    "slider2 = ipywidgets.FloatSlider(min=0, max=40, step=0.05)\n",
    "view2 = modele.View(model2, sides2)\n",
    "slider2.observe(lambda change: view2.update(change['new'], change['old']), names=\"value\")\n",
    "ipywidgets.VBox([view2.widget,slider2])"
   ]
  },
  {
   "cell_type": "markdown",
   "id": "31101e74-a001-43f5-96c0-c0f0a4926482",
   "metadata": {},
   "source": [
    "## Fonctions tout en un"
   ]
  },
  {
   "cell_type": "code",
   "execution_count": 7,
   "id": "7966cb40-adc5-4eed-855f-b7838abd4326",
   "metadata": {},
   "outputs": [
    {
     "data": {
      "application/vnd.jupyter.widget-view+json": {
       "model_id": "1ace0409b2b9483db0bb3db3e079503f",
       "version_major": 2,
       "version_minor": 0
      },
      "text/plain": [
       "JSProxyWidget(status='deferring flush until render')"
      ]
     },
     "metadata": {},
     "output_type": "display_data"
    },
    {
     "data": {
      "application/vnd.jupyter.widget-view+json": {
       "model_id": "577fb5449a5b4f29b578c2416d4dd899",
       "version_major": 2,
       "version_minor": 0
      },
      "text/plain": [
       "JSProxyWidget(status='deferring flush until render')"
      ]
     },
     "metadata": {},
     "output_type": "display_data"
    },
    {
     "data": {
      "application/vnd.jupyter.widget-view+json": {
       "model_id": "0cce5e616b574845af60175d6dd45a74",
       "version_major": 2,
       "version_minor": 0
      },
      "text/plain": [
       "JSProxyWidget(status='deferring flush until render')"
      ]
     },
     "metadata": {},
     "output_type": "display_data"
    },
    {
     "data": {
      "application/vnd.jupyter.widget-view+json": {
       "model_id": "d20cea449d674f1f8ac82ab07684eefd",
       "version_major": 2,
       "version_minor": 0
      },
      "text/plain": [
       "VBox(children=(Renderer(camera=PerspectiveCamera(position=(0.0, 0.0, -100.0), projectionMatrix=(1.0, 0.0, 0.0,…"
      ]
     },
     "metadata": {},
     "output_type": "display_data"
    }
   ],
   "source": [
    "solve_and_simulate(music, nb_hands, max_height, max_weight, forbidden_multiplex, colors, sides, method=\"DLX\")"
   ]
  },
  {
   "cell_type": "code",
   "execution_count": 8,
   "id": "6f57de74-d696-4c1e-b70d-4cce9524259d",
   "metadata": {},
   "outputs": [
    {
     "data": {
      "application/vnd.jupyter.widget-view+json": {
       "model_id": "a88594749ff34d1e9c16b077436fd129",
       "version_major": 2,
       "version_minor": 0
      },
      "text/plain": [
       "JSProxyWidget(status='deferring flush until render')"
      ]
     },
     "metadata": {},
     "output_type": "display_data"
    },
    {
     "data": {
      "application/vnd.jupyter.widget-view+json": {
       "model_id": "0f9bf531a00f45c2a9c2c53309c81ae6",
       "version_major": 2,
       "version_minor": 0
      },
      "text/plain": [
       "JSProxyWidget(status='deferring flush until render')"
      ]
     },
     "metadata": {},
     "output_type": "display_data"
    },
    {
     "data": {
      "application/vnd.jupyter.widget-view+json": {
       "model_id": "865a33804b2b4915bd36baa2546d1f1a",
       "version_major": 2,
       "version_minor": 0
      },
      "text/plain": [
       "JSProxyWidget(status='deferring flush until render')"
      ]
     },
     "metadata": {},
     "output_type": "display_data"
    },
    {
     "data": {
      "application/vnd.jupyter.widget-view+json": {
       "model_id": "8d2517e99edb44da82c02a87991a76a3",
       "version_major": 2,
       "version_minor": 0
      },
      "text/plain": [
       "VBox(children=(Renderer(camera=PerspectiveCamera(position=(0.0, 0.0, -100.0), projectionMatrix=(1.0, 0.0, 0.0,…"
      ]
     },
     "metadata": {},
     "output_type": "display_data"
    }
   ],
   "source": [
    "solve_and_simulate(music, nb_hands, max_height, max_weight, forbidden_multiplex, colors, sides, method=\"MILP\")"
   ]
  },
  {
   "cell_type": "code",
   "execution_count": 19,
   "id": "1e8209da-6887-447a-8e48-f033d2a6fdd8",
   "metadata": {},
   "outputs": [
    {
     "name": "stdout",
     "output_type": "stream",
     "text": [
      "{'re', 'do', 'mi'}         {}         : do -- 1 --> 1\n",
      "   {'re', 'mi'}          {'do'}       : do -- 1 --> 0\n",
      "{'re', 'do', 'mi'}         {}         : do -- 1 --> 1\n",
      "   {'re', 'mi'}          {'do'}       : re -- 1 --> 1\n",
      "      {'mi'}          {'re', 'do'}    : mi -- 1 --> 1\n",
      "        {}         {'re', 'do', 'mi'} : \n",
      "        {}         {'re', 'do', 'mi'} : re -- 1 --> 0\n",
      "      {'re'}          {'do', 'mi'}    : \n",
      "      {'re'}          {'do', 'mi'}    : do -- 1 --> 0\n",
      "   {'re', 'do'}          {'mi'}       : mi -- 1 --> ?\n",
      "   {'re', 'do'}            {}         : re -- 1 --> 1\n",
      "      {'do'}             {'re'}       : re -- 1 --> ?\n",
      "      {'do'}               {}         : do -- 1 --> ?\n"
     ]
    }
   ],
   "source": [
    "solve_and_print(music, nb_hands, max_height, max_weight, forbidden_multiplex, method=\"DLX\")"
   ]
  },
  {
   "cell_type": "code",
   "execution_count": 20,
   "id": "de3c0399-ad41-48d2-b810-6af0df3c2527",
   "metadata": {},
   "outputs": [
    {
     "name": "stdout",
     "output_type": "stream",
     "text": [
      "{'re', 'do', 'mi'}      {}      : do -- 1 --> 1\n",
      "   {'re', 'mi'}       {'do'}    : re -- 3 --> 1\n",
      "                                  mi -- 4 --> 1\n",
      "                                  do -- 1 --> 0\n",
      "      {'do'}            {}      : do -- 1 --> 1\n",
      "        {}            {'do'}    : \n",
      "        {}         {'re', 'do'} : re -- 3 --> 0\n",
      "        {}         {'do', 'mi'} : \n",
      "        {}         {'do', 'mi'} : do -- 3 --> 0\n",
      "      {'re'}          {'mi'}    : mi -- 3 --> ?\n",
      "      {'re'}            {}      : re -- 3 --> 1\n",
      "      {'do'}            {}      : \n",
      "      {'do'}            {}      : do -- 3 --> ?\n",
      "        {}            {'re'}    : re -- 1 --> ?\n",
      "        {}              {}      : \n"
     ]
    }
   ],
   "source": [
    "solve_and_print(music, nb_hands, max_height, max_weight, forbidden_multiplex, method=\"MILP\")"
   ]
  }
 ],
 "metadata": {
  "kernelspec": {
   "display_name": "Python 3",
   "language": "python",
   "name": "python3"
  },
  "language_info": {
   "codemirror_mode": {
    "name": "ipython",
    "version": 3
   },
   "file_extension": ".py",
   "mimetype": "text/x-python",
   "name": "python",
   "nbconvert_exporter": "python",
   "pygments_lexer": "ipython3",
   "version": "3.9.4"
  }
 },
 "nbformat": 4,
 "nbformat_minor": 5
}
