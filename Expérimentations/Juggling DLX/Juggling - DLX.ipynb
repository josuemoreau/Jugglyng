{
 "cells": [
  {
   "cell_type": "code",
   "execution_count": 1,
   "id": "92beacbb-26ae-4652-9ff3-307db0805aee",
   "metadata": {},
   "outputs": [],
   "source": [
    "import time"
   ]
  },
  {
   "cell_type": "code",
   "execution_count": 2,
   "id": "64db8b74-5ef6-4506-9d67-cd0e9c3a93f4",
   "metadata": {},
   "outputs": [
    {
     "name": "stderr",
     "output_type": "stream",
     "text": [
      "/home/josue/Documents/git/Jugglyng1/Expérimentations/Juggling DLX/DLX/dlxm.py:69: RuntimeWarning: class \"DLX_M::AbstrItem\" has no virtual destructor\n",
      "  class ConcItem(_AbstrItem):\n"
     ]
    }
   ],
   "source": [
    "from juggling_dlx_milp import *"
   ]
  },
  {
   "cell_type": "markdown",
   "id": "b4d344f7-35ec-4ae2-a171-5c56882c3161",
   "metadata": {},
   "source": [
    "### Musique à jouer"
   ]
  },
  {
   "cell_type": "code",
   "execution_count": 15,
   "id": "60e1c3cb-ad78-463b-b2c1-254a3370a44a",
   "metadata": {},
   "outputs": [],
   "source": [
    "# Au clair de la lune\n",
    "music = [( 1, \"do\"), ( 2, \"do\"), ( 3, \"do\"), \n",
    "         ( 4, \"re\"), ( 5, \"mi\"), ( 7, \"re\"), \n",
    "         ( 9, \"do\"), (10, \"mi\"), (11, \"re\"),\n",
    "         (12, \"re\"), (13, \"do\")]"
   ]
  },
  {
   "cell_type": "code",
   "execution_count": 4,
   "id": "cbfeae9a",
   "metadata": {},
   "outputs": [],
   "source": [
    "music = [(1, \"re5\"), (2, \"do5\"), (3, \"re5\"), (4, \"do5\"),\n",
    "         (5, \"re5\"), (7, \"do5\"), (9, \"mi5\"),\n",
    "         (11, \"re5\"), (12, \"fa5\"), (13, \"la5\"), (14, \"re6\"), (15, \"fa6\")]"
   ]
  },
  {
   "cell_type": "code",
   "execution_count": 5,
   "id": "63c5f2b3-9be4-4f7a-81fb-65b866311a8d",
   "metadata": {},
   "outputs": [],
   "source": [
    "music = [( 1, \"do\"), ( 2, \"do\")]"
   ]
  },
  {
   "cell_type": "code",
   "execution_count": 23,
   "id": "fb023abd-5cbd-4e38-a39d-48a1e35781e8",
   "metadata": {},
   "outputs": [],
   "source": [
    "# Frères jacques\n",
    "music = [( 1, \"fa4\"), ( 2, \"sol4\"), ( 3, \"la4\"), ( 4, \"fa4\"),\n",
    "         ( 5, \"fa4\"), ( 6, \"sol4\"), ( 7, \"la4\"), ( 8, \"fa4\"),\n",
    "         ( 9, \"la4\"), (10, \"la#4\"), (11, \"do5\"),\n",
    "         (13, \"la4\"), (14, \"la#4\"), (15, \"do5\")]"
   ]
  },
  {
   "cell_type": "code",
   "execution_count": 7,
   "id": "2a27bafb-2ba8-428f-b65f-c19569037544",
   "metadata": {},
   "outputs": [],
   "source": [
    "# \n",
    "music = [( 1, \"la3\"), ( 2, \"si3\"), ( 3, \"do4\"), ( 4, \"re4\"),\n",
    "         ( 5, \"mi4\"), ( 6, \"do4\"), ( 7, \"mi4\"),\n",
    "         ( 9, \"re#4\"), (10, \"si3\"), (11, \"re#4\"),\n",
    "         (13, \"re4\"), (14, \"la#3\"), (15, \"re4\")]"
   ]
  },
  {
   "cell_type": "markdown",
   "id": "55335529-f4ca-44df-afd0-e38929e3f6fe",
   "metadata": {},
   "source": [
    "### Contraintes"
   ]
  },
  {
   "cell_type": "code",
   "execution_count": 24,
   "id": "1b0becbc-6d95-4ebe-a28d-c5efcd1e1b40",
   "metadata": {},
   "outputs": [],
   "source": [
    "nb_hands = 3\n",
    "max_height = 5\n",
    "max_weight = 3\n",
    "forbidden_multiplex = [(1, 2), (1, 3), (1, 4), (2, )]\n",
    "multiple_throws = True"
   ]
  },
  {
   "cell_type": "markdown",
   "id": "9bf25e61-2efc-4a0e-a729-c07beadf7f1b",
   "metadata": {},
   "source": [
    "### Algorithme"
   ]
  },
  {
   "cell_type": "code",
   "execution_count": 25,
   "id": "dfc5fbaf-2b4d-457b-bd4a-e58c7f7fec84",
   "metadata": {},
   "outputs": [],
   "source": [
    "balls, throws = music_to_throws(music)"
   ]
  },
  {
   "cell_type": "code",
   "execution_count": 26,
   "id": "596435c3-3a70-4476-8308-6e5ca7e9c87a",
   "metadata": {
    "scrolled": true
   },
   "outputs": [],
   "source": [
    "ec_instance = throws_to_extended_exact_cover(balls, throws, nb_hands, max_height, max_weight,\n",
    "                                             forbidden_multiplex, [], multiple_throws)"
   ]
  },
  {
   "cell_type": "code",
   "execution_count": 27,
   "id": "4cc4404b-4f22-425a-ab75-89c7493b48cf",
   "metadata": {},
   "outputs": [],
   "source": [
    "sol = get_solution_with_dlx(ec_instance)"
   ]
  },
  {
   "cell_type": "code",
   "execution_count": 28,
   "id": "e93bad29-3e49-4172-863c-fefa6466c316",
   "metadata": {},
   "outputs": [
    {
     "data": {
      "text/plain": [
       "14"
      ]
     },
     "execution_count": 28,
     "metadata": {},
     "output_type": "execute_result"
    }
   ],
   "source": [
    "len(sol.rows)"
   ]
  },
  {
   "cell_type": "code",
   "execution_count": 29,
   "id": "a64d9277-962f-40f1-b66c-cf2107aaeb57",
   "metadata": {},
   "outputs": [
    {
     "name": "stdout",
     "output_type": "stream",
     "text": [
      "{'la4', 'fa4', 'sol4'}    {'la#4', 'do5'}           {}        : fa4 -- 1 --> 1\n",
      "   {'la4', 'sol4'}     {'la#4', 'do5', 'fa4'}       {}        : sol4 -- 1 --> 2\n",
      "       {'la4'}         {'la#4', 'do5', 'fa4'}    {'sol4'}     : la4 -- 1 --> 2\n",
      "          {}           {'la#4', 'do5', 'fa4'} {'la4', 'sol4'} : fa4 -- 1 --> 0\n",
      "       {'fa4'}            {'la#4', 'do5'}     {'la4', 'sol4'} : fa4 -- 1 --> 1\n",
      "          {}           {'la#4', 'do5', 'fa4'} {'la4', 'sol4'} : sol4 -- 1 --> ?\n",
      "          {}           {'la#4', 'do5', 'fa4'}     {'la4'}     : la4 -- 1 --> 0\n",
      "       {'la4'}         {'la#4', 'do5', 'fa4'}       {}        : fa4 -- 1 --> ?\n",
      "       {'la4'}            {'la#4', 'do5'}           {}        : la4 -- 1 --> 1\n",
      "          {}           {'la#4', 'do5', 'la4'}       {}        : la#4 -- 1 --> 0\n",
      "       {'la#4'}            {'do5', 'la4'}           {}        : do5 -- 1 --> 0\n",
      "   {'la#4', 'do5'}            {'la4'}               {}        : \n",
      "   {'la#4', 'do5'}            {'la4'}               {}        : la4 -- 1 --> ?\n",
      "   {'la#4', 'do5'}               {}                 {}        : la#4 -- 1 --> ?\n",
      "       {'do5'}                   {}                 {}        : do5 -- 1 --> ?\n"
     ]
    }
   ],
   "source": [
    "print_juggling(sol)"
   ]
  },
  {
   "cell_type": "code",
   "execution_count": 30,
   "id": "67def512-c94a-43e6-8c69-2e46006abf50",
   "metadata": {},
   "outputs": [
    {
     "data": {
      "application/vnd.jupyter.widget-view+json": {
       "model_id": "bcc53d5c29704c719f381744c71f56a0",
       "version_major": 2,
       "version_minor": 0
      },
      "text/plain": [
       "JSProxyWidget(status='deferring flush until render')"
      ]
     },
     "metadata": {},
     "output_type": "display_data"
    },
    {
     "data": {
      "application/vnd.jupyter.widget-view+json": {
       "model_id": "b968a62ca1c24ad5903e2477f161c7e1",
       "version_major": 2,
       "version_minor": 0
      },
      "text/plain": [
       "JSProxyWidget(status='deferring flush until render')"
      ]
     },
     "metadata": {},
     "output_type": "display_data"
    },
    {
     "data": {
      "application/vnd.jupyter.widget-view+json": {
       "model_id": "c5fe8370528c4a4bbe06dd47bb4b0e83",
       "version_major": 2,
       "version_minor": 0
      },
      "text/plain": [
       "JSProxyWidget(status='deferring flush until render')"
      ]
     },
     "metadata": {},
     "output_type": "display_data"
    },
    {
     "data": {
      "application/vnd.jupyter.widget-view+json": {
       "model_id": "ee02e0fb9a1f4141bb94f408321ae259",
       "version_major": 2,
       "version_minor": 0
      },
      "text/plain": [
       "JSProxyWidget(status='deferring flush until render')"
      ]
     },
     "metadata": {},
     "output_type": "display_data"
    },
    {
     "data": {
      "application/vnd.jupyter.widget-view+json": {
       "model_id": "e85037cac1e548b59d215da8262a2b21",
       "version_major": 2,
       "version_minor": 0
      },
      "text/plain": [
       "JSProxyWidget(status='deferring flush until render')"
      ]
     },
     "metadata": {},
     "output_type": "display_data"
    },
    {
     "data": {
      "application/vnd.jupyter.widget-view+json": {
       "model_id": "da45489c29854dd4a2c99cb08ffd2cfe",
       "version_major": 2,
       "version_minor": 0
      },
      "text/plain": [
       "VBox(children=(Renderer(camera=PerspectiveCamera(position=(0.0, 0.0, -100.0), projectionMatrix=(1.0, 0.0, 0.0,…"
      ]
     },
     "metadata": {},
     "output_type": "display_data"
    }
   ],
   "source": [
    "import modele\n",
    "import ipywidgets\n",
    "import pythreejs\n",
    "\n",
    "colors = [\"blue\", \"red\", \"green\", \"yellow\", \"purple\", \"cyan\", \"magenta\"]\n",
    "\n",
    "balls, pattern = juggling_sol_to_simulator(sol, colors)\n",
    "\n",
    "sides = [-1, 1, 1]\n",
    "\n",
    "model = modele.Model(balls, pattern)\n",
    "slider = ipywidgets.FloatSlider(min=0, max=40, step=0.05)\n",
    "view = modele.View(model, sides)\n",
    "slider.observe(lambda change: view.update(change['new'], change['old']), names=\"value\")\n",
    "ipywidgets.VBox([view.widget,slider])"
   ]
  },
  {
   "cell_type": "code",
   "execution_count": null,
   "id": "0a4a2d36-83a7-4b91-94dd-248486e0bfb2",
   "metadata": {},
   "outputs": [],
   "source": []
  }
 ],
 "metadata": {
  "kernelspec": {
   "display_name": "Python 3",
   "language": "python",
   "name": "python3"
  },
  "language_info": {
   "codemirror_mode": {
    "name": "ipython",
    "version": 3
   },
   "file_extension": ".py",
   "mimetype": "text/x-python",
   "name": "python",
   "nbconvert_exporter": "python",
   "pygments_lexer": "ipython3",
   "version": "3.9.4"
  }
 },
 "nbformat": 4,
 "nbformat_minor": 5
}
