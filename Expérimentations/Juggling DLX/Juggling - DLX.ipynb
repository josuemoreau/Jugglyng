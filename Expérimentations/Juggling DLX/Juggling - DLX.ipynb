{
 "cells": [
  {
   "cell_type": "code",
   "execution_count": 1,
   "id": "92beacbb-26ae-4652-9ff3-307db0805aee",
   "metadata": {},
   "outputs": [],
   "source": [
    "import time"
   ]
  },
  {
   "cell_type": "code",
   "execution_count": 2,
   "id": "64db8b74-5ef6-4506-9d67-cd0e9c3a93f4",
   "metadata": {},
   "outputs": [
    {
     "name": "stderr",
     "output_type": "stream",
     "text": [
      "/home/josue/Documents/git/Jugglyng1/Expérimentations/Juggling DLX/DLX/dlxm.py:69: RuntimeWarning: class \"DLX_M::AbstrItem\" has no virtual destructor\n",
      "  class ConcItem(_AbstrItem):\n"
     ]
    }
   ],
   "source": [
    "from juggling_dlx_milp import *"
   ]
  },
  {
   "cell_type": "code",
   "execution_count": 3,
   "id": "358fe7a6-f95d-4e8b-a8e5-a68c348a8a74",
   "metadata": {},
   "outputs": [
    {
     "data": {
      "text/plain": [
       "[(('ré', 'mi'), ('do',)),\n",
       " (('mi', 'ré'), ('do',)),\n",
       " (('ré', 'do'), ('mi',)),\n",
       " (('do', 'ré'), ('mi',)),\n",
       " (('mi', 'do'), ('ré',)),\n",
       " (('do', 'mi'), ('ré',)),\n",
       " (('ré',), ('mi', 'do')),\n",
       " (('ré',), ('do', 'mi')),\n",
       " (('mi',), ('ré', 'do')),\n",
       " (('mi',), ('do', 'ré')),\n",
       " (('do',), ('ré', 'mi')),\n",
       " (('do',), ('mi', 'ré')),\n",
       " ((), ('ré', 'mi', 'do')),\n",
       " ((), ('ré', 'do', 'mi')),\n",
       " ((), ('mi', 'ré', 'do')),\n",
       " ((), ('mi', 'do', 'ré')),\n",
       " ((), ('do', 'ré', 'mi')),\n",
       " ((), ('do', 'mi', 'ré')),\n",
       " (('ré', 'mi', 'do'), ()),\n",
       " (('ré', 'do', 'mi'), ()),\n",
       " (('mi', 'ré', 'do'), ()),\n",
       " (('mi', 'do', 'ré'), ()),\n",
       " (('do', 'ré', 'mi'), ()),\n",
       " (('do', 'mi', 'ré'), ())]"
      ]
     },
     "execution_count": 3,
     "metadata": {},
     "output_type": "execute_result"
    }
   ],
   "source": [
    "configs = HandsConfigurations({\"do\", \"ré\", \"mi\"}, 2)\n",
    "configs"
   ]
  },
  {
   "cell_type": "code",
   "execution_count": 4,
   "id": "c84de415-bb5b-431d-83b7-345ba9cca52a",
   "metadata": {},
   "outputs": [
    {
     "data": {
      "text/plain": [
       "[(('mi', 'ré'), ('do',))]"
      ]
     },
     "execution_count": 4,
     "metadata": {},
     "output_type": "execute_result"
    }
   ],
   "source": [
    "next_configs(configs[0])"
   ]
  },
  {
   "cell_type": "code",
   "execution_count": 5,
   "id": "b3a0c8d2-aaae-48c0-adf6-01a4e434ec8d",
   "metadata": {},
   "outputs": [
    {
     "data": {
      "text/plain": [
       "True"
      ]
     },
     "execution_count": 5,
     "metadata": {},
     "output_type": "execute_result"
    }
   ],
   "source": [
    "next_configs(configs[0])[0] in configs"
   ]
  },
  {
   "cell_type": "code",
   "execution_count": null,
   "id": "a88561f1-d284-4090-9c7b-c14cf1f430ad",
   "metadata": {},
   "outputs": [],
   "source": []
  },
  {
   "cell_type": "code",
   "execution_count": 8,
   "id": "952b9033-12b3-457e-aac7-39b92bd6a051",
   "metadata": {},
   "outputs": [
    {
     "data": {
      "text/plain": [
       "The Cartesian product of ({('ré', 'mi')}, {('do',)})"
      ]
     },
     "execution_count": 8,
     "metadata": {},
     "output_type": "execute_result"
    }
   ],
   "source": [
    "cartesian_product([[('ré', 'mi')], [('do',)]])"
   ]
  },
  {
   "cell_type": "code",
   "execution_count": 9,
   "id": "2c3a13c7-3c2a-4ca9-95db-1db3db950b72",
   "metadata": {},
   "outputs": [
    {
     "data": {
      "text/plain": [
       "[['ré', 'do'],\n",
       " ['ré', 'mi'],\n",
       " ['do', 'ré'],\n",
       " ['do', 'mi'],\n",
       " ['mi', 'ré'],\n",
       " ['mi', 'do']]"
      ]
     },
     "execution_count": 9,
     "metadata": {},
     "output_type": "execute_result"
    }
   ],
   "source": [
    "list(Arrangements({\"do\", \"ré\", \"mi\"}, 2))"
   ]
  },
  {
   "cell_type": "code",
   "execution_count": 10,
   "id": "d96876cc-30fb-45f8-98b1-868ddd04bd86",
   "metadata": {},
   "outputs": [
    {
     "data": {
      "text/plain": [
       "The Cartesian product of ({['ré', 'do'], ['ré', 'mi'], ['do', 'ré'], ['do', 'mi'], ['mi', 'ré'], ['mi', 'do']}, {['sol', 'si'], ['si', 'sol']})"
      ]
     },
     "execution_count": 10,
     "metadata": {},
     "output_type": "execute_result"
    }
   ],
   "source": [
    "cartesian_product([list(Arrangements({\"do\", \"ré\", \"mi\"}, 2)), list(Arrangements({\"sol\", \"si\"}, 2))])"
   ]
  },
  {
   "cell_type": "code",
   "execution_count": null,
   "id": "d565a55d-9756-4d7d-bc4c-dac933063452",
   "metadata": {},
   "outputs": [],
   "source": []
  },
  {
   "cell_type": "markdown",
   "id": "b4d344f7-35ec-4ae2-a171-5c56882c3161",
   "metadata": {},
   "source": [
    "### Musique à jouer"
   ]
  },
  {
   "cell_type": "code",
   "execution_count": 6,
   "id": "60e1c3cb-ad78-463b-b2c1-254a3370a44a",
   "metadata": {},
   "outputs": [],
   "source": [
    "music = [( 1, \"do\"), ( 2, \"do\"), ( 3, \"do\"), \n",
    "         ( 4, \"re\"), ( 5, \"mi\"), ( 7, \"re\"), \n",
    "         ( 9, \"do\"), (10, \"mi\"), (11, \"re\"),\n",
    "         (12, \"re\"), (13, \"do\")]"
   ]
  },
  {
   "cell_type": "code",
   "execution_count": 4,
   "id": "cbfeae9a",
   "metadata": {},
   "outputs": [],
   "source": [
    "music = [(1, \"re5\"), (2, \"do5\"), (3, \"re5\"), (4, \"do5\"),\n",
    "         (5, \"re5\"), (7, \"do5\"), (9, \"mi5\"),\n",
    "         (11, \"re5\"), (12, \"fa5\"), (13, \"la5\"), (14, \"re6\"), (15, \"fa6\")]"
   ]
  },
  {
   "cell_type": "markdown",
   "id": "55335529-f4ca-44df-afd0-e38929e3f6fe",
   "metadata": {},
   "source": [
    "### Contraintes"
   ]
  },
  {
   "cell_type": "code",
   "execution_count": 7,
   "id": "1b0becbc-6d95-4ebe-a28d-c5efcd1e1b40",
   "metadata": {},
   "outputs": [],
   "source": [
    "nb_hands = 2\n",
    "max_height = 5\n",
    "max_weight = 3\n",
    "forbidden_multiplex = [(1, 2), (1, 3), (1, 4), (2, )]\n",
    "multiple_throws = True"
   ]
  },
  {
   "cell_type": "markdown",
   "id": "9bf25e61-2efc-4a0e-a729-c07beadf7f1b",
   "metadata": {},
   "source": [
    "### Algorithme"
   ]
  },
  {
   "cell_type": "code",
   "execution_count": 8,
   "id": "dfc5fbaf-2b4d-457b-bd4a-e58c7f7fec84",
   "metadata": {},
   "outputs": [],
   "source": [
    "balls, throws = music_to_throws(music)"
   ]
  },
  {
   "cell_type": "code",
   "execution_count": 9,
   "id": "596435c3-3a70-4476-8308-6e5ca7e9c87a",
   "metadata": {
    "scrolled": true
   },
   "outputs": [],
   "source": [
    "ec_instance = throws_to_extended_exact_cover(balls, throws, nb_hands, max_height, max_weight,\n",
    "                                             forbidden_multiplex, [], multiple_throws)"
   ]
  },
  {
   "cell_type": "code",
   "execution_count": 10,
   "id": "5dbf2901-7b5c-4f5c-b8b8-2d2660aeac79",
   "metadata": {},
   "outputs": [],
   "source": [
    "dlx = dlx_solver_instance(ec_instance)"
   ]
  },
  {
   "cell_type": "code",
   "execution_count": 11,
   "id": "f7c2cbde-df0f-47c6-a9c9-03b0937587a8",
   "metadata": {},
   "outputs": [
    {
     "name": "stdout",
     "output_type": "stream",
     "text": [
      "[XItem(throw=Throw(ball='do', time=0, max_height=1), hand=0, flying_time=1), LItem(throw=Throw(ball='do', time=0, max_height=1)), DItem(time=0, hand=0), IItem(time=0, hand=0, flying_time=1), MItem(time=0, hand=0, multiplex=(1, 2)), MItem(time=0, hand=0, multiplex=(1, 3)), MItem(time=0, hand=0, multiplex=(1, 4)), WItem(time=0, hand=0), UItem(ball='do', time=0, hand=0), UItem(ball='do', time=1, hand=0), (BItem(ball='do', time=0), 0)]\n",
      "[XItem(throw=Throw(ball='do', time=0, max_height=1), hand=1, flying_time=1), LItem(throw=Throw(ball='do', time=0, max_height=1)), DItem(time=0, hand=1), IItem(time=0, hand=1, flying_time=1), MItem(time=0, hand=1, multiplex=(1, 2)), MItem(time=0, hand=1, multiplex=(1, 3)), MItem(time=0, hand=1, multiplex=(1, 4)), WItem(time=0, hand=1), UItem(ball='do', time=0, hand=1), UItem(ball='do', time=1, hand=1), (BItem(ball='do', time=0), 3)]\n",
      "[XItem(throw=Throw(ball='re', time=0, max_height=4), hand=0, flying_time=1), LItem(throw=Throw(ball='re', time=0, max_height=4)), DItem(time=3, hand=0), MItem(time=3, hand=0, multiplex=(1, 2)), MItem(time=3, hand=0, multiplex=(1, 3)), MItem(time=3, hand=0, multiplex=(1, 4)), WItem(time=0, hand=0), WItem(time=1, hand=0), WItem(time=2, hand=0), WItem(time=3, hand=0), UItem(ball='re', time=0, hand=0), UItem(ball='re', time=4, hand=0), (BItem(ball='re', time=3), 0)]\n",
      "[XItem(throw=Throw(ball='re', time=0, max_height=4), hand=0, flying_time=3), LItem(throw=Throw(ball='re', time=0, max_height=4)), DItem(time=1, hand=0), MItem(time=1, hand=0, multiplex=(1, 3)), WItem(time=0, hand=0), WItem(time=1, hand=0), UItem(ball='re', time=0, hand=0), (BItem(ball='re', time=1), 0)]\n",
      "[XItem(throw=Throw(ball='re', time=0, max_height=4), hand=0, flying_time=4), LItem(throw=Throw(ball='re', time=0, max_height=4)), DItem(time=0, hand=0), IItem(time=0, hand=0, flying_time=4), MItem(time=0, hand=0, multiplex=(1, 4)), WItem(time=0, hand=0), UItem(ball='re', time=0, hand=0), (BItem(ball='re', time=0), 0)]\n",
      "[XItem(throw=Throw(ball='re', time=0, max_height=4), hand=1, flying_time=1), LItem(throw=Throw(ball='re', time=0, max_height=4)), DItem(time=3, hand=1), MItem(time=3, hand=1, multiplex=(1, 2)), MItem(time=3, hand=1, multiplex=(1, 3)), MItem(time=3, hand=1, multiplex=(1, 4)), WItem(time=0, hand=1), WItem(time=1, hand=1), WItem(time=2, hand=1), WItem(time=3, hand=1), UItem(ball='re', time=0, hand=1), UItem(ball='re', time=4, hand=1), (BItem(ball='re', time=3), 3)]\n",
      "[XItem(throw=Throw(ball='re', time=0, max_height=4), hand=1, flying_time=3), LItem(throw=Throw(ball='re', time=0, max_height=4)), DItem(time=1, hand=1), MItem(time=1, hand=1, multiplex=(1, 3)), WItem(time=0, hand=1), WItem(time=1, hand=1), UItem(ball='re', time=0, hand=1), (BItem(ball='re', time=1), 3)]\n",
      "[XItem(throw=Throw(ball='re', time=0, max_height=4), hand=1, flying_time=4), LItem(throw=Throw(ball='re', time=0, max_height=4)), DItem(time=0, hand=1), IItem(time=0, hand=1, flying_time=4), MItem(time=0, hand=1, multiplex=(1, 4)), WItem(time=0, hand=1), UItem(ball='re', time=0, hand=1), (BItem(ball='re', time=0), 3)]\n",
      "[XItem(throw=Throw(ball='mi', time=0, max_height=5), hand=0, flying_time=1), LItem(throw=Throw(ball='mi', time=0, max_height=5)), DItem(time=4, hand=0), MItem(time=4, hand=0, multiplex=(1, 2)), MItem(time=4, hand=0, multiplex=(1, 3)), MItem(time=4, hand=0, multiplex=(1, 4)), WItem(time=0, hand=0), WItem(time=1, hand=0), WItem(time=2, hand=0), WItem(time=3, hand=0), WItem(time=4, hand=0), UItem(ball='mi', time=0, hand=0), UItem(ball='mi', time=5, hand=0), (BItem(ball='mi', time=4), 0)]\n",
      "[XItem(throw=Throw(ball='mi', time=0, max_height=5), hand=0, flying_time=3), LItem(throw=Throw(ball='mi', time=0, max_height=5)), DItem(time=2, hand=0), MItem(time=2, hand=0, multiplex=(1, 3)), WItem(time=0, hand=0), WItem(time=1, hand=0), WItem(time=2, hand=0), UItem(ball='mi', time=0, hand=0), (BItem(ball='mi', time=2), 0)]\n",
      "[XItem(throw=Throw(ball='mi', time=0, max_height=5), hand=0, flying_time=4), LItem(throw=Throw(ball='mi', time=0, max_height=5)), DItem(time=1, hand=0), MItem(time=1, hand=0, multiplex=(1, 4)), WItem(time=0, hand=0), WItem(time=1, hand=0), UItem(ball='mi', time=0, hand=0), (BItem(ball='mi', time=1), 0)]\n",
      "[XItem(throw=Throw(ball='mi', time=0, max_height=5), hand=0, flying_time=5), LItem(throw=Throw(ball='mi', time=0, max_height=5)), DItem(time=0, hand=0), IItem(time=0, hand=0, flying_time=5), WItem(time=0, hand=0), UItem(ball='mi', time=0, hand=0), (BItem(ball='mi', time=0), 0)]\n",
      "[XItem(throw=Throw(ball='mi', time=0, max_height=5), hand=1, flying_time=1), LItem(throw=Throw(ball='mi', time=0, max_height=5)), DItem(time=4, hand=1), MItem(time=4, hand=1, multiplex=(1, 2)), MItem(time=4, hand=1, multiplex=(1, 3)), MItem(time=4, hand=1, multiplex=(1, 4)), WItem(time=0, hand=1), WItem(time=1, hand=1), WItem(time=2, hand=1), WItem(time=3, hand=1), WItem(time=4, hand=1), UItem(ball='mi', time=0, hand=1), UItem(ball='mi', time=5, hand=1), (BItem(ball='mi', time=4), 3)]\n",
      "[XItem(throw=Throw(ball='mi', time=0, max_height=5), hand=1, flying_time=3), LItem(throw=Throw(ball='mi', time=0, max_height=5)), DItem(time=2, hand=1), MItem(time=2, hand=1, multiplex=(1, 3)), WItem(time=0, hand=1), WItem(time=1, hand=1), WItem(time=2, hand=1), UItem(ball='mi', time=0, hand=1), (BItem(ball='mi', time=2), 3)]\n",
      "[XItem(throw=Throw(ball='mi', time=0, max_height=5), hand=1, flying_time=4), LItem(throw=Throw(ball='mi', time=0, max_height=5)), DItem(time=1, hand=1), MItem(time=1, hand=1, multiplex=(1, 4)), WItem(time=0, hand=1), WItem(time=1, hand=1), UItem(ball='mi', time=0, hand=1), (BItem(ball='mi', time=1), 3)]\n",
      "[XItem(throw=Throw(ball='mi', time=0, max_height=5), hand=1, flying_time=5), LItem(throw=Throw(ball='mi', time=0, max_height=5)), DItem(time=0, hand=1), IItem(time=0, hand=1, flying_time=5), WItem(time=0, hand=1), UItem(ball='mi', time=0, hand=1), (BItem(ball='mi', time=0), 3)]\n",
      "[XItem(throw=Throw(ball='do', time=1, max_height=1), hand=0, flying_time=1), LItem(throw=Throw(ball='do', time=1, max_height=1)), DItem(time=1, hand=0), IItem(time=1, hand=0, flying_time=1), MItem(time=1, hand=0, multiplex=(1, 2)), MItem(time=1, hand=0, multiplex=(1, 3)), MItem(time=1, hand=0, multiplex=(1, 4)), WItem(time=1, hand=0), UItem(ball='do', time=1, hand=0), UItem(ball='do', time=2, hand=0), (BItem(ball='do', time=1), 0)]\n",
      "[XItem(throw=Throw(ball='do', time=1, max_height=1), hand=1, flying_time=1), LItem(throw=Throw(ball='do', time=1, max_height=1)), DItem(time=1, hand=1), IItem(time=1, hand=1, flying_time=1), MItem(time=1, hand=1, multiplex=(1, 2)), MItem(time=1, hand=1, multiplex=(1, 3)), MItem(time=1, hand=1, multiplex=(1, 4)), WItem(time=1, hand=1), UItem(ball='do', time=1, hand=1), UItem(ball='do', time=2, hand=1), (BItem(ball='do', time=1), 3)]\n",
      "[XItem(throw=Throw(ball='do', time=2, max_height=1), hand=0, flying_time=1), LItem(throw=Throw(ball='do', time=2, max_height=1)), DItem(time=2, hand=0), IItem(time=2, hand=0, flying_time=1), MItem(time=2, hand=0, multiplex=(1, 2)), MItem(time=2, hand=0, multiplex=(1, 3)), MItem(time=2, hand=0, multiplex=(1, 4)), WItem(time=2, hand=0), UItem(ball='do', time=2, hand=0), UItem(ball='do', time=3, hand=0), (BItem(ball='do', time=2), 0)]\n",
      "[XItem(throw=Throw(ball='do', time=2, max_height=1), hand=1, flying_time=1), LItem(throw=Throw(ball='do', time=2, max_height=1)), DItem(time=2, hand=1), IItem(time=2, hand=1, flying_time=1), MItem(time=2, hand=1, multiplex=(1, 2)), MItem(time=2, hand=1, multiplex=(1, 3)), MItem(time=2, hand=1, multiplex=(1, 4)), WItem(time=2, hand=1), UItem(ball='do', time=2, hand=1), UItem(ball='do', time=3, hand=1), (BItem(ball='do', time=2), 3)]\n",
      "[XItem(throw=Throw(ball='do', time=3, max_height=6), hand=0, flying_time=1), LItem(throw=Throw(ball='do', time=3, max_height=6)), DItem(time=8, hand=0), MItem(time=8, hand=0, multiplex=(1, 2)), MItem(time=8, hand=0, multiplex=(1, 3)), MItem(time=8, hand=0, multiplex=(1, 4)), WItem(time=3, hand=0), WItem(time=4, hand=0), WItem(time=5, hand=0), WItem(time=6, hand=0), WItem(time=7, hand=0), WItem(time=8, hand=0), UItem(ball='do', time=3, hand=0), UItem(ball='do', time=9, hand=0), (BItem(ball='do', time=8), 0)]\n",
      "[XItem(throw=Throw(ball='do', time=3, max_height=6), hand=0, flying_time=3), LItem(throw=Throw(ball='do', time=3, max_height=6)), DItem(time=6, hand=0), MItem(time=6, hand=0, multiplex=(1, 3)), WItem(time=3, hand=0), WItem(time=4, hand=0), WItem(time=5, hand=0), WItem(time=6, hand=0), UItem(ball='do', time=3, hand=0), (BItem(ball='do', time=6), 0)]\n",
      "[XItem(throw=Throw(ball='do', time=3, max_height=6), hand=0, flying_time=4), LItem(throw=Throw(ball='do', time=3, max_height=6)), DItem(time=5, hand=0), MItem(time=5, hand=0, multiplex=(1, 4)), WItem(time=3, hand=0), WItem(time=4, hand=0), WItem(time=5, hand=0), UItem(ball='do', time=3, hand=0), (BItem(ball='do', time=5), 0)]\n",
      "[XItem(throw=Throw(ball='do', time=3, max_height=6), hand=0, flying_time=5), LItem(throw=Throw(ball='do', time=3, max_height=6)), DItem(time=4, hand=0), WItem(time=3, hand=0), WItem(time=4, hand=0), UItem(ball='do', time=3, hand=0), (BItem(ball='do', time=4), 0)]\n",
      "[XItem(throw=Throw(ball='do', time=3, max_height=6), hand=1, flying_time=1), LItem(throw=Throw(ball='do', time=3, max_height=6)), DItem(time=8, hand=1), MItem(time=8, hand=1, multiplex=(1, 2)), MItem(time=8, hand=1, multiplex=(1, 3)), MItem(time=8, hand=1, multiplex=(1, 4)), WItem(time=3, hand=1), WItem(time=4, hand=1), WItem(time=5, hand=1), WItem(time=6, hand=1), WItem(time=7, hand=1), WItem(time=8, hand=1), UItem(ball='do', time=3, hand=1), UItem(ball='do', time=9, hand=1), (BItem(ball='do', time=8), 3)]\n",
      "[XItem(throw=Throw(ball='do', time=3, max_height=6), hand=1, flying_time=3), LItem(throw=Throw(ball='do', time=3, max_height=6)), DItem(time=6, hand=1), MItem(time=6, hand=1, multiplex=(1, 3)), WItem(time=3, hand=1), WItem(time=4, hand=1), WItem(time=5, hand=1), WItem(time=6, hand=1), UItem(ball='do', time=3, hand=1), (BItem(ball='do', time=6), 3)]\n",
      "[XItem(throw=Throw(ball='do', time=3, max_height=6), hand=1, flying_time=4), LItem(throw=Throw(ball='do', time=3, max_height=6)), DItem(time=5, hand=1), MItem(time=5, hand=1, multiplex=(1, 4)), WItem(time=3, hand=1), WItem(time=4, hand=1), WItem(time=5, hand=1), UItem(ball='do', time=3, hand=1), (BItem(ball='do', time=5), 3)]\n",
      "[XItem(throw=Throw(ball='do', time=3, max_height=6), hand=1, flying_time=5), LItem(throw=Throw(ball='do', time=3, max_height=6)), DItem(time=4, hand=1), WItem(time=3, hand=1), WItem(time=4, hand=1), UItem(ball='do', time=3, hand=1), (BItem(ball='do', time=4), 3)]\n",
      "[XItem(throw=Throw(ball='re', time=4, max_height=3), hand=0, flying_time=1), LItem(throw=Throw(ball='re', time=4, max_height=3)), DItem(time=6, hand=0), MItem(time=6, hand=0, multiplex=(1, 2)), MItem(time=6, hand=0, multiplex=(1, 3)), MItem(time=6, hand=0, multiplex=(1, 4)), WItem(time=4, hand=0), WItem(time=5, hand=0), WItem(time=6, hand=0), UItem(ball='re', time=4, hand=0), UItem(ball='re', time=7, hand=0), (BItem(ball='re', time=6), 0)]\n",
      "[XItem(throw=Throw(ball='re', time=4, max_height=3), hand=0, flying_time=3), LItem(throw=Throw(ball='re', time=4, max_height=3)), DItem(time=4, hand=0), IItem(time=4, hand=0, flying_time=3), MItem(time=4, hand=0, multiplex=(1, 3)), WItem(time=4, hand=0), UItem(ball='re', time=4, hand=0), (BItem(ball='re', time=4), 0)]\n",
      "[XItem(throw=Throw(ball='re', time=4, max_height=3), hand=1, flying_time=1), LItem(throw=Throw(ball='re', time=4, max_height=3)), DItem(time=6, hand=1), MItem(time=6, hand=1, multiplex=(1, 2)), MItem(time=6, hand=1, multiplex=(1, 3)), MItem(time=6, hand=1, multiplex=(1, 4)), WItem(time=4, hand=1), WItem(time=5, hand=1), WItem(time=6, hand=1), UItem(ball='re', time=4, hand=1), UItem(ball='re', time=7, hand=1), (BItem(ball='re', time=6), 3)]\n",
      "[XItem(throw=Throw(ball='re', time=4, max_height=3), hand=1, flying_time=3), LItem(throw=Throw(ball='re', time=4, max_height=3)), DItem(time=4, hand=1), IItem(time=4, hand=1, flying_time=3), MItem(time=4, hand=1, multiplex=(1, 3)), WItem(time=4, hand=1), UItem(ball='re', time=4, hand=1), (BItem(ball='re', time=4), 3)]\n",
      "[XItem(throw=Throw(ball='mi', time=5, max_height=5), hand=0, flying_time=1), LItem(throw=Throw(ball='mi', time=5, max_height=5)), DItem(time=9, hand=0), MItem(time=9, hand=0, multiplex=(1, 2)), MItem(time=9, hand=0, multiplex=(1, 3)), MItem(time=9, hand=0, multiplex=(1, 4)), WItem(time=5, hand=0), WItem(time=6, hand=0), WItem(time=7, hand=0), WItem(time=8, hand=0), WItem(time=9, hand=0), UItem(ball='mi', time=5, hand=0), UItem(ball='mi', time=10, hand=0), (BItem(ball='mi', time=9), 0)]\n",
      "[XItem(throw=Throw(ball='mi', time=5, max_height=5), hand=0, flying_time=3), LItem(throw=Throw(ball='mi', time=5, max_height=5)), DItem(time=7, hand=0), MItem(time=7, hand=0, multiplex=(1, 3)), WItem(time=5, hand=0), WItem(time=6, hand=0), WItem(time=7, hand=0), UItem(ball='mi', time=5, hand=0), (BItem(ball='mi', time=7), 0)]\n",
      "[XItem(throw=Throw(ball='mi', time=5, max_height=5), hand=0, flying_time=4), LItem(throw=Throw(ball='mi', time=5, max_height=5)), DItem(time=6, hand=0), MItem(time=6, hand=0, multiplex=(1, 4)), WItem(time=5, hand=0), WItem(time=6, hand=0), UItem(ball='mi', time=5, hand=0), (BItem(ball='mi', time=6), 0)]\n",
      "[XItem(throw=Throw(ball='mi', time=5, max_height=5), hand=0, flying_time=5), LItem(throw=Throw(ball='mi', time=5, max_height=5)), DItem(time=5, hand=0), IItem(time=5, hand=0, flying_time=5), WItem(time=5, hand=0), UItem(ball='mi', time=5, hand=0), (BItem(ball='mi', time=5), 0)]\n",
      "[XItem(throw=Throw(ball='mi', time=5, max_height=5), hand=1, flying_time=1), LItem(throw=Throw(ball='mi', time=5, max_height=5)), DItem(time=9, hand=1), MItem(time=9, hand=1, multiplex=(1, 2)), MItem(time=9, hand=1, multiplex=(1, 3)), MItem(time=9, hand=1, multiplex=(1, 4)), WItem(time=5, hand=1), WItem(time=6, hand=1), WItem(time=7, hand=1), WItem(time=8, hand=1), WItem(time=9, hand=1), UItem(ball='mi', time=5, hand=1), UItem(ball='mi', time=10, hand=1), (BItem(ball='mi', time=9), 3)]\n",
      "[XItem(throw=Throw(ball='mi', time=5, max_height=5), hand=1, flying_time=3), LItem(throw=Throw(ball='mi', time=5, max_height=5)), DItem(time=7, hand=1), MItem(time=7, hand=1, multiplex=(1, 3)), WItem(time=5, hand=1), WItem(time=6, hand=1), WItem(time=7, hand=1), UItem(ball='mi', time=5, hand=1), (BItem(ball='mi', time=7), 3)]\n",
      "[XItem(throw=Throw(ball='mi', time=5, max_height=5), hand=1, flying_time=4), LItem(throw=Throw(ball='mi', time=5, max_height=5)), DItem(time=6, hand=1), MItem(time=6, hand=1, multiplex=(1, 4)), WItem(time=5, hand=1), WItem(time=6, hand=1), UItem(ball='mi', time=5, hand=1), (BItem(ball='mi', time=6), 3)]\n",
      "[XItem(throw=Throw(ball='mi', time=5, max_height=5), hand=1, flying_time=5), LItem(throw=Throw(ball='mi', time=5, max_height=5)), DItem(time=5, hand=1), IItem(time=5, hand=1, flying_time=5), WItem(time=5, hand=1), UItem(ball='mi', time=5, hand=1), (BItem(ball='mi', time=5), 3)]\n",
      "[XItem(throw=Throw(ball='re', time=7, max_height=4), hand=0, flying_time=1), LItem(throw=Throw(ball='re', time=7, max_height=4)), DItem(time=10, hand=0), MItem(time=10, hand=0, multiplex=(1, 2)), MItem(time=10, hand=0, multiplex=(1, 3)), MItem(time=10, hand=0, multiplex=(1, 4)), WItem(time=7, hand=0), WItem(time=8, hand=0), WItem(time=9, hand=0), WItem(time=10, hand=0), UItem(ball='re', time=7, hand=0), UItem(ball='re', time=11, hand=0), (BItem(ball='re', time=10), 0)]\n",
      "[XItem(throw=Throw(ball='re', time=7, max_height=4), hand=0, flying_time=3), LItem(throw=Throw(ball='re', time=7, max_height=4)), DItem(time=8, hand=0), MItem(time=8, hand=0, multiplex=(1, 3)), WItem(time=7, hand=0), WItem(time=8, hand=0), UItem(ball='re', time=7, hand=0), (BItem(ball='re', time=8), 0)]\n",
      "[XItem(throw=Throw(ball='re', time=7, max_height=4), hand=0, flying_time=4), LItem(throw=Throw(ball='re', time=7, max_height=4)), DItem(time=7, hand=0), IItem(time=7, hand=0, flying_time=4), MItem(time=7, hand=0, multiplex=(1, 4)), WItem(time=7, hand=0), UItem(ball='re', time=7, hand=0), (BItem(ball='re', time=7), 0)]\n",
      "[XItem(throw=Throw(ball='re', time=7, max_height=4), hand=1, flying_time=1), LItem(throw=Throw(ball='re', time=7, max_height=4)), DItem(time=10, hand=1), MItem(time=10, hand=1, multiplex=(1, 2)), MItem(time=10, hand=1, multiplex=(1, 3)), MItem(time=10, hand=1, multiplex=(1, 4)), WItem(time=7, hand=1), WItem(time=8, hand=1), WItem(time=9, hand=1), WItem(time=10, hand=1), UItem(ball='re', time=7, hand=1), UItem(ball='re', time=11, hand=1), (BItem(ball='re', time=10), 3)]\n",
      "[XItem(throw=Throw(ball='re', time=7, max_height=4), hand=1, flying_time=3), LItem(throw=Throw(ball='re', time=7, max_height=4)), DItem(time=8, hand=1), MItem(time=8, hand=1, multiplex=(1, 3)), WItem(time=7, hand=1), WItem(time=8, hand=1), UItem(ball='re', time=7, hand=1), (BItem(ball='re', time=8), 3)]\n",
      "[XItem(throw=Throw(ball='re', time=7, max_height=4), hand=1, flying_time=4), LItem(throw=Throw(ball='re', time=7, max_height=4)), DItem(time=7, hand=1), IItem(time=7, hand=1, flying_time=4), MItem(time=7, hand=1, multiplex=(1, 4)), WItem(time=7, hand=1), UItem(ball='re', time=7, hand=1), (BItem(ball='re', time=7), 3)]\n",
      "[XItem(throw=Throw(ball='do', time=9, max_height=4), hand=0, flying_time=1), LItem(throw=Throw(ball='do', time=9, max_height=4)), DItem(time=12, hand=0), MItem(time=12, hand=0, multiplex=(1, 2)), MItem(time=12, hand=0, multiplex=(1, 3)), MItem(time=12, hand=0, multiplex=(1, 4)), WItem(time=9, hand=0), WItem(time=10, hand=0), WItem(time=11, hand=0), WItem(time=12, hand=0), UItem(ball='do', time=9, hand=0), UItem(ball='do', time=13, hand=0), (BItem(ball='do', time=12), 0)]\n",
      "[XItem(throw=Throw(ball='do', time=9, max_height=4), hand=0, flying_time=3), LItem(throw=Throw(ball='do', time=9, max_height=4)), DItem(time=10, hand=0), MItem(time=10, hand=0, multiplex=(1, 3)), WItem(time=9, hand=0), WItem(time=10, hand=0), UItem(ball='do', time=9, hand=0), (BItem(ball='do', time=10), 0)]\n",
      "[XItem(throw=Throw(ball='do', time=9, max_height=4), hand=0, flying_time=4), LItem(throw=Throw(ball='do', time=9, max_height=4)), DItem(time=9, hand=0), IItem(time=9, hand=0, flying_time=4), MItem(time=9, hand=0, multiplex=(1, 4)), WItem(time=9, hand=0), UItem(ball='do', time=9, hand=0), (BItem(ball='do', time=9), 0)]\n",
      "[XItem(throw=Throw(ball='do', time=9, max_height=4), hand=1, flying_time=1), LItem(throw=Throw(ball='do', time=9, max_height=4)), DItem(time=12, hand=1), MItem(time=12, hand=1, multiplex=(1, 2)), MItem(time=12, hand=1, multiplex=(1, 3)), MItem(time=12, hand=1, multiplex=(1, 4)), WItem(time=9, hand=1), WItem(time=10, hand=1), WItem(time=11, hand=1), WItem(time=12, hand=1), UItem(ball='do', time=9, hand=1), UItem(ball='do', time=13, hand=1), (BItem(ball='do', time=12), 3)]\n",
      "[XItem(throw=Throw(ball='do', time=9, max_height=4), hand=1, flying_time=3), LItem(throw=Throw(ball='do', time=9, max_height=4)), DItem(time=10, hand=1), MItem(time=10, hand=1, multiplex=(1, 3)), WItem(time=9, hand=1), WItem(time=10, hand=1), UItem(ball='do', time=9, hand=1), (BItem(ball='do', time=10), 3)]\n",
      "[XItem(throw=Throw(ball='do', time=9, max_height=4), hand=1, flying_time=4), LItem(throw=Throw(ball='do', time=9, max_height=4)), DItem(time=9, hand=1), IItem(time=9, hand=1, flying_time=4), MItem(time=9, hand=1, multiplex=(1, 4)), WItem(time=9, hand=1), UItem(ball='do', time=9, hand=1), (BItem(ball='do', time=9), 3)]\n",
      "[XItem(throw=Throw(ball='re', time=11, max_height=1), hand=0, flying_time=1), LItem(throw=Throw(ball='re', time=11, max_height=1)), DItem(time=11, hand=0), IItem(time=11, hand=0, flying_time=1), MItem(time=11, hand=0, multiplex=(1, 2)), MItem(time=11, hand=0, multiplex=(1, 3)), MItem(time=11, hand=0, multiplex=(1, 4)), WItem(time=11, hand=0), UItem(ball='re', time=11, hand=0), UItem(ball='re', time=12, hand=0), (BItem(ball='re', time=11), 0)]\n",
      "[XItem(throw=Throw(ball='re', time=11, max_height=1), hand=1, flying_time=1), LItem(throw=Throw(ball='re', time=11, max_height=1)), DItem(time=11, hand=1), IItem(time=11, hand=1, flying_time=1), MItem(time=11, hand=1, multiplex=(1, 2)), MItem(time=11, hand=1, multiplex=(1, 3)), MItem(time=11, hand=1, multiplex=(1, 4)), WItem(time=11, hand=1), UItem(ball='re', time=11, hand=1), UItem(ball='re', time=12, hand=1), (BItem(ball='re', time=11), 3)]\n",
      "[(CItem(time=0), 6), (BItem(ball='re', time=0), 0), (BItem(ball='mi', time=0), 1), (BItem(ball='do', time=0), 3), (CItem(time=1), 7)]\n",
      "[(CItem(time=0), 7), (BItem(ball='mi', time=0), 0), (BItem(ball='re', time=0), 1), (BItem(ball='do', time=0), 3), (CItem(time=1), 6)]\n",
      "[(CItem(time=0), 8), (BItem(ball='re', time=0), 0), (BItem(ball='do', time=0), 1), (BItem(ball='mi', time=0), 3), (CItem(time=1), 9)]\n",
      "[(CItem(time=0), 9), (BItem(ball='do', time=0), 0), (BItem(ball='re', time=0), 1), (BItem(ball='mi', time=0), 3), (CItem(time=1), 8)]\n",
      "[(CItem(time=0), 10), (BItem(ball='mi', time=0), 0), (BItem(ball='do', time=0), 1), (BItem(ball='re', time=0), 3), (CItem(time=1), 11)]\n",
      "[(CItem(time=0), 11), (BItem(ball='do', time=0), 0), (BItem(ball='mi', time=0), 1), (BItem(ball='re', time=0), 3), (CItem(time=1), 10)]\n",
      "[(CItem(time=0), 12), (BItem(ball='re', time=0), 0), (BItem(ball='mi', time=0), 3), (BItem(ball='do', time=0), 4), (CItem(time=1), 13)]\n",
      "[(CItem(time=0), 13), (BItem(ball='re', time=0), 0), (BItem(ball='do', time=0), 3), (BItem(ball='mi', time=0), 4), (CItem(time=1), 12)]\n",
      "[(CItem(time=0), 14), (BItem(ball='mi', time=0), 0), (BItem(ball='re', time=0), 3), (BItem(ball='do', time=0), 4), (CItem(time=1), 15)]\n",
      "[(CItem(time=0), 15), (BItem(ball='mi', time=0), 0), (BItem(ball='do', time=0), 3), (BItem(ball='re', time=0), 4), (CItem(time=1), 14)]\n",
      "[(CItem(time=0), 16), (BItem(ball='do', time=0), 0), (BItem(ball='re', time=0), 3), (BItem(ball='mi', time=0), 4), (CItem(time=1), 17)]\n",
      "[(CItem(time=0), 17), (BItem(ball='do', time=0), 0), (BItem(ball='mi', time=0), 3), (BItem(ball='re', time=0), 4), (CItem(time=1), 16)]\n",
      "[(CItem(time=0), 18), (BItem(ball='re', time=0), 3), (BItem(ball='mi', time=0), 4), (BItem(ball='do', time=0), 5), (CItem(time=1), 21)]\n",
      "[(CItem(time=0), 19), (BItem(ball='re', time=0), 3), (BItem(ball='do', time=0), 4), (BItem(ball='mi', time=0), 5), (CItem(time=1), 23)]\n",
      "[(CItem(time=0), 20), (BItem(ball='mi', time=0), 3), (BItem(ball='re', time=0), 4), (BItem(ball='do', time=0), 5), (CItem(time=1), 19)]\n",
      "[(CItem(time=0), 21), (BItem(ball='mi', time=0), 3), (BItem(ball='do', time=0), 4), (BItem(ball='re', time=0), 5), (CItem(time=1), 22)]\n",
      "[(CItem(time=0), 22), (BItem(ball='do', time=0), 3), (BItem(ball='re', time=0), 4), (BItem(ball='mi', time=0), 5), (CItem(time=1), 18)]\n",
      "[(CItem(time=0), 23), (BItem(ball='do', time=0), 3), (BItem(ball='mi', time=0), 4), (BItem(ball='re', time=0), 5), (CItem(time=1), 20)]\n",
      "[(CItem(time=0), 24), (BItem(ball='re', time=0), 0), (BItem(ball='mi', time=0), 1), (BItem(ball='do', time=0), 2), (CItem(time=1), 27)]\n",
      "[(CItem(time=0), 25), (BItem(ball='re', time=0), 0), (BItem(ball='do', time=0), 1), (BItem(ball='mi', time=0), 2), (CItem(time=1), 29)]\n",
      "[(CItem(time=0), 26), (BItem(ball='mi', time=0), 0), (BItem(ball='re', time=0), 1), (BItem(ball='do', time=0), 2), (CItem(time=1), 25)]\n",
      "[(CItem(time=0), 27), (BItem(ball='mi', time=0), 0), (BItem(ball='do', time=0), 1), (BItem(ball='re', time=0), 2), (CItem(time=1), 28)]\n",
      "[(CItem(time=0), 28), (BItem(ball='do', time=0), 0), (BItem(ball='re', time=0), 1), (BItem(ball='mi', time=0), 2), (CItem(time=1), 24)]\n",
      "[(CItem(time=0), 29), (BItem(ball='do', time=0), 0), (BItem(ball='mi', time=0), 1), (BItem(ball='re', time=0), 2), (CItem(time=1), 26)]\n",
      "[(CItem(time=1), 6), (BItem(ball='re', time=1), 0), (BItem(ball='mi', time=1), 1), (BItem(ball='do', time=1), 3), (CItem(time=2), 7)]\n",
      "[(CItem(time=1), 7), (BItem(ball='mi', time=1), 0), (BItem(ball='re', time=1), 1), (BItem(ball='do', time=1), 3), (CItem(time=2), 6)]\n",
      "[(CItem(time=1), 8), (BItem(ball='re', time=1), 0), (BItem(ball='do', time=1), 1), (BItem(ball='mi', time=1), 3), (CItem(time=2), 9)]\n",
      "[(CItem(time=1), 9), (BItem(ball='do', time=1), 0), (BItem(ball='re', time=1), 1), (BItem(ball='mi', time=1), 3), (CItem(time=2), 8)]\n",
      "[(CItem(time=1), 10), (BItem(ball='mi', time=1), 0), (BItem(ball='do', time=1), 1), (BItem(ball='re', time=1), 3), (CItem(time=2), 11)]\n",
      "[(CItem(time=1), 11), (BItem(ball='do', time=1), 0), (BItem(ball='mi', time=1), 1), (BItem(ball='re', time=1), 3), (CItem(time=2), 10)]\n",
      "[(CItem(time=1), 12), (BItem(ball='re', time=1), 0), (BItem(ball='mi', time=1), 3), (BItem(ball='do', time=1), 4), (CItem(time=2), 13)]\n",
      "[(CItem(time=1), 13), (BItem(ball='re', time=1), 0), (BItem(ball='do', time=1), 3), (BItem(ball='mi', time=1), 4), (CItem(time=2), 12)]\n",
      "[(CItem(time=1), 14), (BItem(ball='mi', time=1), 0), (BItem(ball='re', time=1), 3), (BItem(ball='do', time=1), 4), (CItem(time=2), 15)]\n",
      "[(CItem(time=1), 15), (BItem(ball='mi', time=1), 0), (BItem(ball='do', time=1), 3), (BItem(ball='re', time=1), 4), (CItem(time=2), 14)]\n",
      "[(CItem(time=1), 16), (BItem(ball='do', time=1), 0), (BItem(ball='re', time=1), 3), (BItem(ball='mi', time=1), 4), (CItem(time=2), 17)]\n",
      "[(CItem(time=1), 17), (BItem(ball='do', time=1), 0), (BItem(ball='mi', time=1), 3), (BItem(ball='re', time=1), 4), (CItem(time=2), 16)]\n",
      "[(CItem(time=1), 18), (BItem(ball='re', time=1), 3), (BItem(ball='mi', time=1), 4), (BItem(ball='do', time=1), 5), (CItem(time=2), 21)]\n",
      "[(CItem(time=1), 19), (BItem(ball='re', time=1), 3), (BItem(ball='do', time=1), 4), (BItem(ball='mi', time=1), 5), (CItem(time=2), 23)]\n",
      "[(CItem(time=1), 20), (BItem(ball='mi', time=1), 3), (BItem(ball='re', time=1), 4), (BItem(ball='do', time=1), 5), (CItem(time=2), 19)]\n",
      "[(CItem(time=1), 21), (BItem(ball='mi', time=1), 3), (BItem(ball='do', time=1), 4), (BItem(ball='re', time=1), 5), (CItem(time=2), 22)]\n",
      "[(CItem(time=1), 22), (BItem(ball='do', time=1), 3), (BItem(ball='re', time=1), 4), (BItem(ball='mi', time=1), 5), (CItem(time=2), 18)]\n",
      "[(CItem(time=1), 23), (BItem(ball='do', time=1), 3), (BItem(ball='mi', time=1), 4), (BItem(ball='re', time=1), 5), (CItem(time=2), 20)]\n",
      "[(CItem(time=1), 24), (BItem(ball='re', time=1), 0), (BItem(ball='mi', time=1), 1), (BItem(ball='do', time=1), 2), (CItem(time=2), 27)]\n",
      "[(CItem(time=1), 25), (BItem(ball='re', time=1), 0), (BItem(ball='do', time=1), 1), (BItem(ball='mi', time=1), 2), (CItem(time=2), 29)]\n",
      "[(CItem(time=1), 26), (BItem(ball='mi', time=1), 0), (BItem(ball='re', time=1), 1), (BItem(ball='do', time=1), 2), (CItem(time=2), 25)]\n",
      "[(CItem(time=1), 27), (BItem(ball='mi', time=1), 0), (BItem(ball='do', time=1), 1), (BItem(ball='re', time=1), 2), (CItem(time=2), 28)]\n",
      "[(CItem(time=1), 28), (BItem(ball='do', time=1), 0), (BItem(ball='re', time=1), 1), (BItem(ball='mi', time=1), 2), (CItem(time=2), 24)]\n",
      "[(CItem(time=1), 29), (BItem(ball='do', time=1), 0), (BItem(ball='mi', time=1), 1), (BItem(ball='re', time=1), 2), (CItem(time=2), 26)]\n",
      "[(CItem(time=2), 6), (BItem(ball='re', time=2), 0), (BItem(ball='mi', time=2), 1), (BItem(ball='do', time=2), 3), (CItem(time=3), 7)]\n",
      "[(CItem(time=2), 7), (BItem(ball='mi', time=2), 0), (BItem(ball='re', time=2), 1), (BItem(ball='do', time=2), 3), (CItem(time=3), 6)]\n",
      "[(CItem(time=2), 8), (BItem(ball='re', time=2), 0), (BItem(ball='do', time=2), 1), (BItem(ball='mi', time=2), 3), (CItem(time=3), 9)]\n",
      "[(CItem(time=2), 9), (BItem(ball='do', time=2), 0), (BItem(ball='re', time=2), 1), (BItem(ball='mi', time=2), 3), (CItem(time=3), 8)]\n",
      "[(CItem(time=2), 10), (BItem(ball='mi', time=2), 0), (BItem(ball='do', time=2), 1), (BItem(ball='re', time=2), 3), (CItem(time=3), 11)]\n",
      "[(CItem(time=2), 11), (BItem(ball='do', time=2), 0), (BItem(ball='mi', time=2), 1), (BItem(ball='re', time=2), 3), (CItem(time=3), 10)]\n",
      "[(CItem(time=2), 12), (BItem(ball='re', time=2), 0), (BItem(ball='mi', time=2), 3), (BItem(ball='do', time=2), 4), (CItem(time=3), 13)]\n",
      "[(CItem(time=2), 13), (BItem(ball='re', time=2), 0), (BItem(ball='do', time=2), 3), (BItem(ball='mi', time=2), 4), (CItem(time=3), 12)]\n",
      "[(CItem(time=2), 14), (BItem(ball='mi', time=2), 0), (BItem(ball='re', time=2), 3), (BItem(ball='do', time=2), 4), (CItem(time=3), 15)]\n",
      "[(CItem(time=2), 15), (BItem(ball='mi', time=2), 0), (BItem(ball='do', time=2), 3), (BItem(ball='re', time=2), 4), (CItem(time=3), 14)]\n",
      "[(CItem(time=2), 16), (BItem(ball='do', time=2), 0), (BItem(ball='re', time=2), 3), (BItem(ball='mi', time=2), 4), (CItem(time=3), 17)]\n",
      "[(CItem(time=2), 17), (BItem(ball='do', time=2), 0), (BItem(ball='mi', time=2), 3), (BItem(ball='re', time=2), 4), (CItem(time=3), 16)]\n",
      "[(CItem(time=2), 18), (BItem(ball='re', time=2), 3), (BItem(ball='mi', time=2), 4), (BItem(ball='do', time=2), 5), (CItem(time=3), 21)]\n",
      "[(CItem(time=2), 19), (BItem(ball='re', time=2), 3), (BItem(ball='do', time=2), 4), (BItem(ball='mi', time=2), 5), (CItem(time=3), 23)]\n",
      "[(CItem(time=2), 20), (BItem(ball='mi', time=2), 3), (BItem(ball='re', time=2), 4), (BItem(ball='do', time=2), 5), (CItem(time=3), 19)]\n",
      "[(CItem(time=2), 21), (BItem(ball='mi', time=2), 3), (BItem(ball='do', time=2), 4), (BItem(ball='re', time=2), 5), (CItem(time=3), 22)]\n",
      "[(CItem(time=2), 22), (BItem(ball='do', time=2), 3), (BItem(ball='re', time=2), 4), (BItem(ball='mi', time=2), 5), (CItem(time=3), 18)]\n",
      "[(CItem(time=2), 23), (BItem(ball='do', time=2), 3), (BItem(ball='mi', time=2), 4), (BItem(ball='re', time=2), 5), (CItem(time=3), 20)]\n",
      "[(CItem(time=2), 24), (BItem(ball='re', time=2), 0), (BItem(ball='mi', time=2), 1), (BItem(ball='do', time=2), 2), (CItem(time=3), 27)]\n",
      "[(CItem(time=2), 25), (BItem(ball='re', time=2), 0), (BItem(ball='do', time=2), 1), (BItem(ball='mi', time=2), 2), (CItem(time=3), 29)]\n",
      "[(CItem(time=2), 26), (BItem(ball='mi', time=2), 0), (BItem(ball='re', time=2), 1), (BItem(ball='do', time=2), 2), (CItem(time=3), 25)]\n",
      "[(CItem(time=2), 27), (BItem(ball='mi', time=2), 0), (BItem(ball='do', time=2), 1), (BItem(ball='re', time=2), 2), (CItem(time=3), 28)]\n",
      "[(CItem(time=2), 28), (BItem(ball='do', time=2), 0), (BItem(ball='re', time=2), 1), (BItem(ball='mi', time=2), 2), (CItem(time=3), 24)]\n",
      "[(CItem(time=2), 29), (BItem(ball='do', time=2), 0), (BItem(ball='mi', time=2), 1), (BItem(ball='re', time=2), 2), (CItem(time=3), 26)]\n",
      "[(CItem(time=3), 6), (BItem(ball='re', time=3), 0), (BItem(ball='mi', time=3), 1), (BItem(ball='do', time=3), 3), (CItem(time=4), 7)]\n",
      "[(CItem(time=3), 7), (BItem(ball='mi', time=3), 0), (BItem(ball='re', time=3), 1), (BItem(ball='do', time=3), 3), (CItem(time=4), 6)]\n",
      "[(CItem(time=3), 8), (BItem(ball='re', time=3), 0), (BItem(ball='do', time=3), 1), (BItem(ball='mi', time=3), 3), (CItem(time=4), 9)]\n",
      "[(CItem(time=3), 9), (BItem(ball='do', time=3), 0), (BItem(ball='re', time=3), 1), (BItem(ball='mi', time=3), 3), (CItem(time=4), 8)]\n",
      "[(CItem(time=3), 10), (BItem(ball='mi', time=3), 0), (BItem(ball='do', time=3), 1), (BItem(ball='re', time=3), 3), (CItem(time=4), 11)]\n",
      "[(CItem(time=3), 11), (BItem(ball='do', time=3), 0), (BItem(ball='mi', time=3), 1), (BItem(ball='re', time=3), 3), (CItem(time=4), 10)]\n",
      "[(CItem(time=3), 12), (BItem(ball='re', time=3), 0), (BItem(ball='mi', time=3), 3), (BItem(ball='do', time=3), 4), (CItem(time=4), 13)]\n",
      "[(CItem(time=3), 13), (BItem(ball='re', time=3), 0), (BItem(ball='do', time=3), 3), (BItem(ball='mi', time=3), 4), (CItem(time=4), 12)]\n",
      "[(CItem(time=3), 14), (BItem(ball='mi', time=3), 0), (BItem(ball='re', time=3), 3), (BItem(ball='do', time=3), 4), (CItem(time=4), 15)]\n",
      "[(CItem(time=3), 15), (BItem(ball='mi', time=3), 0), (BItem(ball='do', time=3), 3), (BItem(ball='re', time=3), 4), (CItem(time=4), 14)]\n",
      "[(CItem(time=3), 16), (BItem(ball='do', time=3), 0), (BItem(ball='re', time=3), 3), (BItem(ball='mi', time=3), 4), (CItem(time=4), 17)]\n",
      "[(CItem(time=3), 17), (BItem(ball='do', time=3), 0), (BItem(ball='mi', time=3), 3), (BItem(ball='re', time=3), 4), (CItem(time=4), 16)]\n",
      "[(CItem(time=3), 18), (BItem(ball='re', time=3), 3), (BItem(ball='mi', time=3), 4), (BItem(ball='do', time=3), 5), (CItem(time=4), 21)]\n",
      "[(CItem(time=3), 19), (BItem(ball='re', time=3), 3), (BItem(ball='do', time=3), 4), (BItem(ball='mi', time=3), 5), (CItem(time=4), 23)]\n",
      "[(CItem(time=3), 20), (BItem(ball='mi', time=3), 3), (BItem(ball='re', time=3), 4), (BItem(ball='do', time=3), 5), (CItem(time=4), 19)]\n",
      "[(CItem(time=3), 21), (BItem(ball='mi', time=3), 3), (BItem(ball='do', time=3), 4), (BItem(ball='re', time=3), 5), (CItem(time=4), 22)]\n",
      "[(CItem(time=3), 22), (BItem(ball='do', time=3), 3), (BItem(ball='re', time=3), 4), (BItem(ball='mi', time=3), 5), (CItem(time=4), 18)]\n",
      "[(CItem(time=3), 23), (BItem(ball='do', time=3), 3), (BItem(ball='mi', time=3), 4), (BItem(ball='re', time=3), 5), (CItem(time=4), 20)]\n",
      "[(CItem(time=3), 24), (BItem(ball='re', time=3), 0), (BItem(ball='mi', time=3), 1), (BItem(ball='do', time=3), 2), (CItem(time=4), 27)]\n",
      "[(CItem(time=3), 25), (BItem(ball='re', time=3), 0), (BItem(ball='do', time=3), 1), (BItem(ball='mi', time=3), 2), (CItem(time=4), 29)]\n",
      "[(CItem(time=3), 26), (BItem(ball='mi', time=3), 0), (BItem(ball='re', time=3), 1), (BItem(ball='do', time=3), 2), (CItem(time=4), 25)]\n",
      "[(CItem(time=3), 27), (BItem(ball='mi', time=3), 0), (BItem(ball='do', time=3), 1), (BItem(ball='re', time=3), 2), (CItem(time=4), 28)]\n",
      "[(CItem(time=3), 28), (BItem(ball='do', time=3), 0), (BItem(ball='re', time=3), 1), (BItem(ball='mi', time=3), 2), (CItem(time=4), 24)]\n",
      "[(CItem(time=3), 29), (BItem(ball='do', time=3), 0), (BItem(ball='mi', time=3), 1), (BItem(ball='re', time=3), 2), (CItem(time=4), 26)]\n",
      "[(CItem(time=4), 6), (BItem(ball='re', time=4), 0), (BItem(ball='mi', time=4), 1), (BItem(ball='do', time=4), 3), (CItem(time=5), 7)]\n",
      "[(CItem(time=4), 7), (BItem(ball='mi', time=4), 0), (BItem(ball='re', time=4), 1), (BItem(ball='do', time=4), 3), (CItem(time=5), 6)]\n",
      "[(CItem(time=4), 8), (BItem(ball='re', time=4), 0), (BItem(ball='do', time=4), 1), (BItem(ball='mi', time=4), 3), (CItem(time=5), 9)]\n",
      "[(CItem(time=4), 9), (BItem(ball='do', time=4), 0), (BItem(ball='re', time=4), 1), (BItem(ball='mi', time=4), 3), (CItem(time=5), 8)]\n",
      "[(CItem(time=4), 10), (BItem(ball='mi', time=4), 0), (BItem(ball='do', time=4), 1), (BItem(ball='re', time=4), 3), (CItem(time=5), 11)]\n",
      "[(CItem(time=4), 11), (BItem(ball='do', time=4), 0), (BItem(ball='mi', time=4), 1), (BItem(ball='re', time=4), 3), (CItem(time=5), 10)]\n",
      "[(CItem(time=4), 12), (BItem(ball='re', time=4), 0), (BItem(ball='mi', time=4), 3), (BItem(ball='do', time=4), 4), (CItem(time=5), 13)]\n",
      "[(CItem(time=4), 13), (BItem(ball='re', time=4), 0), (BItem(ball='do', time=4), 3), (BItem(ball='mi', time=4), 4), (CItem(time=5), 12)]\n",
      "[(CItem(time=4), 14), (BItem(ball='mi', time=4), 0), (BItem(ball='re', time=4), 3), (BItem(ball='do', time=4), 4), (CItem(time=5), 15)]\n",
      "[(CItem(time=4), 15), (BItem(ball='mi', time=4), 0), (BItem(ball='do', time=4), 3), (BItem(ball='re', time=4), 4), (CItem(time=5), 14)]\n",
      "[(CItem(time=4), 16), (BItem(ball='do', time=4), 0), (BItem(ball='re', time=4), 3), (BItem(ball='mi', time=4), 4), (CItem(time=5), 17)]\n",
      "[(CItem(time=4), 17), (BItem(ball='do', time=4), 0), (BItem(ball='mi', time=4), 3), (BItem(ball='re', time=4), 4), (CItem(time=5), 16)]\n",
      "[(CItem(time=4), 18), (BItem(ball='re', time=4), 3), (BItem(ball='mi', time=4), 4), (BItem(ball='do', time=4), 5), (CItem(time=5), 21)]\n",
      "[(CItem(time=4), 19), (BItem(ball='re', time=4), 3), (BItem(ball='do', time=4), 4), (BItem(ball='mi', time=4), 5), (CItem(time=5), 23)]\n",
      "[(CItem(time=4), 20), (BItem(ball='mi', time=4), 3), (BItem(ball='re', time=4), 4), (BItem(ball='do', time=4), 5), (CItem(time=5), 19)]\n",
      "[(CItem(time=4), 21), (BItem(ball='mi', time=4), 3), (BItem(ball='do', time=4), 4), (BItem(ball='re', time=4), 5), (CItem(time=5), 22)]\n",
      "[(CItem(time=4), 22), (BItem(ball='do', time=4), 3), (BItem(ball='re', time=4), 4), (BItem(ball='mi', time=4), 5), (CItem(time=5), 18)]\n",
      "[(CItem(time=4), 23), (BItem(ball='do', time=4), 3), (BItem(ball='mi', time=4), 4), (BItem(ball='re', time=4), 5), (CItem(time=5), 20)]\n",
      "[(CItem(time=4), 24), (BItem(ball='re', time=4), 0), (BItem(ball='mi', time=4), 1), (BItem(ball='do', time=4), 2), (CItem(time=5), 27)]\n",
      "[(CItem(time=4), 25), (BItem(ball='re', time=4), 0), (BItem(ball='do', time=4), 1), (BItem(ball='mi', time=4), 2), (CItem(time=5), 29)]\n",
      "[(CItem(time=4), 26), (BItem(ball='mi', time=4), 0), (BItem(ball='re', time=4), 1), (BItem(ball='do', time=4), 2), (CItem(time=5), 25)]\n",
      "[(CItem(time=4), 27), (BItem(ball='mi', time=4), 0), (BItem(ball='do', time=4), 1), (BItem(ball='re', time=4), 2), (CItem(time=5), 28)]\n",
      "[(CItem(time=4), 28), (BItem(ball='do', time=4), 0), (BItem(ball='re', time=4), 1), (BItem(ball='mi', time=4), 2), (CItem(time=5), 24)]\n",
      "[(CItem(time=4), 29), (BItem(ball='do', time=4), 0), (BItem(ball='mi', time=4), 1), (BItem(ball='re', time=4), 2), (CItem(time=5), 26)]\n",
      "[(CItem(time=5), 6), (BItem(ball='re', time=5), 0), (BItem(ball='mi', time=5), 1), (BItem(ball='do', time=5), 3), (CItem(time=6), 7)]\n",
      "[(CItem(time=5), 7), (BItem(ball='mi', time=5), 0), (BItem(ball='re', time=5), 1), (BItem(ball='do', time=5), 3), (CItem(time=6), 6)]\n",
      "[(CItem(time=5), 8), (BItem(ball='re', time=5), 0), (BItem(ball='do', time=5), 1), (BItem(ball='mi', time=5), 3), (CItem(time=6), 9)]\n",
      "[(CItem(time=5), 9), (BItem(ball='do', time=5), 0), (BItem(ball='re', time=5), 1), (BItem(ball='mi', time=5), 3), (CItem(time=6), 8)]\n",
      "[(CItem(time=5), 10), (BItem(ball='mi', time=5), 0), (BItem(ball='do', time=5), 1), (BItem(ball='re', time=5), 3), (CItem(time=6), 11)]\n",
      "[(CItem(time=5), 11), (BItem(ball='do', time=5), 0), (BItem(ball='mi', time=5), 1), (BItem(ball='re', time=5), 3), (CItem(time=6), 10)]\n",
      "[(CItem(time=5), 12), (BItem(ball='re', time=5), 0), (BItem(ball='mi', time=5), 3), (BItem(ball='do', time=5), 4), (CItem(time=6), 13)]\n",
      "[(CItem(time=5), 13), (BItem(ball='re', time=5), 0), (BItem(ball='do', time=5), 3), (BItem(ball='mi', time=5), 4), (CItem(time=6), 12)]\n",
      "[(CItem(time=5), 14), (BItem(ball='mi', time=5), 0), (BItem(ball='re', time=5), 3), (BItem(ball='do', time=5), 4), (CItem(time=6), 15)]\n",
      "[(CItem(time=5), 15), (BItem(ball='mi', time=5), 0), (BItem(ball='do', time=5), 3), (BItem(ball='re', time=5), 4), (CItem(time=6), 14)]\n",
      "[(CItem(time=5), 16), (BItem(ball='do', time=5), 0), (BItem(ball='re', time=5), 3), (BItem(ball='mi', time=5), 4), (CItem(time=6), 17)]\n",
      "[(CItem(time=5), 17), (BItem(ball='do', time=5), 0), (BItem(ball='mi', time=5), 3), (BItem(ball='re', time=5), 4), (CItem(time=6), 16)]\n",
      "[(CItem(time=5), 18), (BItem(ball='re', time=5), 3), (BItem(ball='mi', time=5), 4), (BItem(ball='do', time=5), 5), (CItem(time=6), 21)]\n",
      "[(CItem(time=5), 19), (BItem(ball='re', time=5), 3), (BItem(ball='do', time=5), 4), (BItem(ball='mi', time=5), 5), (CItem(time=6), 23)]\n",
      "[(CItem(time=5), 20), (BItem(ball='mi', time=5), 3), (BItem(ball='re', time=5), 4), (BItem(ball='do', time=5), 5), (CItem(time=6), 19)]\n",
      "[(CItem(time=5), 21), (BItem(ball='mi', time=5), 3), (BItem(ball='do', time=5), 4), (BItem(ball='re', time=5), 5), (CItem(time=6), 22)]\n",
      "[(CItem(time=5), 22), (BItem(ball='do', time=5), 3), (BItem(ball='re', time=5), 4), (BItem(ball='mi', time=5), 5), (CItem(time=6), 18)]\n",
      "[(CItem(time=5), 23), (BItem(ball='do', time=5), 3), (BItem(ball='mi', time=5), 4), (BItem(ball='re', time=5), 5), (CItem(time=6), 20)]\n",
      "[(CItem(time=5), 24), (BItem(ball='re', time=5), 0), (BItem(ball='mi', time=5), 1), (BItem(ball='do', time=5), 2), (CItem(time=6), 27)]\n",
      "[(CItem(time=5), 25), (BItem(ball='re', time=5), 0), (BItem(ball='do', time=5), 1), (BItem(ball='mi', time=5), 2), (CItem(time=6), 29)]\n",
      "[(CItem(time=5), 26), (BItem(ball='mi', time=5), 0), (BItem(ball='re', time=5), 1), (BItem(ball='do', time=5), 2), (CItem(time=6), 25)]\n",
      "[(CItem(time=5), 27), (BItem(ball='mi', time=5), 0), (BItem(ball='do', time=5), 1), (BItem(ball='re', time=5), 2), (CItem(time=6), 28)]\n",
      "[(CItem(time=5), 28), (BItem(ball='do', time=5), 0), (BItem(ball='re', time=5), 1), (BItem(ball='mi', time=5), 2), (CItem(time=6), 24)]\n",
      "[(CItem(time=5), 29), (BItem(ball='do', time=5), 0), (BItem(ball='mi', time=5), 1), (BItem(ball='re', time=5), 2), (CItem(time=6), 26)]\n",
      "[(CItem(time=6), 6), (BItem(ball='re', time=6), 0), (BItem(ball='mi', time=6), 1), (BItem(ball='do', time=6), 3), (CItem(time=7), 7)]\n",
      "[(CItem(time=6), 7), (BItem(ball='mi', time=6), 0), (BItem(ball='re', time=6), 1), (BItem(ball='do', time=6), 3), (CItem(time=7), 6)]\n",
      "[(CItem(time=6), 8), (BItem(ball='re', time=6), 0), (BItem(ball='do', time=6), 1), (BItem(ball='mi', time=6), 3), (CItem(time=7), 9)]\n",
      "[(CItem(time=6), 9), (BItem(ball='do', time=6), 0), (BItem(ball='re', time=6), 1), (BItem(ball='mi', time=6), 3), (CItem(time=7), 8)]\n",
      "[(CItem(time=6), 10), (BItem(ball='mi', time=6), 0), (BItem(ball='do', time=6), 1), (BItem(ball='re', time=6), 3), (CItem(time=7), 11)]\n",
      "[(CItem(time=6), 11), (BItem(ball='do', time=6), 0), (BItem(ball='mi', time=6), 1), (BItem(ball='re', time=6), 3), (CItem(time=7), 10)]\n",
      "[(CItem(time=6), 12), (BItem(ball='re', time=6), 0), (BItem(ball='mi', time=6), 3), (BItem(ball='do', time=6), 4), (CItem(time=7), 13)]\n",
      "[(CItem(time=6), 13), (BItem(ball='re', time=6), 0), (BItem(ball='do', time=6), 3), (BItem(ball='mi', time=6), 4), (CItem(time=7), 12)]\n",
      "[(CItem(time=6), 14), (BItem(ball='mi', time=6), 0), (BItem(ball='re', time=6), 3), (BItem(ball='do', time=6), 4), (CItem(time=7), 15)]\n",
      "[(CItem(time=6), 15), (BItem(ball='mi', time=6), 0), (BItem(ball='do', time=6), 3), (BItem(ball='re', time=6), 4), (CItem(time=7), 14)]\n",
      "[(CItem(time=6), 16), (BItem(ball='do', time=6), 0), (BItem(ball='re', time=6), 3), (BItem(ball='mi', time=6), 4), (CItem(time=7), 17)]\n",
      "[(CItem(time=6), 17), (BItem(ball='do', time=6), 0), (BItem(ball='mi', time=6), 3), (BItem(ball='re', time=6), 4), (CItem(time=7), 16)]\n",
      "[(CItem(time=6), 18), (BItem(ball='re', time=6), 3), (BItem(ball='mi', time=6), 4), (BItem(ball='do', time=6), 5), (CItem(time=7), 21)]\n",
      "[(CItem(time=6), 19), (BItem(ball='re', time=6), 3), (BItem(ball='do', time=6), 4), (BItem(ball='mi', time=6), 5), (CItem(time=7), 23)]\n",
      "[(CItem(time=6), 20), (BItem(ball='mi', time=6), 3), (BItem(ball='re', time=6), 4), (BItem(ball='do', time=6), 5), (CItem(time=7), 19)]\n",
      "[(CItem(time=6), 21), (BItem(ball='mi', time=6), 3), (BItem(ball='do', time=6), 4), (BItem(ball='re', time=6), 5), (CItem(time=7), 22)]\n",
      "[(CItem(time=6), 22), (BItem(ball='do', time=6), 3), (BItem(ball='re', time=6), 4), (BItem(ball='mi', time=6), 5), (CItem(time=7), 18)]\n",
      "[(CItem(time=6), 23), (BItem(ball='do', time=6), 3), (BItem(ball='mi', time=6), 4), (BItem(ball='re', time=6), 5), (CItem(time=7), 20)]\n",
      "[(CItem(time=6), 24), (BItem(ball='re', time=6), 0), (BItem(ball='mi', time=6), 1), (BItem(ball='do', time=6), 2), (CItem(time=7), 27)]\n",
      "[(CItem(time=6), 25), (BItem(ball='re', time=6), 0), (BItem(ball='do', time=6), 1), (BItem(ball='mi', time=6), 2), (CItem(time=7), 29)]\n",
      "[(CItem(time=6), 26), (BItem(ball='mi', time=6), 0), (BItem(ball='re', time=6), 1), (BItem(ball='do', time=6), 2), (CItem(time=7), 25)]\n",
      "[(CItem(time=6), 27), (BItem(ball='mi', time=6), 0), (BItem(ball='do', time=6), 1), (BItem(ball='re', time=6), 2), (CItem(time=7), 28)]\n",
      "[(CItem(time=6), 28), (BItem(ball='do', time=6), 0), (BItem(ball='re', time=6), 1), (BItem(ball='mi', time=6), 2), (CItem(time=7), 24)]\n",
      "[(CItem(time=6), 29), (BItem(ball='do', time=6), 0), (BItem(ball='mi', time=6), 1), (BItem(ball='re', time=6), 2), (CItem(time=7), 26)]\n",
      "[(CItem(time=7), 6), (BItem(ball='re', time=7), 0), (BItem(ball='mi', time=7), 1), (BItem(ball='do', time=7), 3), (CItem(time=8), 7)]\n",
      "[(CItem(time=7), 7), (BItem(ball='mi', time=7), 0), (BItem(ball='re', time=7), 1), (BItem(ball='do', time=7), 3), (CItem(time=8), 6)]\n",
      "[(CItem(time=7), 8), (BItem(ball='re', time=7), 0), (BItem(ball='do', time=7), 1), (BItem(ball='mi', time=7), 3), (CItem(time=8), 9)]\n",
      "[(CItem(time=7), 9), (BItem(ball='do', time=7), 0), (BItem(ball='re', time=7), 1), (BItem(ball='mi', time=7), 3), (CItem(time=8), 8)]\n",
      "[(CItem(time=7), 10), (BItem(ball='mi', time=7), 0), (BItem(ball='do', time=7), 1), (BItem(ball='re', time=7), 3), (CItem(time=8), 11)]\n",
      "[(CItem(time=7), 11), (BItem(ball='do', time=7), 0), (BItem(ball='mi', time=7), 1), (BItem(ball='re', time=7), 3), (CItem(time=8), 10)]\n",
      "[(CItem(time=7), 12), (BItem(ball='re', time=7), 0), (BItem(ball='mi', time=7), 3), (BItem(ball='do', time=7), 4), (CItem(time=8), 13)]\n",
      "[(CItem(time=7), 13), (BItem(ball='re', time=7), 0), (BItem(ball='do', time=7), 3), (BItem(ball='mi', time=7), 4), (CItem(time=8), 12)]\n",
      "[(CItem(time=7), 14), (BItem(ball='mi', time=7), 0), (BItem(ball='re', time=7), 3), (BItem(ball='do', time=7), 4), (CItem(time=8), 15)]\n",
      "[(CItem(time=7), 15), (BItem(ball='mi', time=7), 0), (BItem(ball='do', time=7), 3), (BItem(ball='re', time=7), 4), (CItem(time=8), 14)]\n",
      "[(CItem(time=7), 16), (BItem(ball='do', time=7), 0), (BItem(ball='re', time=7), 3), (BItem(ball='mi', time=7), 4), (CItem(time=8), 17)]\n",
      "[(CItem(time=7), 17), (BItem(ball='do', time=7), 0), (BItem(ball='mi', time=7), 3), (BItem(ball='re', time=7), 4), (CItem(time=8), 16)]\n",
      "[(CItem(time=7), 18), (BItem(ball='re', time=7), 3), (BItem(ball='mi', time=7), 4), (BItem(ball='do', time=7), 5), (CItem(time=8), 21)]\n",
      "[(CItem(time=7), 19), (BItem(ball='re', time=7), 3), (BItem(ball='do', time=7), 4), (BItem(ball='mi', time=7), 5), (CItem(time=8), 23)]\n",
      "[(CItem(time=7), 20), (BItem(ball='mi', time=7), 3), (BItem(ball='re', time=7), 4), (BItem(ball='do', time=7), 5), (CItem(time=8), 19)]\n",
      "[(CItem(time=7), 21), (BItem(ball='mi', time=7), 3), (BItem(ball='do', time=7), 4), (BItem(ball='re', time=7), 5), (CItem(time=8), 22)]\n",
      "[(CItem(time=7), 22), (BItem(ball='do', time=7), 3), (BItem(ball='re', time=7), 4), (BItem(ball='mi', time=7), 5), (CItem(time=8), 18)]\n",
      "[(CItem(time=7), 23), (BItem(ball='do', time=7), 3), (BItem(ball='mi', time=7), 4), (BItem(ball='re', time=7), 5), (CItem(time=8), 20)]\n",
      "[(CItem(time=7), 24), (BItem(ball='re', time=7), 0), (BItem(ball='mi', time=7), 1), (BItem(ball='do', time=7), 2), (CItem(time=8), 27)]\n",
      "[(CItem(time=7), 25), (BItem(ball='re', time=7), 0), (BItem(ball='do', time=7), 1), (BItem(ball='mi', time=7), 2), (CItem(time=8), 29)]\n",
      "[(CItem(time=7), 26), (BItem(ball='mi', time=7), 0), (BItem(ball='re', time=7), 1), (BItem(ball='do', time=7), 2), (CItem(time=8), 25)]\n",
      "[(CItem(time=7), 27), (BItem(ball='mi', time=7), 0), (BItem(ball='do', time=7), 1), (BItem(ball='re', time=7), 2), (CItem(time=8), 28)]\n",
      "[(CItem(time=7), 28), (BItem(ball='do', time=7), 0), (BItem(ball='re', time=7), 1), (BItem(ball='mi', time=7), 2), (CItem(time=8), 24)]\n",
      "[(CItem(time=7), 29), (BItem(ball='do', time=7), 0), (BItem(ball='mi', time=7), 1), (BItem(ball='re', time=7), 2), (CItem(time=8), 26)]\n",
      "[(CItem(time=8), 6), (BItem(ball='re', time=8), 0), (BItem(ball='mi', time=8), 1), (BItem(ball='do', time=8), 3), (CItem(time=9), 7)]\n",
      "[(CItem(time=8), 7), (BItem(ball='mi', time=8), 0), (BItem(ball='re', time=8), 1), (BItem(ball='do', time=8), 3), (CItem(time=9), 6)]\n",
      "[(CItem(time=8), 8), (BItem(ball='re', time=8), 0), (BItem(ball='do', time=8), 1), (BItem(ball='mi', time=8), 3), (CItem(time=9), 9)]\n",
      "[(CItem(time=8), 9), (BItem(ball='do', time=8), 0), (BItem(ball='re', time=8), 1), (BItem(ball='mi', time=8), 3), (CItem(time=9), 8)]\n",
      "[(CItem(time=8), 10), (BItem(ball='mi', time=8), 0), (BItem(ball='do', time=8), 1), (BItem(ball='re', time=8), 3), (CItem(time=9), 11)]\n",
      "[(CItem(time=8), 11), (BItem(ball='do', time=8), 0), (BItem(ball='mi', time=8), 1), (BItem(ball='re', time=8), 3), (CItem(time=9), 10)]\n",
      "[(CItem(time=8), 12), (BItem(ball='re', time=8), 0), (BItem(ball='mi', time=8), 3), (BItem(ball='do', time=8), 4), (CItem(time=9), 13)]\n",
      "[(CItem(time=8), 13), (BItem(ball='re', time=8), 0), (BItem(ball='do', time=8), 3), (BItem(ball='mi', time=8), 4), (CItem(time=9), 12)]\n",
      "[(CItem(time=8), 14), (BItem(ball='mi', time=8), 0), (BItem(ball='re', time=8), 3), (BItem(ball='do', time=8), 4), (CItem(time=9), 15)]\n",
      "[(CItem(time=8), 15), (BItem(ball='mi', time=8), 0), (BItem(ball='do', time=8), 3), (BItem(ball='re', time=8), 4), (CItem(time=9), 14)]\n",
      "[(CItem(time=8), 16), (BItem(ball='do', time=8), 0), (BItem(ball='re', time=8), 3), (BItem(ball='mi', time=8), 4), (CItem(time=9), 17)]\n",
      "[(CItem(time=8), 17), (BItem(ball='do', time=8), 0), (BItem(ball='mi', time=8), 3), (BItem(ball='re', time=8), 4), (CItem(time=9), 16)]\n",
      "[(CItem(time=8), 18), (BItem(ball='re', time=8), 3), (BItem(ball='mi', time=8), 4), (BItem(ball='do', time=8), 5), (CItem(time=9), 21)]\n",
      "[(CItem(time=8), 19), (BItem(ball='re', time=8), 3), (BItem(ball='do', time=8), 4), (BItem(ball='mi', time=8), 5), (CItem(time=9), 23)]\n",
      "[(CItem(time=8), 20), (BItem(ball='mi', time=8), 3), (BItem(ball='re', time=8), 4), (BItem(ball='do', time=8), 5), (CItem(time=9), 19)]\n",
      "[(CItem(time=8), 21), (BItem(ball='mi', time=8), 3), (BItem(ball='do', time=8), 4), (BItem(ball='re', time=8), 5), (CItem(time=9), 22)]\n",
      "[(CItem(time=8), 22), (BItem(ball='do', time=8), 3), (BItem(ball='re', time=8), 4), (BItem(ball='mi', time=8), 5), (CItem(time=9), 18)]\n",
      "[(CItem(time=8), 23), (BItem(ball='do', time=8), 3), (BItem(ball='mi', time=8), 4), (BItem(ball='re', time=8), 5), (CItem(time=9), 20)]\n",
      "[(CItem(time=8), 24), (BItem(ball='re', time=8), 0), (BItem(ball='mi', time=8), 1), (BItem(ball='do', time=8), 2), (CItem(time=9), 27)]\n",
      "[(CItem(time=8), 25), (BItem(ball='re', time=8), 0), (BItem(ball='do', time=8), 1), (BItem(ball='mi', time=8), 2), (CItem(time=9), 29)]\n",
      "[(CItem(time=8), 26), (BItem(ball='mi', time=8), 0), (BItem(ball='re', time=8), 1), (BItem(ball='do', time=8), 2), (CItem(time=9), 25)]\n",
      "[(CItem(time=8), 27), (BItem(ball='mi', time=8), 0), (BItem(ball='do', time=8), 1), (BItem(ball='re', time=8), 2), (CItem(time=9), 28)]\n",
      "[(CItem(time=8), 28), (BItem(ball='do', time=8), 0), (BItem(ball='re', time=8), 1), (BItem(ball='mi', time=8), 2), (CItem(time=9), 24)]\n",
      "[(CItem(time=8), 29), (BItem(ball='do', time=8), 0), (BItem(ball='mi', time=8), 1), (BItem(ball='re', time=8), 2), (CItem(time=9), 26)]\n",
      "[(CItem(time=9), 6), (BItem(ball='re', time=9), 0), (BItem(ball='mi', time=9), 1), (BItem(ball='do', time=9), 3), (CItem(time=10), 7)]\n",
      "[(CItem(time=9), 7), (BItem(ball='mi', time=9), 0), (BItem(ball='re', time=9), 1), (BItem(ball='do', time=9), 3), (CItem(time=10), 6)]\n",
      "[(CItem(time=9), 8), (BItem(ball='re', time=9), 0), (BItem(ball='do', time=9), 1), (BItem(ball='mi', time=9), 3), (CItem(time=10), 9)]\n",
      "[(CItem(time=9), 9), (BItem(ball='do', time=9), 0), (BItem(ball='re', time=9), 1), (BItem(ball='mi', time=9), 3), (CItem(time=10), 8)]\n",
      "[(CItem(time=9), 10), (BItem(ball='mi', time=9), 0), (BItem(ball='do', time=9), 1), (BItem(ball='re', time=9), 3), (CItem(time=10), 11)]\n",
      "[(CItem(time=9), 11), (BItem(ball='do', time=9), 0), (BItem(ball='mi', time=9), 1), (BItem(ball='re', time=9), 3), (CItem(time=10), 10)]\n",
      "[(CItem(time=9), 12), (BItem(ball='re', time=9), 0), (BItem(ball='mi', time=9), 3), (BItem(ball='do', time=9), 4), (CItem(time=10), 13)]\n",
      "[(CItem(time=9), 13), (BItem(ball='re', time=9), 0), (BItem(ball='do', time=9), 3), (BItem(ball='mi', time=9), 4), (CItem(time=10), 12)]\n",
      "[(CItem(time=9), 14), (BItem(ball='mi', time=9), 0), (BItem(ball='re', time=9), 3), (BItem(ball='do', time=9), 4), (CItem(time=10), 15)]\n",
      "[(CItem(time=9), 15), (BItem(ball='mi', time=9), 0), (BItem(ball='do', time=9), 3), (BItem(ball='re', time=9), 4), (CItem(time=10), 14)]\n",
      "[(CItem(time=9), 16), (BItem(ball='do', time=9), 0), (BItem(ball='re', time=9), 3), (BItem(ball='mi', time=9), 4), (CItem(time=10), 17)]\n",
      "[(CItem(time=9), 17), (BItem(ball='do', time=9), 0), (BItem(ball='mi', time=9), 3), (BItem(ball='re', time=9), 4), (CItem(time=10), 16)]\n",
      "[(CItem(time=9), 18), (BItem(ball='re', time=9), 3), (BItem(ball='mi', time=9), 4), (BItem(ball='do', time=9), 5), (CItem(time=10), 21)]\n",
      "[(CItem(time=9), 19), (BItem(ball='re', time=9), 3), (BItem(ball='do', time=9), 4), (BItem(ball='mi', time=9), 5), (CItem(time=10), 23)]\n",
      "[(CItem(time=9), 20), (BItem(ball='mi', time=9), 3), (BItem(ball='re', time=9), 4), (BItem(ball='do', time=9), 5), (CItem(time=10), 19)]\n",
      "[(CItem(time=9), 21), (BItem(ball='mi', time=9), 3), (BItem(ball='do', time=9), 4), (BItem(ball='re', time=9), 5), (CItem(time=10), 22)]\n",
      "[(CItem(time=9), 22), (BItem(ball='do', time=9), 3), (BItem(ball='re', time=9), 4), (BItem(ball='mi', time=9), 5), (CItem(time=10), 18)]\n",
      "[(CItem(time=9), 23), (BItem(ball='do', time=9), 3), (BItem(ball='mi', time=9), 4), (BItem(ball='re', time=9), 5), (CItem(time=10), 20)]\n",
      "[(CItem(time=9), 24), (BItem(ball='re', time=9), 0), (BItem(ball='mi', time=9), 1), (BItem(ball='do', time=9), 2), (CItem(time=10), 27)]\n",
      "[(CItem(time=9), 25), (BItem(ball='re', time=9), 0), (BItem(ball='do', time=9), 1), (BItem(ball='mi', time=9), 2), (CItem(time=10), 29)]\n",
      "[(CItem(time=9), 26), (BItem(ball='mi', time=9), 0), (BItem(ball='re', time=9), 1), (BItem(ball='do', time=9), 2), (CItem(time=10), 25)]\n",
      "[(CItem(time=9), 27), (BItem(ball='mi', time=9), 0), (BItem(ball='do', time=9), 1), (BItem(ball='re', time=9), 2), (CItem(time=10), 28)]\n",
      "[(CItem(time=9), 28), (BItem(ball='do', time=9), 0), (BItem(ball='re', time=9), 1), (BItem(ball='mi', time=9), 2), (CItem(time=10), 24)]\n",
      "[(CItem(time=9), 29), (BItem(ball='do', time=9), 0), (BItem(ball='mi', time=9), 1), (BItem(ball='re', time=9), 2), (CItem(time=10), 26)]\n",
      "[(CItem(time=10), 6), (BItem(ball='re', time=10), 0), (BItem(ball='mi', time=10), 1), (BItem(ball='do', time=10), 3), (CItem(time=11), 7)]\n",
      "[(CItem(time=10), 7), (BItem(ball='mi', time=10), 0), (BItem(ball='re', time=10), 1), (BItem(ball='do', time=10), 3), (CItem(time=11), 6)]\n",
      "[(CItem(time=10), 8), (BItem(ball='re', time=10), 0), (BItem(ball='do', time=10), 1), (BItem(ball='mi', time=10), 3), (CItem(time=11), 9)]\n",
      "[(CItem(time=10), 9), (BItem(ball='do', time=10), 0), (BItem(ball='re', time=10), 1), (BItem(ball='mi', time=10), 3), (CItem(time=11), 8)]\n",
      "[(CItem(time=10), 10), (BItem(ball='mi', time=10), 0), (BItem(ball='do', time=10), 1), (BItem(ball='re', time=10), 3), (CItem(time=11), 11)]\n",
      "[(CItem(time=10), 11), (BItem(ball='do', time=10), 0), (BItem(ball='mi', time=10), 1), (BItem(ball='re', time=10), 3), (CItem(time=11), 10)]\n",
      "[(CItem(time=10), 12), (BItem(ball='re', time=10), 0), (BItem(ball='mi', time=10), 3), (BItem(ball='do', time=10), 4), (CItem(time=11), 13)]\n",
      "[(CItem(time=10), 13), (BItem(ball='re', time=10), 0), (BItem(ball='do', time=10), 3), (BItem(ball='mi', time=10), 4), (CItem(time=11), 12)]\n",
      "[(CItem(time=10), 14), (BItem(ball='mi', time=10), 0), (BItem(ball='re', time=10), 3), (BItem(ball='do', time=10), 4), (CItem(time=11), 15)]\n",
      "[(CItem(time=10), 15), (BItem(ball='mi', time=10), 0), (BItem(ball='do', time=10), 3), (BItem(ball='re', time=10), 4), (CItem(time=11), 14)]\n",
      "[(CItem(time=10), 16), (BItem(ball='do', time=10), 0), (BItem(ball='re', time=10), 3), (BItem(ball='mi', time=10), 4), (CItem(time=11), 17)]\n",
      "[(CItem(time=10), 17), (BItem(ball='do', time=10), 0), (BItem(ball='mi', time=10), 3), (BItem(ball='re', time=10), 4), (CItem(time=11), 16)]\n",
      "[(CItem(time=10), 18), (BItem(ball='re', time=10), 3), (BItem(ball='mi', time=10), 4), (BItem(ball='do', time=10), 5), (CItem(time=11), 21)]\n",
      "[(CItem(time=10), 19), (BItem(ball='re', time=10), 3), (BItem(ball='do', time=10), 4), (BItem(ball='mi', time=10), 5), (CItem(time=11), 23)]\n",
      "[(CItem(time=10), 20), (BItem(ball='mi', time=10), 3), (BItem(ball='re', time=10), 4), (BItem(ball='do', time=10), 5), (CItem(time=11), 19)]\n",
      "[(CItem(time=10), 21), (BItem(ball='mi', time=10), 3), (BItem(ball='do', time=10), 4), (BItem(ball='re', time=10), 5), (CItem(time=11), 22)]\n",
      "[(CItem(time=10), 22), (BItem(ball='do', time=10), 3), (BItem(ball='re', time=10), 4), (BItem(ball='mi', time=10), 5), (CItem(time=11), 18)]\n",
      "[(CItem(time=10), 23), (BItem(ball='do', time=10), 3), (BItem(ball='mi', time=10), 4), (BItem(ball='re', time=10), 5), (CItem(time=11), 20)]\n",
      "[(CItem(time=10), 24), (BItem(ball='re', time=10), 0), (BItem(ball='mi', time=10), 1), (BItem(ball='do', time=10), 2), (CItem(time=11), 27)]\n",
      "[(CItem(time=10), 25), (BItem(ball='re', time=10), 0), (BItem(ball='do', time=10), 1), (BItem(ball='mi', time=10), 2), (CItem(time=11), 29)]\n",
      "[(CItem(time=10), 26), (BItem(ball='mi', time=10), 0), (BItem(ball='re', time=10), 1), (BItem(ball='do', time=10), 2), (CItem(time=11), 25)]\n",
      "[(CItem(time=10), 27), (BItem(ball='mi', time=10), 0), (BItem(ball='do', time=10), 1), (BItem(ball='re', time=10), 2), (CItem(time=11), 28)]\n",
      "[(CItem(time=10), 28), (BItem(ball='do', time=10), 0), (BItem(ball='re', time=10), 1), (BItem(ball='mi', time=10), 2), (CItem(time=11), 24)]\n",
      "[(CItem(time=10), 29), (BItem(ball='do', time=10), 0), (BItem(ball='mi', time=10), 1), (BItem(ball='re', time=10), 2), (CItem(time=11), 26)]\n",
      "[(CItem(time=11), 6), (BItem(ball='re', time=11), 0), (BItem(ball='mi', time=11), 1), (BItem(ball='do', time=11), 3), (CItem(time=12), 7)]\n",
      "[(CItem(time=11), 7), (BItem(ball='mi', time=11), 0), (BItem(ball='re', time=11), 1), (BItem(ball='do', time=11), 3), (CItem(time=12), 6)]\n",
      "[(CItem(time=11), 8), (BItem(ball='re', time=11), 0), (BItem(ball='do', time=11), 1), (BItem(ball='mi', time=11), 3), (CItem(time=12), 9)]\n",
      "[(CItem(time=11), 9), (BItem(ball='do', time=11), 0), (BItem(ball='re', time=11), 1), (BItem(ball='mi', time=11), 3), (CItem(time=12), 8)]\n",
      "[(CItem(time=11), 10), (BItem(ball='mi', time=11), 0), (BItem(ball='do', time=11), 1), (BItem(ball='re', time=11), 3), (CItem(time=12), 11)]\n",
      "[(CItem(time=11), 11), (BItem(ball='do', time=11), 0), (BItem(ball='mi', time=11), 1), (BItem(ball='re', time=11), 3), (CItem(time=12), 10)]\n",
      "[(CItem(time=11), 12), (BItem(ball='re', time=11), 0), (BItem(ball='mi', time=11), 3), (BItem(ball='do', time=11), 4), (CItem(time=12), 13)]\n",
      "[(CItem(time=11), 13), (BItem(ball='re', time=11), 0), (BItem(ball='do', time=11), 3), (BItem(ball='mi', time=11), 4), (CItem(time=12), 12)]\n",
      "[(CItem(time=11), 14), (BItem(ball='mi', time=11), 0), (BItem(ball='re', time=11), 3), (BItem(ball='do', time=11), 4), (CItem(time=12), 15)]\n",
      "[(CItem(time=11), 15), (BItem(ball='mi', time=11), 0), (BItem(ball='do', time=11), 3), (BItem(ball='re', time=11), 4), (CItem(time=12), 14)]\n",
      "[(CItem(time=11), 16), (BItem(ball='do', time=11), 0), (BItem(ball='re', time=11), 3), (BItem(ball='mi', time=11), 4), (CItem(time=12), 17)]\n",
      "[(CItem(time=11), 17), (BItem(ball='do', time=11), 0), (BItem(ball='mi', time=11), 3), (BItem(ball='re', time=11), 4), (CItem(time=12), 16)]\n",
      "[(CItem(time=11), 18), (BItem(ball='re', time=11), 3), (BItem(ball='mi', time=11), 4), (BItem(ball='do', time=11), 5), (CItem(time=12), 21)]\n",
      "[(CItem(time=11), 19), (BItem(ball='re', time=11), 3), (BItem(ball='do', time=11), 4), (BItem(ball='mi', time=11), 5), (CItem(time=12), 23)]\n",
      "[(CItem(time=11), 20), (BItem(ball='mi', time=11), 3), (BItem(ball='re', time=11), 4), (BItem(ball='do', time=11), 5), (CItem(time=12), 19)]\n",
      "[(CItem(time=11), 21), (BItem(ball='mi', time=11), 3), (BItem(ball='do', time=11), 4), (BItem(ball='re', time=11), 5), (CItem(time=12), 22)]\n",
      "[(CItem(time=11), 22), (BItem(ball='do', time=11), 3), (BItem(ball='re', time=11), 4), (BItem(ball='mi', time=11), 5), (CItem(time=12), 18)]\n",
      "[(CItem(time=11), 23), (BItem(ball='do', time=11), 3), (BItem(ball='mi', time=11), 4), (BItem(ball='re', time=11), 5), (CItem(time=12), 20)]\n",
      "[(CItem(time=11), 24), (BItem(ball='re', time=11), 0), (BItem(ball='mi', time=11), 1), (BItem(ball='do', time=11), 2), (CItem(time=12), 27)]\n",
      "[(CItem(time=11), 25), (BItem(ball='re', time=11), 0), (BItem(ball='do', time=11), 1), (BItem(ball='mi', time=11), 2), (CItem(time=12), 29)]\n",
      "[(CItem(time=11), 26), (BItem(ball='mi', time=11), 0), (BItem(ball='re', time=11), 1), (BItem(ball='do', time=11), 2), (CItem(time=12), 25)]\n",
      "[(CItem(time=11), 27), (BItem(ball='mi', time=11), 0), (BItem(ball='do', time=11), 1), (BItem(ball='re', time=11), 2), (CItem(time=12), 28)]\n",
      "[(CItem(time=11), 28), (BItem(ball='do', time=11), 0), (BItem(ball='re', time=11), 1), (BItem(ball='mi', time=11), 2), (CItem(time=12), 24)]\n",
      "[(CItem(time=11), 29), (BItem(ball='do', time=11), 0), (BItem(ball='mi', time=11), 1), (BItem(ball='re', time=11), 2), (CItem(time=12), 26)]\n",
      "[(CItem(time=12), 6), (BItem(ball='re', time=12), 0), (BItem(ball='mi', time=12), 1), (BItem(ball='do', time=12), 3)]\n",
      "[(CItem(time=12), 7), (BItem(ball='mi', time=12), 0), (BItem(ball='re', time=12), 1), (BItem(ball='do', time=12), 3)]\n",
      "[(CItem(time=12), 8), (BItem(ball='re', time=12), 0), (BItem(ball='do', time=12), 1), (BItem(ball='mi', time=12), 3)]\n",
      "[(CItem(time=12), 9), (BItem(ball='do', time=12), 0), (BItem(ball='re', time=12), 1), (BItem(ball='mi', time=12), 3)]\n",
      "[(CItem(time=12), 10), (BItem(ball='mi', time=12), 0), (BItem(ball='do', time=12), 1), (BItem(ball='re', time=12), 3)]\n",
      "[(CItem(time=12), 11), (BItem(ball='do', time=12), 0), (BItem(ball='mi', time=12), 1), (BItem(ball='re', time=12), 3)]\n",
      "[(CItem(time=12), 12), (BItem(ball='re', time=12), 0), (BItem(ball='mi', time=12), 3), (BItem(ball='do', time=12), 4)]\n",
      "[(CItem(time=12), 13), (BItem(ball='re', time=12), 0), (BItem(ball='do', time=12), 3), (BItem(ball='mi', time=12), 4)]\n",
      "[(CItem(time=12), 14), (BItem(ball='mi', time=12), 0), (BItem(ball='re', time=12), 3), (BItem(ball='do', time=12), 4)]\n",
      "[(CItem(time=12), 15), (BItem(ball='mi', time=12), 0), (BItem(ball='do', time=12), 3), (BItem(ball='re', time=12), 4)]\n",
      "[(CItem(time=12), 16), (BItem(ball='do', time=12), 0), (BItem(ball='re', time=12), 3), (BItem(ball='mi', time=12), 4)]\n",
      "[(CItem(time=12), 17), (BItem(ball='do', time=12), 0), (BItem(ball='mi', time=12), 3), (BItem(ball='re', time=12), 4)]\n",
      "[(CItem(time=12), 18), (BItem(ball='re', time=12), 3), (BItem(ball='mi', time=12), 4), (BItem(ball='do', time=12), 5)]\n",
      "[(CItem(time=12), 19), (BItem(ball='re', time=12), 3), (BItem(ball='do', time=12), 4), (BItem(ball='mi', time=12), 5)]\n",
      "[(CItem(time=12), 20), (BItem(ball='mi', time=12), 3), (BItem(ball='re', time=12), 4), (BItem(ball='do', time=12), 5)]\n",
      "[(CItem(time=12), 21), (BItem(ball='mi', time=12), 3), (BItem(ball='do', time=12), 4), (BItem(ball='re', time=12), 5)]\n",
      "[(CItem(time=12), 22), (BItem(ball='do', time=12), 3), (BItem(ball='re', time=12), 4), (BItem(ball='mi', time=12), 5)]\n",
      "[(CItem(time=12), 23), (BItem(ball='do', time=12), 3), (BItem(ball='mi', time=12), 4), (BItem(ball='re', time=12), 5)]\n",
      "[(CItem(time=12), 24), (BItem(ball='re', time=12), 0), (BItem(ball='mi', time=12), 1), (BItem(ball='do', time=12), 2)]\n",
      "[(CItem(time=12), 25), (BItem(ball='re', time=12), 0), (BItem(ball='do', time=12), 1), (BItem(ball='mi', time=12), 2)]\n",
      "[(CItem(time=12), 26), (BItem(ball='mi', time=12), 0), (BItem(ball='re', time=12), 1), (BItem(ball='do', time=12), 2)]\n",
      "[(CItem(time=12), 27), (BItem(ball='mi', time=12), 0), (BItem(ball='do', time=12), 1), (BItem(ball='re', time=12), 2)]\n",
      "[(CItem(time=12), 28), (BItem(ball='do', time=12), 0), (BItem(ball='re', time=12), 1), (BItem(ball='mi', time=12), 2)]\n",
      "[(CItem(time=12), 29), (BItem(ball='do', time=12), 0), (BItem(ball='mi', time=12), 1), (BItem(ball='re', time=12), 2)]\n"
     ]
    }
   ],
   "source": [
    "for r in range(len(dlx.rows)):\n",
    "    print(dlx.row_obj(r))"
   ]
  },
  {
   "cell_type": "code",
   "execution_count": 15,
   "id": "4cc4404b-4f22-425a-ab75-89c7493b48cf",
   "metadata": {},
   "outputs": [
    {
     "data": {
      "text/plain": [
       "54166"
      ]
     },
     "execution_count": 15,
     "metadata": {},
     "output_type": "execute_result"
    }
   ],
   "source": [
    "len(dlx.all_solutions())"
   ]
  },
  {
   "cell_type": "code",
   "execution_count": null,
   "id": "5e4b7bb3-37cb-4830-9c43-a84a63ef726a",
   "metadata": {},
   "outputs": [],
   "source": []
  },
  {
   "cell_type": "code",
   "execution_count": null,
   "id": "4dfff504-0845-4d30-9525-e7887bd31f04",
   "metadata": {},
   "outputs": [],
   "source": []
  },
  {
   "cell_type": "code",
   "execution_count": null,
   "id": "88b6a9ae-d855-432c-b9ea-40301f6bcd2d",
   "metadata": {},
   "outputs": [],
   "source": []
  },
  {
   "cell_type": "code",
   "execution_count": 8,
   "id": "abe3d354-ed2a-4975-bf6e-d658e47fc0a3",
   "metadata": {},
   "outputs": [
    {
     "name": "stdout",
     "output_type": "stream",
     "text": [
      "0 solutions trouvées en 0.8061761856079102 secondes\n"
     ]
    }
   ],
   "source": [
    "t = time.time()\n",
    "sols = solve_with_dlx(ec_instance)\n",
    "print(\"{} solutions trouvées en {} secondes\".format(len(sols), time.time() - t))"
   ]
  },
  {
   "cell_type": "code",
   "execution_count": 17,
   "id": "078d1b64-6fc3-4f6c-b79b-afffae99e057",
   "metadata": {},
   "outputs": [
    {
     "name": "stdout",
     "output_type": "stream",
     "text": [
      "{'do5', 'mi5', 're5', 'fa5'}       {}       : re5 -- 1 --> 1\n",
      "   {'do5', 'mi5', 'fa5'}        {'re5'}     : do5 -- 1 --> 1\n",
      "       {'mi5', 'fa5'}        {'do5', 're5'} : re5 -- 1 --> 0\n",
      "   {'mi5', 'fa5', 're5'}        {'do5'}     : do5 -- 1 --> 0\n",
      "{'do5', 'mi5', 'fa5', 're5'}       {}       : re5 -- 1 --> 1\n",
      "   {'do5', 'mi5', 'fa5'}        {'re5'}     : \n",
      "   {'do5', 'mi5', 'fa5'}        {'re5'}     : do5 -- 1 --> ?\n",
      "       {'mi5', 'fa5'}           {'re5'}     : \n",
      "       {'mi5', 'fa5'}           {'re5'}     : mi5 -- 1 --> ?\n",
      "          {'fa5'}               {'re5'}     : \n",
      "          {'fa5'}               {'re5'}     : re5 -- 1 --> ?\n",
      "          {'fa5'}                  {}       : fa5 -- 1 --> ?\n"
     ]
    }
   ],
   "source": [
    "print_juggling(sols[0])"
   ]
  },
  {
   "cell_type": "code",
   "execution_count": 18,
   "id": "67def512-c94a-43e6-8c69-2e46006abf50",
   "metadata": {},
   "outputs": [
    {
     "data": {
      "text/html": [
       "<script type=\"module\">\n",
       "\t\timport * as THREE from 'https://unpkg.com/three@0.127.0/build/three.module.js';\n",
       "\t\t\n",
       "\t\tconst camera = new THREE.Camera();\n",
       "\n",
       "\t\tconst scene = new THREE.Scene();\n",
       "\n",
       "\t\t// create an AudioListener and add it to the camera \n",
       "\t\tconst listener = new THREE.AudioListener();\n",
       "\t\tcamera.add(listener); // create a global audio source\n",
       "\n",
       "\t\tconst sound = new THREE.Audio(listener); // load a sound and set it as the Audio object's buffer \n",
       "\n",
       "\t\tconst audioLoader = new THREE.AudioLoader();\n",
       "\t\taudioLoader.load('../../sounds2/do5.wav', function(buffer) {\n",
       "\t\t\tsound.setBuffer(buffer);\n",
       "\t\t\tsound.setLoop(false);\n",
       "\t\t\tsound.setVolume(2.0);\n",
       "\t\t\tsound.play();\n",
       "\t\t});\n",
       "    </script>"
      ],
      "text/plain": [
       "<IPython.core.display.HTML object>"
      ]
     },
     "metadata": {},
     "output_type": "display_data"
    },
    {
     "data": {
      "text/html": [
       "<script type=\"module\">\n",
       "\t\timport * as THREE from 'https://unpkg.com/three@0.127.0/build/three.module.js';\n",
       "\t\t\n",
       "\t\tconst camera = new THREE.Camera();\n",
       "\n",
       "\t\tconst scene = new THREE.Scene();\n",
       "\n",
       "\t\t// create an AudioListener and add it to the camera \n",
       "\t\tconst listener = new THREE.AudioListener();\n",
       "\t\tcamera.add(listener); // create a global audio source\n",
       "\n",
       "\t\tconst sound = new THREE.Audio(listener); // load a sound and set it as the Audio object's buffer \n",
       "\n",
       "\t\tconst audioLoader = new THREE.AudioLoader();\n",
       "\t\taudioLoader.load('../../sounds2/re5.wav', function(buffer) {\n",
       "\t\t\tsound.setBuffer(buffer);\n",
       "\t\t\tsound.setLoop(false);\n",
       "\t\t\tsound.setVolume(2.0);\n",
       "\t\t\tsound.play();\n",
       "\t\t});\n",
       "    </script>"
      ],
      "text/plain": [
       "<IPython.core.display.HTML object>"
      ]
     },
     "metadata": {},
     "output_type": "display_data"
    },
    {
     "data": {
      "text/html": [
       "<script type=\"module\">\n",
       "\t\timport * as THREE from 'https://unpkg.com/three@0.127.0/build/three.module.js';\n",
       "\t\t\n",
       "\t\tconst camera = new THREE.Camera();\n",
       "\n",
       "\t\tconst scene = new THREE.Scene();\n",
       "\n",
       "\t\t// create an AudioListener and add it to the camera \n",
       "\t\tconst listener = new THREE.AudioListener();\n",
       "\t\tcamera.add(listener); // create a global audio source\n",
       "\n",
       "\t\tconst sound = new THREE.Audio(listener); // load a sound and set it as the Audio object's buffer \n",
       "\n",
       "\t\tconst audioLoader = new THREE.AudioLoader();\n",
       "\t\taudioLoader.load('../../sounds2/mi5.wav', function(buffer) {\n",
       "\t\t\tsound.setBuffer(buffer);\n",
       "\t\t\tsound.setLoop(false);\n",
       "\t\t\tsound.setVolume(2.0);\n",
       "\t\t\tsound.play();\n",
       "\t\t});\n",
       "    </script>"
      ],
      "text/plain": [
       "<IPython.core.display.HTML object>"
      ]
     },
     "metadata": {},
     "output_type": "display_data"
    },
    {
     "data": {
      "text/html": [
       "<script type=\"module\">\n",
       "\t\timport * as THREE from 'https://unpkg.com/three@0.127.0/build/three.module.js';\n",
       "\t\t\n",
       "\t\tconst camera = new THREE.Camera();\n",
       "\n",
       "\t\tconst scene = new THREE.Scene();\n",
       "\n",
       "\t\t// create an AudioListener and add it to the camera \n",
       "\t\tconst listener = new THREE.AudioListener();\n",
       "\t\tcamera.add(listener); // create a global audio source\n",
       "\n",
       "\t\tconst sound = new THREE.Audio(listener); // load a sound and set it as the Audio object's buffer \n",
       "\n",
       "\t\tconst audioLoader = new THREE.AudioLoader();\n",
       "\t\taudioLoader.load('../../sounds2/fa5.wav', function(buffer) {\n",
       "\t\t\tsound.setBuffer(buffer);\n",
       "\t\t\tsound.setLoop(false);\n",
       "\t\t\tsound.setVolume(2.0);\n",
       "\t\t\tsound.play();\n",
       "\t\t});\n",
       "    </script>"
      ],
      "text/plain": [
       "<IPython.core.display.HTML object>"
      ]
     },
     "metadata": {},
     "output_type": "display_data"
    },
    {
     "data": {
      "application/vnd.jupyter.widget-view+json": {
       "model_id": "9ec309d32e3940249ca587da7f3f7e49",
       "version_major": 2,
       "version_minor": 0
      },
      "text/plain": [
       "VBox(children=(Renderer(camera=PerspectiveCamera(position=(0.0, 0.0, -100.0), projectionMatrix=(1.0, 0.0, 0.0,…"
      ]
     },
     "metadata": {},
     "output_type": "display_data"
    }
   ],
   "source": [
    "import modele\n",
    "import ipywidgets\n",
    "import pythreejs\n",
    "\n",
    "# balls = [{\"color\":\"blue\", \"tone\":\"do5\", \"name\":\"do5\"},\n",
    "#          {\"color\":\"red\", \"tone\":\"re5\", \"name\":\"re5\"},\n",
    "#          {\"color\":\"green\", \"tone\":\"mi5\", \"name\":\"mi5\"},\n",
    "#          {\"color\":\"yellow\", \"tone\":\"fa5\", \"name\":\"fa5\"},\n",
    "#          {\"color\":\"yellow\", \"tone\":\"la5\", \"name\":\"la5\"},\n",
    "#          {\"color\":\"yellow\", \"tone\":\"re6\", \"name\":\"re5\"},\n",
    "#          {\"color\":\"yellow\", \"tone\":\"fa6\", \"name\":\"fa6\"}]\n",
    "\n",
    "balls = [{\"color\":\"blue\", \"tone\":\"do\", \"name\":\"do\"},\n",
    "         {\"color\":\"red\", \"tone\":\"re\", \"name\":\"re\"},\n",
    "         {\"color\":\"green\", \"tone\":\"mi\", \"name\":\"mi\"}]\n",
    "\n",
    "pattern = juggling_sol_to_simulator(sols[0])\n",
    "\n",
    "sides = [-1, 1]\n",
    "\n",
    "model = modele.Model(balls, pattern)\n",
    "slider = ipywidgets.FloatSlider(min=0, max=40, step=0.1)\n",
    "view = modele.View(model, sides)\n",
    "slider.observe(lambda change: view.update(change['new'], change['old']), names=\"value\")\n",
    "ipywidgets.VBox([view.widget,slider])"
   ]
  },
  {
   "cell_type": "code",
   "execution_count": null,
   "id": "0a4a2d36-83a7-4b91-94dd-248486e0bfb2",
   "metadata": {},
   "outputs": [],
   "source": []
  }
 ],
 "metadata": {
  "kernelspec": {
   "display_name": "Python 3",
   "language": "python",
   "name": "python3"
  },
  "language_info": {
   "codemirror_mode": {
    "name": "ipython",
    "version": 3
   },
   "file_extension": ".py",
   "mimetype": "text/x-python",
   "name": "python",
   "nbconvert_exporter": "python",
   "pygments_lexer": "ipython3",
   "version": "3.9.4"
  }
 },
 "nbformat": 4,
 "nbformat_minor": 5
}
