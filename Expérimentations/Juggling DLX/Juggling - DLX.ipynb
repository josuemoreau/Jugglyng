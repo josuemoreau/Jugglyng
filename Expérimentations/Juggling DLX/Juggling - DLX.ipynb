{
 "cells": [
  {
   "cell_type": "code",
   "execution_count": 1,
   "id": "76ff3071-34b6-4cd8-b716-12c40bd67ba0",
   "metadata": {},
   "outputs": [],
   "source": [
    "import warnings\n",
    "warnings.filterwarnings('ignore')"
   ]
  },
  {
   "cell_type": "code",
   "execution_count": 2,
   "id": "92beacbb-26ae-4652-9ff3-307db0805aee",
   "metadata": {},
   "outputs": [],
   "source": [
    "import time"
   ]
  },
  {
   "cell_type": "code",
   "execution_count": 3,
   "id": "64db8b74-5ef6-4506-9d67-cd0e9c3a93f4",
   "metadata": {},
   "outputs": [],
   "source": [
    "from juggling_dlx_milp import *"
   ]
  },
  {
   "cell_type": "code",
   "execution_count": 4,
   "id": "9a3a5e5c-d7a2-4bb0-acab-ce5eb655883a",
   "metadata": {},
   "outputs": [],
   "source": [
    "import modele\n",
    "import ipywidgets\n",
    "import pythreejs\n",
    "\n",
    "colors = [\"blue\", \"red\", \"green\", \"yellow\", \"purple\", \"cyan\", \"magenta\"]"
   ]
  },
  {
   "cell_type": "markdown",
   "id": "b4d344f7-35ec-4ae2-a171-5c56882c3161",
   "metadata": {},
   "source": [
    "# Musique à jouer"
   ]
  },
  {
   "cell_type": "code",
   "execution_count": 5,
   "id": "60e1c3cb-ad78-463b-b2c1-254a3370a44a",
   "metadata": {},
   "outputs": [],
   "source": [
    "# Au clair de la lune\n",
    "music = [( 1, \"do\"), ( 2, \"do\"), ( 3, \"do\"), \n",
    "         ( 4, \"re\"), ( 5, \"mi\"), ( 7, \"re\"), \n",
    "         ( 9, \"do\"), (10, \"mi\"), (11, \"re\"),\n",
    "         (12, \"re\"), (13, \"do\")]"
   ]
  },
  {
   "cell_type": "code",
   "execution_count": 6,
   "id": "cbfeae9a",
   "metadata": {},
   "outputs": [],
   "source": [
    "music = [(1, \"re5\"), (2, \"do5\"), (3, \"re5\"), (4, \"do5\"),\n",
    "         (5, \"re5\"), (7, \"do5\"), (9, \"mi5\"),\n",
    "         (11, \"re5\"), (12, \"fa5\"), (13, \"la5\"), (14, \"re6\"), (15, \"fa6\")]"
   ]
  },
  {
   "cell_type": "code",
   "execution_count": 7,
   "id": "fb023abd-5cbd-4e38-a39d-48a1e35781e8",
   "metadata": {},
   "outputs": [],
   "source": [
    "# Frères jacques\n",
    "music = [( 1, \"fa4\"), ( 2, \"sol4\"), ( 3, \"la4\"), ( 4, \"fa4\"),\n",
    "         ( 5, \"fa4\"), ( 6, \"sol4\"), ( 7, \"la4\"), ( 8, \"fa4\"),\n",
    "         ( 9, \"la4\"), (10, \"la#4\"), (11, \"do5\"),\n",
    "         (13, \"la4\"), (14, \"la#4\"), (15, \"do5\")]"
   ]
  },
  {
   "cell_type": "code",
   "execution_count": 7,
   "id": "2a27bafb-2ba8-428f-b65f-c19569037544",
   "metadata": {},
   "outputs": [],
   "source": [
    "# In the hall of the moutain king\n",
    "music = [( 1, \"la3\"), ( 2, \"si3\"), ( 3, \"do4\"), ( 4, \"re4\"),\n",
    "         ( 5, \"mi4\"), ( 6, \"do4\"), ( 7, \"mi4\"),\n",
    "         ( 9, \"re#4\"), (10, \"si3\"), (11, \"re#4\"),\n",
    "         (13, \"re4\"), (14, \"la#3\"), (15, \"re4\")]"
   ]
  },
  {
   "cell_type": "markdown",
   "id": "55335529-f4ca-44df-afd0-e38929e3f6fe",
   "metadata": {},
   "source": [
    "# Contraintes"
   ]
  },
  {
   "cell_type": "code",
   "execution_count": 6,
   "id": "1b0becbc-6d95-4ebe-a28d-c5efcd1e1b40",
   "metadata": {},
   "outputs": [],
   "source": [
    "nb_hands = 2\n",
    "max_height = 5\n",
    "max_weight = 3\n",
    "forbidden_multiplex = [(1, 2), (1, 3), (1, 4), (2, )]\n",
    "multiple_throws = True"
   ]
  },
  {
   "cell_type": "markdown",
   "id": "9bf25e61-2efc-4a0e-a729-c07beadf7f1b",
   "metadata": {},
   "source": [
    "# Algorithme"
   ]
  },
  {
   "cell_type": "code",
   "execution_count": 7,
   "id": "dfc5fbaf-2b4d-457b-bd4a-e58c7f7fec84",
   "metadata": {},
   "outputs": [],
   "source": [
    "balls, throws = music_to_throws(music)"
   ]
  },
  {
   "cell_type": "code",
   "execution_count": 8,
   "id": "596435c3-3a70-4476-8308-6e5ca7e9c87a",
   "metadata": {
    "scrolled": true
   },
   "outputs": [],
   "source": [
    "ec_instance = throws_to_extended_exact_cover(balls, throws, nb_hands, max_height, max_weight,\n",
    "                                             forbidden_multiplex, [], multiple_throws)"
   ]
  },
  {
   "cell_type": "markdown",
   "id": "cbee196a-f053-48ec-bf66-dbf5db9a8cfe",
   "metadata": {},
   "source": [
    "## Résolution avec Exact Cover"
   ]
  },
  {
   "cell_type": "code",
   "execution_count": 9,
   "id": "4cc4404b-4f22-425a-ab75-89c7493b48cf",
   "metadata": {},
   "outputs": [],
   "source": [
    "sol1 = get_solution_with_dlx(ec_instance)"
   ]
  },
  {
   "cell_type": "code",
   "execution_count": 10,
   "id": "e93bad29-3e49-4172-863c-fefa6466c316",
   "metadata": {},
   "outputs": [
    {
     "data": {
      "text/plain": [
       "11"
      ]
     },
     "execution_count": 10,
     "metadata": {},
     "output_type": "execute_result"
    }
   ],
   "source": [
    "len(sol1.rows)"
   ]
  },
  {
   "cell_type": "code",
   "execution_count": 11,
   "id": "a64d9277-962f-40f1-b66c-cf2107aaeb57",
   "metadata": {},
   "outputs": [
    {
     "name": "stdout",
     "output_type": "stream",
     "text": [
      "{'re', 'mi', 'do'}         {}         : do -- 1 --> 1\n",
      "   {'re', 'mi'}          {'do'}       : do -- 1 --> 0\n",
      "{'re', 'mi', 'do'}         {}         : do -- 1 --> 1\n",
      "   {'re', 'mi'}          {'do'}       : re -- 1 --> 1\n",
      "      {'mi'}          {'re', 'do'}    : mi -- 1 --> 1\n",
      "        {}         {'re', 'mi', 'do'} : \n",
      "        {}         {'re', 'mi', 'do'} : re -- 1 --> 0\n",
      "      {'re'}          {'mi', 'do'}    : \n",
      "      {'re'}          {'mi', 'do'}    : do -- 1 --> 0\n",
      "   {'re', 'do'}          {'mi'}       : mi -- 1 --> ?\n",
      "   {'re', 'do'}            {}         : re -- 1 --> 1\n",
      "      {'do'}             {'re'}       : re -- 1 --> ?\n",
      "      {'do'}               {}         : do -- 1 --> ?\n"
     ]
    }
   ],
   "source": [
    "print_juggling(sol1)"
   ]
  },
  {
   "cell_type": "code",
   "execution_count": 12,
   "id": "67def512-c94a-43e6-8c69-2e46006abf50",
   "metadata": {},
   "outputs": [
    {
     "data": {
      "application/vnd.jupyter.widget-view+json": {
       "model_id": "566fd35263eb4b538c671176705955e1",
       "version_major": 2,
       "version_minor": 0
      },
      "text/plain": [
       "JSProxyWidget(status='deferring flush until render')"
      ]
     },
     "metadata": {},
     "output_type": "display_data"
    },
    {
     "data": {
      "application/vnd.jupyter.widget-view+json": {
       "model_id": "2b4eda624ed44d29b2b3b9b49d4f111e",
       "version_major": 2,
       "version_minor": 0
      },
      "text/plain": [
       "JSProxyWidget(status='deferring flush until render')"
      ]
     },
     "metadata": {},
     "output_type": "display_data"
    },
    {
     "data": {
      "application/vnd.jupyter.widget-view+json": {
       "model_id": "7f740e46ff294f9cb470a9df008279a0",
       "version_major": 2,
       "version_minor": 0
      },
      "text/plain": [
       "JSProxyWidget(status='deferring flush until render')"
      ]
     },
     "metadata": {},
     "output_type": "display_data"
    },
    {
     "data": {
      "application/vnd.jupyter.widget-view+json": {
       "model_id": "83d872ba0f8f4017a884773b59d67591",
       "version_major": 2,
       "version_minor": 0
      },
      "text/plain": [
       "VBox(children=(Renderer(camera=PerspectiveCamera(position=(0.0, 0.0, -100.0), projectionMatrix=(1.0, 0.0, 0.0,…"
      ]
     },
     "metadata": {},
     "output_type": "display_data"
    }
   ],
   "source": [
    "balls1, pattern1 = juggling_sol_to_simulator(sol1, colors)\n",
    "\n",
    "sides1 = [-1, 1, 1]\n",
    "\n",
    "model1 = modele.Model(balls1, pattern1)\n",
    "slider1 = ipywidgets.FloatSlider(min=0, max=40, step=0.05)\n",
    "view1 = modele.View(model1, sides1)\n",
    "slider1.observe(lambda change: view1.update(change['new'], change['old']), names=\"value\")\n",
    "ipywidgets.VBox([view1.widget,slider1])"
   ]
  },
  {
   "cell_type": "markdown",
   "id": "125046e8-f266-4c98-9107-113fae6e9e2f",
   "metadata": {},
   "source": [
    "## Résolution avec MILP"
   ]
  },
  {
   "cell_type": "code",
   "execution_count": 13,
   "id": "b7dd155c-9ae2-4e64-80d5-9304e11ac526",
   "metadata": {},
   "outputs": [],
   "source": [
    "sol2 = solve_exact_cover_with_milp(ec_instance, True)"
   ]
  },
  {
   "cell_type": "code",
   "execution_count": 14,
   "id": "06fbc5b6-f859-4d38-b5a8-0b6734e71e94",
   "metadata": {},
   "outputs": [
    {
     "data": {
      "text/plain": [
       "11"
      ]
     },
     "execution_count": 14,
     "metadata": {},
     "output_type": "execute_result"
    }
   ],
   "source": [
    "len(sol2.rows)"
   ]
  },
  {
   "cell_type": "code",
   "execution_count": 15,
   "id": "3f4d4e62-901a-4ffb-ada9-d8ba2195bfa2",
   "metadata": {},
   "outputs": [
    {
     "name": "stdout",
     "output_type": "stream",
     "text": [
      "{'re', 'mi', 'do'}      {}      : do -- 1 --> 1\n",
      "   {'re', 'mi'}       {'do'}    : re -- 3 --> 1\n",
      "                                  mi -- 4 --> 1\n",
      "                                  do -- 1 --> 0\n",
      "      {'do'}            {}      : do -- 1 --> 1\n",
      "        {}            {'do'}    : \n",
      "        {}         {'re', 'do'} : re -- 3 --> 0\n",
      "        {}         {'mi', 'do'} : \n",
      "        {}         {'mi', 'do'} : do -- 3 --> 0\n",
      "      {'re'}          {'mi'}    : mi -- 3 --> ?\n",
      "      {'re'}            {}      : re -- 3 --> 1\n",
      "      {'do'}            {}      : \n",
      "      {'do'}            {}      : do -- 3 --> ?\n",
      "        {}            {'re'}    : re -- 1 --> ?\n",
      "        {}              {}      : \n"
     ]
    }
   ],
   "source": [
    "print_juggling(sol2)"
   ]
  },
  {
   "cell_type": "code",
   "execution_count": 16,
   "id": "5ddaf5a5-dc08-46cd-b784-979ca7af9d99",
   "metadata": {},
   "outputs": [
    {
     "data": {
      "application/vnd.jupyter.widget-view+json": {
       "model_id": "a4ffa61e2fb24dab81951f25d76522fb",
       "version_major": 2,
       "version_minor": 0
      },
      "text/plain": [
       "JSProxyWidget(status='deferring flush until render')"
      ]
     },
     "metadata": {},
     "output_type": "display_data"
    },
    {
     "data": {
      "application/vnd.jupyter.widget-view+json": {
       "model_id": "2bf3eefcf7da4280b2abfb09f5e72642",
       "version_major": 2,
       "version_minor": 0
      },
      "text/plain": [
       "JSProxyWidget(status='deferring flush until render')"
      ]
     },
     "metadata": {},
     "output_type": "display_data"
    },
    {
     "data": {
      "application/vnd.jupyter.widget-view+json": {
       "model_id": "0a1de06a4d9041949d141d384c303a38",
       "version_major": 2,
       "version_minor": 0
      },
      "text/plain": [
       "JSProxyWidget(status='deferring flush until render')"
      ]
     },
     "metadata": {},
     "output_type": "display_data"
    },
    {
     "data": {
      "application/vnd.jupyter.widget-view+json": {
       "model_id": "567cdcbc63bc4bf99ec4948d963d4e4c",
       "version_major": 2,
       "version_minor": 0
      },
      "text/plain": [
       "VBox(children=(Renderer(camera=PerspectiveCamera(position=(0.0, 0.0, -100.0), projectionMatrix=(1.0, 0.0, 0.0,…"
      ]
     },
     "metadata": {},
     "output_type": "display_data"
    }
   ],
   "source": [
    "balls2, pattern2 = juggling_sol_to_simulator(sol2, colors)\n",
    "\n",
    "sides2 = [-1, 1, 1]\n",
    "\n",
    "model2 = modele.Model(balls2, pattern2)\n",
    "slider2 = ipywidgets.FloatSlider(min=0, max=40, step=0.05)\n",
    "view2 = modele.View(model2, sides2)\n",
    "slider2.observe(lambda change: view2.update(change['new'], change['old']), names=\"value\")\n",
    "ipywidgets.VBox([view2.widget,slider2])"
   ]
  },
  {
   "cell_type": "code",
   "execution_count": null,
   "id": "6983af88-6dca-409c-916a-3e287773c5ba",
   "metadata": {},
   "outputs": [],
   "source": []
  },
  {
   "cell_type": "code",
   "execution_count": null,
   "id": "7966cb40-adc5-4eed-855f-b7838abd4326",
   "metadata": {},
   "outputs": [],
   "source": []
  },
  {
   "cell_type": "code",
   "execution_count": null,
   "id": "6f57de74-d696-4c1e-b70d-4cce9524259d",
   "metadata": {},
   "outputs": [],
   "source": []
  },
  {
   "cell_type": "code",
   "execution_count": null,
   "id": "de3c0399-ad41-48d2-b810-6af0df3c2527",
   "metadata": {},
   "outputs": [],
   "source": []
  }
 ],
 "metadata": {
  "kernelspec": {
   "display_name": "Python 3",
   "language": "python",
   "name": "python3"
  },
  "language_info": {
   "codemirror_mode": {
    "name": "ipython",
    "version": 3
   },
   "file_extension": ".py",
   "mimetype": "text/x-python",
   "name": "python",
   "nbconvert_exporter": "python",
   "pygments_lexer": "ipython3",
   "version": "3.9.4"
  }
 },
 "nbformat": 4,
 "nbformat_minor": 5
}
