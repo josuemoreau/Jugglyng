{
 "cells": [
  {
   "cell_type": "code",
   "execution_count": 1,
   "id": "5e3fd336-2b00-4329-a521-e449d04c0f16",
   "metadata": {},
   "outputs": [],
   "source": [
    "%load_ext autoreload\n",
    "%autoreload 2"
   ]
  },
  {
   "cell_type": "code",
   "execution_count": 2,
   "id": "76ff3071-34b6-4cd8-b716-12c40bd67ba0",
   "metadata": {},
   "outputs": [],
   "source": [
    "import warnings\n",
    "import os\n",
    "warnings.filterwarnings('ignore')\n",
    "os.chdir(\"../../\")"
   ]
  },
  {
   "cell_type": "code",
   "execution_count": 3,
   "id": "92beacbb-26ae-4652-9ff3-307db0805aee",
   "metadata": {},
   "outputs": [],
   "source": [
    "import time"
   ]
  },
  {
   "cell_type": "code",
   "execution_count": 4,
   "id": "64db8b74-5ef6-4506-9d67-cd0e9c3a93f4",
   "metadata": {},
   "outputs": [],
   "source": [
    "from juggling_dlx_milp import *"
   ]
  },
  {
   "cell_type": "code",
   "execution_count": 5,
   "id": "9a3a5e5c-d7a2-4bb0-acab-ce5eb655883a",
   "metadata": {},
   "outputs": [],
   "source": [
    "import modele\n",
    "import ipywidgets as ipw\n",
    "import pythreejs\n",
    "\n",
    "colors = [\"blue\", \"red\", \"green\", \"yellow\", \"purple\", \"cyan\", \"magenta\"]\n",
    "sides = [-1, 1, 1]"
   ]
  },
  {
   "cell_type": "markdown",
   "id": "9a6d7b5a-2f09-4c1f-bc87-a01446769062",
   "metadata": {},
   "source": [
    "# Test GUI"
   ]
  },
  {
   "cell_type": "code",
   "execution_count": 6,
   "id": "b6367385-e3e5-4834-8932-e6c508d79605",
   "metadata": {},
   "outputs": [],
   "source": [
    "import logging\n",
    "logger = logging.getLogger()"
   ]
  },
  {
   "cell_type": "code",
   "execution_count": 7,
   "id": "30cd0595-9073-4687-8582-9925b1b0757a",
   "metadata": {},
   "outputs": [
    {
     "data": {
      "application/vnd.jupyter.widget-view+json": {
       "model_id": "7d143c411a1945b6a7d4df1090cb46ca",
       "version_major": 2,
       "version_minor": 0
      },
      "text/plain": [
       "Output()"
      ]
     },
     "metadata": {},
     "output_type": "display_data"
    }
   ],
   "source": [
    "out = ipw.Output()\n",
    "\n",
    "l_inttext = ipw.Layout(width='100px')\n",
    "l_text = ipw.Layout(width='150px')\n",
    "l_simulation_text = ipw.Layout(width='400px')\n",
    "\n",
    "w_nb_hands = ipw.IntText(\n",
    "    value=2,\n",
    "    disabled=False,\n",
    "    layout=l_inttext\n",
    ")\n",
    "w_max_weight = ipw.IntText(\n",
    "    value=3,\n",
    "    disabled=False,\n",
    "    layout=l_inttext\n",
    ")\n",
    "w_max_height = ipw.IntText(\n",
    "    value=5,\n",
    "    disabled=False,\n",
    "    layout=l_inttext\n",
    ")\n",
    "w_no_multiplex = ipw.Checkbox(\n",
    "    value=False,\n",
    "    disabled=False,\n",
    "    indent=False\n",
    ")\n",
    "w_generate_forbidden_multiplex = ipw.Button(\n",
    "    description='Générer',\n",
    "    disabled=False,\n",
    "    button_style='',\n",
    "    icon='refresh'\n",
    ")\n",
    "w_forbidden_multiplex = ipw.SelectMultiple(\n",
    "    options=[''],\n",
    "    value=[],\n",
    "    disabled=False,   \n",
    ")\n",
    "def fill_forbidden_multiplex(args):\n",
    "    global w_forbidden_multiplex\n",
    "    old_options = w_forbidden_multiplex.options\n",
    "    selected = w_forbidden_multiplex.value\n",
    "    max_height = w_max_height.value\n",
    "    options = []\n",
    "    for i in range(1, max_height + 1):\n",
    "        for j in range(i, max_height + 1):\n",
    "            options.append(str(i) + \", \" + str(j))\n",
    "    w_forbidden_multiplex.options = options\n",
    "    w_forbidden_multiplex.disabled = w_no_multiplex.value\n",
    "    new_selected = []\n",
    "    for s in selected:\n",
    "        i = int(s.split(', ')[0])\n",
    "        j = int(s.split(', ')[1])\n",
    "        if i <= max_height and j <= max_height:\n",
    "            new_selected.append(str(i) + ', ' + str(j))\n",
    "    w_forbidden_multiplex.value = new_selected\n",
    "    logger.debug(old_options)\n",
    "    if len(old_options) == 1:\n",
    "        w_forbidden_multiplex.selected = [\"1, 1\", \"1, 2\", \"1, 3\", \"1, 4\", \"1, 5\"]\n",
    "    out.clear_output()\n",
    "    with out:\n",
    "        display(ui)\n",
    "w_maximize = ipw.Text(\n",
    "    value='',\n",
    "    placeholder='',\n",
    "    disabled=False\n",
    ")\n",
    "w_generate_hands = ipw.Button(\n",
    "    description='Générer',\n",
    "    disabled=False,\n",
    "    button_style='',\n",
    "    icon='refresh'\n",
    ")\n",
    "hands_constraints = {}\n",
    "w_hands_constraints = ipw.Accordion([])\n",
    "def fill_hand_constraints(args):\n",
    "    global hands_constraints, w_hands_constraints\n",
    "    max_weight_old = len(hands_constraints) + 1\n",
    "    max_weight = w_max_weight.value\n",
    "    if max_weight > max_weight_old:\n",
    "        for k in range(max_weight_old + 1, max_weight + 1):\n",
    "            w_throw = ipw.BoundedIntText(value=1, min=1, max=k, step=1, disabled=False, layout=l_text)\n",
    "            w_catch = ipw.BoundedIntText(value=k, min=1, max=k, step=1, disabled=False, layout=l_text)\n",
    "            w_perm = ipw.Text(value='', placeholder='', disabled=False, layout=l_text)\n",
    "            hands_constraints[k] = {\n",
    "                'throw': w_throw,\n",
    "                'catch': w_catch,\n",
    "                'perm': w_perm,\n",
    "                'box': ipw.GridBox([\n",
    "                    ipw.Label('Lancer :'), w_throw,\n",
    "                    ipw.Label('Récupération :'), w_catch,\n",
    "                    ipw.Label('Permutations :'), w_perm\n",
    "                ], layout=ipw.Layout(grid_template_columns=\"repeat(2, 100px)\"))\n",
    "            }\n",
    "    else:\n",
    "        for k in range(max_weight + 1, max_weight_old + 1):\n",
    "            hands_constraints.pop(k)\n",
    "    w_hands_constraints = ipw.Accordion([hands_constraints[k]['box'] for k in range(2, max_weight + 1)], layout=ipw.Layout(width='300px'))\n",
    "    for k in range(2, max_weight + 1):\n",
    "        w_hands_constraints.set_title(index=k - 2, title=str(k) + \" mains\")\n",
    "    tab.children = [tab1, tab2, tab3()]\n",
    "    out.clear_output()\n",
    "    with out:\n",
    "        display(ui)\n",
    "def tab3():\n",
    "    return ipw.GridBox([\n",
    "        ipw.Label('Contraintes sur les mains :'), w_generate_hands,\n",
    "        ipw.Label(''), w_hands_constraints\n",
    "    ], layout=ipw.Layout(grid_template_columns=\"repeat(2, 210px)\"))\n",
    "tab1 = ipw.GridBox([\n",
    "    ipw.Label('Nombre de mains :'), w_nb_hands,\n",
    "    ipw.Label('Nombre maximal de balles dans une main :'), w_max_weight,\n",
    "    ipw.Label('Hauteur maximale :'), w_max_height\n",
    "], layout=ipw.Layout(grid_template_columns=\"repeat(2, 260px)\"))\n",
    "tab2 = ipw.GridBox([\n",
    "    ipw.Label('Maximiser les lancers :'), w_maximize,\n",
    "    ipw.Label('Aucun lancer multiple :'), w_no_multiplex,\n",
    "    ipw.Label('Lancers multiples interdits :'), w_generate_forbidden_multiplex,\n",
    "    ipw.VBox([\n",
    "        ipw.Label('(maintenir Ctrl pour', layout=ipw.Layout(height='20px')),\n",
    "        ipw.Label('sélectionner/désélectionner)', layout=ipw.Layout(height='20px'))]), \n",
    "    w_forbidden_multiplex\n",
    "], layout=ipw.Layout(grid_template_columns=\"repeat(2, 170px)\"))\n",
    "\n",
    "tab = ipw.Tab(layout=ipw.Layout(width='550px', margin='0px 0px 10px 0px'))\n",
    "tab.children = [tab1, tab2, tab3()]\n",
    "tab.set_title(index=0, title=\"Général\")\n",
    "tab.set_title(index=1, title=\"Lancers\")\n",
    "tab.set_title(index=2, title=\"Mains\")\n",
    "\n",
    "model = modele.Model({}, [[], []])\n",
    "play = ipywidgets.Play(\n",
    "    value=0,\n",
    "    min=0,\n",
    "    max=4000,\n",
    "    step=5,\n",
    "    interval=30,\n",
    "    description=\"Press play\",\n",
    "    disabled=False\n",
    ")\n",
    "slider = ipywidgets.IntSlider(min=0, max=4000)\n",
    "ipywidgets.jslink((play, 'value'), (slider, 'value'))\n",
    "view = modele.View(model, sides)\n",
    "slider.observe(lambda change: view.update(change['new'] / 100, change['old'] / 100), names=\"value\")\n",
    "\n",
    "w_music = ipw.Textarea(\n",
    "    value='[1 do] [2 do] [3 do] [4 re] [5 mi] [7 re] [9 do] [10 mi] [11 re] [12 re] [13 do]',\n",
    "    placeholder='',\n",
    "    description='',\n",
    "    disabled=False,\n",
    "    layout=ipw.Layout(width='475px', margin='0px 0px 10px 0px')\n",
    ")\n",
    "w_working = ipw.Label('Prêt')\n",
    "w_solve = ipw.Button(\n",
    "    description='Résoudre les contraintes',\n",
    "    disabled=False,\n",
    "    button_style='',\n",
    "    icon='check',\n",
    "    layout=ipw.Layout(width='345px')\n",
    ")\n",
    "w_simulate = ipw.Button(\n",
    "    description='Simuler',\n",
    "    disabled=True,\n",
    "    button_style='',\n",
    "    icon='check',\n",
    "    layout=ipw.Layout(width='200px')\n",
    ")\n",
    "w_step = ipw.IntText(\n",
    "    value=5,\n",
    "    disabled=False,\n",
    "    layout=l_inttext\n",
    ")\n",
    "w_sides = ipw.Text(\n",
    "    value='-1, 1',\n",
    "    placeholder='',\n",
    "    disabled=False,\n",
    "    layout=l_simulation_text\n",
    ")\n",
    "w_colors = ipw.Text(\n",
    "    value='blue, red, green, yellow, purple, cyan, magenta',\n",
    "    placeholder='',\n",
    "    disabled=False,\n",
    "    layout=l_simulation_text\n",
    ")\n",
    "w_method = ipw.RadioButtons(\n",
    "    options=['Programmation Linéaire (plus rapide, ne respecte pas les contraintes sur les mains)',\n",
    "             'Dancing Links (plus lent, respecte les contraintes sur les mains)'],\n",
    "    description='',\n",
    "    disabled=False,\n",
    "    layout={'width': 'max-content'}\n",
    ")\n",
    "\n",
    "# balls = {}\n",
    "# pattern = [[], []]\n",
    "jsol = None\n",
    "\n",
    "def ui_view(view, play, slider):\n",
    "    return ipw.HBox([\n",
    "        ipw.VBox([\n",
    "            ipw.HBox([ipw.Label('Musique :', layout=ipw.Layout(width='70px')), w_music]),\n",
    "            tab, \n",
    "            ipw.GridBox([\n",
    "                ipw.Label('Pas :'), w_step,\n",
    "                ipw.Label('Orientation des mains :'), w_sides,\n",
    "                ipw.Label('Couleurs :'), w_colors\n",
    "            ], layout=ipw.Layout(grid_template_columns='repeat(2, 150px)')),\n",
    "            w_working,\n",
    "            w_method,\n",
    "            ipw.HBox([w_solve, w_simulate])], layout=ipw.Layout(margin=\"10px\")), \n",
    "        ipywidgets.VBox([view.widget, ipywidgets.HBox([play, slider])], layout=ipw.Layout(margin=\"10px\"))\n",
    "    ])\n",
    "\n",
    "def solve(args):\n",
    "    global jsol\n",
    "    \n",
    "    if w_working.value != \"Prêt\":\n",
    "        return\n",
    "    \n",
    "    music = []\n",
    "    for s in w_music.value.split('] ['):\n",
    "        s1 = s.strip()\n",
    "        if s1[0] == '[':\n",
    "            s1 = s1[1:]\n",
    "        elif s1[-1] == ']':\n",
    "            s1 = s1[:-1]\n",
    "        p = s1.split(' ')\n",
    "        for i in range(1, len(p)):\n",
    "            music.append((int(p[0]), p[i]))\n",
    "\n",
    "    nb_hands = w_nb_hands.value\n",
    "    max_height = w_max_height.value\n",
    "    max_weight = w_max_weight.value\n",
    "    forbidden_multiplex = []\n",
    "    for s in w_forbidden_multiplex.value:\n",
    "        i = int(s.split(', ')[0])\n",
    "        j = int(s.split(', ')[1])\n",
    "        forbidden_multiplex.append((i, j))\n",
    "    maximize = [int(s) for s in w_maximize.value.split(' ')]\n",
    "    method = 'DLX' if w_method.value.startswith('Dancing Links') else 'MILP'\n",
    "    optimize = w_maximize.value != \"\"\n",
    "    \n",
    "    w_working.value = \"En cours...\"\n",
    "    \n",
    "    balls, throws = music_to_throws(music)\n",
    "    \n",
    "    ec_instance = throws_to_extended_exact_cover(balls, throws, nb_hands, max_height, max_weight,\n",
    "                                                 forbidden_multiplex, True)\n",
    "    sol = None\n",
    "    if method == \"DLX\":\n",
    "        sol = get_solution_with_dlx(ec_instance, maximize=maximize)\n",
    "    elif method == \"MILP\":\n",
    "        sol = solve_exact_cover_with_milp(ec_instance, optimize=optimize, maximize=maximize)\n",
    "    if len(sol) == 0:\n",
    "        raise RuntimeError(\"No solution.\")\n",
    "    jsol = exact_cover_solution_to_juggling_solution(sol)\n",
    "    \n",
    "    w_working.value = \"Prêt\"\n",
    "    w_simulate.disabled = False\n",
    "\n",
    "def simulate(args):\n",
    "    colors = w_colors.value.split(', ')\n",
    "    sides = [int(x) for x in w_sides.value.split(', ')]\n",
    "    step = w_step.value\n",
    "    \n",
    "    balls, pattern = juggling_sol_to_simulator(jsol, colors)\n",
    "    model = modele.Model(balls, pattern)\n",
    "    play = ipywidgets.Play(\n",
    "        value=0,\n",
    "        min=0,\n",
    "        max=4000,\n",
    "        step=step,\n",
    "        interval=30,\n",
    "        description=\"Press play\",\n",
    "        disabled=False\n",
    "    )\n",
    "    slider = ipywidgets.IntSlider(min=0, max=4000)\n",
    "    ipywidgets.jslink((play, 'value'), (slider, 'value'))\n",
    "    view = modele.View(model, sides, out)\n",
    "    slider.observe(lambda change: view.update(change['new'] / 100, change['old'] / 100), names=\"value\")\n",
    "    with out:\n",
    "        out.clear_output()\n",
    "        display(ui_view(view, play, slider))\n",
    "    \n",
    "\n",
    "w_generate_forbidden_multiplex.on_click(fill_forbidden_multiplex)\n",
    "w_generate_hands.on_click(fill_hand_constraints)\n",
    "w_solve.on_click(solve)\n",
    "w_simulate.on_click(simulate)\n",
    "\n",
    "ui = ui_view(view, play, slider)\n",
    "\n",
    "with out:\n",
    "    display(ui)\n",
    "out"
   ]
  },
  {
   "cell_type": "markdown",
   "id": "07ccffb6-7a2b-4c3b-a084-7c7be8a5c43f",
   "metadata": {},
   "source": [
    "- [x] widget couleurs\n",
    "- [x] widget music\n",
    "- [x] widget sides\n",
    "- [x] widget selection de la méthode\n",
    "- [x] lire le widget maximize et paramètrer la méthode MILP\n",
    "- [x] corriger le codage des multiplex interdits\n",
    "- [x] widget step\n",
    "- [ ] mécanisme de sauvegarde d'une séquence trouvée\n",
    "- [ ] interdiction d'une hauteur de lancer\n",
    "- [ ] lancers interdits par initialement"
   ]
  },
  {
   "cell_type": "code",
   "execution_count": null,
   "id": "bfbee770-7492-4089-bb43-38c93ea955e0",
   "metadata": {},
   "outputs": [],
   "source": []
  },
  {
   "cell_type": "markdown",
   "id": "b4d344f7-35ec-4ae2-a171-5c56882c3161",
   "metadata": {},
   "source": [
    "# Musique à jouer"
   ]
  },
  {
   "cell_type": "code",
   "execution_count": 8,
   "id": "60e1c3cb-ad78-463b-b2c1-254a3370a44a",
   "metadata": {},
   "outputs": [],
   "source": [
    "# Au clair de la lune\n",
    "music = [( 1, \"do\"), ( 2, \"do\"), ( 3, \"do\"), \n",
    "         ( 4, \"re\"), ( 5, \"mi\"), ( 7, \"re\"), \n",
    "         ( 9, \"do\"), (10, \"mi\"), (11, \"re\"),\n",
    "         (12, \"re\"), (13, \"do\")]"
   ]
  },
  {
   "cell_type": "code",
   "execution_count": 10,
   "id": "cbfeae9a",
   "metadata": {},
   "outputs": [],
   "source": [
    "music = [(1, \"re5\"), (2, \"do5\"), (3, \"re5\"), (4, \"do5\"),\n",
    "         (5, \"re5\"), (7, \"do5\"), (9, \"mi5\"),\n",
    "         (11, \"re5\"), (12, \"fa5\"), (13, \"la5\"), (14, \"re6\"), (15, \"fa6\")]"
   ]
  },
  {
   "cell_type": "code",
   "execution_count": 11,
   "id": "fb023abd-5cbd-4e38-a39d-48a1e35781e8",
   "metadata": {},
   "outputs": [],
   "source": [
    "# Frères jacques\n",
    "music = [( 1, \"fa4\"), ( 2, \"sol4\"), ( 3, \"la4\"), ( 4, \"fa4\"),\n",
    "         ( 5, \"fa4\"), ( 6, \"sol4\"), ( 7, \"la4\"), ( 8, \"fa4\"),\n",
    "         ( 9, \"la4\"), (10, \"la#4\"), (11, \"do5\"),\n",
    "         (13, \"la4\"), (14, \"la#4\"), (15, \"do5\")]"
   ]
  },
  {
   "cell_type": "code",
   "execution_count": 12,
   "id": "2a27bafb-2ba8-428f-b65f-c19569037544",
   "metadata": {},
   "outputs": [],
   "source": [
    "# In the hall of the moutain king\n",
    "music = [( 1, \"la3\"), ( 2, \"si3\"), ( 3, \"do4\"), ( 4, \"re4\"),\n",
    "         ( 5, \"mi4\"), ( 6, \"do4\"), ( 7, \"mi4\"),\n",
    "         ( 9, \"re#4\"), (10, \"si3\"), (11, \"re#4\"),\n",
    "         (13, \"re4\"), (14, \"la#3\"), (15, \"re4\")]"
   ]
  },
  {
   "cell_type": "code",
   "execution_count": 13,
   "id": "270f11ed-4a4c-4152-81e9-a545653d3551",
   "metadata": {},
   "outputs": [],
   "source": [
    "# Tetris\n",
    "music = [(1, \"mi5\"), \n",
    "         (3, \"si4\"), (4, \"do5\"), (5, \"re5\"),\n",
    "         (7, \"do5\"), (8, \"si4\"), (9, \"la4\"), \n",
    "         (11, \"la4\"), (12, \"do5\"), (13, \"mi5\"),\n",
    "         (15, \"re5\"), (16, \"do5\"), (17, \"si4\"),\n",
    "         (20, \"do5\"), (21, \"re5\"), (23, \"mi5\"),\n",
    "         (25, \"do5\"), (27, \"la4\"), (29, \"la4\")]"
   ]
  },
  {
   "cell_type": "markdown",
   "id": "55335529-f4ca-44df-afd0-e38929e3f6fe",
   "metadata": {},
   "source": [
    "# Contraintes"
   ]
  },
  {
   "cell_type": "code",
   "execution_count": 13,
   "id": "1b0becbc-6d95-4ebe-a28d-c5efcd1e1b40",
   "metadata": {},
   "outputs": [],
   "source": [
    "nb_hands = 2\n",
    "max_height = 5\n",
    "max_weight = 3\n",
    "# forbidden_multiplex = [(1, 2), (1, 3), (1, 4), (2, )]\n",
    "forbidden_multiplex = [(1, 1)]\n",
    "multiple_throws = True"
   ]
  },
  {
   "cell_type": "markdown",
   "id": "9bf25e61-2efc-4a0e-a729-c07beadf7f1b",
   "metadata": {},
   "source": [
    "# Algorithme"
   ]
  },
  {
   "cell_type": "code",
   "execution_count": 14,
   "id": "dfc5fbaf-2b4d-457b-bd4a-e58c7f7fec84",
   "metadata": {},
   "outputs": [],
   "source": [
    "balls, throws = music_to_throws(music)"
   ]
  },
  {
   "cell_type": "code",
   "execution_count": 21,
   "id": "596435c3-3a70-4476-8308-6e5ca7e9c87a",
   "metadata": {
    "scrolled": true
   },
   "outputs": [],
   "source": [
    "ec_instance = throws_to_extended_exact_cover(balls, throws, nb_hands, max_height, max_weight,\n",
    "                                             forbidden_multiplex, multiple_throws)"
   ]
  },
  {
   "cell_type": "code",
   "execution_count": 22,
   "id": "8f6796d6-a0f2-4804-8b32-583c31549695",
   "metadata": {},
   "outputs": [],
   "source": [
    "# ec_instance.rows"
   ]
  },
  {
   "cell_type": "code",
   "execution_count": 23,
   "id": "f17904ec-4afe-4669-ac5d-c986034fa35b",
   "metadata": {},
   "outputs": [
    {
     "name": "stdout",
     "output_type": "stream",
     "text": [
      "  {}   {'mi', 'do', 're'} : do -- 1 --> 0\n",
      "                            re -- 4 --> 1\n",
      "{'do'}       {'mi'}       : mi -- 4 --> 1\n",
      "                            do -- 1 --> 1\n",
      "  {}         {'do'}       : do -- 1 --> 0\n",
      "{'do'}         {}         : \n",
      "{'do'}       {'re'}       : re -- 3 --> 0\n",
      "{'do'}       {'mi'}       : \n",
      "{'do'}       {'mi'}       : do -- 3 --> 0\n",
      "                            mi -- 4 --> 1\n",
      "{'re'}         {}         : re -- 4 --> 0\n",
      "  {}           {}         : \n",
      "{'do'}         {}         : \n",
      "{'do'}       {'mi'}       : do -- 3 --> 1\n",
      "{'re'}       {'mi'}       : re -- 1 --> 1\n",
      "  {}      {'mi', 're'}    : \n"
     ]
    }
   ],
   "source": [
    "# voir si possibilité de redéfinition\n",
    "sol = solve_and_print(music, nb_hands, max_height, max_weight, forbidden_multiplex, method=\"MILP\", maximize=[3, 4])"
   ]
  },
  {
   "cell_type": "code",
   "execution_count": 18,
   "id": "12bc04a9-25eb-4b2f-8f64-7064e261b925",
   "metadata": {},
   "outputs": [
    {
     "data": {
      "application/vnd.jupyter.widget-view+json": {
       "model_id": "1c0d64a0e085478cb9e688ae1c6d4419",
       "version_major": 2,
       "version_minor": 0
      },
      "text/plain": [
       "JSProxyWidget(status='deferring flush until render')"
      ]
     },
     "metadata": {},
     "output_type": "display_data"
    },
    {
     "data": {
      "application/vnd.jupyter.widget-view+json": {
       "model_id": "c054e9bed76f42a490a4e3e14c990c69",
       "version_major": 2,
       "version_minor": 0
      },
      "text/plain": [
       "JSProxyWidget(status='deferring flush until render')"
      ]
     },
     "metadata": {},
     "output_type": "display_data"
    },
    {
     "data": {
      "application/vnd.jupyter.widget-view+json": {
       "model_id": "1738e8a9ae2347ccbc0dd4207512d793",
       "version_major": 2,
       "version_minor": 0
      },
      "text/plain": [
       "JSProxyWidget(status='deferring flush until render')"
      ]
     },
     "metadata": {},
     "output_type": "display_data"
    },
    {
     "data": {
      "application/vnd.jupyter.widget-view+json": {
       "model_id": "4f50316e8d7f4aea89b073c01872f6ad",
       "version_major": 2,
       "version_minor": 0
      },
      "text/plain": [
       "VBox(children=(Renderer(camera=PerspectiveCamera(position=(0.0, 0.0, -100.0), projectionMatrix=(1.0, 0.0, 0.0,…"
      ]
     },
     "metadata": {},
     "output_type": "display_data"
    }
   ],
   "source": [
    "solve_and_simulate(music, nb_hands, max_height, max_weight, forbidden_multiplex, colors, sides, method=\"DLX\", step=5)"
   ]
  },
  {
   "cell_type": "markdown",
   "id": "cbee196a-f053-48ec-bf66-dbf5db9a8cfe",
   "metadata": {},
   "source": [
    "## Résolution avec Exact Cover"
   ]
  },
  {
   "cell_type": "code",
   "execution_count": 9,
   "id": "4cc4404b-4f22-425a-ab75-89c7493b48cf",
   "metadata": {},
   "outputs": [],
   "source": [
    "sol1 = get_solution_with_dlx(ec_instance)"
   ]
  },
  {
   "cell_type": "code",
   "execution_count": 10,
   "id": "e93bad29-3e49-4172-863c-fefa6466c316",
   "metadata": {},
   "outputs": [
    {
     "data": {
      "text/plain": [
       "11"
      ]
     },
     "execution_count": 10,
     "metadata": {},
     "output_type": "execute_result"
    }
   ],
   "source": [
    "len(sol1.rows)"
   ]
  },
  {
   "cell_type": "code",
   "execution_count": 11,
   "id": "a64d9277-962f-40f1-b66c-cf2107aaeb57",
   "metadata": {},
   "outputs": [
    {
     "name": "stdout",
     "output_type": "stream",
     "text": [
      "{'re', 'do', 'mi'}         {}         : do -- 1 --> 1\n",
      "   {'re', 'mi'}          {'do'}       : do -- 1 --> 0\n",
      "{'re', 'do', 'mi'}         {}         : do -- 1 --> 1\n",
      "   {'re', 'mi'}          {'do'}       : re -- 1 --> 1\n",
      "      {'mi'}          {'re', 'do'}    : mi -- 1 --> 1\n",
      "        {}         {'re', 'do', 'mi'} : \n",
      "        {}         {'re', 'do', 'mi'} : re -- 1 --> 0\n",
      "      {'re'}          {'do', 'mi'}    : \n",
      "      {'re'}          {'do', 'mi'}    : do -- 1 --> 0\n",
      "   {'re', 'do'}          {'mi'}       : mi -- 1 --> ?\n",
      "   {'re', 'do'}            {}         : re -- 1 --> 1\n",
      "      {'do'}             {'re'}       : re -- 1 --> ?\n",
      "      {'do'}               {}         : do -- 1 --> ?\n"
     ]
    }
   ],
   "source": [
    "print_juggling(sol1)"
   ]
  },
  {
   "cell_type": "code",
   "execution_count": 12,
   "id": "67def512-c94a-43e6-8c69-2e46006abf50",
   "metadata": {},
   "outputs": [
    {
     "data": {
      "application/vnd.jupyter.widget-view+json": {
       "model_id": "3d44d5ebe1914a52845d2676d13e5d5a",
       "version_major": 2,
       "version_minor": 0
      },
      "text/plain": [
       "JSProxyWidget(status='deferring flush until render')"
      ]
     },
     "metadata": {},
     "output_type": "display_data"
    },
    {
     "data": {
      "application/vnd.jupyter.widget-view+json": {
       "model_id": "24a03f54a985449181e1733b6aa3b7fa",
       "version_major": 2,
       "version_minor": 0
      },
      "text/plain": [
       "JSProxyWidget(status='deferring flush until render')"
      ]
     },
     "metadata": {},
     "output_type": "display_data"
    },
    {
     "data": {
      "application/vnd.jupyter.widget-view+json": {
       "model_id": "749e543b6af54c8dace56d1b11340107",
       "version_major": 2,
       "version_minor": 0
      },
      "text/plain": [
       "JSProxyWidget(status='deferring flush until render')"
      ]
     },
     "metadata": {},
     "output_type": "display_data"
    },
    {
     "data": {
      "application/vnd.jupyter.widget-view+json": {
       "model_id": "49ed8d9ec47c4e5ea431bc8e11b5629f",
       "version_major": 2,
       "version_minor": 0
      },
      "text/plain": [
       "VBox(children=(Renderer(camera=PerspectiveCamera(position=(0.0, 0.0, -100.0), projectionMatrix=(1.0, 0.0, 0.0,…"
      ]
     },
     "metadata": {},
     "output_type": "display_data"
    }
   ],
   "source": [
    "balls1, pattern1 = juggling_sol_to_simulator(sol1, colors)\n",
    "\n",
    "sides1 = [-1, 1, 1]\n",
    "\n",
    "model1 = modele.Model(balls1, pattern1)\n",
    "slider1 = ipywidgets.FloatSlider(min=0, max=40, step=0.05)\n",
    "view1 = modele.View(model1, sides1)\n",
    "slider1.observe(lambda change: view1.update(change['new'], change['old']), names=\"value\")\n",
    "ipywidgets.VBox([view1.widget,slider1])"
   ]
  },
  {
   "cell_type": "markdown",
   "id": "125046e8-f266-4c98-9107-113fae6e9e2f",
   "metadata": {},
   "source": [
    "## Résolution avec MILP"
   ]
  },
  {
   "cell_type": "code",
   "execution_count": 9,
   "id": "b7dd155c-9ae2-4e64-80d5-9304e11ac526",
   "metadata": {},
   "outputs": [],
   "source": [
    "sol2 = solve_exact_cover_with_milp(ec_instance, True)"
   ]
  },
  {
   "cell_type": "code",
   "execution_count": 10,
   "id": "06fbc5b6-f859-4d38-b5a8-0b6734e71e94",
   "metadata": {},
   "outputs": [
    {
     "data": {
      "text/plain": [
       "11"
      ]
     },
     "execution_count": 10,
     "metadata": {},
     "output_type": "execute_result"
    }
   ],
   "source": [
    "len(sol2.rows)"
   ]
  },
  {
   "cell_type": "code",
   "execution_count": 11,
   "id": "3f4d4e62-901a-4ffb-ada9-d8ba2195bfa2",
   "metadata": {},
   "outputs": [
    {
     "name": "stdout",
     "output_type": "stream",
     "text": [
      "{'mi', 're', 'do'}      {}      : do -- 1 --> 1\n",
      "   {'mi', 're'}       {'do'}    : re -- 3 --> 1\n",
      "                                  mi -- 4 --> 1\n",
      "                                  do -- 1 --> 0\n",
      "      {'do'}            {}      : do -- 1 --> 1\n",
      "        {}            {'do'}    : \n",
      "        {}         {'re', 'do'} : re -- 3 --> 0\n",
      "        {}         {'mi', 'do'} : \n",
      "        {}         {'mi', 'do'} : do -- 3 --> 0\n",
      "      {'re'}          {'mi'}    : mi -- 3 --> ?\n",
      "      {'re'}            {}      : re -- 3 --> 1\n",
      "      {'do'}            {}      : \n",
      "      {'do'}            {}      : do -- 3 --> ?\n",
      "        {}            {'re'}    : re -- 1 --> ?\n",
      "        {}              {}      : \n"
     ]
    }
   ],
   "source": [
    "print_juggling(sol2)"
   ]
  },
  {
   "cell_type": "code",
   "execution_count": 12,
   "id": "5ddaf5a5-dc08-46cd-b784-979ca7af9d99",
   "metadata": {},
   "outputs": [
    {
     "data": {
      "application/vnd.jupyter.widget-view+json": {
       "model_id": "ad9ff3821eea4b9393e9b4327130edc8",
       "version_major": 2,
       "version_minor": 0
      },
      "text/plain": [
       "JSProxyWidget(status='deferring flush until render')"
      ]
     },
     "metadata": {},
     "output_type": "display_data"
    },
    {
     "data": {
      "application/vnd.jupyter.widget-view+json": {
       "model_id": "af8b0826e219486fbdaebc9530806ab2",
       "version_major": 2,
       "version_minor": 0
      },
      "text/plain": [
       "JSProxyWidget(status='deferring flush until render')"
      ]
     },
     "metadata": {},
     "output_type": "display_data"
    },
    {
     "data": {
      "application/vnd.jupyter.widget-view+json": {
       "model_id": "de14472e4e90484da78d13dde8b10f43",
       "version_major": 2,
       "version_minor": 0
      },
      "text/plain": [
       "JSProxyWidget(status='deferring flush until render')"
      ]
     },
     "metadata": {},
     "output_type": "display_data"
    },
    {
     "data": {
      "application/vnd.jupyter.widget-view+json": {
       "model_id": "2dab7cabd1da4516b6568e05edeaf8f7",
       "version_major": 2,
       "version_minor": 0
      },
      "text/plain": [
       "VBox(children=(Renderer(camera=PerspectiveCamera(position=(0.0, 0.0, -100.0), projectionMatrix=(1.0, 0.0, 0.0,…"
      ]
     },
     "metadata": {},
     "output_type": "display_data"
    }
   ],
   "source": [
    "balls2, pattern2 = juggling_sol_to_simulator(sol2, colors)\n",
    "\n",
    "sides2 = [-1, 1, 1]\n",
    "\n",
    "model2 = modele.Model(balls2, pattern2)\n",
    "slider2 = ipywidgets.FloatSlider(min=0, max=40, step=0.05)\n",
    "view2 = modele.View(model2, sides2)\n",
    "slider2.observe(lambda change: view2.update(change['new'], change['old']), names=\"value\")\n",
    "ipywidgets.VBox([view2.widget,slider2])"
   ]
  },
  {
   "cell_type": "markdown",
   "id": "31101e74-a001-43f5-96c0-c0f0a4926482",
   "metadata": {},
   "source": [
    "## Fonctions tout en un"
   ]
  },
  {
   "cell_type": "code",
   "execution_count": 7,
   "id": "7966cb40-adc5-4eed-855f-b7838abd4326",
   "metadata": {},
   "outputs": [
    {
     "data": {
      "application/vnd.jupyter.widget-view+json": {
       "model_id": "1ace0409b2b9483db0bb3db3e079503f",
       "version_major": 2,
       "version_minor": 0
      },
      "text/plain": [
       "JSProxyWidget(status='deferring flush until render')"
      ]
     },
     "metadata": {},
     "output_type": "display_data"
    },
    {
     "data": {
      "application/vnd.jupyter.widget-view+json": {
       "model_id": "577fb5449a5b4f29b578c2416d4dd899",
       "version_major": 2,
       "version_minor": 0
      },
      "text/plain": [
       "JSProxyWidget(status='deferring flush until render')"
      ]
     },
     "metadata": {},
     "output_type": "display_data"
    },
    {
     "data": {
      "application/vnd.jupyter.widget-view+json": {
       "model_id": "0cce5e616b574845af60175d6dd45a74",
       "version_major": 2,
       "version_minor": 0
      },
      "text/plain": [
       "JSProxyWidget(status='deferring flush until render')"
      ]
     },
     "metadata": {},
     "output_type": "display_data"
    },
    {
     "data": {
      "application/vnd.jupyter.widget-view+json": {
       "model_id": "d20cea449d674f1f8ac82ab07684eefd",
       "version_major": 2,
       "version_minor": 0
      },
      "text/plain": [
       "VBox(children=(Renderer(camera=PerspectiveCamera(position=(0.0, 0.0, -100.0), projectionMatrix=(1.0, 0.0, 0.0,…"
      ]
     },
     "metadata": {},
     "output_type": "display_data"
    }
   ],
   "source": [
    "solve_and_simulate(music, nb_hands, max_height, max_weight, forbidden_multiplex, colors, sides, method=\"DLX\")"
   ]
  },
  {
   "cell_type": "code",
   "execution_count": 8,
   "id": "6f57de74-d696-4c1e-b70d-4cce9524259d",
   "metadata": {},
   "outputs": [
    {
     "data": {
      "application/vnd.jupyter.widget-view+json": {
       "model_id": "a88594749ff34d1e9c16b077436fd129",
       "version_major": 2,
       "version_minor": 0
      },
      "text/plain": [
       "JSProxyWidget(status='deferring flush until render')"
      ]
     },
     "metadata": {},
     "output_type": "display_data"
    },
    {
     "data": {
      "application/vnd.jupyter.widget-view+json": {
       "model_id": "0f9bf531a00f45c2a9c2c53309c81ae6",
       "version_major": 2,
       "version_minor": 0
      },
      "text/plain": [
       "JSProxyWidget(status='deferring flush until render')"
      ]
     },
     "metadata": {},
     "output_type": "display_data"
    },
    {
     "data": {
      "application/vnd.jupyter.widget-view+json": {
       "model_id": "865a33804b2b4915bd36baa2546d1f1a",
       "version_major": 2,
       "version_minor": 0
      },
      "text/plain": [
       "JSProxyWidget(status='deferring flush until render')"
      ]
     },
     "metadata": {},
     "output_type": "display_data"
    },
    {
     "data": {
      "application/vnd.jupyter.widget-view+json": {
       "model_id": "8d2517e99edb44da82c02a87991a76a3",
       "version_major": 2,
       "version_minor": 0
      },
      "text/plain": [
       "VBox(children=(Renderer(camera=PerspectiveCamera(position=(0.0, 0.0, -100.0), projectionMatrix=(1.0, 0.0, 0.0,…"
      ]
     },
     "metadata": {},
     "output_type": "display_data"
    }
   ],
   "source": [
    "solve_and_simulate(music, nb_hands, max_height, max_weight, forbidden_multiplex, colors, sides, method=\"MILP\")"
   ]
  },
  {
   "cell_type": "code",
   "execution_count": 19,
   "id": "1e8209da-6887-447a-8e48-f033d2a6fdd8",
   "metadata": {},
   "outputs": [
    {
     "name": "stdout",
     "output_type": "stream",
     "text": [
      "{'re', 'do', 'mi'}         {}         : do -- 1 --> 1\n",
      "   {'re', 'mi'}          {'do'}       : do -- 1 --> 0\n",
      "{'re', 'do', 'mi'}         {}         : do -- 1 --> 1\n",
      "   {'re', 'mi'}          {'do'}       : re -- 1 --> 1\n",
      "      {'mi'}          {'re', 'do'}    : mi -- 1 --> 1\n",
      "        {}         {'re', 'do', 'mi'} : \n",
      "        {}         {'re', 'do', 'mi'} : re -- 1 --> 0\n",
      "      {'re'}          {'do', 'mi'}    : \n",
      "      {'re'}          {'do', 'mi'}    : do -- 1 --> 0\n",
      "   {'re', 'do'}          {'mi'}       : mi -- 1 --> ?\n",
      "   {'re', 'do'}            {}         : re -- 1 --> 1\n",
      "      {'do'}             {'re'}       : re -- 1 --> ?\n",
      "      {'do'}               {}         : do -- 1 --> ?\n"
     ]
    }
   ],
   "source": [
    "solve_and_print(music, nb_hands, max_height, max_weight, forbidden_multiplex, method=\"DLX\")"
   ]
  },
  {
   "cell_type": "code",
   "execution_count": 20,
   "id": "de3c0399-ad41-48d2-b810-6af0df3c2527",
   "metadata": {},
   "outputs": [
    {
     "name": "stdout",
     "output_type": "stream",
     "text": [
      "{'re', 'do', 'mi'}      {}      : do -- 1 --> 1\n",
      "   {'re', 'mi'}       {'do'}    : re -- 3 --> 1\n",
      "                                  mi -- 4 --> 1\n",
      "                                  do -- 1 --> 0\n",
      "      {'do'}            {}      : do -- 1 --> 1\n",
      "        {}            {'do'}    : \n",
      "        {}         {'re', 'do'} : re -- 3 --> 0\n",
      "        {}         {'do', 'mi'} : \n",
      "        {}         {'do', 'mi'} : do -- 3 --> 0\n",
      "      {'re'}          {'mi'}    : mi -- 3 --> ?\n",
      "      {'re'}            {}      : re -- 3 --> 1\n",
      "      {'do'}            {}      : \n",
      "      {'do'}            {}      : do -- 3 --> ?\n",
      "        {}            {'re'}    : re -- 1 --> ?\n",
      "        {}              {}      : \n"
     ]
    }
   ],
   "source": [
    "solve_and_print(music, nb_hands, max_height, max_weight, forbidden_multiplex, method=\"MILP\")"
   ]
  }
 ],
 "metadata": {
  "kernelspec": {
   "display_name": "Python 3",
   "language": "python",
   "name": "python3"
  },
  "language_info": {
   "codemirror_mode": {
    "name": "ipython",
    "version": 3
   },
   "file_extension": ".py",
   "mimetype": "text/x-python",
   "name": "python",
   "nbconvert_exporter": "python",
   "pygments_lexer": "ipython3",
   "version": "3.9.4"
  }
 },
 "nbformat": 4,
 "nbformat_minor": 5
}
