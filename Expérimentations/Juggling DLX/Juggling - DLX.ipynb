{
 "cells": [
  {
   "cell_type": "code",
   "execution_count": 1,
   "id": "92beacbb-26ae-4652-9ff3-307db0805aee",
   "metadata": {},
   "outputs": [],
   "source": [
    "import time"
   ]
  },
  {
   "cell_type": "code",
   "execution_count": 2,
   "id": "64db8b74-5ef6-4506-9d67-cd0e9c3a93f4",
   "metadata": {},
   "outputs": [
    {
     "name": "stderr",
     "output_type": "stream",
     "text": [
      "/home/josue/Documents/git/Jugglyng1/Expérimentations/Juggling DLX/DLX/dlxm.py:69: RuntimeWarning: class \"DLX_M::AbstrItem\" has no virtual destructor\n",
      "  class ConcItem(_AbstrItem):\n"
     ]
    }
   ],
   "source": [
    "from juggling_dlx_milp import *"
   ]
  },
  {
   "cell_type": "markdown",
   "id": "b4d344f7-35ec-4ae2-a171-5c56882c3161",
   "metadata": {},
   "source": [
    "### Musique à jouer"
   ]
  },
  {
   "cell_type": "code",
   "execution_count": 11,
   "id": "60e1c3cb-ad78-463b-b2c1-254a3370a44a",
   "metadata": {},
   "outputs": [],
   "source": [
    "music = [( 1, \"do\"), ( 2, \"do\"), ( 3, \"do\"), \n",
    "         ( 4, \"re\"), ( 5, \"mi\"), ( 7, \"re\"), \n",
    "         ( 9, \"do\"), (10, \"mi\"), (11, \"re\"),\n",
    "         (12, \"re\"), (13, \"do\")]"
   ]
  },
  {
   "cell_type": "code",
   "execution_count": 4,
   "id": "cbfeae9a",
   "metadata": {},
   "outputs": [],
   "source": [
    "music = [(1, \"re5\"), (2, \"do5\"), (3, \"re5\"), (4, \"do5\"),\n",
    "         (5, \"re5\"), (7, \"do5\"), (9, \"mi5\"),\n",
    "         (11, \"re5\"), (12, \"fa5\"), (13, \"la5\"), (14, \"re6\"), (15, \"fa6\")]"
   ]
  },
  {
   "cell_type": "code",
   "execution_count": 5,
   "id": "63c5f2b3-9be4-4f7a-81fb-65b866311a8d",
   "metadata": {},
   "outputs": [],
   "source": [
    "music = [( 1, \"do\"), ( 2, \"do\")]"
   ]
  },
  {
   "cell_type": "markdown",
   "id": "55335529-f4ca-44df-afd0-e38929e3f6fe",
   "metadata": {},
   "source": [
    "### Contraintes"
   ]
  },
  {
   "cell_type": "code",
   "execution_count": 12,
   "id": "1b0becbc-6d95-4ebe-a28d-c5efcd1e1b40",
   "metadata": {},
   "outputs": [],
   "source": [
    "nb_hands = 2\n",
    "max_height = 5\n",
    "max_weight = 3\n",
    "forbidden_multiplex = [(1, 2), (1, 3), (1, 4), (2, )]\n",
    "multiple_throws = True"
   ]
  },
  {
   "cell_type": "markdown",
   "id": "9bf25e61-2efc-4a0e-a729-c07beadf7f1b",
   "metadata": {},
   "source": [
    "### Algorithme"
   ]
  },
  {
   "cell_type": "code",
   "execution_count": 13,
   "id": "dfc5fbaf-2b4d-457b-bd4a-e58c7f7fec84",
   "metadata": {},
   "outputs": [],
   "source": [
    "balls, throws = music_to_throws(music)"
   ]
  },
  {
   "cell_type": "code",
   "execution_count": 14,
   "id": "596435c3-3a70-4476-8308-6e5ca7e9c87a",
   "metadata": {
    "scrolled": true
   },
   "outputs": [],
   "source": [
    "ec_instance = throws_to_extended_exact_cover(balls, throws, nb_hands, max_height, max_weight,\n",
    "                                             forbidden_multiplex, [], multiple_throws)"
   ]
  },
  {
   "cell_type": "code",
   "execution_count": 15,
   "id": "4cc4404b-4f22-425a-ab75-89c7493b48cf",
   "metadata": {},
   "outputs": [],
   "source": [
    "sol = get_solution_with_dlx(ec_instance)"
   ]
  },
  {
   "cell_type": "code",
   "execution_count": 16,
   "id": "e93bad29-3e49-4172-863c-fefa6466c316",
   "metadata": {},
   "outputs": [
    {
     "data": {
      "text/plain": [
       "11"
      ]
     },
     "execution_count": 16,
     "metadata": {},
     "output_type": "execute_result"
    }
   ],
   "source": [
    "len(sol.rows)"
   ]
  },
  {
   "cell_type": "code",
   "execution_count": 17,
   "id": "a64d9277-962f-40f1-b66c-cf2107aaeb57",
   "metadata": {},
   "outputs": [
    {
     "name": "stdout",
     "output_type": "stream",
     "text": [
      "{'do', 'mi', 're'}         {}         : do -- 1 --> 1\n",
      "   {'mi', 're'}          {'do'}       : do -- 1 --> 0\n",
      "{'do', 'mi', 're'}         {}         : do -- 1 --> 1\n",
      "   {'mi', 're'}          {'do'}       : re -- 1 --> 1\n",
      "      {'mi'}          {'do', 're'}    : mi -- 1 --> 1\n",
      "        {}         {'do', 'mi', 're'} : \n",
      "        {}         {'do', 'mi', 're'} : re -- 1 --> 0\n",
      "      {'re'}          {'do', 'mi'}    : \n",
      "      {'re'}          {'do', 'mi'}    : do -- 1 --> 0\n",
      "   {'do', 're'}          {'mi'}       : mi -- 1 --> ?\n",
      "   {'do', 're'}            {}         : re -- 1 --> 1\n",
      "      {'do'}             {'re'}       : re -- 1 --> ?\n",
      "      {'do'}               {}         : do -- 1 --> ?\n"
     ]
    }
   ],
   "source": [
    "print_juggling(sol)"
   ]
  },
  {
   "cell_type": "code",
   "execution_count": 10,
   "id": "67def512-c94a-43e6-8c69-2e46006abf50",
   "metadata": {},
   "outputs": [
    {
     "name": "stderr",
     "output_type": "stream",
     "text": [
      "/home/josue/.local/lib/python3.9/site-packages/jp_proxy_widget/proxy_widget.py:174: DeprecationWarning: metadata {'sync': True} was set from the constructor. With traitlets 4.1, metadata should be set using the .tag() method, e.g., Int().tag(key1='value1', key2='value2')\n",
      "  rendered = traitlets.Bool(False, sync=True)\n",
      "/home/josue/.local/lib/python3.9/site-packages/jp_proxy_widget/proxy_widget.py:1481: DeprecationWarning: `np.float` is a deprecated alias for the builtin `float`. To silence this warning, use `float` by itself. Doing this will not modify any behavior and is safe. If you specifically wanted the numpy scalar type, use `np.float64` here.\n",
      "Deprecated in NumPy 1.20; for more details and guidance: https://numpy.org/devdocs/release/1.20.0-notes.html#deprecations\n",
      "  if hasattr(np, type_name):\n",
      "/home/josue/.local/lib/python3.9/site-packages/jp_proxy_widget/proxy_widget.py:1482: DeprecationWarning: `np.float` is a deprecated alias for the builtin `float`. To silence this warning, use `float` by itself. Doing this will not modify any behavior and is safe. If you specifically wanted the numpy scalar type, use `np.float64` here.\n",
      "Deprecated in NumPy 1.20; for more details and guidance: https://numpy.org/devdocs/release/1.20.0-notes.html#deprecations\n",
      "  ty = getattr(np, type_name)\n",
      "/home/josue/.local/lib/python3.9/site-packages/jp_proxy_widget/proxy_widget.py:1485: DeprecationWarning: `np.int` is a deprecated alias for the builtin `int`. To silence this warning, use `int` by itself. Doing this will not modify any behavior and is safe. When replacing `np.int`, you may wish to use e.g. `np.int64` or `np.int32` to specify the precision. If you wish to review your current use, check the release note link for additional information.\n",
      "Deprecated in NumPy 1.20; for more details and guidance: https://numpy.org/devdocs/release/1.20.0-notes.html#deprecations\n",
      "  if hasattr(np, type_name):\n",
      "/home/josue/.local/lib/python3.9/site-packages/jp_proxy_widget/proxy_widget.py:1486: DeprecationWarning: `np.int` is a deprecated alias for the builtin `int`. To silence this warning, use `int` by itself. Doing this will not modify any behavior and is safe. When replacing `np.int`, you may wish to use e.g. `np.int64` or `np.int32` to specify the precision. If you wish to review your current use, check the release note link for additional information.\n",
      "Deprecated in NumPy 1.20; for more details and guidance: https://numpy.org/devdocs/release/1.20.0-notes.html#deprecations\n",
      "  ty = getattr(np, type_name)\n",
      "/home/josue/.local/lib/python3.9/site-packages/traittypes/traittypes.py:20: DeprecationWarning: \n",
      "            Sentinel is not a public part of the traitlets API.\n",
      "            It was published by mistake, and may be removed in the future.\n",
      "            \n",
      "  Empty = Sentinel('Empty', 'traittypes',\n",
      "/home/josue/.local/lib/python3.9/site-packages/pythreejs/traits.py:269: DeprecationWarning: Keyword `traits` is deprecated in traitlets 5.0, use `per_key_traits` instead\n",
      "  super(Uniform, self).__init__(traits=dict(\n",
      "/home/josue/.local/lib/python3.9/site-packages/pythreejs/materials/ShaderMaterial_autogen.py:29: DeprecationWarning: Keyword `trait` is deprecated in traitlets 5.0, use `value_trait` instead\n",
      "  uniforms = Dict(default_value={}, trait=Uniform(allow_none=True), allow_none=False).tag(sync=True, **uniforms_serialization)\n",
      "/home/josue/.local/lib/python3.9/site-packages/jp_proxy_widget/proxy_widget.py:200: DeprecationWarning: on_trait_change is deprecated in traitlets 4.1: use observe instead\n",
      "  self.on_trait_change(self.handle_rendered, \"rendered\")\n",
      "/home/josue/.local/lib/python3.9/site-packages/jp_proxy_widget/proxy_widget.py:201: DeprecationWarning: on_trait_change is deprecated in traitlets 4.1: use observe instead\n",
      "  self.on_trait_change(self.handle_error_msg, \"error_msg\")\n"
     ]
    },
    {
     "data": {
      "application/vnd.jupyter.widget-view+json": {
       "model_id": "765a5785580d4245afca8bb812b458f5",
       "version_major": 2,
       "version_minor": 0
      },
      "text/plain": [
       "JSProxyWidget(status='deferring flush until render')"
      ]
     },
     "metadata": {},
     "output_type": "display_data"
    },
    {
     "data": {
      "application/vnd.jupyter.widget-view+json": {
       "model_id": "3804cc50292f4cae97a8ec4f04c1f28f",
       "version_major": 2,
       "version_minor": 0
      },
      "text/plain": [
       "JSProxyWidget(status='deferring flush until render')"
      ]
     },
     "metadata": {},
     "output_type": "display_data"
    },
    {
     "data": {
      "application/vnd.jupyter.widget-view+json": {
       "model_id": "3d70bb6071ba46b98cfa9961c0d5c618",
       "version_major": 2,
       "version_minor": 0
      },
      "text/plain": [
       "JSProxyWidget(status='deferring flush until render')"
      ]
     },
     "metadata": {},
     "output_type": "display_data"
    },
    {
     "data": {
      "application/vnd.jupyter.widget-view+json": {
       "model_id": "5c2055f55eaf47e59fa8cc90475a03df",
       "version_major": 2,
       "version_minor": 0
      },
      "text/plain": [
       "VBox(children=(Renderer(camera=PerspectiveCamera(position=(0.0, 0.0, -100.0), projectionMatrix=(1.0, 0.0, 0.0,…"
      ]
     },
     "metadata": {},
     "output_type": "display_data"
    }
   ],
   "source": [
    "import modele\n",
    "import ipywidgets\n",
    "import pythreejs\n",
    "\n",
    "# balls = [{\"color\":\"blue\", \"tone\":\"do5\", \"name\":\"do5\"},\n",
    "#          {\"color\":\"red\", \"tone\":\"re5\", \"name\":\"re5\"},\n",
    "#          {\"color\":\"green\", \"tone\":\"mi5\", \"name\":\"mi5\"},\n",
    "#          {\"color\":\"yellow\", \"tone\":\"fa5\", \"name\":\"fa5\"},\n",
    "#          {\"color\":\"yellow\", \"tone\":\"la5\", \"name\":\"la5\"},\n",
    "#          {\"color\":\"yellow\", \"tone\":\"re6\", \"name\":\"re5\"},\n",
    "#          {\"color\":\"yellow\", \"tone\":\"fa6\", \"name\":\"fa6\"}]\n",
    "\n",
    "# balls = [{\"color\":\"blue\", \"tone\":\"do\", \"name\":\"do\"},\n",
    "#          {\"color\":\"red\", \"tone\":\"re\", \"name\":\"re\"},\n",
    "#          {\"color\":\"green\", \"tone\":\"mi\", \"name\":\"mi\"}]\n",
    "\n",
    "colors = [\"blue\", \"red\", \"green\", \"yellow\", \"purple\", \"cyan\", \"magenta\"]\n",
    "\n",
    "balls, pattern = juggling_sol_to_simulator(sol, colors)\n",
    "\n",
    "sides = [-1, 1, 1]\n",
    "\n",
    "model = modele.Model(balls, pattern)\n",
    "slider = ipywidgets.FloatSlider(min=0, max=40, step=0.05)\n",
    "view = modele.View(model, sides)\n",
    "slider.observe(lambda change: view.update(change['new'], change['old']), names=\"value\")\n",
    "ipywidgets.VBox([view.widget,slider])"
   ]
  },
  {
   "cell_type": "code",
   "execution_count": null,
   "id": "0a4a2d36-83a7-4b91-94dd-248486e0bfb2",
   "metadata": {},
   "outputs": [],
   "source": []
  }
 ],
 "metadata": {
  "kernelspec": {
   "display_name": "Python 3",
   "language": "python",
   "name": "python3"
  },
  "language_info": {
   "codemirror_mode": {
    "name": "ipython",
    "version": 3
   },
   "file_extension": ".py",
   "mimetype": "text/x-python",
   "name": "python",
   "nbconvert_exporter": "python",
   "pygments_lexer": "ipython3",
   "version": "3.9.4"
  }
 },
 "nbformat": 4,
 "nbformat_minor": 5
}
