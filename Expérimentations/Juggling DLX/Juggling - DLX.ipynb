{
 "cells": [
  {
   "cell_type": "code",
   "execution_count": 1,
   "id": "92beacbb-26ae-4652-9ff3-307db0805aee",
   "metadata": {},
   "outputs": [],
   "source": [
    "import time"
   ]
  },
  {
   "cell_type": "code",
   "execution_count": 2,
   "id": "64db8b74-5ef6-4506-9d67-cd0e9c3a93f4",
   "metadata": {},
   "outputs": [
    {
     "name": "stderr",
     "output_type": "stream",
     "text": [
      "/home/josue/Documents/git/Jugglyng1/Expérimentations/Juggling DLX/DLX/dlxm.py:69: RuntimeWarning: class \"DLX_M::AbstrItem\" has no virtual destructor\n",
      "  class ConcItem(_AbstrItem):\n"
     ]
    }
   ],
   "source": [
    "from juggling_dlx_milp import *"
   ]
  },
  {
   "cell_type": "markdown",
   "id": "b4d344f7-35ec-4ae2-a171-5c56882c3161",
   "metadata": {},
   "source": [
    "### Musique à jouer"
   ]
  },
  {
   "cell_type": "code",
   "execution_count": 3,
   "id": "60e1c3cb-ad78-463b-b2c1-254a3370a44a",
   "metadata": {},
   "outputs": [],
   "source": [
    "music = [( 1, \"do\"), ( 2, \"do\"), ( 3, \"do\"), \n",
    "         ( 4, \"re\"), ( 5, \"mi\"), ( 7, \"re\"), \n",
    "         ( 9, \"do\"), (10, \"mi\"), (11, \"re\"),\n",
    "         (12, \"re\"), (13, \"do\")]"
   ]
  },
  {
   "cell_type": "code",
   "execution_count": 4,
   "id": "cbfeae9a",
   "metadata": {},
   "outputs": [],
   "source": [
    "music = [(1, \"re5\"), (2, \"do5\"), (3, \"re5\"), (4, \"do5\"),\n",
    "         (5, \"re5\"), (7, \"do5\"), (9, \"mi5\"),\n",
    "         (11, \"re5\"), (12, \"fa5\"), (13, \"la5\"), (14, \"re6\"), (15, \"fa6\")]"
   ]
  },
  {
   "cell_type": "markdown",
   "id": "55335529-f4ca-44df-afd0-e38929e3f6fe",
   "metadata": {},
   "source": [
    "### Contraintes"
   ]
  },
  {
   "cell_type": "code",
   "execution_count": 5,
   "id": "1b0becbc-6d95-4ebe-a28d-c5efcd1e1b40",
   "metadata": {},
   "outputs": [],
   "source": [
    "nb_hands = 4\n",
    "max_height = 5\n",
    "max_weight = 2\n",
    "forbidden_multiplex = [(1, 2), (1, 3), (1, 4), (2, )]\n",
    "multiple_throws = True"
   ]
  },
  {
   "cell_type": "markdown",
   "id": "9bf25e61-2efc-4a0e-a729-c07beadf7f1b",
   "metadata": {},
   "source": [
    "### Algorithme"
   ]
  },
  {
   "cell_type": "code",
   "execution_count": 6,
   "id": "dfc5fbaf-2b4d-457b-bd4a-e58c7f7fec84",
   "metadata": {},
   "outputs": [],
   "source": [
    "balls, throws = music_to_throws(music)"
   ]
  },
  {
   "cell_type": "code",
   "execution_count": 7,
   "id": "596435c3-3a70-4476-8308-6e5ca7e9c87a",
   "metadata": {
    "scrolled": true
   },
   "outputs": [],
   "source": [
    "ec_instance = throws_to_extended_exact_cover(balls, throws, nb_hands, max_height, max_weight,\n",
    "                                             forbidden_multiplex, [], multiple_throws)"
   ]
  },
  {
   "cell_type": "code",
   "execution_count": null,
   "id": "abe3d354-ed2a-4975-bf6e-d658e47fc0a3",
   "metadata": {},
   "outputs": [],
   "source": [
    "t = time.time()\n",
    "sols = solve_with_dlx(ec_instance)\n",
    "print(\"{} solutions trouvées en {} secondes\".format(len(sols), time.time() - t))"
   ]
  },
  {
   "cell_type": "code",
   "execution_count": 17,
   "id": "078d1b64-6fc3-4f6c-b79b-afffae99e057",
   "metadata": {},
   "outputs": [
    {
     "name": "stdout",
     "output_type": "stream",
     "text": [
      "{'do5', 'mi5', 're5', 'fa5'}       {}       : re5 -- 1 --> 1\n",
      "   {'do5', 'mi5', 'fa5'}        {'re5'}     : do5 -- 1 --> 1\n",
      "       {'mi5', 'fa5'}        {'do5', 're5'} : re5 -- 1 --> 0\n",
      "   {'mi5', 'fa5', 're5'}        {'do5'}     : do5 -- 1 --> 0\n",
      "{'do5', 'mi5', 'fa5', 're5'}       {}       : re5 -- 1 --> 1\n",
      "   {'do5', 'mi5', 'fa5'}        {'re5'}     : \n",
      "   {'do5', 'mi5', 'fa5'}        {'re5'}     : do5 -- 1 --> ?\n",
      "       {'mi5', 'fa5'}           {'re5'}     : \n",
      "       {'mi5', 'fa5'}           {'re5'}     : mi5 -- 1 --> ?\n",
      "          {'fa5'}               {'re5'}     : \n",
      "          {'fa5'}               {'re5'}     : re5 -- 1 --> ?\n",
      "          {'fa5'}                  {}       : fa5 -- 1 --> ?\n"
     ]
    }
   ],
   "source": [
    "print_juggling(sols[0])"
   ]
  },
  {
   "cell_type": "code",
   "execution_count": 18,
   "id": "67def512-c94a-43e6-8c69-2e46006abf50",
   "metadata": {},
   "outputs": [
    {
     "data": {
      "text/html": [
       "<script type=\"module\">\n",
       "\t\timport * as THREE from 'https://unpkg.com/three@0.127.0/build/three.module.js';\n",
       "\t\t\n",
       "\t\tconst camera = new THREE.Camera();\n",
       "\n",
       "\t\tconst scene = new THREE.Scene();\n",
       "\n",
       "\t\t// create an AudioListener and add it to the camera \n",
       "\t\tconst listener = new THREE.AudioListener();\n",
       "\t\tcamera.add(listener); // create a global audio source\n",
       "\n",
       "\t\tconst sound = new THREE.Audio(listener); // load a sound and set it as the Audio object's buffer \n",
       "\n",
       "\t\tconst audioLoader = new THREE.AudioLoader();\n",
       "\t\taudioLoader.load('../../sounds2/do5.wav', function(buffer) {\n",
       "\t\t\tsound.setBuffer(buffer);\n",
       "\t\t\tsound.setLoop(false);\n",
       "\t\t\tsound.setVolume(2.0);\n",
       "\t\t\tsound.play();\n",
       "\t\t});\n",
       "    </script>"
      ],
      "text/plain": [
       "<IPython.core.display.HTML object>"
      ]
     },
     "metadata": {},
     "output_type": "display_data"
    },
    {
     "data": {
      "text/html": [
       "<script type=\"module\">\n",
       "\t\timport * as THREE from 'https://unpkg.com/three@0.127.0/build/three.module.js';\n",
       "\t\t\n",
       "\t\tconst camera = new THREE.Camera();\n",
       "\n",
       "\t\tconst scene = new THREE.Scene();\n",
       "\n",
       "\t\t// create an AudioListener and add it to the camera \n",
       "\t\tconst listener = new THREE.AudioListener();\n",
       "\t\tcamera.add(listener); // create a global audio source\n",
       "\n",
       "\t\tconst sound = new THREE.Audio(listener); // load a sound and set it as the Audio object's buffer \n",
       "\n",
       "\t\tconst audioLoader = new THREE.AudioLoader();\n",
       "\t\taudioLoader.load('../../sounds2/re5.wav', function(buffer) {\n",
       "\t\t\tsound.setBuffer(buffer);\n",
       "\t\t\tsound.setLoop(false);\n",
       "\t\t\tsound.setVolume(2.0);\n",
       "\t\t\tsound.play();\n",
       "\t\t});\n",
       "    </script>"
      ],
      "text/plain": [
       "<IPython.core.display.HTML object>"
      ]
     },
     "metadata": {},
     "output_type": "display_data"
    },
    {
     "data": {
      "text/html": [
       "<script type=\"module\">\n",
       "\t\timport * as THREE from 'https://unpkg.com/three@0.127.0/build/three.module.js';\n",
       "\t\t\n",
       "\t\tconst camera = new THREE.Camera();\n",
       "\n",
       "\t\tconst scene = new THREE.Scene();\n",
       "\n",
       "\t\t// create an AudioListener and add it to the camera \n",
       "\t\tconst listener = new THREE.AudioListener();\n",
       "\t\tcamera.add(listener); // create a global audio source\n",
       "\n",
       "\t\tconst sound = new THREE.Audio(listener); // load a sound and set it as the Audio object's buffer \n",
       "\n",
       "\t\tconst audioLoader = new THREE.AudioLoader();\n",
       "\t\taudioLoader.load('../../sounds2/mi5.wav', function(buffer) {\n",
       "\t\t\tsound.setBuffer(buffer);\n",
       "\t\t\tsound.setLoop(false);\n",
       "\t\t\tsound.setVolume(2.0);\n",
       "\t\t\tsound.play();\n",
       "\t\t});\n",
       "    </script>"
      ],
      "text/plain": [
       "<IPython.core.display.HTML object>"
      ]
     },
     "metadata": {},
     "output_type": "display_data"
    },
    {
     "data": {
      "text/html": [
       "<script type=\"module\">\n",
       "\t\timport * as THREE from 'https://unpkg.com/three@0.127.0/build/three.module.js';\n",
       "\t\t\n",
       "\t\tconst camera = new THREE.Camera();\n",
       "\n",
       "\t\tconst scene = new THREE.Scene();\n",
       "\n",
       "\t\t// create an AudioListener and add it to the camera \n",
       "\t\tconst listener = new THREE.AudioListener();\n",
       "\t\tcamera.add(listener); // create a global audio source\n",
       "\n",
       "\t\tconst sound = new THREE.Audio(listener); // load a sound and set it as the Audio object's buffer \n",
       "\n",
       "\t\tconst audioLoader = new THREE.AudioLoader();\n",
       "\t\taudioLoader.load('../../sounds2/fa5.wav', function(buffer) {\n",
       "\t\t\tsound.setBuffer(buffer);\n",
       "\t\t\tsound.setLoop(false);\n",
       "\t\t\tsound.setVolume(2.0);\n",
       "\t\t\tsound.play();\n",
       "\t\t});\n",
       "    </script>"
      ],
      "text/plain": [
       "<IPython.core.display.HTML object>"
      ]
     },
     "metadata": {},
     "output_type": "display_data"
    },
    {
     "data": {
      "application/vnd.jupyter.widget-view+json": {
       "model_id": "9ec309d32e3940249ca587da7f3f7e49",
       "version_major": 2,
       "version_minor": 0
      },
      "text/plain": [
       "VBox(children=(Renderer(camera=PerspectiveCamera(position=(0.0, 0.0, -100.0), projectionMatrix=(1.0, 0.0, 0.0,…"
      ]
     },
     "metadata": {},
     "output_type": "display_data"
    }
   ],
   "source": [
    "import modele\n",
    "import ipywidgets\n",
    "import pythreejs\n",
    "\n",
    "balls = [{\"color\":\"blue\", \"tone\":\"do5\", \"name\":\"do5\"},\n",
    "         {\"color\":\"red\", \"tone\":\"re5\", \"name\":\"re5\"},\n",
    "         {\"color\":\"green\", \"tone\":\"mi5\", \"name\":\"mi5\"},\n",
    "         {\"color\":\"yellow\", \"tone\":\"fa5\", \"name\":\"fa5\"},\n",
    "         {\"color\":\"yellow\", \"tone\":\"la5\", \"name\":\"la5\"},\n",
    "         {\"color\":\"yellow\", \"tone\":\"re6\", \"name\":\"re5\"},\n",
    "         {\"color\":\"yellow\", \"tone\":\"fa6\", \"name\":\"fa6\"}]\n",
    "\n",
    "# balls = [{\"color\":\"blue\", \"tone\":\"do\", \"name\":\"do\"},\n",
    "#          {\"color\":\"red\", \"tone\":\"re\", \"name\":\"re\"},\n",
    "#          {\"color\":\"green\", \"tone\":\"mi\", \"name\":\"mi\"}]\n",
    "\n",
    "pattern = juggling_sol_to_simulator(sols[0])\n",
    "\n",
    "sides = [-1, 1]\n",
    "\n",
    "model = modele.Model(balls, pattern)\n",
    "slider = ipywidgets.FloatSlider(min=0, max=40, step=0.1)\n",
    "view = modele.View(model, sides)\n",
    "slider.observe(lambda change: view.update(change['new'], change['old']), names=\"value\")\n",
    "ipywidgets.VBox([view.widget,slider])"
   ]
  },
  {
   "cell_type": "code",
   "execution_count": null,
   "id": "0a4a2d36-83a7-4b91-94dd-248486e0bfb2",
   "metadata": {},
   "outputs": [],
   "source": []
  }
 ],
 "metadata": {
  "kernelspec": {
   "display_name": "Python 3",
   "language": "python",
   "name": "python3"
  },
  "language_info": {
   "codemirror_mode": {
    "name": "ipython",
    "version": 3
   },
   "file_extension": ".py",
   "mimetype": "text/x-python",
   "name": "python",
   "nbconvert_exporter": "python",
   "pygments_lexer": "ipython3",
   "version": "3.9.4"
  }
 },
 "nbformat": 4,
 "nbformat_minor": 5
}
