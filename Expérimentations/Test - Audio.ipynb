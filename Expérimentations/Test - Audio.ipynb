{
 "cells": [
  {
   "cell_type": "code",
   "execution_count": 1,
   "id": "understanding-chase",
   "metadata": {},
   "outputs": [],
   "source": [
    "import sys\n",
    "import os\n",
    "\n",
    "sys.path.insert(1, \"../\")\n",
    "os.chdir(\"../\")"
   ]
  },
  {
   "cell_type": "code",
   "execution_count": 2,
   "id": "ignored-rogers",
   "metadata": {},
   "outputs": [
    {
     "data": {
      "text/html": [
       "<script type=\"module\">\n",
       "import * as THREE from 'https://unpkg.com/three@0.127.0/build/three.module.js';\n",
       "\n",
       "const camera = new THREE.Camera();\n",
       "\n",
       "const scene = new THREE.Scene();\n",
       "\n",
       "const listener = new THREE.AudioListener();\n",
       "camera.add(listener);\n",
       "\n",
       "window.THREE = THREE;\n",
       "window.listener = listener;\n",
       "</script>"
      ],
      "text/plain": [
       "<IPython.core.display.HTML object>"
      ]
     },
     "metadata": {},
     "output_type": "display_data"
    }
   ],
   "source": [
    "from audio import Audio"
   ]
  },
  {
   "cell_type": "code",
   "execution_count": 3,
   "id": "understood-albert",
   "metadata": {},
   "outputs": [
    {
     "data": {
      "text/html": [
       "<script>\n",
       "const sound1 = new THREE.Audio(listener);\n",
       "const audioLoader1 = new THREE.AudioLoader();\n",
       "\n",
       "audioLoader1.load('../do.wav', function(buffer) {\n",
       "    sound1.setBuffer(buffer);\n",
       "    sound1.setLoop(false);\n",
       "    sound1.setVolume(0.5);\n",
       "});\n",
       "\n",
       "function play1() {\n",
       "    sound1.play();\n",
       "}\n",
       "\n",
       "window.play1 = play1\n",
       "</script>"
      ],
      "text/plain": [
       "<IPython.core.display.HTML object>"
      ]
     },
     "metadata": {},
     "output_type": "display_data"
    },
    {
     "data": {
      "application/javascript": [
       "play1();"
      ],
      "text/plain": [
       "<IPython.core.display.Javascript object>"
      ]
     },
     "metadata": {},
     "output_type": "display_data"
    }
   ],
   "source": [
    "do = Audio('../do.wav')"
   ]
  },
  {
   "cell_type": "code",
   "execution_count": 4,
   "id": "sized-thompson",
   "metadata": {},
   "outputs": [],
   "source": [
    "do.play()"
   ]
  },
  {
   "cell_type": "code",
   "execution_count": 5,
   "id": "weekly-window",
   "metadata": {},
   "outputs": [
    {
     "data": {
      "text/html": [
       "<script>\n",
       "const sound2 = new THREE.Audio(listener);\n",
       "const audioLoader2 = new THREE.AudioLoader();\n",
       "\n",
       "audioLoader2.load('../mi.wav', function(buffer) {\n",
       "    sound2.setBuffer(buffer);\n",
       "    sound2.setLoop(false);\n",
       "    sound2.setVolume(0.5);\n",
       "});\n",
       "\n",
       "function play2() {\n",
       "    sound2.play();\n",
       "}\n",
       "\n",
       "window.play2 = play2\n",
       "</script>"
      ],
      "text/plain": [
       "<IPython.core.display.HTML object>"
      ]
     },
     "metadata": {},
     "output_type": "display_data"
    },
    {
     "data": {
      "application/javascript": [
       "play2();"
      ],
      "text/plain": [
       "<IPython.core.display.Javascript object>"
      ]
     },
     "metadata": {},
     "output_type": "display_data"
    }
   ],
   "source": [
    "mi = Audio('../mi.wav')"
   ]
  },
  {
   "cell_type": "code",
   "execution_count": 6,
   "id": "veterinary-oriental",
   "metadata": {},
   "outputs": [],
   "source": [
    "mi.play()"
   ]
  },
  {
   "cell_type": "code",
   "execution_count": 7,
   "id": "chinese-sequence",
   "metadata": {},
   "outputs": [],
   "source": [
    "do.play()"
   ]
  },
  {
   "cell_type": "code",
   "execution_count": 9,
   "id": "sorted-serial",
   "metadata": {},
   "outputs": [],
   "source": [
    "import time"
   ]
  },
  {
   "cell_type": "code",
   "execution_count": 11,
   "id": "arctic-amino",
   "metadata": {},
   "outputs": [],
   "source": [
    "for i in range(10):\n",
    "    do.play()\n",
    "    time.sleep(1)"
   ]
  },
  {
   "cell_type": "code",
   "execution_count": null,
   "id": "jewish-printer",
   "metadata": {},
   "outputs": [],
   "source": []
  }
 ],
 "metadata": {
  "kernelspec": {
   "display_name": "Python 3",
   "language": "python",
   "name": "python3"
  },
  "language_info": {
   "codemirror_mode": {
    "name": "ipython",
    "version": 3
   },
   "file_extension": ".py",
   "mimetype": "text/x-python",
   "name": "python",
   "nbconvert_exporter": "python",
   "pygments_lexer": "ipython3",
   "version": "3.9.4"
  }
 },
 "nbformat": 4,
 "nbformat_minor": 5
}
