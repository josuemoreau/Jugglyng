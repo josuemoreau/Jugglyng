{
 "cells": [
  {
   "cell_type": "markdown",
   "id": "worth-happening",
   "metadata": {},
   "source": [
    "Ce notebook sert à rapidement itérer à travers tous les sons dans le dossier sounds, afin de vérifier qu'ils produisent bien les bonnes notes."
   ]
  },
  {
   "cell_type": "code",
   "execution_count": 22,
   "id": "animated-direction",
   "metadata": {},
   "outputs": [],
   "source": [
    "import pygame as pg\n",
    "import time\n",
    "pg.mixer.init()\n",
    "\n",
    "note_names = [\"do\", \"do#\", \"re\", \"re#\", \"mi\", \"fa\", \"fa#\", \"sol\", \"sol#\", \"la\", \"la#\", \"si\"]\n",
    "\n",
    "def play_sounds(start_note, start_height, end_note, end_height):\n",
    "    i= note_names.index(start_note)\n",
    "    end_idx = (note_names.index(end_note) + 1) % len(note_names)\n",
    "    height = start_height\n",
    "    if end_idx == 0:\n",
    "        end_height += 1\n",
    "    print(\"playing\", end=\" \")\n",
    "    \n",
    "    while not (height == end_height and i == end_idx):\n",
    "        sound = pg.mixer.Sound(\"../sounds/{}{}.wav\".format(note_names[i], height))\n",
    "        print(\"{}{}\".format(note_names[i], height), end=\" \")\n",
    "        time.sleep(0.1)\n",
    "        sound.play()\n",
    "        time.sleep(0.5)\n",
    "        i = (i+1) % len(note_names)\n",
    "        if i == 0:\n",
    "            height += 1"
   ]
  },
  {
   "cell_type": "code",
   "execution_count": 23,
   "id": "found-colon",
   "metadata": {},
   "outputs": [
    {
     "name": "stdout",
     "output_type": "stream",
     "text": [
      "playing do3 do#3 re3 re#3 mi3 fa3 fa#3 sol3 sol#3 la3 la#3 si3 do4 do#4 re4 re#4 mi4 fa4 fa#4 sol4 sol#4 la4 la#4 si4 do5 do#5 re5 re#5 mi5 fa5 fa#5 sol5 "
     ]
    }
   ],
   "source": [
    "play_sounds(\"do\", 3, \"sol\", 5)"
   ]
  },
  {
   "cell_type": "code",
   "execution_count": null,
   "id": "sweet-morocco",
   "metadata": {},
   "outputs": [],
   "source": []
  }
 ],
 "metadata": {
  "kernelspec": {
   "display_name": "Python 3",
   "language": "python",
   "name": "python3"
  },
  "language_info": {
   "codemirror_mode": {
    "name": "ipython",
    "version": 3
   },
   "file_extension": ".py",
   "mimetype": "text/x-python",
   "name": "python",
   "nbconvert_exporter": "python",
   "pygments_lexer": "ipython3",
   "version": "3.9.1"
  }
 },
 "nbformat": 4,
 "nbformat_minor": 5
}
