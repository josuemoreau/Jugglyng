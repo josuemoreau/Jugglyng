{
 "cells": [
  {
   "cell_type": "code",
   "execution_count": 2,
   "id": "incredible-helena",
   "metadata": {},
   "outputs": [],
   "source": [
    "from functools import cache\n",
    "#Problème de cache à résoudre un jour.\n",
    "@cache\n",
    "def A0(n):\n",
    "    return 0 if n == 0 else b(n-1) + 1\n",
    "@cache\n",
    "def A1(n):\n",
    "    return 0 if n == 0 else a(n-1) - 1"
   ]
  },
  {
   "cell_type": "markdown",
   "id": "streaming-helena",
   "metadata": {},
   "source": [
    "$0_{n+1} = 0_{n} + 1_{n} + 2_{n} + 2s_{n}$\n",
    "\n",
    "etc...\n",
    "\n",
    "En prenant en compte la position des balles dans les mains :\n",
    "\n",
    "$$\\begin{matrix}\n",
    "             & 0_n & 1_n & 2_n & 2^s_n & 3_n & 3^s_n & 3^{ss}_n & 4_n \\\\\n",
    "0_{n+1}      & 1   & 1   & 1   & 1     & 0   & 0     & 0        & 0   \\\\\n",
    "1_{n+1}      & 1   & 1   & 1   & 1     & 1   & 1     & 1        & 0   \\\\\n",
    "2_{n+1}      & 0   & 1   & 1   & 0     & 1   & 1     & 1        & 0   \\\\\n",
    "2^{s}_{n+1}  & 0   & 0   & 1   & 1     & 0   & 0     & 0        & 0   \\\\\n",
    "3_{n+1}      & 0   & 0   & 1   & 1     & 1   & 0     & 0        & 1   \\\\\n",
    "3^{s}_{n+1}  & 0   & 0   & 0   & 0     & 1   & 1     & 0        & 0   \\\\\n",
    "3^{ss}_{n+1} & 0   & 0   & 0   & 0     & 0   & 1     & 1        & 0   \\\\\n",
    "4_{n+1}      & 0   & 0   & 0   & 0     & 1   & 1     & 1        & 1   \n",
    "\\end{matrix}$$\n",
    "\n",
    "En considérant toutes les séquences (qu'elles respectent ou non la position des balles dans les mains) :\n",
    "\n",
    "$$\\begin{matrix}\n",
    "              & \\bar{0}_n & \\bar{1}_n & \\bar{2}_n & \\bar{2}^s_n & \\bar{3}_n & \\bar{3}^s_n & \\bar{3}^{ss}_n & \\bar{4}_n \\\\\n",
    "\\bar{0}_{n+1}      & 1   & 1   & 1   & 1     & 0   & 0     & 0        & 0   \\\\\n",
    "\\bar{1}_{n+1}      & 1   & 1   & 2   & 2     & 3   & 3     & 3        & 0   \\\\\n",
    "\\bar{2}_{n+1}      & 0   & 1   & 1   & 0     & 3   & 3     & 3        & 0   \\\\\n",
    "\\bar{2}^{s}_{n+1}  & 0   & 0   & 1   & 1     & 0   & 0     & 0        & 0   \\\\\n",
    "\\bar{3}_{n+1}      & 0   & 0   & 1   & 1     & 1   & 0     & 0        & 1   \\\\\n",
    "\\bar{3}^{s}_{n+1}  & 0   & 0   & 0   & 0     & 1   & 1     & 0        & 0   \\\\\n",
    "\\bar{3}^{ss}_{n+1} & 0   & 0   & 0   & 0     & 0   & 1     & 1        & 0   \\\\\n",
    "\\bar{4}_{n+1}      & 0   & 0   & 0   & 0     & 1   & 1     & 1        & 1   \n",
    "\\end{matrix}$$"
   ]
  },
  {
   "cell_type": "code",
   "execution_count": 30,
   "id": "following-heritage",
   "metadata": {},
   "outputs": [],
   "source": [
    "import numpy as np\n",
    "import matplotlib.pyplot as plt\n",
    "def test(n):\n",
    "    matrix1 = np.array([\n",
    "        [1, 1, 1, 1, 0, 0, 0, 0],\n",
    "        [1, 1, 1, 1, 1, 1, 1, 0],\n",
    "        [0, 1, 1, 0, 1, 1, 1, 0],\n",
    "        [0, 0, 1, 1, 0, 0, 0, 0],\n",
    "        [0, 0, 1, 1, 1, 0, 0, 1],\n",
    "        [0, 0, 0, 0, 1, 1, 0, 0],\n",
    "        [0, 0, 0, 0, 0, 1, 1, 0],\n",
    "        [0, 0, 0, 0, 1, 1, 1, 1]\n",
    "    ])\n",
    "    suite1 = [np.array([1, 1, 1, 0, 1, 0, 0, 1])]\n",
    "    matrix2 = np.array([\n",
    "        [1, 1, 1, 1, 0, 0, 0, 0],\n",
    "        [1, 1, 2, 2, 3, 3, 3, 0],\n",
    "        [0, 1, 1, 0, 3, 3, 3, 0],\n",
    "        [0, 0, 1, 1, 0, 0, 0, 0],\n",
    "        [0, 0, 1, 1, 1, 0, 0, 4],\n",
    "        [0, 0, 0, 0, 1, 1, 0, 0],\n",
    "        [0, 0, 0, 0, 0, 1, 1, 0],\n",
    "        [0, 0, 0, 0, 1, 1, 1, 4]\n",
    "    ])\n",
    "    matrix2 = matrix2[]\n",
    "    suite2 = [np.array([1, 1, 1, 0, 1, 0, 0, 1])]\n",
    "    for i in range(n):\n",
    "        suite1.append(np.dot(matrix1, suite1[-1]))\n",
    "        suite2.append(np.dot(matrix2, suite2[-1]))\n",
    "    avec_pos = [np.sum(elem) for elem in suite1]\n",
    "    sans_pos = [np.sum(elem) for elem in suite2] \n",
    "    proba = [avec_pos[i] / sans_pos[i] for i in range(n+1)]\n",
    "    plt.plot(proba)\n",
    "    return proba\n",
    "        "
   ]
  },
  {
   "cell_type": "code",
   "execution_count": 31,
   "id": "hidden-terminal",
   "metadata": {},
   "outputs": [
    {
     "ename": "ValueError",
     "evalue": "shapes (8,) and (5,8) not aligned: 8 (dim 0) != 5 (dim 0)",
     "output_type": "error",
     "traceback": [
      "\u001b[1;31m---------------------------------------------------------------------------\u001b[0m",
      "\u001b[1;31mValueError\u001b[0m                                Traceback (most recent call last)",
      "\u001b[1;32m<ipython-input-31-fdbd524d7a7b>\u001b[0m in \u001b[0;36m<module>\u001b[1;34m\u001b[0m\n\u001b[1;32m----> 1\u001b[1;33m \u001b[0mprint\u001b[0m\u001b[1;33m(\u001b[0m\u001b[0mtest\u001b[0m\u001b[1;33m(\u001b[0m\u001b[1;36m10\u001b[0m\u001b[1;33m)\u001b[0m\u001b[1;33m)\u001b[0m\u001b[1;33m\u001b[0m\u001b[1;33m\u001b[0m\u001b[0m\n\u001b[0m",
      "\u001b[1;32m<ipython-input-30-b3d8e6b733f0>\u001b[0m in \u001b[0;36mtest\u001b[1;34m(n)\u001b[0m\n\u001b[0;32m     23\u001b[0m     \u001b[1;32mfor\u001b[0m \u001b[0mi\u001b[0m \u001b[1;32min\u001b[0m \u001b[0mrange\u001b[0m\u001b[1;33m(\u001b[0m\u001b[0mn\u001b[0m\u001b[1;33m)\u001b[0m\u001b[1;33m:\u001b[0m\u001b[1;33m\u001b[0m\u001b[1;33m\u001b[0m\u001b[0m\n\u001b[0;32m     24\u001b[0m         \u001b[0msuite1\u001b[0m\u001b[1;33m.\u001b[0m\u001b[0mappend\u001b[0m\u001b[1;33m(\u001b[0m\u001b[0mnp\u001b[0m\u001b[1;33m.\u001b[0m\u001b[0mdot\u001b[0m\u001b[1;33m(\u001b[0m\u001b[0mmatrix1\u001b[0m\u001b[1;33m,\u001b[0m \u001b[0msuite1\u001b[0m\u001b[1;33m[\u001b[0m\u001b[1;33m-\u001b[0m\u001b[1;36m1\u001b[0m\u001b[1;33m]\u001b[0m\u001b[1;33m)\u001b[0m\u001b[1;33m)\u001b[0m\u001b[1;33m\u001b[0m\u001b[1;33m\u001b[0m\u001b[0m\n\u001b[1;32m---> 25\u001b[1;33m         \u001b[0msuite2\u001b[0m\u001b[1;33m.\u001b[0m\u001b[0mappend\u001b[0m\u001b[1;33m(\u001b[0m\u001b[0mnp\u001b[0m\u001b[1;33m.\u001b[0m\u001b[0mdot\u001b[0m\u001b[1;33m(\u001b[0m\u001b[0msuite2\u001b[0m\u001b[1;33m[\u001b[0m\u001b[1;33m-\u001b[0m\u001b[1;36m1\u001b[0m\u001b[1;33m]\u001b[0m\u001b[1;33m,\u001b[0m \u001b[0mmatrix2\u001b[0m\u001b[1;33m)\u001b[0m\u001b[1;33m)\u001b[0m\u001b[1;33m\u001b[0m\u001b[1;33m\u001b[0m\u001b[0m\n\u001b[0m\u001b[0;32m     26\u001b[0m     \u001b[0mavec_pos\u001b[0m \u001b[1;33m=\u001b[0m \u001b[1;33m[\u001b[0m\u001b[0mnp\u001b[0m\u001b[1;33m.\u001b[0m\u001b[0msum\u001b[0m\u001b[1;33m(\u001b[0m\u001b[0melem\u001b[0m\u001b[1;33m)\u001b[0m \u001b[1;32mfor\u001b[0m \u001b[0melem\u001b[0m \u001b[1;32min\u001b[0m \u001b[0msuite1\u001b[0m\u001b[1;33m]\u001b[0m\u001b[1;33m\u001b[0m\u001b[1;33m\u001b[0m\u001b[0m\n\u001b[0;32m     27\u001b[0m     \u001b[0msans_pos\u001b[0m \u001b[1;33m=\u001b[0m \u001b[1;33m[\u001b[0m\u001b[0mnp\u001b[0m\u001b[1;33m.\u001b[0m\u001b[0msum\u001b[0m\u001b[1;33m(\u001b[0m\u001b[0melem\u001b[0m\u001b[1;33m)\u001b[0m \u001b[1;32mfor\u001b[0m \u001b[0melem\u001b[0m \u001b[1;32min\u001b[0m \u001b[0msuite2\u001b[0m\u001b[1;33m]\u001b[0m\u001b[1;33m\u001b[0m\u001b[1;33m\u001b[0m\u001b[0m\n",
      "\u001b[1;32m<__array_function__ internals>\u001b[0m in \u001b[0;36mdot\u001b[1;34m(*args, **kwargs)\u001b[0m\n",
      "\u001b[1;31mValueError\u001b[0m: shapes (8,) and (5,8) not aligned: 8 (dim 0) != 5 (dim 0)"
     ]
    }
   ],
   "source": [
    "print(test(10))"
   ]
  },
  {
   "cell_type": "code",
   "execution_count": 33,
   "id": "infectious-longitude",
   "metadata": {},
   "outputs": [
    {
     "name": "stdout",
     "output_type": "stream",
     "text": [
      "[]\n"
     ]
    }
   ],
   "source": [
    "a = np.array([[1,2],[3,4], [5, 6]])\n",
    "b = np.array([5, 6])\n",
    "np.dot(a, b)\n",
    "print(a[True, False, True])"
   ]
  },
  {
   "cell_type": "code",
   "execution_count": 3,
   "id": "attended-disabled",
   "metadata": {},
   "outputs": [
    {
     "name": "stdout",
     "output_type": "stream",
     "text": [
      "3000\n"
     ]
    }
   ],
   "source": [
    "import sys\n",
    "print(sys.getrecursionlimit())"
   ]
  },
  {
   "cell_type": "code",
   "execution_count": 12,
   "id": "derived-transcription",
   "metadata": {},
   "outputs": [
    {
     "data": {
      "text/plain": [
       "0"
      ]
     },
     "execution_count": 12,
     "metadata": {},
     "output_type": "execute_result"
    }
   ],
   "source": [
    "a(3000)"
   ]
  },
  {
   "cell_type": "code",
   "execution_count": null,
   "id": "tight-islam",
   "metadata": {},
   "outputs": [],
   "source": []
  }
 ],
 "metadata": {
  "kernelspec": {
   "display_name": "Python 3",
   "language": "python",
   "name": "python3"
  },
  "language_info": {
   "codemirror_mode": {
    "name": "ipython",
    "version": 3
   },
   "file_extension": ".py",
   "mimetype": "text/x-python",
   "name": "python",
   "nbconvert_exporter": "python",
   "pygments_lexer": "ipython3",
   "version": "3.9.1"
  }
 },
 "nbformat": 4,
 "nbformat_minor": 5
}
