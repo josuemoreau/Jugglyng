{
 "cells": [
  {
   "cell_type": "code",
   "execution_count": null,
   "id": "bridal-attention",
   "metadata": {},
   "outputs": [],
   "source": [
    "class JugglingSequence():\n",
    "    def __init__(self):\n",
    "        pass\n",
    "\n",
    "def gentic1():\n",
    "    #Create starting sample\n",
    "    \n",
    "    #For...\n",
    "        #Evaluate samples\n",
    "        #Selection\n",
    "        #Croisement, Recombinaison\n",
    "        #Mutation\n",
    "    \n",
    "    pass\n",
    "\n",
    "def recuit1():\n",
    "    #Prendre individu de base\n",
    "    #Faire une mutation qui améliore son score\n",
    "    pass"
   ]
  },
  {
   "cell_type": "code",
   "execution_count": 2,
   "id": "united-syndicate",
   "metadata": {},
   "outputs": [],
   "source": [
    "#unique main unique hauteur de lancer, pas 2 balles recep dans une meme main au meme temps. Certains multiplex interdits. au plus k balles dans chaque main. Lancers de main directs. Hauteur maximale de lancer. Position."
   ]
  },
  {
   "cell_type": "code",
   "execution_count": 4,
   "id": "solved-montreal",
   "metadata": {},
   "outputs": [],
   "source": [
    "l = [[1, 2], [4, 5, 6], [3, 8]]\n",
    "a = [elem for sublist in l for elem in sublist ]"
   ]
  },
  {
   "cell_type": "code",
   "execution_count": 7,
   "id": "sensitive-chair",
   "metadata": {},
   "outputs": [],
   "source": [
    "from collections import namedtuple\n",
    "Throw = namedtuple('Throw', ['ball', 'target', 'height'])"
   ]
  },
  {
   "cell_type": "code",
   "execution_count": 8,
   "id": "generic-variation",
   "metadata": {},
   "outputs": [],
   "source": [
    "a = Throw(ball=1, target=3, height=0)"
   ]
  },
  {
   "cell_type": "code",
   "execution_count": 12,
   "id": "perceived-discrimination",
   "metadata": {},
   "outputs": [
    {
     "data": {
      "text/plain": [
       "True"
      ]
     },
     "execution_count": 12,
     "metadata": {},
     "output_type": "execute_result"
    }
   ],
   "source": [
    "isinstance(a, Throw)"
   ]
  },
  {
   "cell_type": "code",
   "execution_count": 14,
   "id": "inappropriate-control",
   "metadata": {},
   "outputs": [
    {
     "name": "stdout",
     "output_type": "stream",
     "text": [
      "Help on method_descriptor:\n",
      "\n",
      "pop(self, index=-1, /)\n",
      "    Remove and return item at index (default last).\n",
      "    \n",
      "    Raises IndexError if list is empty or index is out of range.\n",
      "\n"
     ]
    }
   ],
   "source": [
    "help(list.pop)"
   ]
  },
  {
   "cell_type": "code",
   "execution_count": null,
   "id": "dependent-adaptation",
   "metadata": {},
   "outputs": [],
   "source": []
  }
 ],
 "metadata": {
  "kernelspec": {
   "display_name": "Python 3",
   "language": "python",
   "name": "python3"
  },
  "language_info": {
   "codemirror_mode": {
    "name": "ipython",
    "version": 3
   },
   "file_extension": ".py",
   "mimetype": "text/x-python",
   "name": "python",
   "nbconvert_exporter": "python",
   "pygments_lexer": "ipython3",
   "version": "3.9.1"
  }
 },
 "nbformat": 4,
 "nbformat_minor": 5
}
