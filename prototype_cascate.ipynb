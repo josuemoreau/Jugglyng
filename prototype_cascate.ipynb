{
 "cells": [
  {
   "cell_type": "code",
   "execution_count": 70,
   "metadata": {},
   "outputs": [],
   "source": [
    "import pythreejs\n",
    "from pythreejs import *\n",
    "\n",
    "from numpy import cos, sin, pi\n",
    "import time\n",
    "import ipywidgets"
   ]
  },
  {
   "cell_type": "code",
   "execution_count": 102,
   "metadata": {},
   "outputs": [],
   "source": [
    "class hand:\n",
    "    def __init__(self, x=0, y=0, z=100, r=10, side=1, phase=0):\n",
    "        self.x=x\n",
    "        self.y=y\n",
    "        self.z=z\n",
    "        self.r=r\n",
    "        self.side = side\n",
    "        self.phase = phase\n",
    "        self.view =  Mesh(\n",
    "            SphereBufferGeometry(2, 32, 16),\n",
    "            MeshStandardMaterial(color=\"white\")\n",
    "        )\n",
    "        self.view.position = self.position(0)\n",
    "\n",
    "    def position(self, t):\n",
    "        alpha = pi * (t + self.phase) \n",
    "        return self.x+self.side*self.r*cos(alpha), self.z-self.r*sin(alpha), self.y\n",
    "    \n",
    "    def update(self, t):\n",
    "        self.view.position = self.position(t)\n",
    "    \n",
    "class ball:\n",
    "    def __init__(self, color, launch_hand, reception_hand, time_of_departure, flight_duration, height=50 ):\n",
    "        self.launch_hand = launch_hand\n",
    "        self.reception_hand = reception_hand\n",
    "        self.time_of_departure = time_of_departure\n",
    "        self.flight_duration = flight_duration\n",
    "        self.time_in_hand = 1\n",
    "        self.height = height\n",
    "        self.view = Mesh(\n",
    "            SphereBufferGeometry(5, 32, 16),\n",
    "            MeshStandardMaterial(color=color)\n",
    "        )\n",
    "        self.view.position = self.position(0)\n",
    "    \n",
    "    def position(self, t):\n",
    "        t1 = (t-self.time_of_departure) % (2*self.flight_duration)\n",
    "        if t1 < self.flight_duration:\n",
    "            launch, reception = self.launch_hand, self.reception_hand\n",
    "            time_flying = t1\n",
    "        else:\n",
    "            launch, reception = self.reception_hand, self.launch_hand\n",
    "            time_flying = t1 - self.flight_duration\n",
    "        if time_flying < self.time_in_hand:\n",
    "            return launch.position(t)\n",
    "        else:\n",
    "            x0,z0,y0 = launch   .position(t-time_flying+self.time_in_hand)\n",
    "            x1,z1,y1 = reception.position(t-time_flying+self.flight_duration)\n",
    "            a = (time_flying-self.time_in_hand)/(self.flight_duration-self.time_in_hand)\n",
    "            x = x0 * (1-a) + x1 * a\n",
    "            y = y0 * (1-a) + y1 * a\n",
    "            z = z0 * (1-a) + z1 * a + self.height * 4*a*(1-a)\n",
    "            return x, z, y\n",
    "    \n",
    "    def update(self, t):\n",
    "        self.view.position = self.position(t)"
   ]
  },
  {
   "cell_type": "code",
   "execution_count": 103,
   "metadata": {},
   "outputs": [
    {
     "data": {
      "application/vnd.jupyter.widget-view+json": {
       "model_id": "5d0e7ce817fc4499a4a76b585296405c",
       "version_major": 2,
       "version_minor": 0
      },
      "text/plain": [
       "Preview(child=Scene(children=(Mesh(geometry=SphereBufferGeometry(heightSegments=16, radius=2.0, widthSegments=…"
      ]
     },
     "metadata": {},
     "output_type": "display_data"
    }
   ],
   "source": [
    "left_hand  = hand(x=-25, side=-1)\n",
    "right_hand = hand(x= 25, side=1, phase=1)\n",
    "\n",
    "b1 = ball(\"blue\", left_hand, right_hand, time_of_departure=0, flight_duration=3)\n",
    "b2 = ball(\"yellow\", right_hand, left_hand, time_of_departure=1, flight_duration=3)\n",
    "b3 = ball(\"red\",  left_hand, right_hand, time_of_departure=2, flight_duration=3)\n",
    "def update(t):\n",
    "    left_hand.update(t)\n",
    "    right_hand.update(t)\n",
    "    b1.update(t)\n",
    "    b2.update(t)\n",
    "    b3.update(t)\n",
    "\n",
    "scene = Scene(children=[left_hand.view, right_hand.view, b1.view,b2.view,b3.view],\n",
    "              camera = PerspectiveCamera( position=[0, 100,-400]) #, aspect=view_width/view_height)\n",
    "             )\n",
    "\n",
    "scene"
   ]
  },
  {
   "cell_type": "code",
   "execution_count": 104,
   "metadata": {},
   "outputs": [
    {
     "data": {
      "application/vnd.jupyter.widget-view+json": {
       "model_id": "7ab5a0f468b44d97aa5f902319a69783",
       "version_major": 2,
       "version_minor": 0
      },
      "text/plain": [
       "FloatSlider(value=0.0, max=10.0)"
      ]
     },
     "metadata": {},
     "output_type": "display_data"
    }
   ],
   "source": [
    "s = ipywidgets.FloatSlider(min=0, max=10)\n",
    "s.observe(lambda change: update(s.value))\n",
    "s\n"
   ]
  },
  {
   "cell_type": "code",
   "execution_count": 67,
   "metadata": {},
   "outputs": [
    {
     "ename": "KeyboardInterrupt",
     "evalue": "",
     "output_type": "error",
     "traceback": [
      "\u001b[0;31m---------------------------------------------------------------------------\u001b[0m",
      "\u001b[0;31mKeyboardInterrupt\u001b[0m                         Traceback (most recent call last)",
      "\u001b[0;32m<ipython-input-67-f52ba81ba248>\u001b[0m in \u001b[0;36m<module>\u001b[0;34m\u001b[0m\n\u001b[1;32m      8\u001b[0m     \u001b[0mb3\u001b[0m\u001b[0;34m.\u001b[0m\u001b[0mupdate\u001b[0m\u001b[0;34m(\u001b[0m\u001b[0mt\u001b[0m\u001b[0;34m)\u001b[0m\u001b[0;34m\u001b[0m\u001b[0;34m\u001b[0m\u001b[0m\n\u001b[1;32m      9\u001b[0m     \u001b[0mt\u001b[0m \u001b[0;34m=\u001b[0m \u001b[0mt\u001b[0m \u001b[0;34m+\u001b[0m \u001b[0mdt\u001b[0m\u001b[0;34m\u001b[0m\u001b[0;34m\u001b[0m\u001b[0m\n\u001b[0;32m---> 10\u001b[0;31m     \u001b[0mtime\u001b[0m\u001b[0;34m.\u001b[0m\u001b[0msleep\u001b[0m\u001b[0;34m(\u001b[0m\u001b[0mdt\u001b[0m\u001b[0;34m)\u001b[0m\u001b[0;34m\u001b[0m\u001b[0;34m\u001b[0m\u001b[0m\n\u001b[0m",
      "\u001b[0;31mKeyboardInterrupt\u001b[0m: "
     ]
    }
   ],
   "source": [
    "t = 0;\n",
    "dt = 1./24\n",
    "while True:\n",
    "    update(t)\n",
    "    t = t + dt\n",
    "    time.sleep(dt)"
   ]
  },
  {
   "cell_type": "code",
   "execution_count": null,
   "metadata": {},
   "outputs": [],
   "source": []
  }
 ],
 "metadata": {
  "kernelspec": {
   "display_name": "Python 3",
   "language": "python",
   "name": "python3"
  },
  "language_info": {
   "codemirror_mode": {
    "name": "ipython",
    "version": 3
   },
   "file_extension": ".py",
   "mimetype": "text/x-python",
   "name": "python",
   "nbconvert_exporter": "python",
   "pygments_lexer": "ipython3",
   "version": "3.8.5"
  }
 },
 "nbformat": 4,
 "nbformat_minor": 4
}
